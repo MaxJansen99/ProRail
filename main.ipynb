{
 "cells": [
  {
   "cell_type": "code",
   "execution_count": 31,
   "id": "e7f47436-7e0e-4800-ae8b-649d8208128e",
   "metadata": {
    "tags": []
   },
   "outputs": [],
   "source": [
    "import pandas as pd\n",
    "import numpy as np\n",
    "import matplotlib.pyplot as plt\n",
    "import seaborn as sns\n",
    "import math"
   ]
  },
  {
   "cell_type": "code",
   "execution_count": 32,
   "id": "a0ebc325-2642-4434-97ad-86e3b7481784",
   "metadata": {
    "tags": []
   },
   "outputs": [
    {
     "name": "stderr",
     "output_type": "stream",
     "text": [
      "C:\\Users\\maste\\AppData\\Local\\Temp\\ipykernel_8508\\778189414.py:1: DtypeWarning: Columns (0,11,19,21,24,25,27,32,33,36,37,38,39,40,46,47,48,49,51,53,55,56,60,73,75,78,80,82,83,86,87,91,95,99,102,103,104,107,108,109,110,111,112,113,116,118,119,120,121,122,123,124,129) have mixed types. Specify dtype option on import or set low_memory=False.\n",
      "  df= pd.read_csv(\"sap_storing_data_hu_project.csv\")\n"
     ]
    }
   ],
   "source": "df= pd.read_csv(\"sap_storing_data_hu_project.csv\", low_memory=false)"
  },
  {
   "cell_type": "code",
   "execution_count": 62,
   "id": "5371fa63-8b5a-47b3-8d02-4d436b547e5e",
   "metadata": {
    "tags": []
   },
   "outputs": [
    {
     "data": {
      "text/html": [
       "<div>\n",
       "<style scoped>\n",
       "    .dataframe tbody tr th:only-of-type {\n",
       "        vertical-align: middle;\n",
       "    }\n",
       "\n",
       "    .dataframe tbody tr th {\n",
       "        vertical-align: top;\n",
       "    }\n",
       "\n",
       "    .dataframe thead th {\n",
       "        text-align: right;\n",
       "    }\n",
       "</style>\n",
       "<table border=\"1\" class=\"dataframe\">\n",
       "  <thead>\n",
       "    <tr style=\"text-align: right;\">\n",
       "      <th></th>\n",
       "      <th>Unnamed: 0</th>\n",
       "      <th>#stm_sap_meldnr</th>\n",
       "      <th>stm_mon_nr</th>\n",
       "      <th>stm_vl_post</th>\n",
       "      <th>stm_sap_meld_ddt</th>\n",
       "      <th>stm_sap_mon_meld_ddt</th>\n",
       "      <th>stm_sap_meldtekst_lang</th>\n",
       "      <th>stm_mon_begin_ddt</th>\n",
       "      <th>stm_sap_meldtekst</th>\n",
       "      <th>stm_mon_toelichting_trdl</th>\n",
       "      <th>stm_oh_pg_mld</th>\n",
       "      <th>stm_geo_mld</th>\n",
       "      <th>stm_geo_mld_uit_functiepl</th>\n",
       "      <th>stm_equipm_nr_mld</th>\n",
       "      <th>stm_equipm_soort_mld</th>\n",
       "      <th>stm_equipm_omschr_mld</th>\n",
       "      <th>stm_km_van_mld</th>\n",
       "      <th>stm_km_tot_mld</th>\n",
       "      <th>stm_prioriteit</th>\n",
       "      <th>stm_scenario_mon</th>\n",
       "      <th>stm_status_melding_sap</th>\n",
       "      <th>stm_mon_nr_status_omschr</th>\n",
       "      <th>stm_mon_nr__statuscode</th>\n",
       "      <th>stm_mon_nr_status_wijzdd</th>\n",
       "      <th>stm_aanngeb_ddt</th>\n",
       "      <th>stm_aanntpl_ddt</th>\n",
       "      <th>stm_oh_pg_gst</th>\n",
       "      <th>stm_geo_gst</th>\n",
       "      <th>stm_geo_gst_uit_functiepl</th>\n",
       "      <th>stm_equipm_nr_gst</th>\n",
       "      <th>stm_equipm_soort_gst</th>\n",
       "      <th>stm_equipm_omschr_gst</th>\n",
       "      <th>stm_objectdl_code_gst</th>\n",
       "      <th>stm_objectdl_groep_gst</th>\n",
       "      <th>stm_km_van_gst</th>\n",
       "      <th>stm_km_tot_gst</th>\n",
       "      <th>stm_progfh_in_ddt</th>\n",
       "      <th>stm_progfh_in_invoer_ddt</th>\n",
       "      <th>stm_progfh_gw_ddt</th>\n",
       "      <th>stm_progfh_gw_lwd_ddt</th>\n",
       "      <th>stm_progfh_hz</th>\n",
       "      <th>stm_oorz_groep</th>\n",
       "      <th>stm_oorz_code</th>\n",
       "      <th>stm_oorz_tkst</th>\n",
       "      <th>stm_veroorz_groep</th>\n",
       "      <th>stm_veroorz_code</th>\n",
       "      <th>stm_veroorz_tekst_kort</th>\n",
       "      <th>stm_effect</th>\n",
       "      <th>stm_afspr_aanvangddt</th>\n",
       "      <th>stm_fh_ddt</th>\n",
       "      <th>stm_fh_status</th>\n",
       "      <th>stm_sap_storeind_ddt</th>\n",
       "      <th>stm_mon_eind_ddt</th>\n",
       "      <th>stm_mon_vhdsincident</th>\n",
       "      <th>stm_tao_indicator</th>\n",
       "      <th>stm_tao_indicator_vorige</th>\n",
       "      <th>stm_tao_soort_mutatie</th>\n",
       "      <th>stm_tao_telling_mutatie</th>\n",
       "      <th>stm_tao_beinvloedbaar_indicator</th>\n",
       "      <th>stm_evb</th>\n",
       "      <th>stm_dir_betrok_tr</th>\n",
       "      <th>stm_aangelegd_dd</th>\n",
       "      <th>stm_aangelegd_tijd</th>\n",
       "      <th>stm_sap_melddatum</th>\n",
       "      <th>stm_sap_meldtijd</th>\n",
       "      <th>stm_mon_begindatum</th>\n",
       "      <th>stm_mon_begintijd</th>\n",
       "      <th>stm_contractgeb_mld</th>\n",
       "      <th>stm_functiepl_mld</th>\n",
       "      <th>stm_techn_mld</th>\n",
       "      <th>stm_contractgeb_gst</th>\n",
       "      <th>stm_functiepl_gst</th>\n",
       "      <th>stm_techn_gst</th>\n",
       "      <th>stm_aanngeb_dd</th>\n",
       "      <th>stm_aanngeb_tijd</th>\n",
       "      <th>stm_aanntpl_dd</th>\n",
       "      <th>stm_aanntpl_tijd</th>\n",
       "      <th>stm_arbeid</th>\n",
       "      <th>stm_progfh_in_datum</th>\n",
       "      <th>stm_progfh_in_tijd</th>\n",
       "      <th>stm_progfh_in_invoer_dat</th>\n",
       "      <th>stm_progfh_in_invoer_tijd</th>\n",
       "      <th>stm_progfh_in_duur</th>\n",
       "      <th>stm_progfh_gw_datum</th>\n",
       "      <th>stm_progfh_gw_tijd</th>\n",
       "      <th>stm_progfh_gw_lwd_datum</th>\n",
       "      <th>stm_progfh_gw_lwd_tijd</th>\n",
       "      <th>stm_progfh_gw_duur</th>\n",
       "      <th>stm_progfh_gw_teller</th>\n",
       "      <th>stm_afspr_aanvangdd</th>\n",
       "      <th>stm_afspr_aanvangtijd</th>\n",
       "      <th>stm_fh_dd</th>\n",
       "      <th>stm_fh_tijd</th>\n",
       "      <th>stm_fh_duur</th>\n",
       "      <th>stm_reactie_duur</th>\n",
       "      <th>stm_sap_storeinddatum</th>\n",
       "      <th>stm_sap_storeindtijd</th>\n",
       "      <th>stm_mon_eind_datum</th>\n",
       "      <th>stm_mon_eind_tijd</th>\n",
       "      <th>stm_controle_dd</th>\n",
       "      <th>stm_akkoord_mon_toewijz</th>\n",
       "      <th>stm_status_sapnaarmon</th>\n",
       "      <th>stm_fact_jn</th>\n",
       "      <th>stm_akkoord_melding_jn</th>\n",
       "      <th>stm_afsluit_ddt</th>\n",
       "      <th>stm_afsluit_dd</th>\n",
       "      <th>stm_afsluit_tijd</th>\n",
       "      <th>stm_rec_toegev_ddt</th>\n",
       "      <th>stm_hinderwaarde</th>\n",
       "      <th>stm_actie</th>\n",
       "      <th>stm_standplaats</th>\n",
       "      <th>stm_status_gebr</th>\n",
       "      <th>stm_wbi_nummer</th>\n",
       "      <th>stm_projnr</th>\n",
       "      <th>stm_oorz_tekst_kort</th>\n",
       "      <th>stm_historie_toelichting</th>\n",
       "      <th>stm_schade_verhaalb_jn</th>\n",
       "      <th>stm_schadenr</th>\n",
       "      <th>stm_schade_status_ga</th>\n",
       "      <th>stm_schade_statusdatum</th>\n",
       "      <th>stm_relatiervo_vorig</th>\n",
       "      <th>stm_relatiervo_volgend</th>\n",
       "      <th>stm_relatiervo</th>\n",
       "      <th>stm_pplg_van</th>\n",
       "      <th>stm_pplg_naar</th>\n",
       "      <th>stm_dstrglp_van</th>\n",
       "      <th>stm_dstrglp_naar</th>\n",
       "      <th>stm_afspr_func_hersteldd</th>\n",
       "      <th>stm_afspr_func_hersteltijd</th>\n",
       "      <th>stm_sorteerveld</th>\n",
       "      <th>stm_rapportage_maand</th>\n",
       "      <th>stm_rapportage_jaar</th>\n",
       "      <th>stm_x_bron_publ_dt</th>\n",
       "      <th>stm_x_bron_bestandsnaam</th>\n",
       "      <th>stm_x_bron_arch_dt</th>\n",
       "      <th>stm_x_actueel_ind</th>\n",
       "      <th>stm_x_run_id</th>\n",
       "      <th>stm_x_bk</th>\n",
       "      <th>stm_x_start_sessie_dt</th>\n",
       "      <th>stm_x_vervallen_ind</th>\n",
       "    </tr>\n",
       "  </thead>\n",
       "  <tbody>\n",
       "    <tr>\n",
       "      <th>0</th>\n",
       "      <td>0</td>\n",
       "      <td>0</td>\n",
       "      <td>NaN</td>\n",
       "      <td>NaN</td>\n",
       "      <td>NaN</td>\n",
       "      <td>NaN</td>\n",
       "      <td>NaN</td>\n",
       "      <td>NaN</td>\n",
       "      <td>NaN</td>\n",
       "      <td>NaN</td>\n",
       "      <td>NaN</td>\n",
       "      <td>NaN</td>\n",
       "      <td>NaN</td>\n",
       "      <td>NaN</td>\n",
       "      <td>NaN</td>\n",
       "      <td>NaN</td>\n",
       "      <td>NaN</td>\n",
       "      <td>NaN</td>\n",
       "      <td>NaN</td>\n",
       "      <td>NaN</td>\n",
       "      <td>NaN</td>\n",
       "      <td>NaN</td>\n",
       "      <td>NaN</td>\n",
       "      <td>NaN</td>\n",
       "      <td>NaN</td>\n",
       "      <td>NaN</td>\n",
       "      <td>NaN</td>\n",
       "      <td>NaN</td>\n",
       "      <td>NaN</td>\n",
       "      <td>NaN</td>\n",
       "      <td>NaN</td>\n",
       "      <td>NaN</td>\n",
       "      <td>NaN</td>\n",
       "      <td>NaN</td>\n",
       "      <td>NaN</td>\n",
       "      <td>NaN</td>\n",
       "      <td>NaN</td>\n",
       "      <td>NaN</td>\n",
       "      <td>NaN</td>\n",
       "      <td>NaN</td>\n",
       "      <td>NaN</td>\n",
       "      <td>NaN</td>\n",
       "      <td>NaN</td>\n",
       "      <td>NaN</td>\n",
       "      <td>NaN</td>\n",
       "      <td>NaN</td>\n",
       "      <td>NaN</td>\n",
       "      <td>NaN</td>\n",
       "      <td>NaN</td>\n",
       "      <td>NaN</td>\n",
       "      <td>NaN</td>\n",
       "      <td>NaN</td>\n",
       "      <td>NaN</td>\n",
       "      <td>NaN</td>\n",
       "      <td>N</td>\n",
       "      <td>NaN</td>\n",
       "      <td>NaN</td>\n",
       "      <td>0</td>\n",
       "      <td>B</td>\n",
       "      <td>NaN</td>\n",
       "      <td>NaN</td>\n",
       "      <td>NaN</td>\n",
       "      <td>NaN</td>\n",
       "      <td>NaN</td>\n",
       "      <td>NaN</td>\n",
       "      <td>NaN</td>\n",
       "      <td>NaN</td>\n",
       "      <td>NaN</td>\n",
       "      <td>NaN</td>\n",
       "      <td>NaN</td>\n",
       "      <td>NaN</td>\n",
       "      <td>NaN</td>\n",
       "      <td>NaN</td>\n",
       "      <td>NaN</td>\n",
       "      <td>NaN</td>\n",
       "      <td>NaN</td>\n",
       "      <td>NaN</td>\n",
       "      <td>NaN</td>\n",
       "      <td>NaN</td>\n",
       "      <td>NaN</td>\n",
       "      <td>NaN</td>\n",
       "      <td>NaN</td>\n",
       "      <td>NaN</td>\n",
       "      <td>NaN</td>\n",
       "      <td>NaN</td>\n",
       "      <td>NaN</td>\n",
       "      <td>NaN</td>\n",
       "      <td>NaN</td>\n",
       "      <td>NaN</td>\n",
       "      <td>NaN</td>\n",
       "      <td>NaN</td>\n",
       "      <td>NaN</td>\n",
       "      <td>NaN</td>\n",
       "      <td>NaN</td>\n",
       "      <td>NaN</td>\n",
       "      <td>NaN</td>\n",
       "      <td>NaN</td>\n",
       "      <td>NaN</td>\n",
       "      <td>NaN</td>\n",
       "      <td>NaN</td>\n",
       "      <td>NaN</td>\n",
       "      <td>NaN</td>\n",
       "      <td>NaN</td>\n",
       "      <td>NaN</td>\n",
       "      <td>NaN</td>\n",
       "      <td>NaN</td>\n",
       "      <td>NaN</td>\n",
       "      <td>NaN</td>\n",
       "      <td>NaN</td>\n",
       "      <td>NaN</td>\n",
       "      <td>NaN</td>\n",
       "      <td>NaN</td>\n",
       "      <td>NaN</td>\n",
       "      <td>NaN</td>\n",
       "      <td>NaN</td>\n",
       "      <td>NaN</td>\n",
       "      <td>NaN</td>\n",
       "      <td>NaN</td>\n",
       "      <td>NaN</td>\n",
       "      <td>NaN</td>\n",
       "      <td>NaN</td>\n",
       "      <td>NaN</td>\n",
       "      <td>NaN</td>\n",
       "      <td>NaN</td>\n",
       "      <td>NaN</td>\n",
       "      <td>NaN</td>\n",
       "      <td>NaN</td>\n",
       "      <td>NaN</td>\n",
       "      <td>NaN</td>\n",
       "      <td>NaN</td>\n",
       "      <td>5</td>\n",
       "      <td>2014</td>\n",
       "      <td>07/05/2014 05:30:12</td>\n",
       "      <td>\\\\PUHAPS0149\\Informatica_Prod\\Inbox\\Informatic...</td>\n",
       "      <td>31/12/9999 00:00:00</td>\n",
       "      <td>1</td>\n",
       "      <td>34415</td>\n",
       "      <td>3617016</td>\n",
       "      <td>07/05/2014 05:44:24</td>\n",
       "      <td>0</td>\n",
       "    </tr>\n",
       "    <tr>\n",
       "      <th>1</th>\n",
       "      <td>1</td>\n",
       "      <td>50053211</td>\n",
       "      <td>0.0</td>\n",
       "      <td>NaN</td>\n",
       "      <td>02/01/2006 09:00:00</td>\n",
       "      <td>02/01/2006 09:00:00</td>\n",
       "      <td>Logboeknr  Geeltje  :   49 Tijd: 0900   VL-Po...</td>\n",
       "      <td>NaN</td>\n",
       "      <td>Logboeknr  Geeltje  :   49 Tijd: 0900</td>\n",
       "      <td>NaN</td>\n",
       "      <td>NaN</td>\n",
       "      <td>624.0</td>\n",
       "      <td>624.0</td>\n",
       "      <td>NaN</td>\n",
       "      <td>NaN</td>\n",
       "      <td>NaN</td>\n",
       "      <td>0.0</td>\n",
       "      <td>0.0</td>\n",
       "      <td>9.0</td>\n",
       "      <td>NaN</td>\n",
       "      <td>MAFS MAFD</td>\n",
       "      <td>NaN</td>\n",
       "      <td>NaN</td>\n",
       "      <td>00/00/0000</td>\n",
       "      <td>02/01/2006 09:00:00</td>\n",
       "      <td>NaN</td>\n",
       "      <td>81S</td>\n",
       "      <td>624.0</td>\n",
       "      <td>624.0</td>\n",
       "      <td>NaN</td>\n",
       "      <td>NaN</td>\n",
       "      <td>NaN</td>\n",
       "      <td>NaN</td>\n",
       "      <td>NaN</td>\n",
       "      <td>0.0</td>\n",
       "      <td>0.0</td>\n",
       "      <td>NaN</td>\n",
       "      <td>NaN</td>\n",
       "      <td>NaN</td>\n",
       "      <td>NaN</td>\n",
       "      <td>Z</td>\n",
       "      <td>ONR-RIB</td>\n",
       "      <td>133.0</td>\n",
       "      <td>Papieren ontbreken</td>\n",
       "      <td>ONREGRIB</td>\n",
       "      <td>B</td>\n",
       "      <td>Volker</td>\n",
       "      <td>NaN</td>\n",
       "      <td>NaN</td>\n",
       "      <td>02/01/2006 09:00:00</td>\n",
       "      <td>4.0</td>\n",
       "      <td>02/01/2006 09:00:00</td>\n",
       "      <td>NaN</td>\n",
       "      <td>NaN</td>\n",
       "      <td>N</td>\n",
       "      <td>NaN</td>\n",
       "      <td>NaN</td>\n",
       "      <td>0</td>\n",
       "      <td>B</td>\n",
       "      <td>0,00</td>\n",
       "      <td>NaN</td>\n",
       "      <td>03/01/2006</td>\n",
       "      <td>04:48:18</td>\n",
       "      <td>02/01/2006</td>\n",
       "      <td>09:00:00</td>\n",
       "      <td>NaN</td>\n",
       "      <td>NaN</td>\n",
       "      <td>NaN</td>\n",
       "      <td>624</td>\n",
       "      <td>NaN</td>\n",
       "      <td>81.0</td>\n",
       "      <td>624</td>\n",
       "      <td>S</td>\n",
       "      <td>02/01/2006</td>\n",
       "      <td>09:00:00</td>\n",
       "      <td>NaN</td>\n",
       "      <td>00:00:00</td>\n",
       "      <td>99999999.0</td>\n",
       "      <td>NaN</td>\n",
       "      <td>00:00:00</td>\n",
       "      <td>NaN</td>\n",
       "      <td>00:00:00</td>\n",
       "      <td>99999999.0</td>\n",
       "      <td>NaN</td>\n",
       "      <td>00:00:00</td>\n",
       "      <td>NaN</td>\n",
       "      <td>NaN</td>\n",
       "      <td>99999999.0</td>\n",
       "      <td>0.0</td>\n",
       "      <td>00/00/0000</td>\n",
       "      <td>00:00:00</td>\n",
       "      <td>02/01/2006</td>\n",
       "      <td>09:00:00</td>\n",
       "      <td>0.0</td>\n",
       "      <td>99999999.0</td>\n",
       "      <td>02/01/2006</td>\n",
       "      <td>09:00:00</td>\n",
       "      <td>NaN</td>\n",
       "      <td>NaN</td>\n",
       "      <td>05/01/2006</td>\n",
       "      <td>J</td>\n",
       "      <td>NaN</td>\n",
       "      <td>N</td>\n",
       "      <td>J</td>\n",
       "      <td>05/01/2009 15:10:09</td>\n",
       "      <td>05/01/2009</td>\n",
       "      <td>15:10:09</td>\n",
       "      <td>02/01/2006 04:48:18</td>\n",
       "      <td>0.0</td>\n",
       "      <td>NaN</td>\n",
       "      <td>NaN</td>\n",
       "      <td>IN0</td>\n",
       "      <td>0000000000</td>\n",
       "      <td>NaN</td>\n",
       "      <td>NaN</td>\n",
       "      <td>NaN</td>\n",
       "      <td>NaN</td>\n",
       "      <td>0.0</td>\n",
       "      <td>NaN</td>\n",
       "      <td>0.0</td>\n",
       "      <td>NaN</td>\n",
       "      <td>NaN</td>\n",
       "      <td>50053211.0</td>\n",
       "      <td>NaN</td>\n",
       "      <td>NaN</td>\n",
       "      <td>NaN</td>\n",
       "      <td>NaN</td>\n",
       "      <td>00/00/0000</td>\n",
       "      <td>00:00:00</td>\n",
       "      <td>NaN</td>\n",
       "      <td>1</td>\n",
       "      <td>2006</td>\n",
       "      <td>02/01/2006 09:00:00</td>\n",
       "      <td>\\\\PUHAPS0149\\Informatica_Prod\\Inbox\\Informatic...</td>\n",
       "      <td>31/12/9999 00:00:00</td>\n",
       "      <td>1</td>\n",
       "      <td>1518</td>\n",
       "      <td>12704590</td>\n",
       "      <td>13/06/2013 13:37:52</td>\n",
       "      <td>0</td>\n",
       "    </tr>\n",
       "    <tr>\n",
       "      <th>2</th>\n",
       "      <td>2</td>\n",
       "      <td>50053213</td>\n",
       "      <td>48.0</td>\n",
       "      <td>GN</td>\n",
       "      <td>02/01/2006 12:35:00</td>\n",
       "      <td>02/01/2006 12:35:00</td>\n",
       "      <td>Logboeknr  RBV  :   48 Tijd: 1235   VL-Post: ...</td>\n",
       "      <td>02/01/2006 12:35:00</td>\n",
       "      <td>Logboeknr  RBV  :   48 Tijd: 1235   VL-P</td>\n",
       "      <td>NaN</td>\n",
       "      <td>NaN</td>\n",
       "      <td>201.0</td>\n",
       "      <td>201.0</td>\n",
       "      <td>NaN</td>\n",
       "      <td>NaN</td>\n",
       "      <td>NaN</td>\n",
       "      <td>0.0</td>\n",
       "      <td>0.0</td>\n",
       "      <td>9.0</td>\n",
       "      <td>NaN</td>\n",
       "      <td>MAFS</td>\n",
       "      <td>Aan AM toegewezen</td>\n",
       "      <td>0.0</td>\n",
       "      <td>03/01/2006</td>\n",
       "      <td>02/01/2006 12:35:00</td>\n",
       "      <td>NaN</td>\n",
       "      <td>37B</td>\n",
       "      <td>201.0</td>\n",
       "      <td>201.0</td>\n",
       "      <td>NaN</td>\n",
       "      <td>NaN</td>\n",
       "      <td>NaN</td>\n",
       "      <td>NaN</td>\n",
       "      <td>NaN</td>\n",
       "      <td>30200.0</td>\n",
       "      <td>0.0</td>\n",
       "      <td>NaN</td>\n",
       "      <td>NaN</td>\n",
       "      <td>NaN</td>\n",
       "      <td>NaN</td>\n",
       "      <td>Z</td>\n",
       "      <td>ONR-DERD</td>\n",
       "      <td>143.0</td>\n",
       "      <td>NaN</td>\n",
       "      <td>ONREGDER</td>\n",
       "      <td>T</td>\n",
       "      <td>NaN</td>\n",
       "      <td>NaN</td>\n",
       "      <td>NaN</td>\n",
       "      <td>02/01/2006 13:26:00</td>\n",
       "      <td>4.0</td>\n",
       "      <td>02/01/2006 13:26:00</td>\n",
       "      <td>NaN</td>\n",
       "      <td>NaN</td>\n",
       "      <td>N</td>\n",
       "      <td>NaN</td>\n",
       "      <td>NaN</td>\n",
       "      <td>0</td>\n",
       "      <td>NB</td>\n",
       "      <td>0,00</td>\n",
       "      <td>NaN</td>\n",
       "      <td>03/01/2006</td>\n",
       "      <td>05:50:40</td>\n",
       "      <td>02/01/2006</td>\n",
       "      <td>12:35:00</td>\n",
       "      <td>02/01/2006</td>\n",
       "      <td>12:35:00</td>\n",
       "      <td>NaN</td>\n",
       "      <td>201</td>\n",
       "      <td>NaN</td>\n",
       "      <td>37.0</td>\n",
       "      <td>201</td>\n",
       "      <td>B</td>\n",
       "      <td>02/01/2006</td>\n",
       "      <td>12:35:00</td>\n",
       "      <td>NaN</td>\n",
       "      <td>00:00:00</td>\n",
       "      <td>99999999.0</td>\n",
       "      <td>NaN</td>\n",
       "      <td>00:00:00</td>\n",
       "      <td>NaN</td>\n",
       "      <td>00:00:00</td>\n",
       "      <td>99999999.0</td>\n",
       "      <td>NaN</td>\n",
       "      <td>00:00:00</td>\n",
       "      <td>NaN</td>\n",
       "      <td>NaN</td>\n",
       "      <td>99999999.0</td>\n",
       "      <td>0.0</td>\n",
       "      <td>00/00/0000</td>\n",
       "      <td>00:00:00</td>\n",
       "      <td>02/01/2006</td>\n",
       "      <td>13:26:00</td>\n",
       "      <td>51.0</td>\n",
       "      <td>99999999.0</td>\n",
       "      <td>02/01/2006</td>\n",
       "      <td>13:26:00</td>\n",
       "      <td>NaN</td>\n",
       "      <td>NaN</td>\n",
       "      <td>10/01/2006</td>\n",
       "      <td>J</td>\n",
       "      <td>1.0</td>\n",
       "      <td>N</td>\n",
       "      <td>J</td>\n",
       "      <td>05/01/2009 15:10:11</td>\n",
       "      <td>05/01/2009</td>\n",
       "      <td>15:10:11</td>\n",
       "      <td>02/01/2006 05:50:40</td>\n",
       "      <td>0.85</td>\n",
       "      <td>NaN</td>\n",
       "      <td>NaN</td>\n",
       "      <td>IN0  H5</td>\n",
       "      <td>0000000000</td>\n",
       "      <td>NaN</td>\n",
       "      <td>schapen op de spoorbaan!</td>\n",
       "      <td>NaN</td>\n",
       "      <td>NaN</td>\n",
       "      <td>0.0</td>\n",
       "      <td>NaN</td>\n",
       "      <td>0.0</td>\n",
       "      <td>NaN</td>\n",
       "      <td>NaN</td>\n",
       "      <td>50053213.0</td>\n",
       "      <td>NaN</td>\n",
       "      <td>NaN</td>\n",
       "      <td>Lp</td>\n",
       "      <td>Apg</td>\n",
       "      <td>00/00/0000</td>\n",
       "      <td>00:00:00</td>\n",
       "      <td>NaN</td>\n",
       "      <td>1</td>\n",
       "      <td>2006</td>\n",
       "      <td>02/01/2006 12:35:00</td>\n",
       "      <td>\\\\PUHAPS0149\\Informatica_Prod\\Inbox\\Informatic...</td>\n",
       "      <td>31/12/9999 00:00:00</td>\n",
       "      <td>1</td>\n",
       "      <td>1518</td>\n",
       "      <td>12704591</td>\n",
       "      <td>13/06/2013 13:37:52</td>\n",
       "      <td>0</td>\n",
       "    </tr>\n",
       "    <tr>\n",
       "      <th>3</th>\n",
       "      <td>3</td>\n",
       "      <td>50053214</td>\n",
       "      <td>72.0</td>\n",
       "      <td>ZL</td>\n",
       "      <td>02/01/2006 16:40:00</td>\n",
       "      <td>02/01/2006 16:40:00</td>\n",
       "      <td>Logboeknr  RBV  :   72 Tijd: 1640   VL-Post: ...</td>\n",
       "      <td>02/01/2006 16:40:00</td>\n",
       "      <td>Logboeknr  RBV  :   72 Tijd: 1640   VL-P</td>\n",
       "      <td>NaN</td>\n",
       "      <td>NaN</td>\n",
       "      <td>25.0</td>\n",
       "      <td>25.0</td>\n",
       "      <td>NaN</td>\n",
       "      <td>NaN</td>\n",
       "      <td>NaN</td>\n",
       "      <td>0.0</td>\n",
       "      <td>0.0</td>\n",
       "      <td>9.0</td>\n",
       "      <td>NaN</td>\n",
       "      <td>MAFS MAFD</td>\n",
       "      <td>Aan AM toegewezen</td>\n",
       "      <td>0.0</td>\n",
       "      <td>03/01/2006</td>\n",
       "      <td>02/01/2006 16:40:00</td>\n",
       "      <td>NaN</td>\n",
       "      <td>32B</td>\n",
       "      <td>25.0</td>\n",
       "      <td>25.0</td>\n",
       "      <td>NaN</td>\n",
       "      <td>NaN</td>\n",
       "      <td>NaN</td>\n",
       "      <td>NaN</td>\n",
       "      <td>NaN</td>\n",
       "      <td>14000.0</td>\n",
       "      <td>0.0</td>\n",
       "      <td>NaN</td>\n",
       "      <td>NaN</td>\n",
       "      <td>NaN</td>\n",
       "      <td>NaN</td>\n",
       "      <td>Z</td>\n",
       "      <td>ONR-DERD</td>\n",
       "      <td>142.0</td>\n",
       "      <td>NaN</td>\n",
       "      <td>ONREGDER</td>\n",
       "      <td>T</td>\n",
       "      <td>NaN</td>\n",
       "      <td>NaN</td>\n",
       "      <td>NaN</td>\n",
       "      <td>02/01/2006 17:20:00</td>\n",
       "      <td>4.0</td>\n",
       "      <td>02/01/2006 17:20:00</td>\n",
       "      <td>NaN</td>\n",
       "      <td>NaN</td>\n",
       "      <td>N</td>\n",
       "      <td>NaN</td>\n",
       "      <td>NaN</td>\n",
       "      <td>0</td>\n",
       "      <td>NB</td>\n",
       "      <td>0,00</td>\n",
       "      <td>NaN</td>\n",
       "      <td>03/01/2006</td>\n",
       "      <td>05:50:41</td>\n",
       "      <td>02/01/2006</td>\n",
       "      <td>16:40:00</td>\n",
       "      <td>02/01/2006</td>\n",
       "      <td>16:40:00</td>\n",
       "      <td>NaN</td>\n",
       "      <td>025</td>\n",
       "      <td>NaN</td>\n",
       "      <td>32.0</td>\n",
       "      <td>025</td>\n",
       "      <td>B</td>\n",
       "      <td>02/01/2006</td>\n",
       "      <td>16:40:00</td>\n",
       "      <td>NaN</td>\n",
       "      <td>00:00:00</td>\n",
       "      <td>99999999.0</td>\n",
       "      <td>NaN</td>\n",
       "      <td>00:00:00</td>\n",
       "      <td>NaN</td>\n",
       "      <td>00:00:00</td>\n",
       "      <td>99999999.0</td>\n",
       "      <td>NaN</td>\n",
       "      <td>00:00:00</td>\n",
       "      <td>NaN</td>\n",
       "      <td>NaN</td>\n",
       "      <td>99999999.0</td>\n",
       "      <td>0.0</td>\n",
       "      <td>00/00/0000</td>\n",
       "      <td>00:00:00</td>\n",
       "      <td>02/01/2006</td>\n",
       "      <td>17:20:00</td>\n",
       "      <td>40.0</td>\n",
       "      <td>99999999.0</td>\n",
       "      <td>02/01/2006</td>\n",
       "      <td>17:20:00</td>\n",
       "      <td>NaN</td>\n",
       "      <td>NaN</td>\n",
       "      <td>11/01/2006</td>\n",
       "      <td>J</td>\n",
       "      <td>1.0</td>\n",
       "      <td>N</td>\n",
       "      <td>J</td>\n",
       "      <td>05/01/2009 15:10:13</td>\n",
       "      <td>05/01/2009</td>\n",
       "      <td>15:10:13</td>\n",
       "      <td>02/01/2006 05:50:41</td>\n",
       "      <td>0.67</td>\n",
       "      <td>NaN</td>\n",
       "      <td>NaN</td>\n",
       "      <td>IN0  H5</td>\n",
       "      <td>0000000000</td>\n",
       "      <td>NaN</td>\n",
       "      <td>Persoon langs de baan</td>\n",
       "      <td>NaN</td>\n",
       "      <td>NaN</td>\n",
       "      <td>0.0</td>\n",
       "      <td>NaN</td>\n",
       "      <td>0.0</td>\n",
       "      <td>NaN</td>\n",
       "      <td>NaN</td>\n",
       "      <td>50053214.0</td>\n",
       "      <td>NaN</td>\n",
       "      <td>NaN</td>\n",
       "      <td>Hgl</td>\n",
       "      <td>NaN</td>\n",
       "      <td>00/00/0000</td>\n",
       "      <td>00:00:00</td>\n",
       "      <td>NaN</td>\n",
       "      <td>1</td>\n",
       "      <td>2006</td>\n",
       "      <td>02/01/2006 16:40:00</td>\n",
       "      <td>\\\\PUHAPS0149\\Informatica_Prod\\Inbox\\Informatic...</td>\n",
       "      <td>31/12/9999 00:00:00</td>\n",
       "      <td>1</td>\n",
       "      <td>1518</td>\n",
       "      <td>12704592</td>\n",
       "      <td>13/06/2013 13:37:52</td>\n",
       "      <td>0</td>\n",
       "    </tr>\n",
       "    <tr>\n",
       "      <th>4</th>\n",
       "      <td>4</td>\n",
       "      <td>50053215</td>\n",
       "      <td>96.0</td>\n",
       "      <td>ZL</td>\n",
       "      <td>02/01/2006 22:30:00</td>\n",
       "      <td>02/01/2006 22:30:00</td>\n",
       "      <td>Logboeknr  RBV  :   96 Tijd: 2230   VL-Post: ...</td>\n",
       "      <td>02/01/2006 22:30:00</td>\n",
       "      <td>Logboeknr  RBV  :   96 Tijd: 2230   VL-P</td>\n",
       "      <td>NaN</td>\n",
       "      <td>NaN</td>\n",
       "      <td>12.0</td>\n",
       "      <td>12.0</td>\n",
       "      <td>NaN</td>\n",
       "      <td>NaN</td>\n",
       "      <td>NaN</td>\n",
       "      <td>0.0</td>\n",
       "      <td>0.0</td>\n",
       "      <td>9.0</td>\n",
       "      <td>NaN</td>\n",
       "      <td>MAFS</td>\n",
       "      <td>Aan AM toegewezen</td>\n",
       "      <td>0.0</td>\n",
       "      <td>03/01/2006</td>\n",
       "      <td>02/01/2006 22:30:00</td>\n",
       "      <td>NaN</td>\n",
       "      <td>35B</td>\n",
       "      <td>12.0</td>\n",
       "      <td>12.0</td>\n",
       "      <td>NaN</td>\n",
       "      <td>NaN</td>\n",
       "      <td>NaN</td>\n",
       "      <td>NaN</td>\n",
       "      <td>NaN</td>\n",
       "      <td>19819.0</td>\n",
       "      <td>0.0</td>\n",
       "      <td>NaN</td>\n",
       "      <td>NaN</td>\n",
       "      <td>NaN</td>\n",
       "      <td>NaN</td>\n",
       "      <td>Z</td>\n",
       "      <td>ONR-DERD</td>\n",
       "      <td>142.0</td>\n",
       "      <td>NaN</td>\n",
       "      <td>ONREGDER</td>\n",
       "      <td>T</td>\n",
       "      <td>NaN</td>\n",
       "      <td>NaN</td>\n",
       "      <td>NaN</td>\n",
       "      <td>02/01/2006 22:36:00</td>\n",
       "      <td>4.0</td>\n",
       "      <td>02/01/2006 22:36:00</td>\n",
       "      <td>NaN</td>\n",
       "      <td>NaN</td>\n",
       "      <td>N</td>\n",
       "      <td>NaN</td>\n",
       "      <td>NaN</td>\n",
       "      <td>0</td>\n",
       "      <td>NB</td>\n",
       "      <td>0,00</td>\n",
       "      <td>NaN</td>\n",
       "      <td>03/01/2006</td>\n",
       "      <td>05:50:41</td>\n",
       "      <td>02/01/2006</td>\n",
       "      <td>22:30:00</td>\n",
       "      <td>02/01/2006</td>\n",
       "      <td>22:30:00</td>\n",
       "      <td>NaN</td>\n",
       "      <td>012</td>\n",
       "      <td>NaN</td>\n",
       "      <td>35.0</td>\n",
       "      <td>012</td>\n",
       "      <td>B</td>\n",
       "      <td>02/01/2006</td>\n",
       "      <td>22:30:00</td>\n",
       "      <td>NaN</td>\n",
       "      <td>00:00:00</td>\n",
       "      <td>99999999.0</td>\n",
       "      <td>NaN</td>\n",
       "      <td>00:00:00</td>\n",
       "      <td>NaN</td>\n",
       "      <td>00:00:00</td>\n",
       "      <td>99999999.0</td>\n",
       "      <td>NaN</td>\n",
       "      <td>00:00:00</td>\n",
       "      <td>NaN</td>\n",
       "      <td>NaN</td>\n",
       "      <td>99999999.0</td>\n",
       "      <td>0.0</td>\n",
       "      <td>00/00/0000</td>\n",
       "      <td>00:00:00</td>\n",
       "      <td>02/01/2006</td>\n",
       "      <td>22:36:00</td>\n",
       "      <td>6.0</td>\n",
       "      <td>99999999.0</td>\n",
       "      <td>02/01/2006</td>\n",
       "      <td>22:36:00</td>\n",
       "      <td>NaN</td>\n",
       "      <td>NaN</td>\n",
       "      <td>09/01/2006</td>\n",
       "      <td>J</td>\n",
       "      <td>1.0</td>\n",
       "      <td>N</td>\n",
       "      <td>J</td>\n",
       "      <td>05/01/2009 15:10:15</td>\n",
       "      <td>05/01/2009</td>\n",
       "      <td>15:10:15</td>\n",
       "      <td>02/01/2006 05:50:41</td>\n",
       "      <td>0.1</td>\n",
       "      <td>NaN</td>\n",
       "      <td>NaN</td>\n",
       "      <td>IN0  H5</td>\n",
       "      <td>0000000000</td>\n",
       "      <td>NaN</td>\n",
       "      <td>Bijna aanrijding met persoon</td>\n",
       "      <td>NaN</td>\n",
       "      <td>NaN</td>\n",
       "      <td>0.0</td>\n",
       "      <td>NaN</td>\n",
       "      <td>0.0</td>\n",
       "      <td>NaN</td>\n",
       "      <td>NaN</td>\n",
       "      <td>50053215.0</td>\n",
       "      <td>NaN</td>\n",
       "      <td>NaN</td>\n",
       "      <td>Hgv</td>\n",
       "      <td>NaN</td>\n",
       "      <td>00/00/0000</td>\n",
       "      <td>00:00:00</td>\n",
       "      <td>NaN</td>\n",
       "      <td>1</td>\n",
       "      <td>2006</td>\n",
       "      <td>02/01/2006 22:30:00</td>\n",
       "      <td>\\\\PUHAPS0149\\Informatica_Prod\\Inbox\\Informatic...</td>\n",
       "      <td>31/12/9999 00:00:00</td>\n",
       "      <td>1</td>\n",
       "      <td>1518</td>\n",
       "      <td>12704593</td>\n",
       "      <td>13/06/2013 13:37:52</td>\n",
       "      <td>0</td>\n",
       "    </tr>\n",
       "  </tbody>\n",
       "</table>\n",
       "</div>"
      ],
      "text/plain": [
       "  Unnamed: 0  #stm_sap_meldnr  stm_mon_nr stm_vl_post     stm_sap_meld_ddt  \\\n",
       "0          0                0         NaN         NaN                  NaN   \n",
       "1          1         50053211         0.0         NaN  02/01/2006 09:00:00   \n",
       "2          2         50053213        48.0          GN  02/01/2006 12:35:00   \n",
       "3          3         50053214        72.0          ZL  02/01/2006 16:40:00   \n",
       "4          4         50053215        96.0          ZL  02/01/2006 22:30:00   \n",
       "\n",
       "  stm_sap_mon_meld_ddt                             stm_sap_meldtekst_lang  \\\n",
       "0                  NaN                                                NaN   \n",
       "1  02/01/2006 09:00:00   Logboeknr  Geeltje  :   49 Tijd: 0900   VL-Po...   \n",
       "2  02/01/2006 12:35:00   Logboeknr  RBV  :   48 Tijd: 1235   VL-Post: ...   \n",
       "3  02/01/2006 16:40:00   Logboeknr  RBV  :   72 Tijd: 1640   VL-Post: ...   \n",
       "4  02/01/2006 22:30:00   Logboeknr  RBV  :   96 Tijd: 2230   VL-Post: ...   \n",
       "\n",
       "     stm_mon_begin_ddt                         stm_sap_meldtekst  \\\n",
       "0                  NaN                                       NaN   \n",
       "1                  NaN     Logboeknr  Geeltje  :   49 Tijd: 0900   \n",
       "2  02/01/2006 12:35:00  Logboeknr  RBV  :   48 Tijd: 1235   VL-P   \n",
       "3  02/01/2006 16:40:00  Logboeknr  RBV  :   72 Tijd: 1640   VL-P   \n",
       "4  02/01/2006 22:30:00  Logboeknr  RBV  :   96 Tijd: 2230   VL-P   \n",
       "\n",
       "  stm_mon_toelichting_trdl stm_oh_pg_mld stm_geo_mld  \\\n",
       "0                      NaN           NaN         NaN   \n",
       "1                      NaN           NaN       624.0   \n",
       "2                      NaN           NaN       201.0   \n",
       "3                      NaN           NaN        25.0   \n",
       "4                      NaN           NaN        12.0   \n",
       "\n",
       "   stm_geo_mld_uit_functiepl  stm_equipm_nr_mld stm_equipm_soort_mld  \\\n",
       "0                        NaN                NaN                  NaN   \n",
       "1                      624.0                NaN                  NaN   \n",
       "2                      201.0                NaN                  NaN   \n",
       "3                       25.0                NaN                  NaN   \n",
       "4                       12.0                NaN                  NaN   \n",
       "\n",
       "  stm_equipm_omschr_mld  stm_km_van_mld  stm_km_tot_mld  stm_prioriteit  \\\n",
       "0                   NaN             NaN             NaN             NaN   \n",
       "1                   NaN             0.0             0.0             9.0   \n",
       "2                   NaN             0.0             0.0             9.0   \n",
       "3                   NaN             0.0             0.0             9.0   \n",
       "4                   NaN             0.0             0.0             9.0   \n",
       "\n",
       "  stm_scenario_mon stm_status_melding_sap stm_mon_nr_status_omschr  \\\n",
       "0              NaN                    NaN                      NaN   \n",
       "1              NaN              MAFS MAFD                      NaN   \n",
       "2              NaN                   MAFS        Aan AM toegewezen   \n",
       "3              NaN              MAFS MAFD        Aan AM toegewezen   \n",
       "4              NaN                   MAFS        Aan AM toegewezen   \n",
       "\n",
       "   stm_mon_nr__statuscode stm_mon_nr_status_wijzdd      stm_aanngeb_ddt  \\\n",
       "0                     NaN                      NaN                  NaN   \n",
       "1                     NaN               00/00/0000  02/01/2006 09:00:00   \n",
       "2                     0.0               03/01/2006  02/01/2006 12:35:00   \n",
       "3                     0.0               03/01/2006  02/01/2006 16:40:00   \n",
       "4                     0.0               03/01/2006  02/01/2006 22:30:00   \n",
       "\n",
       "  stm_aanntpl_ddt stm_oh_pg_gst stm_geo_gst  stm_geo_gst_uit_functiepl  \\\n",
       "0             NaN           NaN         NaN                        NaN   \n",
       "1             NaN           81S       624.0                      624.0   \n",
       "2             NaN           37B       201.0                      201.0   \n",
       "3             NaN           32B        25.0                       25.0   \n",
       "4             NaN           35B        12.0                       12.0   \n",
       "\n",
       "   stm_equipm_nr_gst stm_equipm_soort_gst stm_equipm_omschr_gst  \\\n",
       "0                NaN                  NaN                   NaN   \n",
       "1                NaN                  NaN                   NaN   \n",
       "2                NaN                  NaN                   NaN   \n",
       "3                NaN                  NaN                   NaN   \n",
       "4                NaN                  NaN                   NaN   \n",
       "\n",
       "  stm_objectdl_code_gst stm_objectdl_groep_gst  stm_km_van_gst  \\\n",
       "0                   NaN                    NaN             NaN   \n",
       "1                   NaN                    NaN             0.0   \n",
       "2                   NaN                    NaN         30200.0   \n",
       "3                   NaN                    NaN         14000.0   \n",
       "4                   NaN                    NaN         19819.0   \n",
       "\n",
       "   stm_km_tot_gst stm_progfh_in_ddt stm_progfh_in_invoer_ddt  \\\n",
       "0             NaN               NaN                      NaN   \n",
       "1             0.0               NaN                      NaN   \n",
       "2             0.0               NaN                      NaN   \n",
       "3             0.0               NaN                      NaN   \n",
       "4             0.0               NaN                      NaN   \n",
       "\n",
       "  stm_progfh_gw_ddt stm_progfh_gw_lwd_ddt stm_progfh_hz stm_oorz_groep  \\\n",
       "0               NaN                   NaN           NaN            NaN   \n",
       "1               NaN                   NaN             Z        ONR-RIB   \n",
       "2               NaN                   NaN             Z       ONR-DERD   \n",
       "3               NaN                   NaN             Z       ONR-DERD   \n",
       "4               NaN                   NaN             Z       ONR-DERD   \n",
       "\n",
       "   stm_oorz_code        stm_oorz_tkst stm_veroorz_groep stm_veroorz_code  \\\n",
       "0            NaN                  NaN               NaN              NaN   \n",
       "1          133.0   Papieren ontbreken          ONREGRIB                B   \n",
       "2          143.0                  NaN          ONREGDER                T   \n",
       "3          142.0                  NaN          ONREGDER                T   \n",
       "4          142.0                  NaN          ONREGDER                T   \n",
       "\n",
       "  stm_veroorz_tekst_kort stm_effect stm_afspr_aanvangddt           stm_fh_ddt  \\\n",
       "0                    NaN        NaN                  NaN                  NaN   \n",
       "1                 Volker        NaN                  NaN  02/01/2006 09:00:00   \n",
       "2                    NaN        NaN                  NaN  02/01/2006 13:26:00   \n",
       "3                    NaN        NaN                  NaN  02/01/2006 17:20:00   \n",
       "4                    NaN        NaN                  NaN  02/01/2006 22:36:00   \n",
       "\n",
       "   stm_fh_status stm_sap_storeind_ddt stm_mon_eind_ddt stm_mon_vhdsincident  \\\n",
       "0            NaN                  NaN              NaN                  NaN   \n",
       "1            4.0  02/01/2006 09:00:00              NaN                  NaN   \n",
       "2            4.0  02/01/2006 13:26:00              NaN                  NaN   \n",
       "3            4.0  02/01/2006 17:20:00              NaN                  NaN   \n",
       "4            4.0  02/01/2006 22:36:00              NaN                  NaN   \n",
       "\n",
       "  stm_tao_indicator stm_tao_indicator_vorige stm_tao_soort_mutatie  \\\n",
       "0                 N                      NaN                   NaN   \n",
       "1                 N                      NaN                   NaN   \n",
       "2                 N                      NaN                   NaN   \n",
       "3                 N                      NaN                   NaN   \n",
       "4                 N                      NaN                   NaN   \n",
       "\n",
       "   stm_tao_telling_mutatie stm_tao_beinvloedbaar_indicator stm_evb  \\\n",
       "0                        0                               B     NaN   \n",
       "1                        0                               B    0,00   \n",
       "2                        0                              NB    0,00   \n",
       "3                        0                              NB    0,00   \n",
       "4                        0                              NB    0,00   \n",
       "\n",
       "  stm_dir_betrok_tr stm_aangelegd_dd stm_aangelegd_tijd stm_sap_melddatum  \\\n",
       "0               NaN              NaN                NaN               NaN   \n",
       "1               NaN       03/01/2006           04:48:18        02/01/2006   \n",
       "2               NaN       03/01/2006           05:50:40        02/01/2006   \n",
       "3               NaN       03/01/2006           05:50:41        02/01/2006   \n",
       "4               NaN       03/01/2006           05:50:41        02/01/2006   \n",
       "\n",
       "  stm_sap_meldtijd stm_mon_begindatum stm_mon_begintijd  stm_contractgeb_mld  \\\n",
       "0              NaN                NaN               NaN                  NaN   \n",
       "1         09:00:00                NaN               NaN                  NaN   \n",
       "2         12:35:00         02/01/2006          12:35:00                  NaN   \n",
       "3         16:40:00         02/01/2006          16:40:00                  NaN   \n",
       "4         22:30:00         02/01/2006          22:30:00                  NaN   \n",
       "\n",
       "  stm_functiepl_mld stm_techn_mld  stm_contractgeb_gst stm_functiepl_gst  \\\n",
       "0               NaN           NaN                  NaN               NaN   \n",
       "1               624           NaN                 81.0               624   \n",
       "2               201           NaN                 37.0               201   \n",
       "3               025           NaN                 32.0               025   \n",
       "4               012           NaN                 35.0               012   \n",
       "\n",
       "  stm_techn_gst stm_aanngeb_dd stm_aanngeb_tijd stm_aanntpl_dd  \\\n",
       "0           NaN            NaN              NaN            NaN   \n",
       "1             S     02/01/2006         09:00:00            NaN   \n",
       "2             B     02/01/2006         12:35:00            NaN   \n",
       "3             B     02/01/2006         16:40:00            NaN   \n",
       "4             B     02/01/2006         22:30:00            NaN   \n",
       "\n",
       "  stm_aanntpl_tijd  stm_arbeid stm_progfh_in_datum stm_progfh_in_tijd  \\\n",
       "0              NaN         NaN                 NaN                NaN   \n",
       "1         00:00:00  99999999.0                 NaN           00:00:00   \n",
       "2         00:00:00  99999999.0                 NaN           00:00:00   \n",
       "3         00:00:00  99999999.0                 NaN           00:00:00   \n",
       "4         00:00:00  99999999.0                 NaN           00:00:00   \n",
       "\n",
       "  stm_progfh_in_invoer_dat stm_progfh_in_invoer_tijd stm_progfh_in_duur  \\\n",
       "0                      NaN                       NaN                NaN   \n",
       "1                      NaN                  00:00:00         99999999.0   \n",
       "2                      NaN                  00:00:00         99999999.0   \n",
       "3                      NaN                  00:00:00         99999999.0   \n",
       "4                      NaN                  00:00:00         99999999.0   \n",
       "\n",
       "  stm_progfh_gw_datum stm_progfh_gw_tijd  stm_progfh_gw_lwd_datum  \\\n",
       "0                 NaN                NaN                      NaN   \n",
       "1                 NaN           00:00:00                      NaN   \n",
       "2                 NaN           00:00:00                      NaN   \n",
       "3                 NaN           00:00:00                      NaN   \n",
       "4                 NaN           00:00:00                      NaN   \n",
       "\n",
       "  stm_progfh_gw_lwd_tijd stm_progfh_gw_duur  stm_progfh_gw_teller  \\\n",
       "0                    NaN                NaN                   NaN   \n",
       "1                    NaN         99999999.0                   0.0   \n",
       "2                    NaN         99999999.0                   0.0   \n",
       "3                    NaN         99999999.0                   0.0   \n",
       "4                    NaN         99999999.0                   0.0   \n",
       "\n",
       "  stm_afspr_aanvangdd stm_afspr_aanvangtijd   stm_fh_dd stm_fh_tijd  \\\n",
       "0                 NaN                   NaN         NaN         NaN   \n",
       "1          00/00/0000              00:00:00  02/01/2006    09:00:00   \n",
       "2          00/00/0000              00:00:00  02/01/2006    13:26:00   \n",
       "3          00/00/0000              00:00:00  02/01/2006    17:20:00   \n",
       "4          00/00/0000              00:00:00  02/01/2006    22:36:00   \n",
       "\n",
       "   stm_fh_duur  stm_reactie_duur stm_sap_storeinddatum stm_sap_storeindtijd  \\\n",
       "0          NaN               NaN                   NaN                  NaN   \n",
       "1          0.0        99999999.0            02/01/2006             09:00:00   \n",
       "2         51.0        99999999.0            02/01/2006             13:26:00   \n",
       "3         40.0        99999999.0            02/01/2006             17:20:00   \n",
       "4          6.0        99999999.0            02/01/2006             22:36:00   \n",
       "\n",
       "  stm_mon_eind_datum stm_mon_eind_tijd stm_controle_dd  \\\n",
       "0                NaN               NaN             NaN   \n",
       "1                NaN               NaN      05/01/2006   \n",
       "2                NaN               NaN      10/01/2006   \n",
       "3                NaN               NaN      11/01/2006   \n",
       "4                NaN               NaN      09/01/2006   \n",
       "\n",
       "  stm_akkoord_mon_toewijz  stm_status_sapnaarmon stm_fact_jn  \\\n",
       "0                     NaN                    NaN         NaN   \n",
       "1                       J                    NaN           N   \n",
       "2                       J                    1.0           N   \n",
       "3                       J                    1.0           N   \n",
       "4                       J                    1.0           N   \n",
       "\n",
       "  stm_akkoord_melding_jn      stm_afsluit_ddt stm_afsluit_dd stm_afsluit_tijd  \\\n",
       "0                    NaN                  NaN            NaN              NaN   \n",
       "1                      J  05/01/2009 15:10:09     05/01/2009         15:10:09   \n",
       "2                      J  05/01/2009 15:10:11     05/01/2009         15:10:11   \n",
       "3                      J  05/01/2009 15:10:13     05/01/2009         15:10:13   \n",
       "4                      J  05/01/2009 15:10:15     05/01/2009         15:10:15   \n",
       "\n",
       "    stm_rec_toegev_ddt stm_hinderwaarde stm_actie stm_standplaats  \\\n",
       "0                  NaN              NaN       NaN             NaN   \n",
       "1  02/01/2006 04:48:18              0.0       NaN             NaN   \n",
       "2  02/01/2006 05:50:40             0.85       NaN             NaN   \n",
       "3  02/01/2006 05:50:41             0.67       NaN             NaN   \n",
       "4  02/01/2006 05:50:41              0.1       NaN             NaN   \n",
       "\n",
       "  stm_status_gebr stm_wbi_nummer stm_projnr            stm_oorz_tekst_kort  \\\n",
       "0             NaN            NaN        NaN                            NaN   \n",
       "1             IN0     0000000000        NaN                            NaN   \n",
       "2         IN0  H5     0000000000        NaN       schapen op de spoorbaan!   \n",
       "3         IN0  H5     0000000000        NaN          Persoon langs de baan   \n",
       "4         IN0  H5     0000000000        NaN   Bijna aanrijding met persoon   \n",
       "\n",
       "  stm_historie_toelichting stm_schade_verhaalb_jn  stm_schadenr  \\\n",
       "0                      NaN                    NaN           NaN   \n",
       "1                      NaN                    NaN           0.0   \n",
       "2                      NaN                    NaN           0.0   \n",
       "3                      NaN                    NaN           0.0   \n",
       "4                      NaN                    NaN           0.0   \n",
       "\n",
       "  stm_schade_status_ga stm_schade_statusdatum stm_relatiervo_vorig  \\\n",
       "0                  NaN                    NaN                  NaN   \n",
       "1                  NaN                    0.0                  NaN   \n",
       "2                  NaN                    0.0                  NaN   \n",
       "3                  NaN                    0.0                  NaN   \n",
       "4                  NaN                    0.0                  NaN   \n",
       "\n",
       "  stm_relatiervo_volgend stm_relatiervo stm_pplg_van stm_pplg_naar  \\\n",
       "0                    NaN            NaN          NaN           NaN   \n",
       "1                    NaN     50053211.0          NaN           NaN   \n",
       "2                    NaN     50053213.0          NaN           NaN   \n",
       "3                    NaN     50053214.0          NaN           NaN   \n",
       "4                    NaN     50053215.0          NaN           NaN   \n",
       "\n",
       "  stm_dstrglp_van stm_dstrglp_naar stm_afspr_func_hersteldd  \\\n",
       "0             NaN              NaN                      NaN   \n",
       "1             NaN              NaN               00/00/0000   \n",
       "2              Lp              Apg               00/00/0000   \n",
       "3             Hgl              NaN               00/00/0000   \n",
       "4             Hgv              NaN               00/00/0000   \n",
       "\n",
       "  stm_afspr_func_hersteltijd stm_sorteerveld  stm_rapportage_maand  \\\n",
       "0                        NaN             NaN                     5   \n",
       "1                   00:00:00             NaN                     1   \n",
       "2                   00:00:00             NaN                     1   \n",
       "3                   00:00:00             NaN                     1   \n",
       "4                   00:00:00             NaN                     1   \n",
       "\n",
       "   stm_rapportage_jaar   stm_x_bron_publ_dt  \\\n",
       "0                 2014  07/05/2014 05:30:12   \n",
       "1                 2006  02/01/2006 09:00:00   \n",
       "2                 2006  02/01/2006 12:35:00   \n",
       "3                 2006  02/01/2006 16:40:00   \n",
       "4                 2006  02/01/2006 22:30:00   \n",
       "\n",
       "                             stm_x_bron_bestandsnaam   stm_x_bron_arch_dt  \\\n",
       "0  \\\\PUHAPS0149\\Informatica_Prod\\Inbox\\Informatic...  31/12/9999 00:00:00   \n",
       "1  \\\\PUHAPS0149\\Informatica_Prod\\Inbox\\Informatic...  31/12/9999 00:00:00   \n",
       "2  \\\\PUHAPS0149\\Informatica_Prod\\Inbox\\Informatic...  31/12/9999 00:00:00   \n",
       "3  \\\\PUHAPS0149\\Informatica_Prod\\Inbox\\Informatic...  31/12/9999 00:00:00   \n",
       "4  \\\\PUHAPS0149\\Informatica_Prod\\Inbox\\Informatic...  31/12/9999 00:00:00   \n",
       "\n",
       "   stm_x_actueel_ind  stm_x_run_id  stm_x_bk stm_x_start_sessie_dt  \\\n",
       "0                  1         34415   3617016   07/05/2014 05:44:24   \n",
       "1                  1          1518  12704590   13/06/2013 13:37:52   \n",
       "2                  1          1518  12704591   13/06/2013 13:37:52   \n",
       "3                  1          1518  12704592   13/06/2013 13:37:52   \n",
       "4                  1          1518  12704593   13/06/2013 13:37:52   \n",
       "\n",
       "   stm_x_vervallen_ind  \n",
       "0                    0  \n",
       "1                    0  \n",
       "2                    0  \n",
       "3                    0  \n",
       "4                    0  "
      ]
     },
     "execution_count": 62,
     "metadata": {},
     "output_type": "execute_result"
    }
   ],
   "source": [
    "pd.set_option('display.max_columns', None)\n",
    "df.head()"
   ]
  },
  {
   "cell_type": "markdown",
   "id": "34df5b84-e3a1-48e0-8278-ea3bbbe9d732",
   "metadata": {},
   "source": [
    "haalt de data's uithalen dat de Betekenis een vraagteken of nvt staan."
   ]
  },
  {
   "cell_type": "markdown",
   "id": "35c59393-8e56-42c7-a1cf-6dc981e4e0ef",
   "metadata": {
    "tags": []
   },
   "source": [
    "hier zijn wat feature dat we belangrijk vinden:<br>\n",
    "stm_oorz_code : code van wat de probleem is (weet pas was de aannemer aanwezig is) <br>\n",
    "stm_sap_melddatum: de datum data melding melding is binnen gekommen <br>\n",
    "stm_sap_meldtijd : de tijdstip van de melding <br>\n",
    "stm_geo_mld: geocode waar iets gebuurt is. <br>\n",
    "stm_sap_meldtijd : de datum dat de aanmener anweizig is （het is binnen 8uur het kan zijn dat dit niet van belang is） <br>\n",
    "stm_aanntpl_tijd : de tijdmoment dat de aanmener anweizig is <br>\n",
    "stm_fh_dd : de datum dat de probleem opgelost is <br>\n",
    "stm_aanntpl_tijd : de tijdmoment dat de probleem opgelost is （het is binnen 8uur het kan zijn dat dit niet van belang is） <br>\n",
    "stm_techn_mld: Bij welke techniekveld de melding hoort<br>\n",
    "stm_prioriteit: ?(gekrijgen van docent)<br>\n",
    "stm_fh_duur: hoelang het duurt van melding tot dat de probleem is opgelost"
   ]
  },
  {
   "cell_type": "code",
   "execution_count": 63,
   "id": "1e409fac-89a8-4bd5-8d1c-33aed53c037e",
   "metadata": {
    "tags": []
   },
   "outputs": [],
   "source": [
    "df2=df[['stm_oorz_code','stm_sap_melddatum','stm_sap_meldtijd','stm_geo_mld','stm_aanntpl_dd','stm_aanntpl_tijd','stm_fh_dd','stm_fh_tijd','stm_techn_mld','stm_prioriteit','stm_fh_duur','stm_progfh_in_tijd']]"
   ]
  },
  {
   "cell_type": "code",
   "execution_count": 64,
   "id": "50eb2f01-3cda-462f-89fb-f5f7855eafe7",
   "metadata": {
    "tags": []
   },
   "outputs": [
    {
     "name": "stdout",
     "output_type": "stream",
     "text": [
      "<class 'pandas.core.frame.DataFrame'>\n",
      "RangeIndex: 898526 entries, 0 to 898525\n",
      "Data columns (total 12 columns):\n",
      " #   Column              Non-Null Count   Dtype  \n",
      "---  ------              --------------   -----  \n",
      " 0   stm_oorz_code       845113 non-null  float64\n",
      " 1   stm_sap_melddatum   898488 non-null  object \n",
      " 2   stm_sap_meldtijd    898488 non-null  object \n",
      " 3   stm_geo_mld         886693 non-null  object \n",
      " 4   stm_aanntpl_dd      689915 non-null  object \n",
      " 5   stm_aanntpl_tijd    898488 non-null  object \n",
      " 6   stm_fh_dd           771259 non-null  object \n",
      " 7   stm_fh_tijd         898488 non-null  object \n",
      " 8   stm_techn_mld       664399 non-null  object \n",
      " 9   stm_prioriteit      898365 non-null  float64\n",
      " 10  stm_fh_duur         898488 non-null  float64\n",
      " 11  stm_progfh_in_tijd  898488 non-null  object \n",
      "dtypes: float64(3), object(9)\n",
      "memory usage: 82.3+ MB\n"
     ]
    }
   ],
   "source": [
    "df2.info()"
   ]
  },
  {
   "cell_type": "markdown",
   "id": "97ed1ae2-c23f-4fa1-b1f6-5fd65bf799c6",
   "metadata": {},
   "source": [
    "filter functiehersteltijd met bijhoorde oorzaak code voor de baseline model "
   ]
  },
  {
   "cell_type": "markdown",
   "id": "fa7366e6-95f5-4947-8551-19ae60b4ef27",
   "metadata": {},
   "source": [
    "# eerste data preperatie"
   ]
  },
  {
   "cell_type": "markdown",
   "id": "6c6261ed-3cd8-442e-82de-5a324bed52c8",
   "metadata": {},
   "source": [
    "stm_sap_meldtijd, stm_aanntpl_tijd en stm_fh_tijd is een object dat geschikt is voor model\n",
    "hieronder woordt het omgezet naar welkste minuut het van de dag is als int"
   ]
  },
  {
   "cell_type": "code",
   "execution_count": 65,
   "id": "16af058f-e7db-4df8-b1fe-b566ac9bee91",
   "metadata": {
    "tags": []
   },
   "outputs": [],
   "source": [
    "df2=df2.dropna(subset='stm_aanntpl_tijd')"
   ]
  },
  {
   "cell_type": "code",
   "execution_count": 66,
   "id": "8e87c4d5-3e9a-4a1f-a5ee-cec85b507d2b",
   "metadata": {
    "tags": []
   },
   "outputs": [
    {
     "name": "stdout",
     "output_type": "stream",
     "text": [
      "<class 'pandas.core.frame.DataFrame'>\n",
      "Index: 898488 entries, 1 to 898525\n",
      "Data columns (total 12 columns):\n",
      " #   Column              Non-Null Count   Dtype  \n",
      "---  ------              --------------   -----  \n",
      " 0   stm_oorz_code       845080 non-null  float64\n",
      " 1   stm_sap_melddatum   898488 non-null  object \n",
      " 2   stm_sap_meldtijd    898488 non-null  object \n",
      " 3   stm_geo_mld         886659 non-null  object \n",
      " 4   stm_aanntpl_dd      689915 non-null  object \n",
      " 5   stm_aanntpl_tijd    898488 non-null  object \n",
      " 6   stm_fh_dd           771259 non-null  object \n",
      " 7   stm_fh_tijd         898488 non-null  object \n",
      " 8   stm_techn_mld       664399 non-null  object \n",
      " 9   stm_prioriteit      898331 non-null  float64\n",
      " 10  stm_fh_duur         898488 non-null  float64\n",
      " 11  stm_progfh_in_tijd  898488 non-null  object \n",
      "dtypes: float64(3), object(9)\n",
      "memory usage: 89.1+ MB\n"
     ]
    }
   ],
   "source": [
    "df2.info()"
   ]
  },
  {
   "cell_type": "code",
   "execution_count": 67,
   "id": "809f0b0e-f91d-4c02-a7ff-957e9667d3d4",
   "metadata": {
    "tags": []
   },
   "outputs": [],
   "source": [
    "# naar datetime tpye \n",
    "df2['stm_sap_meldtijd'] = pd.to_datetime(df2['stm_sap_meldtijd'], format='%H:%M:%S', errors='coerce')\n",
    "# verandert het h:min naar totale minuten\n",
    "df2['stm_sap_meldtijd'] = df2['stm_sap_meldtijd'].apply(lambda x: x.hour*60 + x.minute)\n",
    "\n",
    "df2['stm_aanntpl_tijd'] = pd.to_datetime(df2['stm_aanntpl_tijd'], format='%H:%M:%S', errors='coerce')\n",
    "df2['stm_aanntpl_tijd'] = df2['stm_aanntpl_tijd'].apply(lambda x: x.hour*60 + x.minute)\n",
    "\n",
    "df2['stm_fh_tijd'] = pd.to_datetime(df2['stm_fh_tijd'], format='%H:%M:%S', errors='coerce')\n",
    "df2['stm_fh_tijd'] = df2['stm_fh_tijd'].apply(lambda x: x.hour*60 + x.minute)\n",
    "\n",
    "df2['stm_progfh_in_tijd'] = pd.to_datetime(df2['stm_progfh_in_tijd'], format='%H:%M:%S', errors='coerce')\n",
    "df2['stm_progfh_in_tijd'] = df2['stm_progfh_in_tijd'].apply(lambda x: x.hour*60 + x.minute)"
   ]
  },
  {
   "cell_type": "markdown",
   "id": "cc13167c-eedc-46dd-84c9-52be06850b64",
   "metadata": {
    "tags": []
   },
   "source": [
    "# target"
   ]
  },
  {
   "cell_type": "markdown",
   "id": "ee86aa58-9d72-4760-8d87-4c8b8fe0ec5c",
   "metadata": {},
   "source": [
    "voor de traget neem we de tijd neem de functie hersteltijd van waarneer de aanmener aanweizig is tot dat weer gereiden mogen worden.<br>\n",
    "we bewaar eerst alle data dat binnen dag is"
   ]
  },
  {
   "cell_type": "code",
   "execution_count": 68,
   "id": "c26e7b5e-29d0-40b9-9b07-b594356acfa9",
   "metadata": {
    "tags": []
   },
   "outputs": [],
   "source": [
    "df2=df2.loc[df2['stm_fh_duur']<1440]"
   ]
  },
  {
   "cell_type": "code",
   "execution_count": 69,
   "id": "856af69f-69f5-4d4a-bd77-4c45e841f1cb",
   "metadata": {
    "tags": []
   },
   "outputs": [],
   "source": [
    "df2['targetherstel'] = np.where(\n",
    "    df2['stm_fh_tijd'] - df2['stm_aanntpl_tijd']>= 0, # als de stm_fh_tijd-stm_aanntpl_tijd positief is\n",
    "    df2['stm_fh_tijd'] - df2['stm_aanntpl_tijd'], # dan betekende dat nog op de zefde day is, kun je gelijk van elkaar aftrekken\n",
    "    df2['stm_fh_tijd'] - df2['stm_aanntpl_tijd']+1440 # als niet op zelfdde dag is hersteld, dus een neagetief uitkomst moet er +1440 om de juiste tijd te krijgen.\n",
    ")"
   ]
  },
  {
   "cell_type": "markdown",
   "id": "13e864cb-dea0-49cb-aa59-849b4e6c43ac",
   "metadata": {},
   "source": [
    "# data understanding en eerste filtering"
   ]
  },
  {
   "cell_type": "markdown",
   "id": "f15ee591-8888-46df-9383-ecdbdf765ee5",
   "metadata": {},
   "source": [
    "in de dataset zijn data dat double voor komen "
   ]
  },
  {
   "cell_type": "code",
   "execution_count": 70,
   "id": "7ae41337-867a-4e37-806f-379147d8f998",
   "metadata": {
    "tags": []
   },
   "outputs": [
    {
     "name": "stdout",
     "output_type": "stream",
     "text": [
      "socre null: 0.2179293306299755\n",
      "socre tot 15m: 0.21668079347726626\n",
      "socre 15m tot 30m: 0.12728216217257504\n",
      "socre 30m tot 1h: 0.15311014577905346\n",
      "socre 1h tot 2h: 0.12193042866843573\n",
      "socre 2h tot 3h: 0.04684362102262055\n",
      "socre 3h tot 6h: 0.047617786296672654\n",
      "socre 6h tot 8h: 0.014633288865986332\n",
      "socre 8h+: 0.05397244308741446\n"
     ]
    }
   ],
   "source": [
    "null = df2.loc[df2['targetherstel']==0,['targetherstel']]\n",
    "vijftien = df2.loc[ (df2['targetherstel'] >0) & (df2['targetherstel']<=15 ),['targetherstel']]\n",
    "vijftien_halfuur = df2.loc[ (df2['targetherstel'] >15) & (df2['targetherstel']<=30 ),['targetherstel']]\n",
    "halfuur_uur = df2.loc[( df2['targetherstel']> 30) & (df2['targetherstel']<=60) ,['targetherstel']]\n",
    "een_twee_uur = df2.loc[ (df2['targetherstel']>60) & (df2['targetherstel']<=120) ,['targetherstel']]\n",
    "twee_drie_uur = df2.loc[ (df2['targetherstel']>120) & (df2['targetherstel']<=180) ,['targetherstel']]\n",
    "drie_zes_uur = df2.loc[ (df2['targetherstel']>180) & (df2['targetherstel']<=360) ,['targetherstel']]\n",
    "zes_acht_uur = df2.loc[ (df2['targetherstel']>360) & (df2['targetherstel']<=540) ,['targetherstel']]\n",
    "acht_plus = df2.loc[df2['targetherstel']> 540,['targetherstel']]\n",
    "acht_plus = df2.loc[df2['targetherstel']> 540,['targetherstel']]\n",
    "print(f'socre null: {len(null)/len(df2)}')\n",
    "print(f'socre tot 15m: {len(vijftien)/len(df2)}')\n",
    "print(f'socre 15m tot 30m: {len(vijftien_halfuur)/len(df2)}')\n",
    "print(f'socre 30m tot 1h: {len(halfuur_uur)/len(df2)}')\n",
    "print(f'socre 1h tot 2h: {len(een_twee_uur)/len(df2)}')\n",
    "print(f'socre 2h tot 3h: {len(twee_drie_uur)/len(df2)}')\n",
    "print(f'socre 3h tot 6h: {len(drie_zes_uur)/len(df2)}')\n",
    "print(f'socre 6h tot 8h: {len(zes_acht_uur)/len(df2)}')\n",
    "print(f'socre 8h+: {len(acht_plus)/len(df2)}')"
   ]
  },
  {
   "cell_type": "markdown",
   "id": "5817476a-a682-40d7-98f2-a7c45520bbb3",
   "metadata": {},
   "source": [
    "we zien dat dat 21% van de meldingen geen probleem zijn dat de spoor op stil staat <br>\n",
    "21% dat onder de 15 miuten is en 12% tussen 15-30 min <br>\n",
    "voor meldingen dat de spoor boven de acht uurr stil staan zij er maar 4%"
   ]
  },
  {
   "cell_type": "markdown",
   "id": "fb53458a-0605-4050-8dcb-73db1165ff88",
   "metadata": {},
   "source": [
    "we dorpen data's dat we niet kunnen op getraint kan"
   ]
  },
  {
   "cell_type": "markdown",
   "id": "cc3f2e8f-57aa-4411-b16c-43cd3032c4e2",
   "metadata": {},
   "source": [
    "filter data's dat stm_fh_duur onder de 15 min en data's boven de 8 uur,het is niet belangrjik in deze project.<br>\n",
    "we nemen data's van 15min tot 8uur, zo data de model niet telaag gaat onderschaten."
   ]
  },
  {
   "cell_type": "code",
   "execution_count": 71,
   "id": "233579f5-0269-4a48-8cc1-24e9db34fcf9",
   "metadata": {
    "tags": []
   },
   "outputs": [],
   "source": [
    "df2 = df2.loc[ (df2['targetherstel']>15) & (df2['targetherstel']<=540)]"
   ]
  },
  {
   "cell_type": "markdown",
   "id": "87d4dc66-7c7c-412a-860f-8a2930c4779f",
   "metadata": {
    "tags": []
   },
   "source": [
    "# tweede data preperatie en tweede filtering"
   ]
  },
  {
   "cell_type": "markdown",
   "id": "1790ce78-cede-4054-baf5-d9c948d52dbd",
   "metadata": {
    "tags": []
   },
   "source": [
    "stm_sap_melddatum is een ook object dat geschikt is voor modellen <br>\n",
    "hieronder woordt het omgezet naar welkste dag het van de jaar is als int <br>"
   ]
  },
  {
   "cell_type": "code",
   "execution_count": 72,
   "id": "0584bb06-30a9-4c43-b93c-ff2dabeddda3",
   "metadata": {
    "tags": []
   },
   "outputs": [],
   "source": [
    "# naar datetime tpye \n",
    "df2['stm_sap_melddatum'] = pd.to_datetime(df2['stm_sap_melddatum'], format='%d/%m/%Y')\n",
    "# kiijk welkeste dag het van de jaar is\n",
    "df2['stm_sap_melddatum'] = df2['stm_sap_melddatum'].dt.dayofyear"
   ]
  },
  {
   "cell_type": "markdown",
   "id": "0ccc198d-3c4b-43fb-9a77-813829ff39eb",
   "metadata": {
    "tags": []
   },
   "source": [
    "halt alle doubble data er uit"
   ]
  },
  {
   "cell_type": "code",
   "execution_count": 73,
   "id": "0ee37f7a-32a1-401d-b7ea-9dc836f9267c",
   "metadata": {
    "tags": []
   },
   "outputs": [],
   "source": [
    "df2 = df2.drop_duplicates()"
   ]
  },
  {
   "cell_type": "markdown",
   "id": "702c2678-ba6f-4c4f-9845-9b6035bb868c",
   "metadata": {},
   "source": [
    "halt alle stuaties dat geen aannemer aanweizig waren"
   ]
  },
  {
   "cell_type": "code",
   "execution_count": 74,
   "id": "a49ae45a-798c-4ee4-b6a2-a2090655a39b",
   "metadata": {
    "tags": []
   },
   "outputs": [],
   "source": [
    "df2=df2.loc[df2['stm_aanntpl_tijd']!=0]"
   ]
  },
  {
   "cell_type": "markdown",
   "id": "d6c3ff83-f54e-4220-9112-bdb50fa9c5af",
   "metadata": {
    "tags": []
   },
   "source": [
    "# deerde data preperatie"
   ]
  },
  {
   "cell_type": "markdown",
   "id": "273cf14a-a0a4-4d94-b73d-54df708b5136",
   "metadata": {},
   "source": [
    "verdeelt de tijd per half uur"
   ]
  },
  {
   "cell_type": "code",
   "execution_count": 75,
   "id": "a37cbb7d-a556-4ca3-a9a2-1fd05229b167",
   "metadata": {
    "tags": []
   },
   "outputs": [],
   "source": [
    "# zet alle NaN om in 0 \n",
    "df2[['stm_sap_meldtijd']]= df2[['stm_sap_meldtijd']].fillna('0')\n",
    "# zet de type als int\n",
    "df2['stm_sap_meldtijd']=df2['stm_sap_meldtijd'].astype('int32')"
   ]
  },
  {
   "cell_type": "code",
   "execution_count": 76,
   "id": "94914bf9-a5c5-4a54-af27-2961e91d5e55",
   "metadata": {
    "tags": []
   },
   "outputs": [],
   "source": [
    "# zet alle NaN om in 0 \n",
    "df2[['stm_oorz_code']]= df2[['stm_oorz_code']].fillna('0')\n",
    "# zet de type als int\n",
    "df2['stm_oorz_code']=df2['stm_oorz_code'].astype('int32')"
   ]
  },
  {
   "cell_type": "code",
   "execution_count": 77,
   "id": "f3765070-8495-43d9-bd12-2925cae2e9b5",
   "metadata": {
    "tags": []
   },
   "outputs": [],
   "source": [
    "# zet alle NaN om in 0 \n",
    "df2['stm_prioriteit']=df2['stm_prioriteit'].fillna('0')\n",
    "# zet de type als int\n",
    "df2['stm_prioriteit']=df2['stm_prioriteit'].astype('int32')"
   ]
  },
  {
   "cell_type": "markdown",
   "id": "838b8ce2-4da0-437e-a52f-06ff0ba78c3b",
   "metadata": {},
   "source": [
    "voor 'stm_prioriteit' dat 8 of 9 zijn haalt we er uit om dat ze langer dan een dag zult duren"
   ]
  },
  {
   "cell_type": "code",
   "execution_count": 78,
   "id": "9554ee39-8ff5-4e1a-9678-11ba6ed5a45e",
   "metadata": {
    "tags": []
   },
   "outputs": [],
   "source": [
    "df2=df2.loc[(df2['stm_prioriteit']!=8)&(df2['stm_prioriteit']!=9)]"
   ]
  },
  {
   "cell_type": "code",
   "execution_count": null,
   "id": "0ee62046-a31c-43ab-8ab3-8e2a00d7890e",
   "metadata": {},
   "outputs": [],
   "source": []
  },
  {
   "cell_type": "code",
   "execution_count": 79,
   "id": "e0be78b9-eb05-4545-8055-c123dd1074db",
   "metadata": {
    "tags": []
   },
   "outputs": [],
   "source": [
    "df2['targetherstel'] = df2['targetherstel'].apply(lambda x: round(x / 10) * 10)"
   ]
  },
  {
   "cell_type": "code",
   "execution_count": 80,
   "id": "6cba78a2-2354-4f45-9461-fbd0b9632f50",
   "metadata": {
    "tags": []
   },
   "outputs": [],
   "source": [
    "df2.to_csv('newdataset.csv', index=False, encoding='utf-8')"
   ]
  },
  {
   "cell_type": "code",
   "execution_count": 82,
   "id": "8f717533-b086-4606-ad84-d6927bae35fe",
   "metadata": {
    "tags": []
   },
   "outputs": [
    {
     "data": {
      "text/plain": [
       "0.3100767256595802"
      ]
     },
     "execution_count": 82,
     "metadata": {},
     "output_type": "execute_result"
    }
   ],
   "source": [
    "len(df2)/len(df)"
   ]
  },
  {
   "cell_type": "markdown",
   "id": "dfb0bfee-9356-4b03-b53d-7a66b19310ea",
   "metadata": {},
   "source": [
    "# baseline model"
   ]
  },
  {
   "cell_type": "markdown",
   "id": "cc514283-86c8-4e18-822e-5c69246a1f1b",
   "metadata": {
    "tags": []
   },
   "source": [
    "we neem 'stm_progfh_in_tijd' en 'stm_aanntpl_tijd' om de voorspelling hersteltijd te bereken. "
   ]
  },
  {
   "cell_type": "code",
   "execution_count": 83,
   "id": "c6a0de12-f106-4417-bfbd-7114dc61da7d",
   "metadata": {
    "tags": []
   },
   "outputs": [],
   "source": [
    "# zet het data tot welkeste minuut van de dag\n",
    "df_base = df2[['stm_aanntpl_tijd','targetherstel','stm_progfh_in_tijd']]\n",
    "df_base = df_base.dropna(subset='stm_progfh_in_tijd')\n",
    "# hal alle waarde van 0 weg (zijn wat data's dat geen verspelling is gegeven die zijn 0)\n",
    "df_base = df_base.loc[df_base['stm_progfh_in_tijd']>0]\n",
    "df_base['stm_progfh_in_tijd'] = df_base['stm_progfh_in_tijd'].astype('int32')"
   ]
  },
  {
   "cell_type": "code",
   "execution_count": 84,
   "id": "336458fe-03e0-46fd-b433-779d2825da00",
   "metadata": {
    "tags": []
   },
   "outputs": [],
   "source": [
    "#berken de voorspeling hersteltijd\n",
    "df_base['hersteltijd'] = np.where(\n",
    "    df_base['stm_progfh_in_tijd'] - df_base['stm_aanntpl_tijd']>= 0, # als de stm_fh_tijd-stm_aanntpl_tijd positief is\n",
    "    df_base['stm_progfh_in_tijd'] - df_base['stm_aanntpl_tijd'], # dan betekende dat nog op de zefde day is, kun je gelijk van elkaar aftrekken\n",
    "    df_base['stm_progfh_in_tijd'] - df_base['stm_aanntpl_tijd']+1440 # als niet op zelfdde dag is hersteld, dus een neagetief uitkomst moet er +24 om de juiste tijd te krijgen.\n",
    ")"
   ]
  },
  {
   "cell_type": "markdown",
   "id": "a54c159a-b5ab-4462-8630-b4d7215f2a8c",
   "metadata": {
    "tags": []
   },
   "source": [
    "we nemen de voorspelling hersteltijd en berkenen we de RMSE waarde uit"
   ]
  },
  {
   "cell_type": "code",
   "execution_count": 85,
   "id": "c64c8244-46c6-4d3b-b9fa-7e90533743eb",
   "metadata": {
    "tags": []
   },
   "outputs": [
    {
     "data": {
      "text/plain": [
       "147.99042664570214"
      ]
     },
     "execution_count": 85,
     "metadata": {},
     "output_type": "execute_result"
    }
   ],
   "source": [
    "list1=df_base['hersteltijd'].tolist()\n",
    "list2=df_base['targetherstel'].tolist()\n",
    "result = [(a - b)**2 for a, b in zip(list1, list2)]\n",
    "math.sqrt(sum(result)/len(list1))"
   ]
  },
  {
   "cell_type": "code",
   "execution_count": 86,
   "id": "2683d187-df42-425f-afb2-5396e366bc9a",
   "metadata": {
    "tags": []
   },
   "outputs": [
    {
     "data": {
      "text/plain": [
       "0.6380968340723935"
      ]
     },
     "execution_count": 86,
     "metadata": {},
     "output_type": "execute_result"
    }
   ],
   "source": [
    "result = [a > b for a, b in zip(list1, list2)]\n",
    "sum(result)/len(result)"
   ]
  },
  {
   "cell_type": "markdown",
   "id": "16fa69ae-4f4c-4795-a4f8-deb82ea8a4be",
   "metadata": {},
   "source": [
    "# model"
   ]
  },
  {
   "cell_type": "markdown",
   "id": "dac26876-7132-490c-a181-fc73204cb4e8",
   "metadata": {
    "tags": []
   },
   "source": [
    "zet de categorische data om in getalen"
   ]
  },
  {
   "cell_type": "code",
   "execution_count": 100,
   "id": "6206beed-945b-4c90-8156-f3c9016f3db6",
   "metadata": {
    "tags": []
   },
   "outputs": [],
   "source": [
    "df3=df2\n",
    "df3 = pd.concat([df3, pd.get_dummies(df2['stm_oorz_code']).astype(int)], axis=1)\n",
    "df3 = pd.concat([df3, pd.get_dummies(df2['stm_techn_mld']).astype(int)], axis=1)\n",
    "df3 = pd.concat([df3, pd.get_dummies(df2['stm_prioriteit']).astype(int)], axis=1)\n",
    "df3 = pd.concat([df3, pd.get_dummies(df2['stm_geo_mld']).astype(int)], axis=1)\n",
    "\n",
    "df3 = df3.drop(columns=['stm_oorz_code', 'stm_techn_mld','stm_prioriteit','stm_geo_mld'])"
   ]
  },
  {
   "cell_type": "code",
   "execution_count": 101,
   "id": "93d15fd3-be8f-46e6-85d1-00e895b5bfe9",
   "metadata": {
    "tags": []
   },
   "outputs": [],
   "source": [
    "endtest = df3.tail(1000)\n",
    "df3 = df3.iloc[:-1000]"
   ]
  },
  {
   "cell_type": "code",
   "execution_count": 102,
   "id": "8c62a2a9-fb0c-47a1-bc3f-d50d8a7e843c",
   "metadata": {},
   "outputs": [],
   "source": [
    "from sklearn.linear_model import LinearRegression\n",
    "from sklearn.model_selection import train_test_split\n",
    "from sklearn.datasets import load_iris\n",
    "import joblib"
   ]
  },
  {
   "cell_type": "markdown",
   "id": "3f83ac62-b8a8-4ea0-bc1c-a39e5a519ab8",
   "metadata": {},
   "source": [
    "verdeel de feature en target"
   ]
  },
  {
   "cell_type": "code",
   "execution_count": 103,
   "id": "c6b19027-a596-4799-b7f5-522c38f46e3a",
   "metadata": {
    "tags": []
   },
   "outputs": [],
   "source": [
    "target = df3['targetherstel']\n",
    "feature = df3.drop(columns=['targetherstel','stm_aanntpl_dd','stm_fh_dd','stm_progfh_in_tijd','stm_fh_duur','stm_fh_tijd','stm_progfh_in_tijd'])\n",
    "feature.columns = feature.columns.astype(str)\n",
    "\n",
    "feats_train, feats_test, cat_train, cat_test = train_test_split(feature, target, random_state=42)"
   ]
  },
  {
   "cell_type": "markdown",
   "id": "3955a7d5-947a-4370-8882-c6408ece0802",
   "metadata": {},
   "source": [
    "train de model"
   ]
  },
  {
   "cell_type": "code",
   "execution_count": 104,
   "id": "ec26084c-ac18-436c-b01a-8ccb0f1914db",
   "metadata": {
    "tags": []
   },
   "outputs": [],
   "source": [
    "reg = LinearRegression().fit(feats_train, cat_train)"
   ]
  },
  {
   "cell_type": "markdown",
   "id": "a86edf41-1415-463f-bd36-9bb8645a505d",
   "metadata": {},
   "source": [
    "bereken de RMSE waarde van de model"
   ]
  },
  {
   "cell_type": "code",
   "execution_count": 105,
   "id": "4ba028a2-7001-442f-9381-097021613089",
   "metadata": {},
   "outputs": [
    {
     "data": {
      "text/plain": [
       "79.24666727059513"
      ]
     },
     "execution_count": 105,
     "metadata": {},
     "output_type": "execute_result"
    }
   ],
   "source": [
    "predictions = reg.predict(feats_train)\n",
    "cat_train.to_list()\n",
    "result = [(a - b)**2 for a, b in zip(predictions, cat_train)]\n",
    "math.sqrt(sum(result)/len(result))"
   ]
  },
  {
   "cell_type": "markdown",
   "id": "7f34a496-3a9d-4f84-bd2b-5a7ef04975ba",
   "metadata": {},
   "source": [
    "als we de worste case neem de verspellings tijd van de model plus de RMSE waarde, hoeveel procent van de gevallen is gedekt."
   ]
  },
  {
   "cell_type": "code",
   "execution_count": 106,
   "id": "b3a08c4c-a7f6-4950-819f-fa747657ae72",
   "metadata": {
    "tags": []
   },
   "outputs": [
    {
     "data": {
      "text/plain": [
       "0.8900575863675442"
      ]
     },
     "execution_count": 106,
     "metadata": {},
     "output_type": "execute_result"
    }
   ],
   "source": [
    "result = [a+84 > b for a, b in zip(predictions, cat_train)]\n",
    "sum(result)/len(result)"
   ]
  },
  {
   "cell_type": "markdown",
   "id": "f16ddace-cc85-42a1-8c54-19d1b62e95ff",
   "metadata": {
    "tags": []
   },
   "source": [
    "berekende RMSE waarde voor de worst case"
   ]
  },
  {
   "cell_type": "code",
   "execution_count": 107,
   "id": "01bf8c14-97a7-4929-9896-e4ffb7347244",
   "metadata": {
    "tags": []
   },
   "outputs": [
    {
     "data": {
      "text/plain": [
       "115.48174588215574"
      ]
     },
     "execution_count": 107,
     "metadata": {},
     "output_type": "execute_result"
    }
   ],
   "source": [
    "result = [(a + 84 - b)**2 for a, b in zip(predictions, cat_train)]\n",
    "math.sqrt(sum(result)/len(result))"
   ]
  },
  {
   "cell_type": "code",
   "execution_count": 108,
   "id": "566c911d-f393-45da-8d79-ec6e2bd419b4",
   "metadata": {
    "tags": []
   },
   "outputs": [],
   "source": [
    "target = endtest['targetherstel']\n",
    "feature = endtest.drop(columns=['targetherstel','stm_aanntpl_dd','stm_fh_dd','stm_progfh_in_tijd','stm_fh_duur','stm_fh_tijd','stm_progfh_in_tijd'])\n",
    "feature.columns = feature.columns.astype(str)"
   ]
  },
  {
   "cell_type": "code",
   "execution_count": 109,
   "id": "2e181c8c-7184-4590-a42b-8c4e8d28c8c1",
   "metadata": {
    "tags": []
   },
   "outputs": [
    {
     "data": {
      "text/plain": [
       "80.4453826315462"
      ]
     },
     "execution_count": 109,
     "metadata": {},
     "output_type": "execute_result"
    }
   ],
   "source": [
    "predictions = reg.predict(feature)\n",
    "cat_train.to_list()\n",
    "result = [(a - b)**2 for a, b in zip(predictions, target)]\n",
    "math.sqrt(sum(result)/len(result))"
   ]
  },
  {
   "cell_type": "code",
   "execution_count": 110,
   "id": "91440f45-82dc-48be-84c3-5cb979586e9d",
   "metadata": {
    "tags": []
   },
   "outputs": [
    {
     "data": {
      "text/plain": [
       "['LinearRegressionModel.joblib']"
      ]
     },
     "execution_count": 110,
     "metadata": {},
     "output_type": "execute_result"
    }
   ],
   "source": [
    "joblib.dump(reg, 'LinearRegressionModel.joblib')"
   ]
  },
  {
   "cell_type": "code",
   "execution_count": null,
   "id": "68cc7324-9cd0-4812-8c03-8bb35c3224c5",
   "metadata": {},
   "outputs": [],
   "source": []
  }
 ],
 "metadata": {
  "kernelspec": {
   "display_name": "Python 3 (ipykernel)",
   "language": "python",
   "name": "python3"
  },
  "language_info": {
   "codemirror_mode": {
    "name": "ipython",
    "version": 3
   },
   "file_extension": ".py",
   "mimetype": "text/x-python",
   "name": "python",
   "nbconvert_exporter": "python",
   "pygments_lexer": "ipython3",
   "version": "3.11.5"
  }
 },
 "nbformat": 4,
 "nbformat_minor": 5
}
