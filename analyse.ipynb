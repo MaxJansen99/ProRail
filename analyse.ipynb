{
 "cells": [
  {
   "cell_type": "markdown",
   "id": "157958e9",
   "metadata": {},
   "source": [
    "# Data Analyse ProRail Storingen"
   ]
  },
  {
   "cell_type": "markdown",
   "id": "8a63c5d2",
   "metadata": {},
   "source": [
    "## Importeren benodigde libraries"
   ]
  },
  {
   "metadata": {},
   "cell_type": "code",
   "outputs": [],
   "execution_count": null,
   "source": [
    "import pandas as pd\n",
    "import numpy as np\n",
    "import matplotlib.pyplot as plt\n",
    "import seaborn as sns\n",
    "import math\n",
    "pd.set_option('display.max_columns', None)"
   ],
   "id": "1d3d26f872c8fce5"
  },
  {
   "metadata": {},
   "cell_type": "markdown",
   "source": "## Data inlezen en eerste selectie",
   "id": "ea2c028d40be6060"
  },
  {
   "metadata": {},
   "cell_type": "code",
   "outputs": [],
   "execution_count": null,
   "source": [
    "df = pd.read_csv('Data/sap_storing_data_hu_subset.csv', index_col=0, low_memory=False)\n",
    "\n",
    "df = df[[\n",
    "    \"stm_mon_nr\", \"stm_vl_post\", \"stm_sap_meld_ddt\", \"stm_sap_meldtekst_lang\",\n",
    "    \"stm_sap_meldtekst\", \"stm_geo_mld\", \"stm_equipm_nr_mld\", \"stm_equipm_soort_mld\",\n",
    "    \"stm_equipm_omschr_mld\", \"stm_km_van_mld\", \"stm_km_tot_mld\", \"stm_prioriteit\",\n",
    "    \"stm_aanngeb_ddt\", \"stm_oh_pg_gst\", \"stm_geo_gst\", \"stm_equipm_nr_gst\",\n",
    "    \"stm_equipm_soort_gst\", \"stm_equipm_omschr_gst\", \"stm_km_van_gst\", \"stm_km_tot_gst\",\n",
    "    \"stm_oorz_groep\", \"stm_oorz_code\", \"stm_oorz_tkst\", \"stm_fh_ddt\",\n",
    "    \"stm_fh_status\", \"stm_sap_storeind_ddt\", \"stm_tao_indicator\", \"stm_tao_indicator_vorige\",\n",
    "    \"stm_tao_soort_mutatie\", \"stm_tao_telling_mutatie\", \"stm_tao_beinvloedbaar_indicator\", \"stm_sap_melddatum\",\n",
    "    \"stm_sap_meldtijd\", \"stm_contractgeb_mld\", \"stm_techn_mld\", \"stm_contractgeb_gst\",\n",
    "    \"stm_techn_gst\", \"stm_aanngeb_dd\", \"stm_aanngeb_tijd\", \"stm_aanntpl_dd\",\n",
    "    \"stm_aanntpl_tijd\", \"stm_progfh_in_datum\", \"stm_progfh_in_tijd\", \"stm_progfh_in_invoer_dat\",\n",
    "    \"stm_progfh_in_invoer_tijd\", \"stm_progfh_in_duur\", \"stm_progfh_gw_tijd\", \"stm_progfh_gw_teller\",\n",
    "    \"stm_fh_dd\", \"stm_fh_tijd\", \"stm_fh_duur\", \"stm_sap_storeinddatum\",\n",
    "    \"stm_sap_storeindtijd\", \"stm_oorz_tekst_kort\", \"stm_pplg_van\", \"stm_pplg_naar\",\n",
    "    \"stm_dstrglp_van\", \"stm_dstrglp_naar\"\n",
    "]]\n",
    "\n",
    "df = df.drop_duplicates()\n",
    "df.head()"
   ],
   "id": "77e74425254edf17"
  },
  {
   "cell_type": "markdown",
   "id": "f9219f4c",
   "metadata": {},
   "source": [
    "## Selectie van relevante features voor analyse"
   ]
  },
  {
   "cell_type": "code",
   "id": "1cbc88cc",
   "metadata": {
    "ExecuteTime": {
     "end_time": "2025-07-10T07:45:50.966445Z",
     "start_time": "2025-07-10T07:45:50.964307Z"
    }
   },
   "source": [
    "data = df[[\n",
    "    'stm_oorz_code',\n",
    "    'stm_sap_melddatum',\n",
    "    'stm_sap_meldtijd',\n",
    "    'stm_geo_mld',\n",
    "    'stm_aanntpl_tijd',\n",
    "    'stm_fh_tijd',\n",
    "    'stm_techn_mld',\n",
    "    'stm_prioriteit',\n",
    "    'stm_contractgeb_mld',\n",
    "    'stm_fh_duur',\n",
    "    'stm_progfh_in_duur',\n",
    "    'stm_progfh_in_tijd'\n",
    "]]"
   ],
   "outputs": [],
   "execution_count": 3
  },
  {
   "cell_type": "markdown",
   "id": "a3cc820e",
   "metadata": {},
   "source": [
    "### Betekenis van de belangrijkste kolommen:\n",
    "| Kolom | Betekenis | Type |\n",
    "|-------|-----------|------|\n",
    "| stm_oorz_code | Oorzaak code | Nominaal |\n",
    "| stm_sap_melddatum | Datum melding | Ordinaal |\n",
    "| stm_sap_meldtijd | Tijdstip melding | Ordinaal |\n",
    "| stm_geo_mld | Geo code melding | Nominaal |\n",
    "| stm_aanntpl_tijd | Tijdstip aannemer ter plaatse | Ordinaal |\n",
    "| stm_fh_tijd | Tijdstip functieherstel | Ordinaal |\n",
    "| stm_techn_mld | Techniekveld melding | Nominaal |\n",
    "| stm_prioriteit | Prioriteitsindicatie | Ordinaal |\n",
    "| stm_contractgeb_mld | Contract gebied melding | Nominaal |\n",
    "| stm_fh_duur | Duur functieherstel | Continue |\n",
    "| stm_progfh_in_duur | Prognose duur functieherstel | Continue |\n",
    "| stm_progfh_in_tijd | Prognose tijd functieherstel | Ordinaal |"
   ]
  },
  {
   "cell_type": "markdown",
   "id": "74849749",
   "metadata": {},
   "source": [
    "## Tijd kolommen converteren naar minuten van de dag"
   ]
  },
  {
   "cell_type": "code",
   "id": "6ccc2f86",
   "metadata": {
    "ExecuteTime": {
     "end_time": "2025-07-10T07:45:51.033672Z",
     "start_time": "2025-07-10T07:45:51.023689Z"
    }
   },
   "source": [
    "tijd_kolommen = ['stm_sap_meldtijd', 'stm_aanntpl_tijd', 'stm_fh_tijd', 'stm_progfh_in_tijd']\n",
    "\n",
    "def convert_time_to_minutes(df, columns):\n",
    "    for col in columns:\n",
    "        df.loc[:, col] = pd.to_datetime(df[col], format='%H:%M:%S', errors='coerce')\n",
    "        df.loc[:, col] = df[col].apply(lambda x: x.hour * 60 + x.minute if pd.notnull(x) else None)\n",
    "    return df\n",
    "\n",
    "data = convert_time_to_minutes(data, tijd_kolommen)\n",
    "data[['stm_sap_meldtijd', 'stm_aanntpl_tijd', 'stm_fh_tijd', 'stm_fh_duur']]"
   ],
   "outputs": [
    {
     "data": {
      "text/plain": [
       "       stm_sap_meldtijd stm_aanntpl_tijd stm_fh_tijd  stm_fh_duur\n",
       "1                   540                0         540          0.0\n",
       "2                   755                0         806         51.0\n",
       "3                  1000                0        1040         40.0\n",
       "4                  1350                0        1356          6.0\n",
       "5                   683                0         690          7.0\n",
       "...                 ...              ...         ...          ...\n",
       "908625              486              545         569         83.0\n",
       "908626              561              608         644         83.0\n",
       "908627              561              608         644         83.0\n",
       "908628              855              885         914         19.0\n",
       "908629              855              885         914         19.0\n",
       "\n",
       "[74 rows x 4 columns]"
      ],
      "text/html": [
       "<div>\n",
       "<style scoped>\n",
       "    .dataframe tbody tr th:only-of-type {\n",
       "        vertical-align: middle;\n",
       "    }\n",
       "\n",
       "    .dataframe tbody tr th {\n",
       "        vertical-align: top;\n",
       "    }\n",
       "\n",
       "    .dataframe thead th {\n",
       "        text-align: right;\n",
       "    }\n",
       "</style>\n",
       "<table border=\"1\" class=\"dataframe\">\n",
       "  <thead>\n",
       "    <tr style=\"text-align: right;\">\n",
       "      <th></th>\n",
       "      <th>stm_sap_meldtijd</th>\n",
       "      <th>stm_aanntpl_tijd</th>\n",
       "      <th>stm_fh_tijd</th>\n",
       "      <th>stm_fh_duur</th>\n",
       "    </tr>\n",
       "  </thead>\n",
       "  <tbody>\n",
       "    <tr>\n",
       "      <th>1</th>\n",
       "      <td>540</td>\n",
       "      <td>0</td>\n",
       "      <td>540</td>\n",
       "      <td>0.0</td>\n",
       "    </tr>\n",
       "    <tr>\n",
       "      <th>2</th>\n",
       "      <td>755</td>\n",
       "      <td>0</td>\n",
       "      <td>806</td>\n",
       "      <td>51.0</td>\n",
       "    </tr>\n",
       "    <tr>\n",
       "      <th>3</th>\n",
       "      <td>1000</td>\n",
       "      <td>0</td>\n",
       "      <td>1040</td>\n",
       "      <td>40.0</td>\n",
       "    </tr>\n",
       "    <tr>\n",
       "      <th>4</th>\n",
       "      <td>1350</td>\n",
       "      <td>0</td>\n",
       "      <td>1356</td>\n",
       "      <td>6.0</td>\n",
       "    </tr>\n",
       "    <tr>\n",
       "      <th>5</th>\n",
       "      <td>683</td>\n",
       "      <td>0</td>\n",
       "      <td>690</td>\n",
       "      <td>7.0</td>\n",
       "    </tr>\n",
       "    <tr>\n",
       "      <th>...</th>\n",
       "      <td>...</td>\n",
       "      <td>...</td>\n",
       "      <td>...</td>\n",
       "      <td>...</td>\n",
       "    </tr>\n",
       "    <tr>\n",
       "      <th>908625</th>\n",
       "      <td>486</td>\n",
       "      <td>545</td>\n",
       "      <td>569</td>\n",
       "      <td>83.0</td>\n",
       "    </tr>\n",
       "    <tr>\n",
       "      <th>908626</th>\n",
       "      <td>561</td>\n",
       "      <td>608</td>\n",
       "      <td>644</td>\n",
       "      <td>83.0</td>\n",
       "    </tr>\n",
       "    <tr>\n",
       "      <th>908627</th>\n",
       "      <td>561</td>\n",
       "      <td>608</td>\n",
       "      <td>644</td>\n",
       "      <td>83.0</td>\n",
       "    </tr>\n",
       "    <tr>\n",
       "      <th>908628</th>\n",
       "      <td>855</td>\n",
       "      <td>885</td>\n",
       "      <td>914</td>\n",
       "      <td>19.0</td>\n",
       "    </tr>\n",
       "    <tr>\n",
       "      <th>908629</th>\n",
       "      <td>855</td>\n",
       "      <td>885</td>\n",
       "      <td>914</td>\n",
       "      <td>19.0</td>\n",
       "    </tr>\n",
       "  </tbody>\n",
       "</table>\n",
       "<p>74 rows × 4 columns</p>\n",
       "</div>"
      ]
     },
     "execution_count": 4,
     "metadata": {},
     "output_type": "execute_result"
    }
   ],
   "execution_count": 4
  },
  {
   "cell_type": "markdown",
   "id": "67dee162",
   "metadata": {},
   "source": [
    "## Analyse functiehersteltijd (FHT)"
   ]
  },
  {
   "cell_type": "code",
   "id": "1f48b56b",
   "metadata": {
    "ExecuteTime": {
     "end_time": "2025-07-10T07:45:51.130383Z",
     "start_time": "2025-07-10T07:45:51.127533Z"
    }
   },
   "source": [
    "print(len(data[data['stm_fh_duur'] == 0]))\n",
    "print(len(data.loc[(data[\"stm_progfh_in_tijd\"] == data[\"stm_fh_tijd\"]) & (data[\"stm_fh_tijd\"] != 0)]))\n",
    "print(len(data[data['stm_fh_duur'] == (data['stm_progfh_in_tijd']-data['stm_aanntpl_tijd'])]))"
   ],
   "outputs": [
    {
     "name": "stdout",
     "output_type": "stream",
     "text": [
      "8\n",
      "7\n",
      "8\n"
     ]
    }
   ],
   "execution_count": 5
  },
  {
   "cell_type": "markdown",
   "id": "88a8dcba",
   "metadata": {},
   "source": [
    "### Data analyse bevindingen:\n",
    "- 160.000 records zonder storing\n",
    "- 140.000 records met prognose FHT gelijk aan werkelijke FHT\n",
    "- 150.000 records met werkelijke FHT gelijk aan tijd aannemer tot prognose FHT"
   ]
  },
  {
   "cell_type": "markdown",
   "id": "d85e2524",
   "metadata": {},
   "source": [
    "## Omzetten prognose duur naar numeriek"
   ]
  },
  {
   "cell_type": "code",
   "id": "49b6397b",
   "metadata": {
    "ExecuteTime": {
     "end_time": "2025-07-10T07:45:51.240640Z",
     "start_time": "2025-07-10T07:45:51.237870Z"
    }
   },
   "source": [
    "data['stm_progfh_in_duur'] = pd.to_numeric(data['stm_progfh_in_duur'], errors='coerce')\n",
    "data['stm_progfh_in_duur'] = data['stm_progfh_in_duur'].fillna(0).astype(int)\n",
    "print(len(data[data['stm_progfh_in_duur'] == (data['stm_progfh_in_tijd']-data['stm_aanntpl_tijd'])]))\n",
    "print(len(data[data['stm_progfh_in_duur'] == data['stm_fh_duur']]))"
   ],
   "outputs": [
    {
     "name": "stdout",
     "output_type": "stream",
     "text": [
      "35\n",
      "3\n"
     ]
    },
    {
     "name": "stderr",
     "output_type": "stream",
     "text": [
      "/tmp/ipykernel_17695/3963532395.py:1: SettingWithCopyWarning: \n",
      "A value is trying to be set on a copy of a slice from a DataFrame.\n",
      "Try using .loc[row_indexer,col_indexer] = value instead\n",
      "\n",
      "See the caveats in the documentation: https://pandas.pydata.org/pandas-docs/stable/user_guide/indexing.html#returning-a-view-versus-a-copy\n",
      "  data['stm_progfh_in_duur'] = pd.to_numeric(data['stm_progfh_in_duur'], errors='coerce')\n",
      "/tmp/ipykernel_17695/3963532395.py:2: SettingWithCopyWarning: \n",
      "A value is trying to be set on a copy of a slice from a DataFrame.\n",
      "Try using .loc[row_indexer,col_indexer] = value instead\n",
      "\n",
      "See the caveats in the documentation: https://pandas.pydata.org/pandas-docs/stable/user_guide/indexing.html#returning-a-view-versus-a-copy\n",
      "  data['stm_progfh_in_duur'] = data['stm_progfh_in_duur'].fillna(0).astype(int)\n"
     ]
    }
   ],
   "execution_count": 6
  },
  {
   "cell_type": "markdown",
   "id": "ab68f991",
   "metadata": {},
   "source": [
    "## Analyse prognose duur versus werkelijke duur"
   ]
  },
  {
   "cell_type": "markdown",
   "id": "34f98b50",
   "metadata": {},
   "source": [
    "- 120.000 records met prognose FHT gelijk aan aannemer tijd + prognose tijd\n",
    "- 9.000 records met prognose duur gelijk aan werkelijke FHT duur"
   ]
  },
  {
   "cell_type": "markdown",
   "id": "230daa0d",
   "metadata": {},
   "source": [
    "## Target variabele maken"
   ]
  },
  {
   "cell_type": "code",
   "id": "a183ef59",
   "metadata": {
    "ExecuteTime": {
     "end_time": "2025-07-10T07:45:51.298292Z",
     "start_time": "2025-07-10T07:45:51.291799Z"
    }
   },
   "source": [
    "data['targetherstel'] = np.where(\n",
    "    data['stm_fh_tijd'] - data['stm_aanntpl_tijd'] >= 0,\n",
    "    data['stm_fh_tijd'] - data['stm_aanntpl_tijd'],\n",
    "    data['stm_fh_tijd'] - data['stm_aanntpl_tijd'] + 1440\n",
    ")\n",
    "\n",
    "ranges = {\n",
    "    \"null\": (0, 0),\n",
    "    \"tot 15m\": (0, 15),\n",
    "    \"15m tot 30m\": (15, 30),\n",
    "    \"30m tot 1h\": (30, 60),\n",
    "    \"1h tot 2h\": (60, 120),\n",
    "    \"2h tot 3h\": (120, 180),\n",
    "    \"3h tot 6h\": (180, 360),\n",
    "    \"6h tot 8h\": (360, 540),\n",
    "    \"8h+\": (540, float('inf'))\n",
    "}\n",
    "\n",
    "total = len(data)\n",
    "for label, (low, high) in ranges.items():\n",
    "    if label == \"null\":\n",
    "        count = len(data[data['targetherstel'] == 0])\n",
    "    else:\n",
    "        count = len(data[(data['targetherstel'] > low) & (data['targetherstel'] <= high)])\n",
    "    print(f'score {label}: {count/total:.2%}')"
   ],
   "outputs": [
    {
     "name": "stdout",
     "output_type": "stream",
     "text": [
      "score null: 4.05%\n",
      "score tot 15m: 8.11%\n",
      "score 15m tot 30m: 16.22%\n",
      "score 30m tot 1h: 16.22%\n",
      "score 1h tot 2h: 8.11%\n",
      "score 2h tot 3h: 4.05%\n",
      "score 3h tot 6h: 1.35%\n",
      "score 6h tot 8h: 4.05%\n",
      "score 8h+: 37.84%\n"
     ]
    },
    {
     "name": "stderr",
     "output_type": "stream",
     "text": [
      "/tmp/ipykernel_17695/2493592041.py:1: SettingWithCopyWarning: \n",
      "A value is trying to be set on a copy of a slice from a DataFrame.\n",
      "Try using .loc[row_indexer,col_indexer] = value instead\n",
      "\n",
      "See the caveats in the documentation: https://pandas.pydata.org/pandas-docs/stable/user_guide/indexing.html#returning-a-view-versus-a-copy\n",
      "  data['targetherstel'] = np.where(\n"
     ]
    }
   ],
   "execution_count": 7
  },
  {
   "cell_type": "markdown",
   "id": "e6409476",
   "metadata": {},
   "source": [
    "## Interpretatie verdeling targetherstel\n",
    "- 20% meldingen zonder spoorstilstand\n",
    "- 21% herstel binnen 15 minuten\n",
    "- 13% herstel tussen 15-30 minuten\n",
    "- 7% spoorstilstand boven 8 uur"
   ]
  },
  {
   "cell_type": "markdown",
   "id": "7d045b03",
   "metadata": {},
   "source": [
    "## Filteren op relevante herstelduur (15 min tot 8 uur)"
   ]
  },
  {
   "cell_type": "code",
   "id": "07bf99d9",
   "metadata": {
    "ExecuteTime": {
     "end_time": "2025-07-10T07:45:51.359742Z",
     "start_time": "2025-07-10T07:45:51.352068Z"
    }
   },
   "source": [
    "data = data.loc[(data['targetherstel'] > 15) & (data['targetherstel'] <= 540)]\n",
    "data = data.loc[(data['stm_progfh_in_duur'] > 15) & (data['stm_progfh_in_duur'] <= 540)]\n",
    "data = data.loc[(data[\"stm_progfh_in_tijd\"] <= data[\"stm_fh_tijd\"])]\n",
    "data = data[data['stm_progfh_in_duur'] != (data['stm_progfh_in_tijd'] - data['stm_aanntpl_tijd'])]\n",
    "data = data[data['stm_progfh_in_duur'] != data['stm_fh_duur']]\n",
    "\n",
    "data = data.copy()\n",
    "data.loc[:, 'stm_sap_melddatum_dag_van_het_jaar'] = pd.to_datetime(data['stm_sap_melddatum'], format='%d/%m/%Y').dt.dayofyear\n",
    "\n",
    "data = data.loc[(data['stm_prioriteit'] != 8) & (data['stm_prioriteit'] != 9)]\n",
    "data"
   ],
   "outputs": [
    {
     "data": {
      "text/plain": [
       "Empty DataFrame\n",
       "Columns: [stm_oorz_code, stm_sap_melddatum, stm_sap_meldtijd, stm_geo_mld, stm_aanntpl_tijd, stm_fh_tijd, stm_techn_mld, stm_prioriteit, stm_contractgeb_mld, stm_fh_duur, stm_progfh_in_duur, stm_progfh_in_tijd, targetherstel, stm_sap_melddatum_dag_van_het_jaar]\n",
       "Index: []"
      ],
      "text/html": [
       "<div>\n",
       "<style scoped>\n",
       "    .dataframe tbody tr th:only-of-type {\n",
       "        vertical-align: middle;\n",
       "    }\n",
       "\n",
       "    .dataframe tbody tr th {\n",
       "        vertical-align: top;\n",
       "    }\n",
       "\n",
       "    .dataframe thead th {\n",
       "        text-align: right;\n",
       "    }\n",
       "</style>\n",
       "<table border=\"1\" class=\"dataframe\">\n",
       "  <thead>\n",
       "    <tr style=\"text-align: right;\">\n",
       "      <th></th>\n",
       "      <th>stm_oorz_code</th>\n",
       "      <th>stm_sap_melddatum</th>\n",
       "      <th>stm_sap_meldtijd</th>\n",
       "      <th>stm_geo_mld</th>\n",
       "      <th>stm_aanntpl_tijd</th>\n",
       "      <th>stm_fh_tijd</th>\n",
       "      <th>stm_techn_mld</th>\n",
       "      <th>stm_prioriteit</th>\n",
       "      <th>stm_contractgeb_mld</th>\n",
       "      <th>stm_fh_duur</th>\n",
       "      <th>stm_progfh_in_duur</th>\n",
       "      <th>stm_progfh_in_tijd</th>\n",
       "      <th>targetherstel</th>\n",
       "      <th>stm_sap_melddatum_dag_van_het_jaar</th>\n",
       "    </tr>\n",
       "  </thead>\n",
       "  <tbody>\n",
       "  </tbody>\n",
       "</table>\n",
       "</div>"
      ]
     },
     "execution_count": 8,
     "metadata": {},
     "output_type": "execute_result"
    }
   ],
   "execution_count": 8
  },
  {
   "cell_type": "markdown",
   "id": "65e71dda",
   "metadata": {},
   "source": [
    "## Model voorbereiden en train-test split"
   ]
  },
  {
   "cell_type": "code",
   "id": "57ba5b74",
   "metadata": {
    "ExecuteTime": {
     "end_time": "2025-07-10T07:45:51.479192Z",
     "start_time": "2025-07-10T07:45:51.421376Z"
    }
   },
   "source": [
    "from sklearn.linear_model import LinearRegression\n",
    "from sklearn.model_selection import train_test_split\n",
    "from sklearn.metrics import r2_score\n",
    "import joblib"
   ],
   "outputs": [],
   "execution_count": 9
  }
 ],
 "metadata": {},
 "nbformat": 4,
 "nbformat_minor": 5
}
