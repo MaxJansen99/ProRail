{
 "cells": [
  {
   "cell_type": "code",
   "execution_count": null,
   "metadata": {},
   "outputs": [
    {
     "name": "stdout",
     "output_type": "stream",
     "text": [
      "Differences found:\n",
      "Row 122968: stm_oorz_code = 112.0, stm_sap_melddatum = 01:05:00\n",
      "Row 588059: stm_oorz_code = 98, stm_sap_melddatum = 16:32:00\n",
      "Row 194769: stm_oorz_code = 36, stm_sap_melddatum = 10:22:11\n",
      "Row 824426: stm_oorz_code = 653, stm_sap_melddatum = 05:50:53\n",
      "Row 517903: stm_oorz_code = 924, stm_sap_melddatum = 07:09:00\n",
      "Row 515037: stm_oorz_code = 31, stm_sap_melddatum = 15:56:00\n",
      "Row 641446: stm_oorz_code = 531, stm_sap_melddatum = 13:32:00\n",
      "Row 573650: stm_oorz_code = 664, stm_sap_melddatum = 09:59:00\n",
      "Row 509355: stm_oorz_code = 106, stm_sap_melddatum = 06:29:00\n",
      "Row 367808: stm_oorz_code = 93, stm_sap_melddatum = 00:17:00\n",
      "Row 571860: stm_oorz_code = 609, stm_sap_melddatum = 13:55:00\n",
      "Row 631271: stm_oorz_code = 161, stm_sap_melddatum = 12:53:00\n",
      "Row 298835: stm_oorz_code = 203, stm_sap_melddatum = 11:48:00\n",
      "Row 186495: stm_oorz_code = 132, stm_sap_melddatum = 07:52:32\n",
      "Row 847231: stm_oorz_code = 950, stm_sap_melddatum = 10:12:16\n",
      "Row 260510: stm_oorz_code = 152.0, stm_sap_melddatum = 19:31:00\n",
      "Row 97094: stm_oorz_code = 62.0, stm_sap_melddatum = 16:43:00\n",
      "Row 801898: stm_oorz_code = 486, stm_sap_melddatum = 12:45:05\n",
      "Row 868646: stm_oorz_code = 508, stm_sap_melddatum = 21:02:54\n",
      "Row 312352: stm_oorz_code = 200, stm_sap_melddatum = 12:02:00\n"
     ]
    }
   ],
   "source": [
    "import csv\n",
    "import random\n",
    "\n",
    "# Function to compare values in two columns for randomly chosen rows\n",
    "def compare_random_rows(column1, column2, num_samples=10):\n",
    "    differences = []\n",
    "    matches = []\n",
    "    sampled_indices = random.sample(range(len(column1)), num_samples)\n",
    "    \n",
    "    for index in sampled_indices:\n",
    "        val1, val2 = column1[index], column2[index]\n",
    "        if val1 != val2:\n",
    "            differences.append((index, val1, val2))  # Store differences with row index\n",
    "        else:\n",
    "            matches.append((index, val1, val2))  # Store matches with row index\n",
    "    return differences, matches\n",
    "\n",
    "# Open and read the CSV file\n",
    "with open('sap_storing_data_hu_project.csv', 'r') as csvfile:\n",
    "    reader = csv.DictReader(csvfile)\n",
    "    data = list(reader)  # Convert CSV reader to a list of dictionaries for easy access by column names\n",
    "\n",
    "    # Extract the columns by name\n",
    "    column1 = [row['stm_prioriteit'] for row in data]\n",
    "    column2 = [row['stm_fh_duur'] for row in data]\n",
    "\n",
    "    # Compare 10 random rows in the specified columns\n",
    "    differences, matches = compare_random_rows(column1, column2, num_samples=20)\n",
    "\n",
    "    # Print results\n",
    "    if differences:\n",
    "        print(\"Differences found:\")\n",
    "        for row, val1, val2 in differences:\n",
    "            print(f\"Row {row}: stm_oorz_code = {val1}, stm_sap_melddatum = {val2}\")\n",
    "    else:\n",
    "        print(\"No differences found in the sampled rows.\")\n",
    "\n",
    "    if matches:\n",
    "        print(\"\\nMatches found:\")\n",
    "        for row, val1, val2 in matches:\n",
    "            print(f\"Row {row}: stm_oorz_code = {val1}, stm_sap_melddatum = {val2}\")\n",
    "\n"
   ]
  }
 ],
 "metadata": {
  "kernelspec": {
   "display_name": "base",
   "language": "python",
   "name": "python3"
  },
  "language_info": {
   "codemirror_mode": {
    "name": "ipython",
    "version": 3
   },
   "file_extension": ".py",
   "mimetype": "text/x-python",
   "name": "python",
   "nbconvert_exporter": "python",
   "pygments_lexer": "ipython3",
   "version": "3.12.2"
  }
 },
 "nbformat": 4,
 "nbformat_minor": 2
}
