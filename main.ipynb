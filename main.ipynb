{
 "cells": [
  {
   "cell_type": "code",
   "execution_count": null,
   "id": "e7f47436-7e0e-4800-ae8b-649d8208128e",
   "metadata": {},
   "outputs": [],
   "source": [
    "import pandas as pd\n",
    "import numpy as np\n",
    "import matplotlib.pyplot as plt\n",
    "import seaborn as sns\n",
    "import math"
   ]
  },
  {
   "cell_type": "code",
   "execution_count": null,
   "id": "a0ebc325-2642-4434-97ad-86e3b7481784",
   "metadata": {
    "tags": []
   },
   "outputs": [],
   "source": [
    "df= pd.read_csv(\"sap_storing_data_hu_project.csv\")"
   ]
  },
  {
   "cell_type": "code",
   "execution_count": null,
   "id": "5371fa63-8b5a-47b3-8d02-4d436b547e5e",
   "metadata": {
    "tags": []
   },
   "outputs": [],
   "source": [
    "df.head()"
   ]
  },
  {
   "cell_type": "markdown",
   "id": "34df5b84-e3a1-48e0-8278-ea3bbbe9d732",
   "metadata": {},
   "source": [
    "haalt de data's uithalen dat de Betekenis een vraagteken of nvt staan."
   ]
  },
  {
   "cell_type": "code",
   "execution_count": null,
   "id": "1e409fac-89a8-4bd5-8d1c-33aed53c037e",
   "metadata": {
    "tags": []
   },
   "outputs": [],
   "source": [
    "df=df[['#stm_sap_meldnr','stm_mon_nr','stm_vl_post','stm_sap_meld_ddt','stm_sap_meldtekst_lang','stm_sap_meldtekst','stm_geo_mld','stm_equipm_nr_mld','stm_equipm_soort_mld','stm_equipm_omschr_mld','stm_km_van_mld',\n",
    "   'stm_km_tot_mld','stm_prioriteit','stm_aanngeb_ddt','stm_oh_pg_gst','stm_geo_gst','stm_equipm_nr_gst','stm_equipm_soort_gst','stm_equipm_omschr_gst','stm_km_van_gst','stm_km_tot_gst','stm_oorz_groep','stm_oorz_code',\n",
    "   'stm_oorz_tkst','stm_fh_ddt','stm_fh_status','stm_sap_storeind_ddt','stm_tao_indicator','stm_tao_indicator_vorige','stm_tao_soort_mutatie','stm_tao_telling_mutatie','stm_tao_beinvloedbaar_indicator','stm_sap_melddatum',\n",
    "   'stm_sap_meldtijd','stm_contractgeb_mld','stm_techn_mld','stm_techn_gst','stm_aanngeb_dd','stm_aanngeb_tijd','stm_aanntpl_dd','stm_aanntpl_tijd','stm_progfh_in_datum','stm_progfh_in_tijd','stm_progfh_in_invoer_dat',\n",
    "   'stm_progfh_in_invoer_tijd','stm_progfh_in_duur','stm_progfh_gw_tijd','stm_progfh_gw_teller','stm_fh_dd','stm_fh_tijd','stm_fh_duur','stm_sap_storeinddatum','stm_sap_storeindtijd','stm_oorz_tekst_kort',\n",
    "   'stm_pplg_van','stm_pplg_naar','stm_dstrglp_van','stm_dstrglp_naar']]"
   ]
  },
  {
   "cell_type": "code",
   "execution_count": null,
   "id": "50eb2f01-3cda-462f-89fb-f5f7855eafe7",
   "metadata": {
    "tags": []
   },
   "outputs": [],
   "source": [
    "df.info()"
   ]
  },
  {
   "cell_type": "markdown",
   "id": "97ed1ae2-c23f-4fa1-b1f6-5fd65bf799c6",
   "metadata": {},
   "source": [
    "filter functiehersteltijd met bijhoorde oorzaak code voor de baseline model "
   ]
  },
  {
   "cell_type": "markdown",
   "id": "13e864cb-dea0-49cb-aa59-849b4e6c43ac",
   "metadata": {},
   "source": [
    "# data understanding en eerste filtering"
   ]
  },
  {
   "cell_type": "code",
   "execution_count": null,
   "id": "7ae41337-867a-4e37-806f-379147d8f998",
   "metadata": {
    "tags": []
   },
   "outputs": [],
   "source": [
    "null = df.loc[df['stm_fh_duur']==0,['stm_fh_duur']]\n",
    "vijftien = df.loc[ (df['stm_fh_duur'] >0) & (df['stm_fh_duur']<=15 ),['stm_fh_duur']]\n",
    "vijftien_halfuur = df.loc[ (df['stm_fh_duur'] >15) & (df['stm_fh_duur']<=30 ),['stm_fh_duur']]\n",
    "halfuur_uur = df.loc[( df['stm_fh_duur']> 30) & (df['stm_fh_duur']<=60) ,['stm_fh_duur']]\n",
    "een_twee_uur = df.loc[ (df['stm_fh_duur']>60) & (df['stm_fh_duur']<=120) ,['stm_fh_duur']]\n",
    "twee_drie_uur = df.loc[ (df['stm_fh_duur']>120) & (df['stm_fh_duur']<=180) ,['stm_fh_duur']]\n",
    "drie_zes_uur = df.loc[ (df['stm_fh_duur']>180) & (df['stm_fh_duur']<=360) ,['stm_fh_duur']]\n",
    "zes_acht_uur = df.loc[ (df['stm_fh_duur']>360) & (df['stm_fh_duur']<=540) ,['stm_fh_duur']]\n",
    "acht_plus = df.loc[df['stm_fh_duur']> 540,['stm_fh_duur']]\n",
    "acht_plus = df.loc[df['stm_fh_duur']> 540,['stm_fh_duur']]\n",
    "print(f'socre null: {len(null)/len(df)}')\n",
    "print(f'socre tot 15m: {len(vijftien)/len(df)}')\n",
    "print(f'socre 15m tot 30m: {len(vijftien_halfuur)/len(df)}')\n",
    "print(f'socre 30m tot 1h: {len(halfuur_uur)/len(df)}')\n",
    "print(f'socre 1h tot 2h: {len(een_twee_uur)/len(df)}')\n",
    "print(f'socre 2h tot 3h: {len(twee_drie_uur)/len(df)}')\n",
    "print(f'socre 3h tot 6h: {len(drie_zes_uur)/len(df)}')\n",
    "print(f'socre 6h tot 8h: {len(zes_acht_uur)/len(df)}')\n",
    "print(f'socre 8h+: {len(acht_plus)/len(df)}')"
   ]
  },
  {
   "cell_type": "markdown",
   "id": "5817476a-a682-40d7-98f2-a7c45520bbb3",
   "metadata": {},
   "source": [
    "we zien dat dat 19% van de meldingen geen probleem zijn dat de spoor op stil staat <br>\n",
    "8% dat onder de 15 miuten is en 4% tussen 15-30 min <br>\n",
    "voor meldingen dat de spoor boven de acht uurr stil staan zij er maar 17%"
   ]
  },
  {
   "cell_type": "code",
   "execution_count": null,
   "id": "69f4c347-76a0-42de-9a12-965f237841e4",
   "metadata": {
    "tags": []
   },
   "outputs": [],
   "source": [
    "len(df.loc[df['stm_fh_duur']> 1440,['stm_fh_duur']])/len(df)"
   ]
  },
  {
   "cell_type": "markdown",
   "id": "8ca321c7-70a8-4cc0-868e-f136c799ea0f",
   "metadata": {
    "tags": []
   },
   "source": [
    "7.5% van alle data is het spoor boven een dag stilgestaan"
   ]
  },
  {
   "cell_type": "markdown",
   "id": "fb53458a-0605-4050-8dcb-73db1165ff88",
   "metadata": {},
   "source": [
    "we dorpen data's dat we niet kunnen op getraint kan"
   ]
  },
  {
   "cell_type": "code",
   "execution_count": null,
   "id": "07f18c9b-a949-4b92-8554-cbc43bc03924",
   "metadata": {
    "tags": []
   },
   "outputs": [],
   "source": [
    "df2 = df.dropna(subset=['stm_fh_duur'])"
   ]
  },
  {
   "cell_type": "markdown",
   "id": "cc3f2e8f-57aa-4411-b16c-43cd3032c4e2",
   "metadata": {},
   "source": [
    "filter data's dat stm_fh_duur onder de 15 min en data's boven de 8 uur,het is niet belangrjik in deze project.<br>\n",
    "we nemen data's van 15min tot 8uur, zo data de model niet telaag gaat onderschaten."
   ]
  },
  {
   "cell_type": "code",
   "execution_count": null,
   "id": "233579f5-0269-4a48-8cc1-24e9db34fcf9",
   "metadata": {
    "tags": []
   },
   "outputs": [],
   "source": [
    "df2 = df2.loc[ (df['stm_fh_duur']>15) & (df['stm_fh_duur']<=540)]"
   ]
  },
  {
   "cell_type": "markdown",
   "id": "c0443778-11c1-4405-95d5-efc29d0c4487",
   "metadata": {},
   "source": [
    "we hebben nog 65% data over voor de model"
   ]
  },
  {
   "cell_type": "code",
   "execution_count": null,
   "id": "91734fcf-e1da-4a48-aa5f-dd26a7c2428b",
   "metadata": {
    "tags": []
   },
   "outputs": [],
   "source": [
    "len(df2)/len(df)"
   ]
  },
  {
   "cell_type": "markdown",
   "id": "a93a7dd2-0a8f-43db-a079-7f0863043a96",
   "metadata": {},
   "source": [
    "hier zijn wat feature dat we belangrijk vinden:<br>\n",
    "stm_oorz_code : code van wat de probleem is (weet pas was de aannemer aanwezig is) <br>\n",
    "stm_sap_melddatum: de datum data melding melding is binnen gekommen <br>\n",
    "stm_sap_meldtijd : de tijdstip van de melding <br>\n",
    "stm_geo_mld: geocode waar iets gebuurt is. <br>\n",
    "stm_sap_meldtijd : de datum dat de aanmener anweizig is （het is binnen 8uur het kan zijn dat dit niet van belang is） <br>\n",
    "stm_aanntpl_tijd : de tijdmoment dat de aanmener anweizig is <br>\n",
    "stm_fh_dd : de datum dat de probleem opgelost is <br>\n",
    "stm_aanntpl_tijd : de tijdmoment dat de probleem opgelost is （het is binnen 8uur het kan zijn dat dit niet van belang is） <br>\n",
    "stm_techn_mld: ? (gekrijgen van docent)<br>\n",
    "stm_prioriteit: ?(gekrijgen van docent)<br>\n",
    "stm_fh_duur: hoelang het duurt van melding tot dat de probleem is opgelost"
   ]
  },
  {
   "cell_type": "code",
   "execution_count": null,
   "id": "e94383b9-6860-473b-886d-b603e4ab12b5",
   "metadata": {
    "tags": []
   },
   "outputs": [],
   "source": [
    "df2=df2[['stm_oorz_code','stm_sap_melddatum','stm_sap_meldtijd','stm_geo_mld','stm_aanntpl_dd','stm_aanntpl_tijd','stm_fh_dd','stm_fh_tijd','stm_techn_mld','stm_prioriteit','stm_fh_duur']]"
   ]
  },
  {
   "cell_type": "code",
   "execution_count": null,
   "id": "dcc9511f-0003-43f1-a7a7-8acce7e9e5ab",
   "metadata": {
    "tags": []
   },
   "outputs": [],
   "source": [
    "df2.info()"
   ]
  },
  {
   "cell_type": "markdown",
   "id": "87d4dc66-7c7c-412a-860f-8a2930c4779f",
   "metadata": {
    "tags": []
   },
   "source": [
    "# eerste data preperatie"
   ]
  },
  {
   "cell_type": "code",
   "execution_count": null,
   "id": "8d97ac35-f357-44cc-97a6-fe0ef645e67d",
   "metadata": {
    "tags": []
   },
   "outputs": [],
   "source": [
    "df2[['stm_sap_meldtijd','stm_aanntpl_tijd','stm_fh_tijd']]"
   ]
  },
  {
   "cell_type": "markdown",
   "id": "ce3c069d-488d-4708-ba2a-f4a5a54ef2f4",
   "metadata": {
    "tags": []
   },
   "source": [
    "stm_sap_meldtijd, stm_aanntpl_tijd en stm_fh_tijd is een object dat geschikt is voor model <br>\n",
    "hieronder woordt het omgezet naar welkste minuut het van de dag is als int"
   ]
  },
  {
   "cell_type": "code",
   "execution_count": null,
   "id": "2b820af4-b77b-4c16-b3bb-1a190b331591",
   "metadata": {
    "tags": []
   },
   "outputs": [],
   "source": [
    "# naar datetime tpye \n",
    "df2['stm_sap_meldtijd'] = pd.to_datetime(df2['stm_sap_meldtijd'], format='%H:%M:%S', errors='coerce')\n",
    "# verandert het h:min naar totale minuten\n",
    "df2['stm_sap_meldtijd'] = df2['stm_sap_meldtijd'].apply(lambda x: x.hour*60 + x.minute)\n",
    "\n",
    "df2['stm_aanntpl_tijd'] = pd.to_datetime(df2['stm_aanntpl_tijd'], format='%H:%M:%S', errors='coerce')\n",
    "df2['stm_aanntpl_tijd'] = df2['stm_aanntpl_tijd'].apply(lambda x: x.hour*60 + x.minute)\n",
    "\n",
    "df2['stm_fh_tijd'] = pd.to_datetime(df2['stm_fh_tijd'], format='%H:%M:%S', errors='coerce')\n",
    "df2['stm_fh_tijd'] = df2['stm_fh_tijd'].apply(lambda x: x.hour*60 + x.minute)"
   ]
  },
  {
   "cell_type": "code",
   "execution_count": null,
   "id": "c1c230bc-b0b1-4062-9a51-f3e252d40d55",
   "metadata": {
    "tags": []
   },
   "outputs": [],
   "source": [
    "df2=df2.loc[df2['stm_aanntpl_tijd']!=0]"
   ]
  },
  {
   "cell_type": "code",
   "execution_count": null,
   "id": "f0569ed0-a9e2-4fd9-9817-00ae21570ab1",
   "metadata": {
    "tags": []
   },
   "outputs": [],
   "source": [
    "df2"
   ]
  },
  {
   "cell_type": "markdown",
   "id": "1790ce78-cede-4054-baf5-d9c948d52dbd",
   "metadata": {
    "tags": []
   },
   "source": [
    "stm_sap_melddatum is een ook object dat geschikt is voor modellen <br>\n",
    "hieronder woordt het omgezet naar welkste dag het van de jaar is als int <br>"
   ]
  },
  {
   "cell_type": "code",
   "execution_count": null,
   "id": "f17eff10-e858-42b7-812e-97b9f7eb833d",
   "metadata": {
    "tags": []
   },
   "outputs": [],
   "source": [
    "# naar datetime tpye \n",
    "df2['stm_sap_melddatum'] = pd.to_datetime(df2['stm_sap_melddatum'], format='%d/%m/%Y')\n",
    "# kiijk welkeste dag het van de jaar is\n",
    "df2['stm_sap_melddatum'] = df2['stm_sap_melddatum'].dt.dayofyear"
   ]
  },
  {
   "cell_type": "markdown",
   "id": "be456a1f-65e4-479b-be51-10360be190af",
   "metadata": {
    "tags": []
   },
   "source": [
    "# target"
   ]
  },
  {
   "cell_type": "markdown",
   "id": "514bcdd8-3bad-4cc6-a6ea-349abbbf3410",
   "metadata": {},
   "source": [
    "voor de traget neem we de tijd neem de functie hersteltijd van waarneer de aanmener aanweizig is tot dat weer gereiden mogen worden.<br>\n",
    "voor de dat stm_sap_meldtijd 0 is neem we stm_fh_tijd "
   ]
  },
  {
   "cell_type": "code",
   "execution_count": null,
   "id": "f2b204bc-aad0-4852-afdd-0a3f951a2c7f",
   "metadata": {
    "tags": []
   },
   "outputs": [],
   "source": [
    "df2['targetherstel'] = np.where(\n",
    "    df2['stm_fh_tijd'] - df2['stm_aanntpl_tijd']>= 0, # als de stm_fh_tijd-stm_aanntpl_tijd positief is\n",
    "    df2['stm_fh_tijd'] - df2['stm_aanntpl_tijd'], # dan betekende dat nog op de zefde day is, kun je gelijk van elkaar aftrekken\n",
    "    df2['stm_fh_tijd'] - df2['stm_aanntpl_tijd']+24 # als niet op zelfdde dag is hersteld, dus een neagetief uitkomst moet er +24 om de juiste tijd te krijgen.\n",
    ")"
   ]
  },
  {
   "cell_type": "code",
   "execution_count": null,
   "id": "69bb0b42-22e1-4067-a5cb-f9457bccd7b4",
   "metadata": {
    "tags": []
   },
   "outputs": [],
   "source": [
    "df2=df2[df2['targetherstel']!=0]"
   ]
  },
  {
   "cell_type": "markdown",
   "id": "92a2f149-7cfb-4035-9a13-9f669f827d66",
   "metadata": {
    "tags": []
   },
   "source": [
    "# baseline model"
   ]
  },
  {
   "cell_type": "markdown",
   "id": "d87646dd-7def-49cb-b0fd-7d8a4aa1d814",
   "metadata": {},
   "source": [
    "we nemen hier de gemiddelde hersteltijd van alle stm_oorz_code als onze voorspelling, we neem 10% marge als de werkelijk waarde in de marge zit dan reken we het als goed.\n",
    "(waarneem voor deze baseline model dat altijd de oorzaakcode bekend is)"
   ]
  },
  {
   "cell_type": "code",
   "execution_count": null,
   "id": "9bb293ec-f375-4920-8392-1c33eaa7c5c9",
   "metadata": {
    "tags": []
   },
   "outputs": [],
   "source": [
    "# om het gebruik maakt zet maken voor de balk code onder deze balk\n",
    "# is hier een dict gevormt met de oorzaakcode als key en gemiddelde hersteltijd als value\n",
    "df_gm=df2.groupby('stm_oorz_code')['targetherstel'].agg(['mean'])# sorten bij stm_oorz_code waar targetherstel gemiddelde word genomen\n",
    "df_value=df_gm['mean'].to_list() #zet alle gemidde hersteltijd als value in een list\n",
    "df_key=df2['stm_oorz_code'].unique()  #zet alle oorzaakcode als value in een list (elk oorzaakcode komt niet tweekeer voor)\n",
    "dictionary = dict(zip(df_key, df_value)) # met zip zet we om in tot een dict"
   ]
  },
  {
   "cell_type": "code",
   "execution_count": null,
   "id": "3e9b77f0-b9f5-45e0-aa5d-afe7f947d225",
   "metadata": {
    "tags": []
   },
   "outputs": [],
   "source": [
    "cnt=0\n",
    "        \n",
    "for index, row in df.iterrows(): #lopen door de data\n",
    "    key = row[\"stm_oorz_code\"] # kijk wat de huidig oorzaakcode is\n",
    "    value_in_dict = dictionary.get(key, None) # zoek de gemiddelde functie hersteltijd op van deze oorzaakcode op\n",
    "    if value_in_dict is not None:\n",
    "        if row[\"stm_fh_duur\"] > value_in_dict*0.9 and row[\"stm_fh_duur\"] < value_in_dict*1.1: # als werlkelijk waarde tussen de 10% marge van de gemiddelde hersteltijd is\n",
    "            cnt+=1 # dan tel als een goed\n",
    "cnt/(len(df2) - df2['stm_oorz_code'].isna().sum() )*100 #het score in precentage goed is: de totaal goed dellen door de de totale lengte van de data dat een oorzaakcode heeft. "
   ]
  },
  {
   "cell_type": "markdown",
   "id": "16fa69ae-4f4c-4795-a4f8-deb82ea8a4be",
   "metadata": {},
   "source": [
    "# model"
   ]
  },
  {
   "cell_type": "code",
   "execution_count": null,
   "id": "8c62a2a9-fb0c-47a1-bc3f-d50d8a7e843c",
   "metadata": {},
   "outputs": [],
   "source": [
    "from sklearn.ensemble import RandomForestClassifier\n",
    "from sklearn.tree import DecisionTreeClassifier\n",
    "from sklearn.model_selection import train_test_split"
   ]
  },
  {
   "cell_type": "code",
   "execution_count": null,
   "id": "e570949a-c9f6-4705-a43c-6a18d59a4181",
   "metadata": {
    "tags": []
   },
   "outputs": [],
   "source": [
    "df2.info()"
   ]
  },
  {
   "cell_type": "code",
   "execution_count": null,
   "id": "6c381d39-674a-477a-8da8-281a8aa115dc",
   "metadata": {
    "tags": []
   },
   "outputs": [],
   "source": [
    "df2['stm_sap_meldtijd']=df2['stm_sap_meldtijd'].fillna('0')"
   ]
  },
  {
   "cell_type": "code",
   "execution_count": null,
   "id": "6f40d210-b45e-41bc-a9eb-697bb61b2c77",
   "metadata": {
    "tags": []
   },
   "outputs": [],
   "source": [
    "df2[['stm_techn_mld']]=df2[['stm_techn_mld']].fillna('0')\n",
    "unique_values = df2['stm_techn_mld'].unique()\n",
    "techn_mld_dict = {key: index + 1 for index, key in enumerate(unique_values)}\n",
    "df2['stm_techn_mld'] = df2['stm_techn_mld'].apply(lambda x: techn_mld_dict[x])"
   ]
  },
  {
   "cell_type": "code",
   "execution_count": null,
   "id": "e133749e-5939-4ed4-bae5-c2bd311c434a",
   "metadata": {
    "tags": []
   },
   "outputs": [],
   "source": [
    "df2[['stm_geo_mld']]=df2[['stm_geo_mld']].fillna('0')\n",
    "unique_values = df2['stm_geo_mld'].unique()\n",
    "stm_geo_mld_dict = {key: index + 1 for index, key in enumerate(unique_values)}\n",
    "df2['stm_geo_mld'] = df2['stm_geo_mld'].apply(lambda x: stm_geo_mld_dict[x])"
   ]
  },
  {
   "cell_type": "code",
   "execution_count": null,
   "id": "05b4c521-192e-487a-af8e-677de48553ca",
   "metadata": {
    "tags": []
   },
   "outputs": [],
   "source": [
    "df2[['stm_oorz_code']]= df2[['stm_oorz_code']].fillna('0')\n",
    "df2['stm_oorz_code']=df2['stm_oorz_code'].astype('int32')"
   ]
  },
  {
   "cell_type": "code",
   "execution_count": null,
   "id": "fe7cce6a-95bb-4ddd-97de-47d611db54a0",
   "metadata": {
    "tags": []
   },
   "outputs": [],
   "source": [
    "df2['stm_prioriteit']=df2['stm_prioriteit'].fillna('0')\n",
    "df2['stm_prioriteit']=df2['stm_prioriteit'].astype('int32')"
   ]
  },
  {
   "cell_type": "code",
   "execution_count": null,
   "id": "9dd6a78a-b5ba-4780-b252-0e298f59f2b6",
   "metadata": {
    "tags": []
   },
   "outputs": [],
   "source": [
    "df2['targetherstel'] = df2['targetherstel'].apply(lambda x: round(x / 10) * 10)"
   ]
  },
  {
   "cell_type": "code",
   "execution_count": null,
   "id": "c6b19027-a596-4799-b7f5-522c38f46e3a",
   "metadata": {
    "tags": []
   },
   "outputs": [],
   "source": [
    "feature = df2[['stm_oorz_code','stm_sap_melddatum','stm_geo_mld','stm_sap_meldtijd','stm_aanntpl_tijd','stm_techn_mld','stm_prioriteit']]\n",
    "target = df2['targetherstel']\n",
    "feats_train, feats_test, cat_train, cat_test = train_test_split(feature, target, random_state=10)"
   ]
  },
  {
   "cell_type": "code",
   "execution_count": null,
   "id": "c6cb7848-95f3-4922-bec0-696c55d018fb",
   "metadata": {
    "tags": []
   },
   "outputs": [],
   "source": [
    "target"
   ]
  },
  {
   "cell_type": "code",
   "execution_count": null,
   "id": "ddf09223-482d-4ce6-8706-1d7724303a43",
   "metadata": {},
   "outputs": [],
   "source": [
    "model_Tree = DecisionTreeClassifier(max_depth=50)\n",
    "model_Tree.fit(feats_train, cat_train)"
   ]
  },
  {
   "cell_type": "code",
   "execution_count": null,
   "id": "7d45f744-9b6c-4ddd-b4dc-1fe32b69e8b9",
   "metadata": {
    "tags": []
   },
   "outputs": [],
   "source": [
    "model_Tree.score(feats_test, cat_test)"
   ]
  },
  {
   "cell_type": "code",
   "execution_count": null,
   "id": "2c1ccc18-75a0-44cd-a031-71e25846d19d",
   "metadata": {
    "tags": []
   },
   "outputs": [],
   "source": [
    "X_new = df2.iloc[[-50]]\n",
    "X_new =X_new[['stm_oorz_code','stm_sap_melddatum','stm_geo_mld','stm_sap_meldtijd','stm_aanntpl_tijd','stm_techn_mld','stm_prioriteit']]\n"
   ]
  },
  {
   "cell_type": "code",
   "execution_count": null,
   "id": "4ba028a2-7001-442f-9381-097021613089",
   "metadata": {},
   "outputs": [],
   "source": [
    "predictions = model_Tree.predict(X_new)\n",
    "print(predictions)"
   ]
  },
  {
   "cell_type": "code",
   "execution_count": null,
   "id": "ad4c7bc7-9139-4651-92c6-7a370a604bf3",
   "metadata": {
    "tags": []
   },
   "outputs": [],
   "source": [
    "df2.iloc[[ -50]]"
   ]
  },
  {
   "cell_type": "code",
   "execution_count": null,
   "id": "d7246205-6131-4d1d-92ba-cca4b26b48f4",
   "metadata": {},
   "outputs": [],
   "source": []
  }
 ],
 "metadata": {
  "kernelspec": {
   "display_name": "Python 3 (ipykernel)",
   "language": "python",
   "name": "python3"
  },
  "language_info": {
   "codemirror_mode": {
    "name": "ipython",
    "version": 3
   },
   "file_extension": ".py",
   "mimetype": "text/x-python",
   "name": "python",
   "nbconvert_exporter": "python",
   "pygments_lexer": "ipython3",
   "version": "3.11.5"
  }
 },
 "nbformat": 4,
 "nbformat_minor": 5
}
