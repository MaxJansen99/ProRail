{
 "cells": [
  {
   "cell_type": "code",
   "execution_count": null,
   "id": "e7f47436-7e0e-4800-ae8b-649d8208128e",
   "metadata": {
    "tags": []
   },
   "outputs": [],
   "source": [
    "import pandas as pd\n",
    "import numpy as np\n",
    "import matplotlib.pyplot as plt\n",
    "import seaborn as sns"
   ]
  },
  {
   "cell_type": "code",
   "execution_count": null,
   "id": "a0ebc325-2642-4434-97ad-86e3b7481784",
   "metadata": {
    "tags": []
   },
   "outputs": [],
   "source": [
    "df= pd.read_csv(\"sap_storing_data_hu_project.csv\")"
   ]
  },
  {
   "cell_type": "code",
   "execution_count": null,
   "id": "5371fa63-8b5a-47b3-8d02-4d436b547e5e",
   "metadata": {
    "tags": []
   },
   "outputs": [],
   "source": [
    "df.head()"
   ]
  },
  {
   "cell_type": "markdown",
   "id": "34df5b84-e3a1-48e0-8278-ea3bbbe9d732",
   "metadata": {},
   "source": [
    "haalt de data's uithalen dat de Betekenis een vraagteken of nvt staan."
   ]
  },
  {
   "cell_type": "markdown",
   "id": "35c59393-8e56-42c7-a1cf-6dc981e4e0ef",
   "metadata": {
    "tags": []
   },
   "source": [
    "hier zijn wat feature dat we belangrijk vinden:<br>\n",
    "stm_oorz_code : code van wat de probleem is (weet pas was de aannemer aanwezig is) <br>\n",
    "stm_sap_melddatum: de datum data melding melding is binnen gekommen <br>\n",
    "stm_sap_meldtijd : de tijdstip van de melding <br>\n",
    "stm_geo_mld: geocode waar iets gebuurt is. <br>\n",
    "stm_sap_meldtijd : de datum dat de aanmener anweizig is （het is binnen 8uur het kan zijn dat dit niet van belang is） <br>\n",
    "stm_aanntpl_tijd : de tijdmoment dat de aanmener anweizig is <br>\n",
    "stm_fh_dd : de datum dat de probleem opgelost is <br>\n",
    "stm_aanntpl_tijd : de tijdmoment dat de probleem opgelost is （het is binnen 8uur het kan zijn dat dit niet van belang is） <br>\n",
    "stm_techn_mld: Bij welke techniekveld de melding hoort<br>\n",
    "stm_prioriteit: ?(gekrijgen van docent)<br>\n",
    "stm_fh_duur: hoelang het duurt van melding tot dat de probleem is opgelost"
   ]
  },
  {
   "cell_type": "code",
   "execution_count": null,
   "id": "1e409fac-89a8-4bd5-8d1c-33aed53c037e",
   "metadata": {
    "tags": []
   },
   "outputs": [],
   "source": [
    "df2=df[['stm_oorz_code','stm_sap_melddatum','stm_sap_meldtijd','stm_geo_mld','stm_aanntpl_dd','stm_aanntpl_tijd','stm_fh_dd','stm_fh_tijd','stm_techn_mld','stm_prioriteit','stm_fh_duur']]"
   ]
  },
  {
   "cell_type": "code",
   "execution_count": null,
   "id": "50eb2f01-3cda-462f-89fb-f5f7855eafe7",
   "metadata": {
    "tags": []
   },
   "outputs": [],
   "source": [
    "df2.info()"
   ]
  },
  {
   "cell_type": "markdown",
   "id": "97ed1ae2-c23f-4fa1-b1f6-5fd65bf799c6",
   "metadata": {},
   "source": [
    "filter functiehersteltijd met bijhoorde oorzaak code voor de baseline model "
   ]
  },
  {
   "cell_type": "markdown",
   "id": "fa7366e6-95f5-4947-8551-19ae60b4ef27",
   "metadata": {},
   "source": [
    "# eerste data preperatie"
   ]
  },
  {
   "cell_type": "markdown",
   "id": "6c6261ed-3cd8-442e-82de-5a324bed52c8",
   "metadata": {},
   "source": [
    "stm_sap_meldtijd, stm_aanntpl_tijd en stm_fh_tijd is een object dat geschikt is voor model\n",
    "hieronder woordt het omgezet naar welkste minuut het van de dag is als int"
   ]
  },
  {
   "cell_type": "code",
   "execution_count": null,
   "id": "16af058f-e7db-4df8-b1fe-b566ac9bee91",
   "metadata": {
    "tags": []
   },
   "outputs": [],
   "source": [
    "df2=df2.dropna(subset='stm_aanntpl_tijd')"
   ]
  },
  {
   "cell_type": "code",
   "execution_count": null,
   "id": "8e87c4d5-3e9a-4a1f-a5ee-cec85b507d2b",
   "metadata": {
    "tags": []
   },
   "outputs": [],
   "source": [
    "df2.info()"
   ]
  },
  {
   "cell_type": "code",
   "execution_count": null,
   "id": "809f0b0e-f91d-4c02-a7ff-957e9667d3d4",
   "metadata": {
    "tags": []
   },
   "outputs": [],
   "source": [
    "# naar datetime tpye \n",
    "df2['stm_sap_meldtijd'] = pd.to_datetime(df2['stm_sap_meldtijd'], format='%H:%M:%S', errors='coerce')\n",
    "# verandert het h:min naar totale minuten\n",
    "df2['stm_sap_meldtijd'] = df2['stm_sap_meldtijd'].apply(lambda x: x.hour*60 + x.minute)\n",
    "\n",
    "df2['stm_aanntpl_tijd'] = pd.to_datetime(df2['stm_aanntpl_tijd'], format='%H:%M:%S', errors='coerce')\n",
    "df2['stm_aanntpl_tijd'] = df2['stm_aanntpl_tijd'].apply(lambda x: x.hour*60 + x.minute)\n",
    "\n",
    "df2['stm_fh_tijd'] = pd.to_datetime(df2['stm_fh_tijd'], format='%H:%M:%S', errors='coerce')\n",
    "df2['stm_fh_tijd'] = df2['stm_fh_tijd'].apply(lambda x: x.hour*60 + x.minute)"
   ]
  },
  {
   "cell_type": "markdown",
   "id": "cc13167c-eedc-46dd-84c9-52be06850b64",
   "metadata": {
    "tags": []
   },
   "source": [
    "# target"
   ]
  },
  {
   "cell_type": "markdown",
   "id": "ee86aa58-9d72-4760-8d87-4c8b8fe0ec5c",
   "metadata": {},
   "source": [
    "voor de traget neem we de tijd neem de functie hersteltijd van waarneer de aanmener aanweizig is tot dat weer gereiden mogen worden.<br>\n",
    "voor de dat stm_sap_meldtijd 0 is neem we stm_fh_tijd "
   ]
  },
  {
   "cell_type": "code",
   "execution_count": null,
   "id": "856af69f-69f5-4d4a-bd77-4c45e841f1cb",
   "metadata": {
    "tags": []
   },
   "outputs": [],
   "source": [
    "df2['targetherstel'] = np.where(\n",
    "    df2['stm_fh_tijd'] - df2['stm_aanntpl_tijd']>= 0, # als de stm_fh_tijd-stm_aanntpl_tijd positief is\n",
    "    df2['stm_fh_tijd'] - df2['stm_aanntpl_tijd'], # dan betekende dat nog op de zefde day is, kun je gelijk van elkaar aftrekken\n",
    "    df2['stm_fh_tijd'] - df2['stm_aanntpl_tijd']+24 # als niet op zelfdde dag is hersteld, dus een neagetief uitkomst moet er +24 om de juiste tijd te krijgen.\n",
    ")"
   ]
  },
  {
   "cell_type": "markdown",
   "id": "13e864cb-dea0-49cb-aa59-849b4e6c43ac",
   "metadata": {},
   "source": [
    "# data understanding en eerste filtering"
   ]
  },
  {
   "cell_type": "markdown",
   "id": "f15ee591-8888-46df-9383-ecdbdf765ee5",
   "metadata": {},
   "source": [
    "in de dataset zijn data dat double voor komen "
   ]
  },
  {
   "cell_type": "code",
   "execution_count": null,
   "id": "7ae41337-867a-4e37-806f-379147d8f998",
   "metadata": {
    "tags": []
   },
   "outputs": [],
   "source": [
    "null = df2.loc[df2['targetherstel']==0,['targetherstel']]\n",
    "vijftien = df2.loc[ (df2['targetherstel'] >0) & (df2['targetherstel']<=15 ),['targetherstel']]\n",
    "vijftien_halfuur = df2.loc[ (df2['targetherstel'] >15) & (df2['targetherstel']<=30 ),['targetherstel']]\n",
    "halfuur_uur = df2.loc[( df2['targetherstel']> 30) & (df2['targetherstel']<=60) ,['targetherstel']]\n",
    "een_twee_uur = df2.loc[ (df2['targetherstel']>60) & (df2['targetherstel']<=120) ,['targetherstel']]\n",
    "twee_drie_uur = df2.loc[ (df2['targetherstel']>120) & (df2['targetherstel']<=180) ,['targetherstel']]\n",
    "drie_zes_uur = df2.loc[ (df2['targetherstel']>180) & (df2['targetherstel']<=360) ,['targetherstel']]\n",
    "zes_acht_uur = df2.loc[ (df2['targetherstel']>360) & (df2['targetherstel']<=540) ,['targetherstel']]\n",
    "acht_plus = df2.loc[df2['targetherstel']> 540,['targetherstel']]\n",
    "acht_plus = df2.loc[df2['targetherstel']> 540,['targetherstel']]\n",
    "print(f'socre null: {len(null)/len(df2)}')\n",
    "print(f'socre tot 15m: {len(vijftien)/len(df2)}')\n",
    "print(f'socre 15m tot 30m: {len(vijftien_halfuur)/len(df2)}')\n",
    "print(f'socre 30m tot 1h: {len(halfuur_uur)/len(df2)}')\n",
    "print(f'socre 1h tot 2h: {len(een_twee_uur)/len(df2)}')\n",
    "print(f'socre 2h tot 3h: {len(twee_drie_uur)/len(df2)}')\n",
    "print(f'socre 3h tot 6h: {len(drie_zes_uur)/len(df2)}')\n",
    "print(f'socre 6h tot 8h: {len(zes_acht_uur)/len(df2)}')\n",
    "print(f'socre 8h+: {len(acht_plus)/len(df2)}')"
   ]
  },
  {
   "cell_type": "markdown",
   "id": "5817476a-a682-40d7-98f2-a7c45520bbb3",
   "metadata": {},
   "source": [
    "we zien dat dat 22% van de meldingen geen probleem zijn dat de spoor op stil staat <br>\n",
    "22% dat onder de 15 miuten is en 12% tussen 15-30 min <br>\n",
    "voor meldingen dat de spoor boven de acht uurr stil staan zij er maar 4%"
   ]
  },
  {
   "cell_type": "markdown",
   "id": "fb53458a-0605-4050-8dcb-73db1165ff88",
   "metadata": {},
   "source": [
    "we dorpen data's dat we niet kunnen op getraint kan"
   ]
  },
  {
   "cell_type": "markdown",
   "id": "cc3f2e8f-57aa-4411-b16c-43cd3032c4e2",
   "metadata": {},
   "source": [
    "filter data's dat stm_fh_duur onder de 15 min en data's boven de 8 uur,het is niet belangrjik in deze project.<br>\n",
    "we nemen data's van 15min tot 8uur, zo data de model niet telaag gaat onderschaten."
   ]
  },
  {
   "cell_type": "code",
   "execution_count": null,
   "id": "233579f5-0269-4a48-8cc1-24e9db34fcf9",
   "metadata": {
    "tags": []
   },
   "outputs": [],
   "source": [
<<<<<<< HEAD
    "df2 = df2.loc[ (df2['targetherstel']>15) & (df2['targetherstel']<=540)]"
=======
    "df2 = df2.loc[ (df['stm_fh_duur']>15) & (df['stm_fh_duur']<=540)]"
   ]
  },
  {
   "cell_type": "markdown",
   "id": "c0443778-11c1-4405-95d5-efc29d0c4487",
   "metadata": {},
   "source": [
    "we hebben nog 65% data over voor de model"
   ]
  },
  {
   "cell_type": "code",
   "execution_count": null,
   "id": "91734fcf-e1da-4a48-aa5f-dd26a7c2428b",
   "metadata": {
    "tags": []
   },
   "outputs": [],
   "source": [
    "len(df2)/len(df)"
   ]
  },
  {
   "cell_type": "markdown",
   "id": "a93a7dd2-0a8f-43db-a079-7f0863043a96",
   "metadata": {},
   "source": [
    "hier zijn wat feature dat we belangrijk vinden:<br>\n",
    "stm_oorz_code : code van wat de probleem is (weet pas was de aannemer aanwezig is) <br>\n",
    "stm_sap_melddatum: de datum data melding melding is binnen gekommen <br>\n",
    "stm_sap_meldtijd : de tijdstip van de melding <br>\n",
    "stm_geo_mld: geocode waar iets gebuurt is. <br>\n",
    "stm_sap_meldtijd : de datum dat de aanmener anweizig is （het is binnen 8uur het kan zijn dat dit niet van belang is） <br>\n",
    "stm_aanntpl_tijd : de tijdmoment dat de aanmener anweizig is <br>\n",
    "stm_fh_dd : de datum dat de probleem opgelost is <br>\n",
    "stm_aanntpl_tijd : de tijdmoment dat de probleem opgelost is （het is binnen 8uur het kan zijn dat dit niet van belang is） <br>\n",
    "stm_techn_mld: Bij welke techniekveld de melding hoort<br>\n",
    "stm_prioriteit: Hoe hoog de prioriteit is van het oplossen van een probleem<br>\n",
    "stm_fh_duur: hoelang het duurt van melding tot dat de probleem is opgelost"
   ]
  },
  {
   "cell_type": "code",
   "execution_count": null,
   "id": "e94383b9-6860-473b-886d-b603e4ab12b5",
   "metadata": {
    "tags": []
   },
   "outputs": [],
   "source": [
    "df2=df2[['stm_oorz_code','stm_sap_melddatum','stm_sap_meldtijd','stm_geo_mld','stm_aanntpl_dd','stm_aanntpl_tijd','stm_fh_dd','stm_fh_tijd','stm_techn_mld','stm_prioriteit','stm_fh_duur']]"
   ]
  },
  {
   "cell_type": "code",
   "execution_count": null,
   "id": "dcc9511f-0003-43f1-a7a7-8acce7e9e5ab",
   "metadata": {
    "tags": []
   },
   "outputs": [],
   "source": [
    "df2.info()"
>>>>>>> bb658fe4dd4b47e988febc4b0a80ee5586bff167
   ]
  },
  {
   "cell_type": "markdown",
   "id": "87d4dc66-7c7c-412a-860f-8a2930c4779f",
   "metadata": {
    "tags": []
   },
   "source": [
    "# tweede data preperatie en tweede filtering"
   ]
  },
  {
   "cell_type": "markdown",
   "id": "1790ce78-cede-4054-baf5-d9c948d52dbd",
   "metadata": {
    "tags": []
   },
   "source": [
    "stm_sap_melddatum is een ook object dat geschikt is voor modellen <br>\n",
    "hieronder woordt het omgezet naar welkste dag het van de jaar is als int <br>"
   ]
  },
  {
   "cell_type": "code",
   "execution_count": null,
   "id": "f17eff10-e858-42b7-812e-97b9f7eb833d",
   "metadata": {
    "tags": []
   },
   "outputs": [],
   "source": [
    "# naar datetime tpye \n",
    "df2['stm_sap_melddatum'] = pd.to_datetime(df2['stm_sap_melddatum'], format='%d/%m/%Y')\n",
    "# kiijk welkeste dag het van de jaar is\n",
    "df2['stm_sap_melddatum'] = df2['stm_sap_melddatum'].dt.dayofyear"
   ]
  },
  {
   "cell_type": "markdown",
   "id": "0ccc198d-3c4b-43fb-9a77-813829ff39eb",
   "metadata": {
    "tags": []
   },
   "source": [
    "halt alle doubble data er uit"
   ]
  },
  {
   "cell_type": "code",
   "execution_count": null,
   "id": "0ee37f7a-32a1-401d-b7ea-9dc836f9267c",
   "metadata": {
    "tags": []
   },
   "outputs": [],
   "source": [
    "df2 = df2.drop_duplicates()"
   ]
  },
  {
   "cell_type": "code",
   "execution_count": null,
   "id": "a49ae45a-798c-4ee4-b6a2-a2090655a39b",
   "metadata": {
    "tags": []
   },
   "outputs": [],
   "source": [
    "df2=df2.loc[df2['stm_aanntpl_tijd']!=0]"
   ]
  },
  {
   "cell_type": "markdown",
   "id": "92a2f149-7cfb-4035-9a13-9f669f827d66",
   "metadata": {
    "tags": []
   },
   "source": [
    "# baseline model"
   ]
  },
  {
   "cell_type": "markdown",
   "id": "d87646dd-7def-49cb-b0fd-7d8a4aa1d814",
   "metadata": {},
   "source": [
    "we nemen hier de gemiddelde hersteltijd van alle stm_oorz_code als onze voorspelling, we neem 10% marge als de werkelijk waarde in de marge zit dan reken we het als goed.\n",
    "(waarneem voor deze baseline model dat altijd de oorzaakcode bekend is)"
   ]
  },
  {
   "cell_type": "code",
   "execution_count": null,
   "id": "9bb293ec-f375-4920-8392-1c33eaa7c5c9",
   "metadata": {
    "tags": []
   },
   "outputs": [],
   "source": [
    "# om het gebruik maakt zet maken voor de balk code onder deze balk\n",
    "# is hier een dict gevormt met de oorzaakcode als key en gemiddelde hersteltijd als value\n",
    "df_gm=df2.groupby('stm_oorz_code')['targetherstel'].agg(['mean'])# sorten bij stm_oorz_code waar targetherstel gemiddelde word genomen\n",
    "df_value=df_gm['mean'].to_list() #zet alle gemidde hersteltijd als value in een list\n",
    "df_key=df2['stm_oorz_code'].unique()  #zet alle oorzaakcode als value in een list (elk oorzaakcode komt niet tweekeer voor)\n",
    "dictionary = dict(zip(df_key, df_value)) # met zip zet we om in tot een dict"
   ]
  },
  {
   "cell_type": "code",
   "execution_count": null,
   "id": "3e9b77f0-b9f5-45e0-aa5d-afe7f947d225",
   "metadata": {
    "tags": []
   },
   "outputs": [],
   "source": [
    "cnt=0\n",
    "        \n",
    "for index, row in df2.iterrows(): #lopen door de data\n",
    "    key = row[\"stm_oorz_code\"] # kijk wat de huidig oorzaakcode is\n",
    "    value_in_dict = dictionary.get(key, None) # zoek de gemiddelde functie hersteltijd op van deze oorzaakcode op\n",
    "    if value_in_dict is not None:\n",
    "        if row[\"targetherstel\"] > value_in_dict-5 and row[\"targetherstel\"] < value_in_dict+5: # als werlkelijk waarde tussen de 10% marge van de gemiddelde hersteltijd is\n",
    "            cnt+=1 # dan tel als een goed\n",
    "cnt/(len(df2) - df2['stm_oorz_code'].isna().sum() )*100 #het score in precentage goed is: de totaal goed dellen door de de totale lengte van de data dat een oorzaakcode heeft. "
   ]
  },
  {
   "cell_type": "markdown",
   "id": "d6c3ff83-f54e-4220-9112-bdb50fa9c5af",
   "metadata": {
    "tags": []
   },
   "source": [
    "# deerde data preperatie"
   ]
  },
  {
   "cell_type": "code",
   "execution_count": null,
   "id": "e1ff834e-7a98-4611-8ad8-eed17d584f9d",
   "metadata": {
    "tags": []
   },
   "outputs": [],
   "source": [
    "df2['stm_sap_meldtijd']=df2['stm_sap_meldtijd'].fillna('0')\n",
    "df2['stm_sap_meldtijd']=df2['stm_sap_meldtijd'].astype('int32')\n",
    "df2['stm_sap_meldtijd'] = df2['stm_sap_meldtijd'].apply(lambda x: ((x - 1) // 30 + 1) * 30)"
   ]
  },
  {
   "cell_type": "code",
   "execution_count": null,
   "id": "f1ded9e5-afc3-45ad-ab8b-cc2f8c9cb63d",
   "metadata": {},
   "outputs": [],
   "source": []
  },
  {
   "cell_type": "code",
   "execution_count": null,
   "id": "5e39e70c-af7a-4fad-a971-82d3b457a229",
   "metadata": {
    "tags": []
   },
   "outputs": [],
   "source": [
    "df2['stm_aanntpl_tijd'] = df2['stm_aanntpl_tijd'].apply(lambda x: ((x - 1) // 30 + 1) * 30)"
   ]
  },
  {
   "cell_type": "code",
   "execution_count": null,
   "id": "100a062f-3edd-4fe6-bd1e-4321a055b6ee",
   "metadata": {
    "tags": []
   },
   "outputs": [],
   "source": [
    "df2['stm_aanntpl_tijd'].unique()"
   ]
  },
  {
   "cell_type": "code",
   "execution_count": null,
   "id": "8af4d7d6-b404-46d5-93df-c68776fc710f",
   "metadata": {},
   "outputs": [],
   "source": []
  },
  {
   "cell_type": "code",
   "execution_count": null,
   "id": "72079cc0-8bf8-412b-b938-79d548526e65",
   "metadata": {
    "tags": []
   },
   "outputs": [],
   "source": [
    "df2[['stm_techn_mld']]=df2[['stm_techn_mld']].fillna('0')\n",
    "unique_values = df2['stm_techn_mld'].unique()\n",
    "techn_mld_dict = {key: index + 1 for index, key in enumerate(unique_values)}\n",
    "df2['stm_techn_mld'] = df2['stm_techn_mld'].apply(lambda x: techn_mld_dict[x])"
   ]
  },
  {
   "cell_type": "code",
   "execution_count": null,
   "id": "ae3c6727-ef95-41c3-9f38-26ec388f0d26",
   "metadata": {},
   "outputs": [],
   "source": []
  },
  {
   "cell_type": "code",
   "execution_count": null,
   "id": "69b65815-6c2f-4e47-bb16-2ac0ad72b6d6",
   "metadata": {
    "tags": []
   },
   "outputs": [],
   "source": [
    "df2[['stm_geo_mld']]=df2[['stm_geo_mld']].fillna('0')\n",
    "unique_values = df2['stm_geo_mld'].unique()\n",
    "stm_geo_mld_dict = {key: index + 1 for index, key in enumerate(unique_values)}\n",
    "df2['stm_geo_mld'] = df2['stm_geo_mld'].apply(lambda x: stm_geo_mld_dict[x])"
   ]
  },
  {
   "cell_type": "code",
   "execution_count": null,
   "id": "22faf0bc-69d3-4e60-8370-54ea6c0736e6",
   "metadata": {},
   "outputs": [],
   "source": []
  },
  {
   "cell_type": "code",
   "execution_count": null,
   "id": "94914bf9-a5c5-4a54-af27-2961e91d5e55",
   "metadata": {
    "tags": []
   },
   "outputs": [],
   "source": [
    "df2[['stm_oorz_code']]= df2[['stm_oorz_code']].fillna('0')\n",
    "df2['stm_oorz_code']=df2['stm_oorz_code'].astype('int32')"
   ]
  },
  {
   "cell_type": "code",
   "execution_count": null,
   "id": "1ee6c998-f411-46a6-b810-1450b4383368",
   "metadata": {},
   "outputs": [],
   "source": []
  },
  {
   "cell_type": "code",
   "execution_count": null,
   "id": "f3765070-8495-43d9-bd12-2925cae2e9b5",
   "metadata": {
    "tags": []
   },
   "outputs": [],
   "source": [
    "df2['stm_prioriteit']=df2['stm_prioriteit'].fillna('0')\n",
    "df2['stm_prioriteit']=df2['stm_prioriteit'].astype('int32')"
   ]
  },
  {
   "cell_type": "code",
   "execution_count": null,
   "id": "310eb5e5-526a-4e07-b6be-4d5ecb87102a",
   "metadata": {},
   "outputs": [],
   "source": []
  },
  {
   "cell_type": "code",
   "execution_count": null,
   "id": "9554ee39-8ff5-4e1a-9678-11ba6ed5a45e",
   "metadata": {
    "tags": []
   },
   "outputs": [],
   "source": [
    "df2=df2.loc[(df2['stm_prioriteit']!=8)&(df2['stm_prioriteit']!=9)]"
   ]
  },
  {
   "cell_type": "code",
   "execution_count": null,
   "id": "0ee62046-a31c-43ab-8ab3-8e2a00d7890e",
   "metadata": {},
   "outputs": [],
   "source": []
  },
  {
   "cell_type": "code",
   "execution_count": null,
   "id": "e0be78b9-eb05-4545-8055-c123dd1074db",
   "metadata": {
    "tags": []
   },
   "outputs": [],
   "source": [
    "df2['targetherstel'] = df2['targetherstel'].apply(lambda x: round(x / 10) * 10)"
   ]
  },
  {
   "cell_type": "code",
   "execution_count": null,
   "id": "6cba78a2-2354-4f45-9461-fbd0b9632f50",
   "metadata": {
    "tags": []
   },
   "outputs": [],
   "source": [
    "df2.to_csv('newdataset.csv', index=False, encoding='utf-8')"
   ]
  },
  {
   "cell_type": "code",
   "execution_count": null,
   "id": "8f717533-b086-4606-ad84-d6927bae35fe",
   "metadata": {
    "tags": []
   },
   "outputs": [],
   "source": [
    "len(df2)/len(df)"
   ]
  },
  {
   "cell_type": "code",
   "execution_count": null,
   "id": "49042bb4-8efd-4300-989b-6214eba15f2e",
   "metadata": {
    "tags": []
   },
   "outputs": [],
   "source": [
    "value_counts = df2['stm_oorz_code'].value_counts()\n",
    "values_to_keep = value_counts[value_counts > 10000].index\n",
    "\n",
    "# 2. 过滤原始 DataFrame\n",
    "filtered_df = df2[df2['stm_oorz_code'].isin(values_to_keep)]\n",
    "filtered_df"
   ]
  },
  {
   "cell_type": "markdown",
   "id": "16fa69ae-4f4c-4795-a4f8-deb82ea8a4be",
   "metadata": {},
   "source": [
    "# model"
   ]
  },
  {
   "cell_type": "code",
   "execution_count": null,
   "id": "8c62a2a9-fb0c-47a1-bc3f-d50d8a7e843c",
   "metadata": {},
   "outputs": [],
   "source": [
    "from sklearn.ensemble import RandomForestClassifier\n",
    "from sklearn.tree import DecisionTreeClassifier\n",
    "from sklearn.model_selection import train_test_split"
   ]
  },
  {
   "cell_type": "code",
   "execution_count": null,
   "id": "c6b19027-a596-4799-b7f5-522c38f46e3a",
   "metadata": {
    "tags": []
   },
   "outputs": [],
   "source": [
    "feature = df2[['stm_oorz_code','stm_geo_mld','stm_sap_melddatum','stm_aanntpl_tijd','stm_techn_mld','stm_prioriteit']]\n",
    "target = df2['targetherstel']\n",
    "feats_train, feats_test, cat_train, cat_test = train_test_split(feature, target, random_state=10)"
   ]
  },
  {
   "cell_type": "code",
   "execution_count": null,
   "id": "325b7a29-4b79-48ce-a6f7-4a32047c4c73",
   "metadata": {
    "tags": []
   },
   "outputs": [],
   "source": [
    "df2.info()"
   ]
  },
  {
   "cell_type": "code",
   "execution_count": null,
   "id": "a893acef-d57d-48a1-9991-645a53fac55d",
   "metadata": {
    "tags": []
   },
   "outputs": [],
   "source": [
    "#“df2[['targetherstel']].apply(pd.value_counts)"
   ]
  },
  {
   "cell_type": "code",
   "execution_count": null,
   "id": "ddf09223-482d-4ce6-8706-1d7724303a43",
   "metadata": {},
   "outputs": [],
   "source": [
    "model_Tree = DecisionTreeClassifier(max_depth=50)\n",
    "model_Tree.fit(feats_train, cat_train)"
   ]
  },
  {
   "cell_type": "code",
   "execution_count": null,
   "id": "7d45f744-9b6c-4ddd-b4dc-1fe32b69e8b9",
   "metadata": {
    "tags": []
   },
   "outputs": [],
   "source": [
    "model_Tree.score(feats_test, cat_test)"
   ]
  },
  {
   "cell_type": "code",
   "execution_count": null,
   "id": "2c1ccc18-75a0-44cd-a031-71e25846d19d",
   "metadata": {
    "tags": []
   },
   "outputs": [],
   "source": [
    "X_new = df2.iloc[[-710]]\n",
    "X_new =X_new[['stm_oorz_code','stm_geo_mld','stm_sap_melddatum','stm_aanntpl_tijd','stm_techn_mld','stm_prioriteit']]\n"
   ]
  },
  {
   "cell_type": "code",
   "execution_count": null,
   "id": "4ba028a2-7001-442f-9381-097021613089",
   "metadata": {},
   "outputs": [],
   "source": [
    "predictions = model_Tree.predict(X_new)\n",
    "print(predictions)"
   ]
  },
  {
   "cell_type": "code",
   "execution_count": null,
   "id": "ad4c7bc7-9139-4651-92c6-7a370a604bf3",
   "metadata": {
    "tags": []
   },
   "outputs": [],
   "source": [
    "df2.iloc[[ -710]]"
   ]
  },
  {
   "cell_type": "code",
   "execution_count": null,
   "id": "62e2903d-7117-45d6-a0d3-f21de344c473",
   "metadata": {},
   "outputs": [],
   "source": []
  },
  {
   "cell_type": "code",
   "execution_count": null,
   "id": "3adeba41-fc9e-40cd-b2b8-f3c4bd2a431b",
   "metadata": {},
   "outputs": [],
   "source": []
  }
 ],
 "metadata": {
  "kernelspec": {
   "display_name": "Python 3 (ipykernel)",
   "language": "python",
   "name": "python3"
  },
  "language_info": {
   "codemirror_mode": {
    "name": "ipython",
    "version": 3
   },
   "file_extension": ".py",
   "mimetype": "text/x-python",
   "name": "python",
   "nbconvert_exporter": "python",
   "pygments_lexer": "ipython3",
   "version": "3.11.5"
  }
 },
 "nbformat": 4,
 "nbformat_minor": 5
}
