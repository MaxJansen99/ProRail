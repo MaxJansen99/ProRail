{
 "cells": [
  {
   "cell_type": "code",
   "execution_count": null,
   "id": "e7f47436-7e0e-4800-ae8b-649d8208128e",
   "metadata": {
    "tags": []
   },
   "outputs": [],
   "source": [
    "import pandas as pd\n",
    "import numpy as np\n",
    "import matplotlib.pyplot as plt\n",
    "import seaborn as sns\n",
    "import math"
   ]
  },
  {
   "cell_type": "code",
   "execution_count": null,
   "id": "a0ebc325-2642-4434-97ad-86e3b7481784",
   "metadata": {
    "tags": []
   },
   "outputs": [],
   "source": [
    "df= pd.read_csv(\"sap_storing_data_hu_project.csv\")"
   ]
  },
  {
   "cell_type": "code",
   "execution_count": null,
   "id": "5371fa63-8b5a-47b3-8d02-4d436b547e5e",
   "metadata": {
    "tags": []
   },
   "outputs": [],
   "source": [
    "pd.set_option('display.max_columns', None)\n",
    "df.head()"
   ]
  },
  {
   "cell_type": "markdown",
   "id": "34df5b84-e3a1-48e0-8278-ea3bbbe9d732",
   "metadata": {},
   "source": [
    "haalt de data's uithalen dat de Betekenis een vraagteken of nvt staan."
   ]
  },
  {
   "cell_type": "markdown",
   "id": "35c59393-8e56-42c7-a1cf-6dc981e4e0ef",
   "metadata": {
    "tags": []
   },
   "source": [
    "hier zijn wat feature dat we belangrijk vinden:<br>\n",
    "stm_oorz_code : code van wat de probleem is (weet pas was de aannemer aanwezig is) <br>\n",
    "stm_sap_melddatum: de datum data melding melding is binnen gekommen <br>\n",
    "stm_sap_meldtijd : de tijdstip van de melding <br>\n",
    "stm_geo_mld: geocode waar iets gebuurt is. <br>\n",
    "stm_sap_meldtijd : de datum dat de aanmener anweizig is （het is binnen 8uur het kan zijn dat dit niet van belang is） <br>\n",
    "stm_aanntpl_tijd : de tijdmoment dat de aanmener anweizig is <br>\n",
    "stm_fh_dd : de datum dat de probleem opgelost is <br>\n",
    "stm_aanntpl_tijd : de tijdmoment dat de probleem opgelost is （het is binnen 8uur het kan zijn dat dit niet van belang is） <br>\n",
    "stm_techn_mld: Bij welke techniekveld de melding hoort<br>\n",
    "stm_prioriteit: ?(gekrijgen van docent)<br>\n",
    "stm_fh_duur: hoelang het duurt van melding tot dat de probleem is opgelost"
   ]
  },
  {
   "cell_type": "code",
   "execution_count": null,
   "id": "1e409fac-89a8-4bd5-8d1c-33aed53c037e",
   "metadata": {
    "tags": []
   },
   "outputs": [],
   "source": [
    "df2=df[['stm_oorz_code','stm_sap_melddatum','stm_sap_meldtijd','stm_geo_mld','stm_aanntpl_dd','stm_aanntpl_tijd','stm_fh_dd','stm_fh_tijd','stm_techn_mld','stm_prioriteit','stm_fh_duur','stm_progfh_in_tijd']]"
   ]
  },
  {
   "cell_type": "code",
   "execution_count": null,
   "id": "50eb2f01-3cda-462f-89fb-f5f7855eafe7",
   "metadata": {
    "tags": []
   },
   "outputs": [],
   "source": [
    "df2.info()"
   ]
  },
  {
   "cell_type": "markdown",
   "id": "97ed1ae2-c23f-4fa1-b1f6-5fd65bf799c6",
   "metadata": {},
   "source": [
    "filter functiehersteltijd met bijhoorde oorzaak code voor de baseline model "
   ]
  },
  {
   "cell_type": "markdown",
   "id": "fa7366e6-95f5-4947-8551-19ae60b4ef27",
   "metadata": {},
   "source": [
    "# eerste data preperatie"
   ]
  },
  {
   "cell_type": "markdown",
   "id": "6c6261ed-3cd8-442e-82de-5a324bed52c8",
   "metadata": {},
   "source": [
    "stm_sap_meldtijd, stm_aanntpl_tijd en stm_fh_tijd is een object dat geschikt is voor model\n",
    "hieronder woordt het omgezet naar welkste minuut het van de dag is als int"
   ]
  },
  {
   "cell_type": "code",
   "execution_count": null,
   "id": "16af058f-e7db-4df8-b1fe-b566ac9bee91",
   "metadata": {
    "tags": []
   },
   "outputs": [],
   "source": [
    "df2=df2.dropna(subset='stm_aanntpl_tijd')"
   ]
  },
  {
   "cell_type": "code",
   "execution_count": null,
   "id": "8e87c4d5-3e9a-4a1f-a5ee-cec85b507d2b",
   "metadata": {
    "tags": []
   },
   "outputs": [],
   "source": [
    "df2.info()"
   ]
  },
  {
   "cell_type": "code",
   "execution_count": null,
   "id": "809f0b0e-f91d-4c02-a7ff-957e9667d3d4",
   "metadata": {
    "tags": []
   },
   "outputs": [],
   "source": [
    "# naar datetime tpye \n",
    "df2['stm_sap_meldtijd'] = pd.to_datetime(df2['stm_sap_meldtijd'], format='%H:%M:%S', errors='coerce')\n",
    "# verandert het h:min naar totale minuten\n",
    "df2['stm_sap_meldtijd'] = df2['stm_sap_meldtijd'].apply(lambda x: x.hour*60 + x.minute)\n",
    "\n",
    "df2['stm_aanntpl_tijd'] = pd.to_datetime(df2['stm_aanntpl_tijd'], format='%H:%M:%S', errors='coerce')\n",
    "df2['stm_aanntpl_tijd'] = df2['stm_aanntpl_tijd'].apply(lambda x: x.hour*60 + x.minute)\n",
    "\n",
    "df2['stm_fh_tijd'] = pd.to_datetime(df2['stm_fh_tijd'], format='%H:%M:%S', errors='coerce')\n",
    "df2['stm_fh_tijd'] = df2['stm_fh_tijd'].apply(lambda x: x.hour*60 + x.minute)\n",
    "\n",
    "df2['stm_progfh_in_tijd'] = pd.to_datetime(df2['stm_progfh_in_tijd'], format='%H:%M:%S', errors='coerce')\n",
    "df2['stm_progfh_in_tijd'] = df2['stm_progfh_in_tijd'].apply(lambda x: x.hour*60 + x.minute)"
   ]
  },
  {
   "cell_type": "markdown",
   "id": "cc13167c-eedc-46dd-84c9-52be06850b64",
   "metadata": {
    "tags": []
   },
   "source": [
    "# target"
   ]
  },
  {
   "cell_type": "markdown",
   "id": "ee86aa58-9d72-4760-8d87-4c8b8fe0ec5c",
   "metadata": {},
   "source": [
    "voor de traget neem we de tijd neem de functie hersteltijd van waarneer de aanmener aanweizig is tot dat weer gereiden mogen worden.<br>\n",
    "voor de dat stm_sap_meldtijd 0 is neem we stm_fh_tijd "
   ]
  },
  {
   "cell_type": "code",
   "execution_count": null,
   "id": "856af69f-69f5-4d4a-bd77-4c45e841f1cb",
   "metadata": {
    "tags": []
   },
   "outputs": [],
   "source": [
    "df2['targetherstel'] = np.where(\n",
    "    df2['stm_fh_tijd'] - df2['stm_aanntpl_tijd']>= 0, # als de stm_fh_tijd-stm_aanntpl_tijd positief is\n",
    "    df2['stm_fh_tijd'] - df2['stm_aanntpl_tijd'], # dan betekende dat nog op de zefde day is, kun je gelijk van elkaar aftrekken\n",
    "    df2['stm_fh_tijd'] - df2['stm_aanntpl_tijd']+1440 # als niet op zelfdde dag is hersteld, dus een neagetief uitkomst moet er +1440 om de juiste tijd te krijgen.\n",
    ")"
   ]
  },
  {
   "cell_type": "markdown",
   "id": "13e864cb-dea0-49cb-aa59-849b4e6c43ac",
   "metadata": {},
   "source": [
    "# data understanding en eerste filtering"
   ]
  },
  {
   "cell_type": "markdown",
   "id": "f15ee591-8888-46df-9383-ecdbdf765ee5",
   "metadata": {},
   "source": [
    "in de dataset zijn data dat double voor komen "
   ]
  },
  {
   "cell_type": "code",
   "execution_count": null,
   "id": "7ae41337-867a-4e37-806f-379147d8f998",
   "metadata": {
    "tags": []
   },
   "outputs": [],
   "source": [
    "null = df2.loc[df2['targetherstel']==0,['targetherstel']]\n",
    "vijftien = df2.loc[ (df2['targetherstel'] >0) & (df2['targetherstel']<=15 ),['targetherstel']]\n",
    "vijftien_halfuur = df2.loc[ (df2['targetherstel'] >15) & (df2['targetherstel']<=30 ),['targetherstel']]\n",
    "halfuur_uur = df2.loc[( df2['targetherstel']> 30) & (df2['targetherstel']<=60) ,['targetherstel']]\n",
    "een_twee_uur = df2.loc[ (df2['targetherstel']>60) & (df2['targetherstel']<=120) ,['targetherstel']]\n",
    "twee_drie_uur = df2.loc[ (df2['targetherstel']>120) & (df2['targetherstel']<=180) ,['targetherstel']]\n",
    "drie_zes_uur = df2.loc[ (df2['targetherstel']>180) & (df2['targetherstel']<=360) ,['targetherstel']]\n",
    "zes_acht_uur = df2.loc[ (df2['targetherstel']>360) & (df2['targetherstel']<=540) ,['targetherstel']]\n",
    "acht_plus = df2.loc[df2['targetherstel']> 540,['targetherstel']]\n",
    "acht_plus = df2.loc[df2['targetherstel']> 540,['targetherstel']]\n",
    "print(f'socre null: {len(null)/len(df2)}')\n",
    "print(f'socre tot 15m: {len(vijftien)/len(df2)}')\n",
    "print(f'socre 15m tot 30m: {len(vijftien_halfuur)/len(df2)}')\n",
    "print(f'socre 30m tot 1h: {len(halfuur_uur)/len(df2)}')\n",
    "print(f'socre 1h tot 2h: {len(een_twee_uur)/len(df2)}')\n",
    "print(f'socre 2h tot 3h: {len(twee_drie_uur)/len(df2)}')\n",
    "print(f'socre 3h tot 6h: {len(drie_zes_uur)/len(df2)}')\n",
    "print(f'socre 6h tot 8h: {len(zes_acht_uur)/len(df2)}')\n",
    "print(f'socre 8h+: {len(acht_plus)/len(df2)}')"
   ]
  },
  {
   "cell_type": "markdown",
   "id": "5817476a-a682-40d7-98f2-a7c45520bbb3",
   "metadata": {},
   "source": [
    "we zien dat dat 20% van de meldingen geen probleem zijn dat de spoor op stil staat <br>\n",
    "21% dat onder de 15 miuten is en 12% tussen 15-30 min <br>\n",
    "voor meldingen dat de spoor boven de acht uurr stil staan zij er maar 4%"
   ]
  },
  {
   "cell_type": "markdown",
   "id": "fb53458a-0605-4050-8dcb-73db1165ff88",
   "metadata": {},
   "source": [
    "we dorpen data's dat we niet kunnen op getraint kan"
   ]
  },
  {
   "cell_type": "markdown",
   "id": "cc3f2e8f-57aa-4411-b16c-43cd3032c4e2",
   "metadata": {},
   "source": [
    "filter data's dat stm_fh_duur onder de 15 min en data's boven de 8 uur,het is niet belangrjik in deze project.<br>\n",
    "we nemen data's van 15min tot 8uur, zo data de model niet telaag gaat onderschaten."
   ]
  },
  {
   "cell_type": "code",
   "execution_count": null,
   "id": "233579f5-0269-4a48-8cc1-24e9db34fcf9",
   "metadata": {
    "tags": []
   },
   "outputs": [],
   "source": [
    "df2 = df2.loc[ (df2['targetherstel']>15) & (df2['targetherstel']<=540)]"
   ]
  },
  {
   "cell_type": "markdown",
   "id": "87d4dc66-7c7c-412a-860f-8a2930c4779f",
   "metadata": {
    "tags": []
   },
   "source": [
    "# tweede data preperatie en tweede filtering"
   ]
  },
  {
   "cell_type": "markdown",
   "id": "1790ce78-cede-4054-baf5-d9c948d52dbd",
   "metadata": {
    "tags": []
   },
   "source": [
    "stm_sap_melddatum is een ook object dat geschikt is voor modellen <br>\n",
    "hieronder woordt het omgezet naar welkste dag het van de jaar is als int <br>"
   ]
  },
  {
   "cell_type": "code",
   "execution_count": null,
   "id": "0584bb06-30a9-4c43-b93c-ff2dabeddda3",
   "metadata": {
    "tags": []
   },
   "outputs": [],
   "source": [
    "# naar datetime tpye \n",
    "df2['stm_sap_melddatum'] = pd.to_datetime(df2['stm_sap_melddatum'], format='%d/%m/%Y')\n",
    "# kiijk welkeste dag het van de jaar is\n",
    "df2['stm_sap_melddatum'] = df2['stm_sap_melddatum'].dt.dayofyear"
   ]
  },
  {
   "cell_type": "markdown",
   "id": "0ccc198d-3c4b-43fb-9a77-813829ff39eb",
   "metadata": {
    "tags": []
   },
   "source": [
    "halt alle doubble data er uit"
   ]
  },
  {
   "cell_type": "code",
   "execution_count": null,
   "id": "0ee37f7a-32a1-401d-b7ea-9dc836f9267c",
   "metadata": {
    "tags": []
   },
   "outputs": [],
   "source": [
    "df2 = df2.drop_duplicates()"
   ]
  },
  {
   "cell_type": "markdown",
   "id": "702c2678-ba6f-4c4f-9845-9b6035bb868c",
   "metadata": {},
   "source": [
    "halt alle stuaties dat geen aannemer aanweizig waren"
   ]
  },
  {
   "cell_type": "code",
   "execution_count": null,
   "id": "a49ae45a-798c-4ee4-b6a2-a2090655a39b",
   "metadata": {
    "tags": []
   },
   "outputs": [],
   "source": [
    "df2=df2.loc[df2['stm_aanntpl_tijd']!=0]"
   ]
  },
  {
   "cell_type": "markdown",
   "id": "d6c3ff83-f54e-4220-9112-bdb50fa9c5af",
   "metadata": {
    "tags": []
   },
   "source": [
    "# deerde data preperatie"
   ]
  },
  {
   "cell_type": "markdown",
   "id": "273cf14a-a0a4-4d94-b73d-54df708b5136",
   "metadata": {},
   "source": [
    "verdeelt de tijd per half uur"
   ]
  },
  {
   "cell_type": "code",
   "execution_count": null,
   "id": "a37cbb7d-a556-4ca3-a9a2-1fd05229b167",
   "metadata": {
    "tags": []
   },
   "outputs": [],
   "source": [
    "# zet alle NaN om in 0 \n",
    "df2[['stm_sap_meldtijd']]= df2[['stm_sap_meldtijd']].fillna('0')\n",
    "# zet de type als int\n",
    "df2['stm_sap_meldtijd']=df2['stm_sap_meldtijd'].astype('int32')"
   ]
  },
  {
   "cell_type": "code",
   "execution_count": null,
   "id": "94914bf9-a5c5-4a54-af27-2961e91d5e55",
   "metadata": {
    "tags": []
   },
   "outputs": [],
   "source": [
    "# zet alle NaN om in 0 \n",
    "df2[['stm_oorz_code']]= df2[['stm_oorz_code']].fillna('0')\n",
    "# zet de type als int\n",
    "df2['stm_oorz_code']=df2['stm_oorz_code'].astype('int32')"
   ]
  },
  {
   "cell_type": "code",
   "execution_count": null,
   "id": "f3765070-8495-43d9-bd12-2925cae2e9b5",
   "metadata": {
    "tags": []
   },
   "outputs": [],
   "source": [
    "# zet alle NaN om in 0 \n",
    "df2['stm_prioriteit']=df2['stm_prioriteit'].fillna('0')\n",
    "# zet de type als int\n",
    "df2['stm_prioriteit']=df2['stm_prioriteit'].astype('int32')"
   ]
  },
  {
   "cell_type": "markdown",
   "id": "838b8ce2-4da0-437e-a52f-06ff0ba78c3b",
   "metadata": {},
   "source": [
    "voor 'stm_prioriteit' dat 8 of 9 zijn haalt we er uit om dat ze langer dan een dag zult duren"
   ]
  },
  {
   "cell_type": "code",
   "execution_count": null,
   "id": "9554ee39-8ff5-4e1a-9678-11ba6ed5a45e",
   "metadata": {
    "tags": []
   },
   "outputs": [],
   "source": [
    "df2=df2.loc[(df2['stm_prioriteit']!=8)&(df2['stm_prioriteit']!=9)]"
   ]
  },
  {
   "cell_type": "code",
   "execution_count": null,
   "id": "0ee62046-a31c-43ab-8ab3-8e2a00d7890e",
   "metadata": {},
   "outputs": [],
   "source": []
  },
  {
   "cell_type": "code",
   "execution_count": null,
   "id": "e0be78b9-eb05-4545-8055-c123dd1074db",
   "metadata": {
    "tags": []
   },
   "outputs": [],
   "source": [
    "df2['targetherstel'] = df2['targetherstel'].apply(lambda x: round(x / 10) * 10)"
   ]
  },
  {
   "cell_type": "code",
   "execution_count": null,
   "id": "6cba78a2-2354-4f45-9461-fbd0b9632f50",
   "metadata": {
    "tags": []
   },
   "outputs": [],
   "source": [
    "#df2.to_csv('newdataset.csv', index=False, encoding='utf-8')"
   ]
  },
  {
   "cell_type": "code",
   "execution_count": null,
   "id": "8f717533-b086-4606-ad84-d6927bae35fe",
   "metadata": {
    "tags": []
   },
   "outputs": [],
   "source": [
    "len(df2)/len(df)"
   ]
  },
  {
   "cell_type": "markdown",
   "id": "dfb0bfee-9356-4b03-b53d-7a66b19310ea",
   "metadata": {},
   "source": [
    "# baseline model"
   ]
  },
  {
   "cell_type": "markdown",
   "id": "cc514283-86c8-4e18-822e-5c69246a1f1b",
   "metadata": {
    "tags": []
   },
   "source": [
    "we neem 'stm_progfh_in_tijd' en 'stm_aanntpl_tijd' om de voorspelling hersteltijd te bereken. "
   ]
  },
  {
   "cell_type": "code",
   "execution_count": null,
   "id": "c6a0de12-f106-4417-bfbd-7114dc61da7d",
   "metadata": {
    "tags": []
   },
   "outputs": [],
   "source": [
    "# zet het data tot welkeste minuut van de dag\n",
    "df_base = df2[['stm_aanntpl_tijd','targetherstel','stm_progfh_in_tijd']]\n",
    "df_base = df_base.dropna(subset='stm_progfh_in_tijd')\n",
    "# hal alle waarde van 0 weg (zijn wat data's dat geen verspelling is gegeven die zijn 0)\n",
    "df_base = df_base.loc[df_base['stm_progfh_in_tijd']>0]\n",
    "df_base['stm_progfh_in_tijd'] = df_base['stm_progfh_in_tijd'].astype('int32')"
   ]
  },
  {
   "cell_type": "code",
   "execution_count": null,
   "id": "336458fe-03e0-46fd-b433-779d2825da00",
   "metadata": {
    "tags": []
   },
   "outputs": [],
   "source": [
    "#berken de voorspeling hersteltijd\n",
    "df_base['hersteltijd'] = np.where(\n",
    "    df_base['stm_progfh_in_tijd'] - df_base['stm_aanntpl_tijd']>= 0, # als de stm_fh_tijd-stm_aanntpl_tijd positief is\n",
    "    df_base['stm_progfh_in_tijd'] - df_base['stm_aanntpl_tijd'], # dan betekende dat nog op de zefde day is, kun je gelijk van elkaar aftrekken\n",
    "    df_base['stm_progfh_in_tijd'] - df_base['stm_aanntpl_tijd']+1440 # als niet op zelfdde dag is hersteld, dus een neagetief uitkomst moet er +24 om de juiste tijd te krijgen.\n",
    ")"
   ]
  },
  {
   "cell_type": "markdown",
   "id": "a54c159a-b5ab-4462-8630-b4d7215f2a8c",
   "metadata": {
    "tags": []
   },
   "source": [
    "we nemen de voorspelling hersteltijd en berkenen we de RMSE waarde uit"
   ]
  },
  {
   "cell_type": "code",
   "execution_count": null,
   "id": "c64c8244-46c6-4d3b-b9fa-7e90533743eb",
   "metadata": {
    "tags": []
   },
   "outputs": [],
   "source": [
    "list1=df_base['hersteltijd'].tolist()\n",
    "list2=df_base['targetherstel'].tolist()\n",
    "result = [(a - b)**2 for a, b in zip(list1, list2)]\n",
    "math.sqrt(sum(result)/len(list1))"
   ]
  },
  {
   "cell_type": "code",
   "execution_count": null,
   "id": "2683d187-df42-425f-afb2-5396e366bc9a",
   "metadata": {
    "tags": []
   },
   "outputs": [],
   "source": [
    "result = [a > b for a, b in zip(list1, list2)]\n",
    "sum(result)/len(result)"
   ]
  },
  {
   "cell_type": "markdown",
   "id": "16fa69ae-4f4c-4795-a4f8-deb82ea8a4be",
   "metadata": {},
   "source": [
    "# model"
   ]
  },
  {
   "cell_type": "markdown",
   "id": "dac26876-7132-490c-a181-fc73204cb4e8",
   "metadata": {
    "tags": []
   },
   "source": [
    "zet de categorische data om in getalen"
   ]
  },
  {
   "cell_type": "code",
   "execution_count": null,
   "id": "6206beed-945b-4c90-8156-f3c9016f3db6",
   "metadata": {
    "tags": []
   },
   "outputs": [],
   "source": [
    "df3=df2\n",
    "df3 = pd.concat([df3, pd.get_dummies(df2['stm_oorz_code']).astype(int)], axis=1)\n",
    "df3 = pd.concat([df3, pd.get_dummies(df2['stm_techn_mld']).astype(int)], axis=1)\n",
    "df3 = pd.concat([df3, pd.get_dummies(df2['stm_prioriteit']).astype(int)], axis=1)\n",
    "df3 = pd.concat([df3, pd.get_dummies(df2['stm_geo_mld']).astype(int)], axis=1)\n",
    "\n",
    "df3 = df3.drop(columns=['stm_oorz_code', 'stm_techn_mld','stm_prioriteit','stm_geo_mld'])"
   ]
  },
  {
   "cell_type": "code",
   "execution_count": null,
   "id": "8c62a2a9-fb0c-47a1-bc3f-d50d8a7e843c",
   "metadata": {},
   "outputs": [],
   "source": [
    "from sklearn.linear_model import LinearRegression\n",
    "from sklearn.model_selection import train_test_split\n",
    "from sklearn.datasets import load_iris\n",
    "import joblib"
   ]
  },
  {
   "cell_type": "markdown",
   "id": "3f83ac62-b8a8-4ea0-bc1c-a39e5a519ab8",
   "metadata": {},
   "source": [
    "verdeel de feature en target"
   ]
  },
  {
   "cell_type": "code",
   "execution_count": null,
   "id": "c6b19027-a596-4799-b7f5-522c38f46e3a",
   "metadata": {
    "tags": []
   },
   "outputs": [],
   "source": [
    "target = df3['targetherstel']\n",
    "feature = df3.drop(columns=['targetherstel','stm_aanntpl_dd','stm_fh_dd','stm_progfh_in_tijd','stm_fh_duur','stm_fh_tijd','stm_progfh_in_tijd'])\n",
    "feature.columns = feature.columns.astype(str)\n",
    "\n",
    "feats_train, feats_test, cat_train, cat_test = train_test_split(feature, target, random_state=42)"
   ]
  },
  {
   "cell_type": "markdown",
   "id": "3955a7d5-947a-4370-8882-c6408ece0802",
   "metadata": {},
   "source": [
    "train de model"
   ]
  },
  {
   "cell_type": "code",
   "execution_count": null,
   "id": "ec26084c-ac18-436c-b01a-8ccb0f1914db",
   "metadata": {
    "tags": []
   },
   "outputs": [],
   "source": [
    "reg = LinearRegression().fit(feats_train, cat_train)"
   ]
  },
  {
   "cell_type": "markdown",
   "id": "a86edf41-1415-463f-bd36-9bb8645a505d",
   "metadata": {},
   "source": [
    "bereken de RMSE waarde van de model"
   ]
  },
  {
   "cell_type": "code",
   "execution_count": null,
   "id": "4ba028a2-7001-442f-9381-097021613089",
   "metadata": {},
   "outputs": [],
   "source": [
    "predictions = reg.predict(feats_train)\n",
    "cat_train.to_list()\n",
    "result = [(a - b)**2 for a, b in zip(predictions, cat_train)]\n",
    "math.sqrt(sum(result)/len(result))"
   ]
  },
  {
   "cell_type": "markdown",
   "id": "7f34a496-3a9d-4f84-bd2b-5a7ef04975ba",
   "metadata": {},
   "source": [
    "als we de worste case neem de verspellings tijd van de model plus de RMSE waarde, hoeveel procent van de gevallen is gedekt."
   ]
  },
  {
   "cell_type": "code",
   "execution_count": null,
   "id": "b3a08c4c-a7f6-4950-819f-fa747657ae72",
   "metadata": {
    "tags": []
   },
   "outputs": [],
   "source": [
    "result = [a+84 > b for a, b in zip(predictions, cat_train)]\n",
    "sum(result)/len(result)"
   ]
  },
  {
   "cell_type": "markdown",
   "id": "f16ddace-cc85-42a1-8c54-19d1b62e95ff",
   "metadata": {
    "tags": []
   },
   "source": [
    "berekende RMSE waarde voor de worst case"
   ]
  },
  {
   "cell_type": "code",
   "execution_count": null,
   "id": "01bf8c14-97a7-4929-9896-e4ffb7347244",
   "metadata": {
    "tags": []
   },
   "outputs": [],
   "source": [
    "result = [(a + 84 - b)**2 for a, b in zip(predictions, cat_train)]\n",
    "math.sqrt(sum(result)/len(result))"
   ]
  },
  {
   "cell_type": "code",
   "execution_count": null,
   "id": "91440f45-82dc-48be-84c3-5cb979586e9d",
   "metadata": {
    "tags": []
   },
   "outputs": [],
   "source": [
    "joblib.dump(reg, 'LinearRegressionModel.joblib')"
   ]
  }
 ],
 "metadata": {
  "kernelspec": {
   "display_name": "Python 3 (ipykernel)",
   "language": "python",
   "name": "python3"
  },
  "language_info": {
   "codemirror_mode": {
    "name": "ipython",
    "version": 3
   },
   "file_extension": ".py",
   "mimetype": "text/x-python",
   "name": "python",
   "nbconvert_exporter": "python",
   "pygments_lexer": "ipython3",
   "version": "3.11.5"
  }
 },
 "nbformat": 4,
 "nbformat_minor": 5
}
