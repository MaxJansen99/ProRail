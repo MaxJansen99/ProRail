{
 "cells": [
  {
   "cell_type": "code",
   "execution_count": 33,
   "id": "e7f47436-7e0e-4800-ae8b-649d8208128e",
   "metadata": {},
   "outputs": [],
   "source": [
    "import pandas as pd\n",
    "import numpy as np\n",
    "import matplotlib.pyplot as plt\n",
    "import seaborn as sns\n",
    "import math"
   ]
  },
  {
   "cell_type": "code",
   "execution_count": 34,
   "id": "a0ebc325-2642-4434-97ad-86e3b7481784",
   "metadata": {
    "tags": []
   },
   "outputs": [
    {
     "name": "stderr",
     "output_type": "stream",
     "text": [
      "C:\\Users\\maste\\AppData\\Local\\Temp\\ipykernel_26836\\778189414.py:1: DtypeWarning: Columns (0,11,19,21,24,25,27,32,33,36,37,38,39,40,46,47,48,49,51,53,55,56,60,73,75,78,80,82,83,86,87,91,95,99,102,103,104,107,108,109,110,111,112,113,116,118,119,120,121,122,123,124,129) have mixed types. Specify dtype option on import or set low_memory=False.\n",
      "  df= pd.read_csv(\"sap_storing_data_hu_project.csv\")\n"
     ]
    }
   ],
   "source": [
    "df= pd.read_csv(\"sap_storing_data_hu_project.csv\")"
   ]
  },
  {
   "cell_type": "code",
   "execution_count": 35,
   "id": "5371fa63-8b5a-47b3-8d02-4d436b547e5e",
   "metadata": {
    "tags": []
   },
   "outputs": [
    {
     "data": {
      "text/html": [
       "<div>\n",
       "<style scoped>\n",
       "    .dataframe tbody tr th:only-of-type {\n",
       "        vertical-align: middle;\n",
       "    }\n",
       "\n",
       "    .dataframe tbody tr th {\n",
       "        vertical-align: top;\n",
       "    }\n",
       "\n",
       "    .dataframe thead th {\n",
       "        text-align: right;\n",
       "    }\n",
       "</style>\n",
       "<table border=\"1\" class=\"dataframe\">\n",
       "  <thead>\n",
       "    <tr style=\"text-align: right;\">\n",
       "      <th></th>\n",
       "      <th>Unnamed: 0</th>\n",
       "      <th>#stm_sap_meldnr</th>\n",
       "      <th>stm_mon_nr</th>\n",
       "      <th>stm_vl_post</th>\n",
       "      <th>stm_sap_meld_ddt</th>\n",
       "      <th>stm_sap_mon_meld_ddt</th>\n",
       "      <th>stm_sap_meldtekst_lang</th>\n",
       "      <th>stm_mon_begin_ddt</th>\n",
       "      <th>stm_sap_meldtekst</th>\n",
       "      <th>stm_mon_toelichting_trdl</th>\n",
       "      <th>...</th>\n",
       "      <th>stm_rapportage_maand</th>\n",
       "      <th>stm_rapportage_jaar</th>\n",
       "      <th>stm_x_bron_publ_dt</th>\n",
       "      <th>stm_x_bron_bestandsnaam</th>\n",
       "      <th>stm_x_bron_arch_dt</th>\n",
       "      <th>stm_x_actueel_ind</th>\n",
       "      <th>stm_x_run_id</th>\n",
       "      <th>stm_x_bk</th>\n",
       "      <th>stm_x_start_sessie_dt</th>\n",
       "      <th>stm_x_vervallen_ind</th>\n",
       "    </tr>\n",
       "  </thead>\n",
       "  <tbody>\n",
       "    <tr>\n",
       "      <th>0</th>\n",
       "      <td>0</td>\n",
       "      <td>0</td>\n",
       "      <td>NaN</td>\n",
       "      <td>NaN</td>\n",
       "      <td>NaN</td>\n",
       "      <td>NaN</td>\n",
       "      <td>NaN</td>\n",
       "      <td>NaN</td>\n",
       "      <td>NaN</td>\n",
       "      <td>NaN</td>\n",
       "      <td>...</td>\n",
       "      <td>5</td>\n",
       "      <td>2014</td>\n",
       "      <td>07/05/2014 05:30:12</td>\n",
       "      <td>\\\\PUHAPS0149\\Informatica_Prod\\Inbox\\Informatic...</td>\n",
       "      <td>31/12/9999 00:00:00</td>\n",
       "      <td>1</td>\n",
       "      <td>34415</td>\n",
       "      <td>3617016</td>\n",
       "      <td>07/05/2014 05:44:24</td>\n",
       "      <td>0</td>\n",
       "    </tr>\n",
       "    <tr>\n",
       "      <th>1</th>\n",
       "      <td>1</td>\n",
       "      <td>50053211</td>\n",
       "      <td>0.0</td>\n",
       "      <td>NaN</td>\n",
       "      <td>02/01/2006 09:00:00</td>\n",
       "      <td>02/01/2006 09:00:00</td>\n",
       "      <td>Logboeknr  Geeltje  :   49 Tijd: 0900   VL-Po...</td>\n",
       "      <td>NaN</td>\n",
       "      <td>Logboeknr  Geeltje  :   49 Tijd: 0900</td>\n",
       "      <td>NaN</td>\n",
       "      <td>...</td>\n",
       "      <td>1</td>\n",
       "      <td>2006</td>\n",
       "      <td>02/01/2006 09:00:00</td>\n",
       "      <td>\\\\PUHAPS0149\\Informatica_Prod\\Inbox\\Informatic...</td>\n",
       "      <td>31/12/9999 00:00:00</td>\n",
       "      <td>1</td>\n",
       "      <td>1518</td>\n",
       "      <td>12704590</td>\n",
       "      <td>13/06/2013 13:37:52</td>\n",
       "      <td>0</td>\n",
       "    </tr>\n",
       "    <tr>\n",
       "      <th>2</th>\n",
       "      <td>2</td>\n",
       "      <td>50053213</td>\n",
       "      <td>48.0</td>\n",
       "      <td>GN</td>\n",
       "      <td>02/01/2006 12:35:00</td>\n",
       "      <td>02/01/2006 12:35:00</td>\n",
       "      <td>Logboeknr  RBV  :   48 Tijd: 1235   VL-Post: ...</td>\n",
       "      <td>02/01/2006 12:35:00</td>\n",
       "      <td>Logboeknr  RBV  :   48 Tijd: 1235   VL-P</td>\n",
       "      <td>NaN</td>\n",
       "      <td>...</td>\n",
       "      <td>1</td>\n",
       "      <td>2006</td>\n",
       "      <td>02/01/2006 12:35:00</td>\n",
       "      <td>\\\\PUHAPS0149\\Informatica_Prod\\Inbox\\Informatic...</td>\n",
       "      <td>31/12/9999 00:00:00</td>\n",
       "      <td>1</td>\n",
       "      <td>1518</td>\n",
       "      <td>12704591</td>\n",
       "      <td>13/06/2013 13:37:52</td>\n",
       "      <td>0</td>\n",
       "    </tr>\n",
       "    <tr>\n",
       "      <th>3</th>\n",
       "      <td>3</td>\n",
       "      <td>50053214</td>\n",
       "      <td>72.0</td>\n",
       "      <td>ZL</td>\n",
       "      <td>02/01/2006 16:40:00</td>\n",
       "      <td>02/01/2006 16:40:00</td>\n",
       "      <td>Logboeknr  RBV  :   72 Tijd: 1640   VL-Post: ...</td>\n",
       "      <td>02/01/2006 16:40:00</td>\n",
       "      <td>Logboeknr  RBV  :   72 Tijd: 1640   VL-P</td>\n",
       "      <td>NaN</td>\n",
       "      <td>...</td>\n",
       "      <td>1</td>\n",
       "      <td>2006</td>\n",
       "      <td>02/01/2006 16:40:00</td>\n",
       "      <td>\\\\PUHAPS0149\\Informatica_Prod\\Inbox\\Informatic...</td>\n",
       "      <td>31/12/9999 00:00:00</td>\n",
       "      <td>1</td>\n",
       "      <td>1518</td>\n",
       "      <td>12704592</td>\n",
       "      <td>13/06/2013 13:37:52</td>\n",
       "      <td>0</td>\n",
       "    </tr>\n",
       "    <tr>\n",
       "      <th>4</th>\n",
       "      <td>4</td>\n",
       "      <td>50053215</td>\n",
       "      <td>96.0</td>\n",
       "      <td>ZL</td>\n",
       "      <td>02/01/2006 22:30:00</td>\n",
       "      <td>02/01/2006 22:30:00</td>\n",
       "      <td>Logboeknr  RBV  :   96 Tijd: 2230   VL-Post: ...</td>\n",
       "      <td>02/01/2006 22:30:00</td>\n",
       "      <td>Logboeknr  RBV  :   96 Tijd: 2230   VL-P</td>\n",
       "      <td>NaN</td>\n",
       "      <td>...</td>\n",
       "      <td>1</td>\n",
       "      <td>2006</td>\n",
       "      <td>02/01/2006 22:30:00</td>\n",
       "      <td>\\\\PUHAPS0149\\Informatica_Prod\\Inbox\\Informatic...</td>\n",
       "      <td>31/12/9999 00:00:00</td>\n",
       "      <td>1</td>\n",
       "      <td>1518</td>\n",
       "      <td>12704593</td>\n",
       "      <td>13/06/2013 13:37:52</td>\n",
       "      <td>0</td>\n",
       "    </tr>\n",
       "  </tbody>\n",
       "</table>\n",
       "<p>5 rows × 140 columns</p>\n",
       "</div>"
      ],
      "text/plain": [
       "  Unnamed: 0  #stm_sap_meldnr  stm_mon_nr stm_vl_post     stm_sap_meld_ddt  \\\n",
       "0          0                0         NaN         NaN                  NaN   \n",
       "1          1         50053211         0.0         NaN  02/01/2006 09:00:00   \n",
       "2          2         50053213        48.0          GN  02/01/2006 12:35:00   \n",
       "3          3         50053214        72.0          ZL  02/01/2006 16:40:00   \n",
       "4          4         50053215        96.0          ZL  02/01/2006 22:30:00   \n",
       "\n",
       "  stm_sap_mon_meld_ddt                             stm_sap_meldtekst_lang  \\\n",
       "0                  NaN                                                NaN   \n",
       "1  02/01/2006 09:00:00   Logboeknr  Geeltje  :   49 Tijd: 0900   VL-Po...   \n",
       "2  02/01/2006 12:35:00   Logboeknr  RBV  :   48 Tijd: 1235   VL-Post: ...   \n",
       "3  02/01/2006 16:40:00   Logboeknr  RBV  :   72 Tijd: 1640   VL-Post: ...   \n",
       "4  02/01/2006 22:30:00   Logboeknr  RBV  :   96 Tijd: 2230   VL-Post: ...   \n",
       "\n",
       "     stm_mon_begin_ddt                         stm_sap_meldtekst  \\\n",
       "0                  NaN                                       NaN   \n",
       "1                  NaN     Logboeknr  Geeltje  :   49 Tijd: 0900   \n",
       "2  02/01/2006 12:35:00  Logboeknr  RBV  :   48 Tijd: 1235   VL-P   \n",
       "3  02/01/2006 16:40:00  Logboeknr  RBV  :   72 Tijd: 1640   VL-P   \n",
       "4  02/01/2006 22:30:00  Logboeknr  RBV  :   96 Tijd: 2230   VL-P   \n",
       "\n",
       "  stm_mon_toelichting_trdl  ... stm_rapportage_maand stm_rapportage_jaar  \\\n",
       "0                      NaN  ...                    5                2014   \n",
       "1                      NaN  ...                    1                2006   \n",
       "2                      NaN  ...                    1                2006   \n",
       "3                      NaN  ...                    1                2006   \n",
       "4                      NaN  ...                    1                2006   \n",
       "\n",
       "    stm_x_bron_publ_dt                            stm_x_bron_bestandsnaam  \\\n",
       "0  07/05/2014 05:30:12  \\\\PUHAPS0149\\Informatica_Prod\\Inbox\\Informatic...   \n",
       "1  02/01/2006 09:00:00  \\\\PUHAPS0149\\Informatica_Prod\\Inbox\\Informatic...   \n",
       "2  02/01/2006 12:35:00  \\\\PUHAPS0149\\Informatica_Prod\\Inbox\\Informatic...   \n",
       "3  02/01/2006 16:40:00  \\\\PUHAPS0149\\Informatica_Prod\\Inbox\\Informatic...   \n",
       "4  02/01/2006 22:30:00  \\\\PUHAPS0149\\Informatica_Prod\\Inbox\\Informatic...   \n",
       "\n",
       "    stm_x_bron_arch_dt stm_x_actueel_ind  stm_x_run_id  stm_x_bk  \\\n",
       "0  31/12/9999 00:00:00                 1         34415   3617016   \n",
       "1  31/12/9999 00:00:00                 1          1518  12704590   \n",
       "2  31/12/9999 00:00:00                 1          1518  12704591   \n",
       "3  31/12/9999 00:00:00                 1          1518  12704592   \n",
       "4  31/12/9999 00:00:00                 1          1518  12704593   \n",
       "\n",
       "   stm_x_start_sessie_dt stm_x_vervallen_ind  \n",
       "0    07/05/2014 05:44:24                   0  \n",
       "1    13/06/2013 13:37:52                   0  \n",
       "2    13/06/2013 13:37:52                   0  \n",
       "3    13/06/2013 13:37:52                   0  \n",
       "4    13/06/2013 13:37:52                   0  \n",
       "\n",
       "[5 rows x 140 columns]"
      ]
     },
     "execution_count": 35,
     "metadata": {},
     "output_type": "execute_result"
    }
   ],
   "source": [
    "df.head()"
   ]
  },
  {
   "cell_type": "markdown",
   "id": "34df5b84-e3a1-48e0-8278-ea3bbbe9d732",
   "metadata": {},
   "source": [
    "haalt de data's uithalen dat de Betekenis een vraagteken of nvt staan."
   ]
  },
  {
   "cell_type": "code",
   "execution_count": 219,
   "id": "1e409fac-89a8-4bd5-8d1c-33aed53c037e",
   "metadata": {
    "tags": []
   },
   "outputs": [],
   "source": [
    "df=df[['#stm_sap_meldnr','stm_mon_nr','stm_vl_post','stm_sap_meld_ddt','stm_sap_meldtekst_lang','stm_sap_meldtekst','stm_geo_mld','stm_equipm_nr_mld','stm_equipm_soort_mld','stm_equipm_omschr_mld','stm_km_van_mld',\n",
    "   'stm_km_tot_mld','stm_prioriteit','stm_aanngeb_ddt','stm_oh_pg_gst','stm_geo_gst','stm_equipm_nr_gst','stm_equipm_soort_gst','stm_equipm_omschr_gst','stm_km_van_gst','stm_km_tot_gst','stm_oorz_groep','stm_oorz_code',\n",
    "   'stm_oorz_tkst','stm_fh_ddt','stm_fh_status','stm_sap_storeind_ddt','stm_tao_indicator','stm_tao_indicator_vorige','stm_tao_soort_mutatie','stm_tao_telling_mutatie','stm_tao_beinvloedbaar_indicator','stm_sap_melddatum',\n",
    "   'stm_sap_meldtijd','stm_contractgeb_mld','stm_techn_mld','stm_techn_gst','stm_aanngeb_dd','stm_aanngeb_tijd','stm_aanntpl_dd','stm_aanntpl_tijd','stm_progfh_in_datum','stm_progfh_in_tijd','stm_progfh_in_invoer_dat',\n",
    "   'stm_progfh_in_invoer_tijd','stm_progfh_in_duur','stm_progfh_gw_tijd','stm_progfh_gw_teller','stm_fh_dd','stm_fh_tijd','stm_fh_duur','stm_sap_storeinddatum','stm_sap_storeindtijd','stm_oorz_tekst_kort',\n",
    "   'stm_pplg_van','stm_pplg_naar','stm_dstrglp_van','stm_dstrglp_naar']]"
   ]
  },
  {
   "cell_type": "code",
   "execution_count": 220,
   "id": "50eb2f01-3cda-462f-89fb-f5f7855eafe7",
   "metadata": {
    "tags": []
   },
   "outputs": [
    {
     "name": "stdout",
     "output_type": "stream",
     "text": [
      "<class 'pandas.core.frame.DataFrame'>\n",
      "RangeIndex: 898526 entries, 0 to 898525\n",
      "Data columns (total 58 columns):\n",
      " #   Column                           Non-Null Count   Dtype  \n",
      "---  ------                           --------------   -----  \n",
      " 0   #stm_sap_meldnr                  898526 non-null  int64  \n",
      " 1   stm_mon_nr                       898525 non-null  float64\n",
      " 2   stm_vl_post                      310499 non-null  object \n",
      " 3   stm_sap_meld_ddt                 898525 non-null  object \n",
      " 4   stm_sap_meldtekst_lang           898386 non-null  object \n",
      " 5   stm_sap_meldtekst                898327 non-null  object \n",
      " 6   stm_geo_mld                      886693 non-null  object \n",
      " 7   stm_equipm_nr_mld                661126 non-null  float64\n",
      " 8   stm_equipm_soort_mld             661123 non-null  object \n",
      " 9   stm_equipm_omschr_mld            661118 non-null  object \n",
      " 10  stm_km_van_mld                   898522 non-null  float64\n",
      " 11  stm_km_tot_mld                   898522 non-null  float64\n",
      " 12  stm_prioriteit                   898365 non-null  float64\n",
      " 13  stm_aanngeb_ddt                  864962 non-null  object \n",
      " 14  stm_oh_pg_gst                    898337 non-null  object \n",
      " 15  stm_geo_gst                      742324 non-null  object \n",
      " 16  stm_equipm_nr_gst                605721 non-null  float64\n",
      " 17  stm_equipm_soort_gst             605711 non-null  object \n",
      " 18  stm_equipm_omschr_gst            605710 non-null  object \n",
      " 19  stm_km_van_gst                   898521 non-null  float64\n",
      " 20  stm_km_tot_gst                   898521 non-null  float64\n",
      " 21  stm_oorz_groep                   845096 non-null  object \n",
      " 22  stm_oorz_code                    845113 non-null  float64\n",
      " 23  stm_oorz_tkst                    796051 non-null  object \n",
      " 24  stm_fh_ddt                       732891 non-null  object \n",
      " 25  stm_fh_status                    747318 non-null  float64\n",
      " 26  stm_sap_storeind_ddt             661095 non-null  object \n",
      " 27  stm_tao_indicator                897208 non-null  object \n",
      " 28  stm_tao_indicator_vorige         329841 non-null  object \n",
      " 29  stm_tao_soort_mutatie            254500 non-null  object \n",
      " 30  stm_tao_telling_mutatie          898526 non-null  int64  \n",
      " 31  stm_tao_beinvloedbaar_indicator  898526 non-null  object \n",
      " 32  stm_sap_melddatum                898488 non-null  object \n",
      " 33  stm_sap_meldtijd                 898488 non-null  object \n",
      " 34  stm_contractgeb_mld              661017 non-null  float64\n",
      " 35  stm_techn_mld                    664399 non-null  object \n",
      " 36  stm_techn_gst                    898303 non-null  object \n",
      " 37  stm_aanngeb_dd                   864955 non-null  object \n",
      " 38  stm_aanngeb_tijd                 898488 non-null  object \n",
      " 39  stm_aanntpl_dd                   689915 non-null  object \n",
      " 40  stm_aanntpl_tijd                 898488 non-null  object \n",
      " 41  stm_progfh_in_datum              577250 non-null  object \n",
      " 42  stm_progfh_in_tijd               898488 non-null  object \n",
      " 43  stm_progfh_in_invoer_dat         577717 non-null  object \n",
      " 44  stm_progfh_in_invoer_tijd        898488 non-null  object \n",
      " 45  stm_progfh_in_duur               898488 non-null  object \n",
      " 46  stm_progfh_gw_tijd               898488 non-null  object \n",
      " 47  stm_progfh_gw_teller             898488 non-null  float64\n",
      " 48  stm_fh_dd                        771259 non-null  object \n",
      " 49  stm_fh_tijd                      898488 non-null  object \n",
      " 50  stm_fh_duur                      898488 non-null  float64\n",
      " 51  stm_sap_storeinddatum            661167 non-null  object \n",
      " 52  stm_sap_storeindtijd             898488 non-null  object \n",
      " 53  stm_oorz_tekst_kort              388630 non-null  object \n",
      " 54  stm_pplg_van                     254749 non-null  object \n",
      " 55  stm_pplg_naar                    60388 non-null   object \n",
      " 56  stm_dstrglp_van                  309484 non-null  object \n",
      " 57  stm_dstrglp_naar                 365760 non-null  object \n",
      "dtypes: float64(13), int64(2), object(43)\n",
      "memory usage: 397.6+ MB\n"
     ]
    }
   ],
   "source": [
    "df.info()"
   ]
  },
  {
   "cell_type": "markdown",
   "id": "97ed1ae2-c23f-4fa1-b1f6-5fd65bf799c6",
   "metadata": {},
   "source": [
    "filter functiehersteltijd met bijhoorde oorzaak code voor de baseline model "
   ]
  },
  {
   "cell_type": "markdown",
   "id": "13e864cb-dea0-49cb-aa59-849b4e6c43ac",
   "metadata": {},
   "source": [
    "# data understanding en eerste filtering"
   ]
  },
  {
   "cell_type": "code",
   "execution_count": 221,
   "id": "7ae41337-867a-4e37-806f-379147d8f998",
   "metadata": {
    "tags": []
   },
   "outputs": [
    {
     "name": "stdout",
     "output_type": "stream",
     "text": [
      "socre null: 0.19110521008852277\n",
      "socre tot 15m: 0.07725207729102998\n",
      "socre 15m tot 30m: 0.04694688857083713\n",
      "socre 30m tot 1h: 0.10298533375773211\n",
      "socre 1h tot 2h: 0.17923465765041857\n",
      "socre 2h tot 3h: 0.09187491513879398\n",
      "socre 3h tot 6h: 0.10379666253397231\n",
      "socre 6h tot 8h: 0.035442491369198\n",
      "socre 8h+: 0.17131947211321655\n"
     ]
    }
   ],
   "source": [
    "null = df.loc[df['stm_fh_duur']==0,['stm_fh_duur']]\n",
    "vijftien = df.loc[ (df['stm_fh_duur'] >0) & (df['stm_fh_duur']<=15 ),['stm_fh_duur']]\n",
    "vijftien_halfuur = df.loc[ (df['stm_fh_duur'] >15) & (df['stm_fh_duur']<=30 ),['stm_fh_duur']]\n",
    "halfuur_uur = df.loc[( df['stm_fh_duur']> 30) & (df['stm_fh_duur']<=60) ,['stm_fh_duur']]\n",
    "een_twee_uur = df.loc[ (df['stm_fh_duur']>60) & (df['stm_fh_duur']<=120) ,['stm_fh_duur']]\n",
    "twee_drie_uur = df.loc[ (df['stm_fh_duur']>120) & (df['stm_fh_duur']<=180) ,['stm_fh_duur']]\n",
    "drie_zes_uur = df.loc[ (df['stm_fh_duur']>180) & (df['stm_fh_duur']<=360) ,['stm_fh_duur']]\n",
    "zes_acht_uur = df.loc[ (df['stm_fh_duur']>360) & (df['stm_fh_duur']<=540) ,['stm_fh_duur']]\n",
    "acht_plus = df.loc[df['stm_fh_duur']> 540,['stm_fh_duur']]\n",
    "acht_plus = df.loc[df['stm_fh_duur']> 540,['stm_fh_duur']]\n",
    "print(f'socre null: {len(null)/len(df)}')\n",
    "print(f'socre tot 15m: {len(vijftien)/len(df)}')\n",
    "print(f'socre 15m tot 30m: {len(vijftien_halfuur)/len(df)}')\n",
    "print(f'socre 30m tot 1h: {len(halfuur_uur)/len(df)}')\n",
    "print(f'socre 1h tot 2h: {len(een_twee_uur)/len(df)}')\n",
    "print(f'socre 2h tot 3h: {len(twee_drie_uur)/len(df)}')\n",
    "print(f'socre 3h tot 6h: {len(drie_zes_uur)/len(df)}')\n",
    "print(f'socre 6h tot 8h: {len(zes_acht_uur)/len(df)}')\n",
    "print(f'socre 8h+: {len(acht_plus)/len(df)}')"
   ]
  },
  {
   "cell_type": "markdown",
   "id": "5817476a-a682-40d7-98f2-a7c45520bbb3",
   "metadata": {},
   "source": [
    "we zien dat dat 19% van de meldingen geen probleem zijn dat de spoor op stil staat <br>\n",
    "8% dat onder de 15 miuten is en 4% tussen 15-30 min <br>\n",
    "voor meldingen dat de spoor boven de acht uurr stil staan zij er maar 17%"
   ]
  },
  {
   "cell_type": "code",
   "execution_count": 222,
   "id": "69f4c347-76a0-42de-9a12-965f237841e4",
   "metadata": {
    "tags": []
   },
   "outputs": [
    {
     "data": {
      "text/plain": [
       "0.07553482036134736"
      ]
     },
     "execution_count": 222,
     "metadata": {},
     "output_type": "execute_result"
    }
   ],
   "source": [
    "len(df.loc[df['stm_fh_duur']> 1440,['stm_fh_duur']])/len(df)"
   ]
  },
  {
   "cell_type": "markdown",
   "id": "8ca321c7-70a8-4cc0-868e-f136c799ea0f",
   "metadata": {
    "tags": []
   },
   "source": [
    "7.5% van alle data is het spoor boven een dag stilgestaan"
   ]
  },
  {
   "cell_type": "markdown",
   "id": "fb53458a-0605-4050-8dcb-73db1165ff88",
   "metadata": {},
   "source": [
    "we dorpen data's dat we niet kunnen op getraint kan"
   ]
  },
  {
   "cell_type": "code",
   "execution_count": 223,
   "id": "07f18c9b-a949-4b92-8554-cbc43bc03924",
   "metadata": {
    "tags": []
   },
   "outputs": [],
   "source": [
    "df2 = df.dropna(subset=['stm_fh_duur'])"
   ]
  },
  {
   "cell_type": "markdown",
   "id": "cc3f2e8f-57aa-4411-b16c-43cd3032c4e2",
   "metadata": {},
   "source": [
    "filter data's dat stm_fh_duur onder de 15 min en data's boven de 8 uur,het is niet belangrjik in deze project.<br>\n",
    "we nemen data's van 15min tot 8uur, zo data de model niet telaag gaat onderschaten."
   ]
  },
  {
   "cell_type": "code",
   "execution_count": 224,
   "id": "233579f5-0269-4a48-8cc1-24e9db34fcf9",
   "metadata": {
    "tags": []
   },
   "outputs": [],
   "source": [
    "df2 = df2.loc[ (df['stm_fh_duur']>15) & (df['stm_fh_duur']<=540)]"
   ]
  },
  {
   "cell_type": "markdown",
   "id": "c0443778-11c1-4405-95d5-efc29d0c4487",
   "metadata": {},
   "source": [
    "we hebben nog 65% data over voor de model"
   ]
  },
  {
   "cell_type": "code",
   "execution_count": 225,
   "id": "91734fcf-e1da-4a48-aa5f-dd26a7c2428b",
   "metadata": {
    "tags": []
   },
   "outputs": [
    {
     "data": {
      "text/plain": [
       "0.560280949020952"
      ]
     },
     "execution_count": 225,
     "metadata": {},
     "output_type": "execute_result"
    }
   ],
   "source": [
    "len(df2)/len(df)"
   ]
  },
  {
   "cell_type": "markdown",
   "id": "a93a7dd2-0a8f-43db-a079-7f0863043a96",
   "metadata": {},
   "source": [
    "hier zijn wat feature dat we belangrijk vinden:<br>\n",
    "stm_oorz_code : code van wat de probleem is (weet pas was de aannemer aanwezig is) <br>\n",
    "stm_sap_melddatum: de datum data melding melding is binnen gekommen <br>\n",
    "stm_sap_meldtijd : de tijdstip van de melding <br>\n",
    "stm_geo_mld: geocode waar iets gebuurt is. <br>\n",
    "stm_sap_meldtijd : de datum dat de aanmener anweizig is （het is binnen 8uur het kan zijn dat dit niet van belang is） <br>\n",
    "stm_aanntpl_tijd : de tijdmoment dat de aanmener anweizig is <br>\n",
    "stm_fh_dd : de datum dat de probleem opgelost is <br>\n",
    "stm_aanntpl_tijd : de tijdmoment dat de probleem opgelost is （het is binnen 8uur het kan zijn dat dit niet van belang is） <br>\n",
    "stm_techn_mld: ? (gekrijgen van docent)<br>\n",
    "stm_prioriteit: ?(gekrijgen van docent)<br>\n",
    "stm_fh_duur: hoelang het duurt van melding tot dat de probleem is opgelost"
   ]
  },
  {
   "cell_type": "code",
   "execution_count": 226,
   "id": "e94383b9-6860-473b-886d-b603e4ab12b5",
   "metadata": {
    "tags": []
   },
   "outputs": [],
   "source": [
    "df2=df2[['stm_oorz_code','stm_sap_melddatum','stm_sap_meldtijd','stm_geo_mld','stm_aanntpl_dd','stm_aanntpl_tijd','stm_fh_dd','stm_fh_tijd','stm_techn_mld','stm_prioriteit','stm_fh_duur']]"
   ]
  },
  {
   "cell_type": "code",
   "execution_count": 227,
   "id": "dcc9511f-0003-43f1-a7a7-8acce7e9e5ab",
   "metadata": {
    "tags": []
   },
   "outputs": [
    {
     "name": "stdout",
     "output_type": "stream",
     "text": [
      "<class 'pandas.core.frame.DataFrame'>\n",
      "Index: 503427 entries, 2 to 898525\n",
      "Data columns (total 11 columns):\n",
      " #   Column             Non-Null Count   Dtype  \n",
      "---  ------             --------------   -----  \n",
      " 0   stm_oorz_code      492032 non-null  float64\n",
      " 1   stm_sap_melddatum  503427 non-null  object \n",
      " 2   stm_sap_meldtijd   503427 non-null  object \n",
      " 3   stm_geo_mld        502990 non-null  object \n",
      " 4   stm_aanntpl_dd     478873 non-null  object \n",
      " 5   stm_aanntpl_tijd   503427 non-null  object \n",
      " 6   stm_fh_dd          502831 non-null  object \n",
      " 7   stm_fh_tijd        503427 non-null  object \n",
      " 8   stm_techn_mld      419198 non-null  object \n",
      " 9   stm_prioriteit     503379 non-null  float64\n",
      " 10  stm_fh_duur        503427 non-null  float64\n",
      "dtypes: float64(3), object(8)\n",
      "memory usage: 46.1+ MB\n"
     ]
    }
   ],
   "source": [
    "df2.info()"
   ]
  },
  {
   "cell_type": "markdown",
   "id": "87d4dc66-7c7c-412a-860f-8a2930c4779f",
   "metadata": {
    "tags": []
   },
   "source": [
    "# eerste data preperatie"
   ]
  },
  {
   "cell_type": "code",
   "execution_count": 228,
   "id": "8d97ac35-f357-44cc-97a6-fe0ef645e67d",
   "metadata": {
    "tags": []
   },
   "outputs": [
    {
     "data": {
      "text/html": [
       "<div>\n",
       "<style scoped>\n",
       "    .dataframe tbody tr th:only-of-type {\n",
       "        vertical-align: middle;\n",
       "    }\n",
       "\n",
       "    .dataframe tbody tr th {\n",
       "        vertical-align: top;\n",
       "    }\n",
       "\n",
       "    .dataframe thead th {\n",
       "        text-align: right;\n",
       "    }\n",
       "</style>\n",
       "<table border=\"1\" class=\"dataframe\">\n",
       "  <thead>\n",
       "    <tr style=\"text-align: right;\">\n",
       "      <th></th>\n",
       "      <th>stm_sap_meldtijd</th>\n",
       "      <th>stm_aanntpl_tijd</th>\n",
       "      <th>stm_fh_tijd</th>\n",
       "    </tr>\n",
       "  </thead>\n",
       "  <tbody>\n",
       "    <tr>\n",
       "      <th>2</th>\n",
       "      <td>12:35:00</td>\n",
       "      <td>00:00:00</td>\n",
       "      <td>13:26:00</td>\n",
       "    </tr>\n",
       "    <tr>\n",
       "      <th>3</th>\n",
       "      <td>16:40:00</td>\n",
       "      <td>00:00:00</td>\n",
       "      <td>17:20:00</td>\n",
       "    </tr>\n",
       "    <tr>\n",
       "      <th>8</th>\n",
       "      <td>14:18:00</td>\n",
       "      <td>00:00:00</td>\n",
       "      <td>14:48:00</td>\n",
       "    </tr>\n",
       "    <tr>\n",
       "      <th>11</th>\n",
       "      <td>10:45:00</td>\n",
       "      <td>00:00:00</td>\n",
       "      <td>11:14:00</td>\n",
       "    </tr>\n",
       "    <tr>\n",
       "      <th>13</th>\n",
       "      <td>19:18:00</td>\n",
       "      <td>00:00:00</td>\n",
       "      <td>19:42:00</td>\n",
       "    </tr>\n",
       "    <tr>\n",
       "      <th>...</th>\n",
       "      <td>...</td>\n",
       "      <td>...</td>\n",
       "      <td>...</td>\n",
       "    </tr>\n",
       "    <tr>\n",
       "      <th>898521</th>\n",
       "      <td>08:06:00</td>\n",
       "      <td>09:05:00</td>\n",
       "      <td>09:29:00</td>\n",
       "    </tr>\n",
       "    <tr>\n",
       "      <th>898522</th>\n",
       "      <td>09:21:00</td>\n",
       "      <td>10:08:00</td>\n",
       "      <td>10:44:00</td>\n",
       "    </tr>\n",
       "    <tr>\n",
       "      <th>898523</th>\n",
       "      <td>09:21:00</td>\n",
       "      <td>10:08:00</td>\n",
       "      <td>10:44:00</td>\n",
       "    </tr>\n",
       "    <tr>\n",
       "      <th>898524</th>\n",
       "      <td>14:15:17</td>\n",
       "      <td>14:45:00</td>\n",
       "      <td>15:14:00</td>\n",
       "    </tr>\n",
       "    <tr>\n",
       "      <th>898525</th>\n",
       "      <td>14:15:17</td>\n",
       "      <td>14:45:00</td>\n",
       "      <td>15:14:00</td>\n",
       "    </tr>\n",
       "  </tbody>\n",
       "</table>\n",
       "<p>503427 rows × 3 columns</p>\n",
       "</div>"
      ],
      "text/plain": [
       "       stm_sap_meldtijd stm_aanntpl_tijd stm_fh_tijd\n",
       "2              12:35:00         00:00:00    13:26:00\n",
       "3              16:40:00         00:00:00    17:20:00\n",
       "8              14:18:00         00:00:00    14:48:00\n",
       "11             10:45:00         00:00:00    11:14:00\n",
       "13             19:18:00         00:00:00    19:42:00\n",
       "...                 ...              ...         ...\n",
       "898521         08:06:00         09:05:00    09:29:00\n",
       "898522         09:21:00         10:08:00    10:44:00\n",
       "898523         09:21:00         10:08:00    10:44:00\n",
       "898524         14:15:17         14:45:00    15:14:00\n",
       "898525         14:15:17         14:45:00    15:14:00\n",
       "\n",
       "[503427 rows x 3 columns]"
      ]
     },
     "execution_count": 228,
     "metadata": {},
     "output_type": "execute_result"
    }
   ],
   "source": [
    "df2[['stm_sap_meldtijd','stm_aanntpl_tijd','stm_fh_tijd']]"
   ]
  },
  {
   "cell_type": "markdown",
   "id": "ce3c069d-488d-4708-ba2a-f4a5a54ef2f4",
   "metadata": {
    "tags": []
   },
   "source": [
    "stm_sap_meldtijd, stm_aanntpl_tijd en stm_fh_tijd is een object dat geschikt is voor model <br>\n",
    "hieronder woordt het omgezet naar welkste minuut het van de dag is als int"
   ]
  },
  {
   "cell_type": "code",
   "execution_count": 229,
   "id": "2b820af4-b77b-4c16-b3bb-1a190b331591",
   "metadata": {
    "tags": []
   },
   "outputs": [],
   "source": [
    "# naar datetime tpye \n",
    "df2['stm_sap_meldtijd'] = pd.to_datetime(df2['stm_sap_meldtijd'], format='%H:%M:%S', errors='coerce')\n",
    "# verandert het h:min naar totale minuten\n",
    "df2['stm_sap_meldtijd'] = df2['stm_sap_meldtijd'].apply(lambda x: x.hour*60 + x.minute)\n",
    "\n",
    "df2['stm_aanntpl_tijd'] = pd.to_datetime(df2['stm_aanntpl_tijd'], format='%H:%M:%S', errors='coerce')\n",
    "df2['stm_aanntpl_tijd'] = df2['stm_aanntpl_tijd'].apply(lambda x: x.hour*60 + x.minute)\n",
    "\n",
    "df2['stm_fh_tijd'] = pd.to_datetime(df2['stm_fh_tijd'], format='%H:%M:%S', errors='coerce')\n",
    "df2['stm_fh_tijd'] = df2['stm_fh_tijd'].apply(lambda x: x.hour*60 + x.minute)"
   ]
  },
  {
   "cell_type": "code",
   "execution_count": 230,
   "id": "c1c230bc-b0b1-4062-9a51-f3e252d40d55",
   "metadata": {
    "tags": []
   },
   "outputs": [],
   "source": [
    "df2=df2.loc[df2['stm_aanntpl_tijd']!=0]"
   ]
  },
  {
   "cell_type": "code",
   "execution_count": 231,
   "id": "f0569ed0-a9e2-4fd9-9817-00ae21570ab1",
   "metadata": {
    "tags": []
   },
   "outputs": [
    {
     "data": {
      "text/html": [
       "<div>\n",
       "<style scoped>\n",
       "    .dataframe tbody tr th:only-of-type {\n",
       "        vertical-align: middle;\n",
       "    }\n",
       "\n",
       "    .dataframe tbody tr th {\n",
       "        vertical-align: top;\n",
       "    }\n",
       "\n",
       "    .dataframe thead th {\n",
       "        text-align: right;\n",
       "    }\n",
       "</style>\n",
       "<table border=\"1\" class=\"dataframe\">\n",
       "  <thead>\n",
       "    <tr style=\"text-align: right;\">\n",
       "      <th></th>\n",
       "      <th>stm_oorz_code</th>\n",
       "      <th>stm_sap_melddatum</th>\n",
       "      <th>stm_sap_meldtijd</th>\n",
       "      <th>stm_geo_mld</th>\n",
       "      <th>stm_aanntpl_dd</th>\n",
       "      <th>stm_aanntpl_tijd</th>\n",
       "      <th>stm_fh_dd</th>\n",
       "      <th>stm_fh_tijd</th>\n",
       "      <th>stm_techn_mld</th>\n",
       "      <th>stm_prioriteit</th>\n",
       "      <th>stm_fh_duur</th>\n",
       "    </tr>\n",
       "  </thead>\n",
       "  <tbody>\n",
       "    <tr>\n",
       "      <th>32099</th>\n",
       "      <td>299.0</td>\n",
       "      <td>12/06/2012</td>\n",
       "      <td>1250.0</td>\n",
       "      <td>104.0</td>\n",
       "      <td>13/06/2012</td>\n",
       "      <td>305</td>\n",
       "      <td>13/06/2012</td>\n",
       "      <td>345</td>\n",
       "      <td>NaN</td>\n",
       "      <td>9.0</td>\n",
       "      <td>43.0</td>\n",
       "    </tr>\n",
       "    <tr>\n",
       "      <th>73476</th>\n",
       "      <td>299.0</td>\n",
       "      <td>10/05/2015</td>\n",
       "      <td>1209.0</td>\n",
       "      <td>127.0</td>\n",
       "      <td>13/05/2015</td>\n",
       "      <td>900</td>\n",
       "      <td>13/05/2015</td>\n",
       "      <td>901</td>\n",
       "      <td>S</td>\n",
       "      <td>9.0</td>\n",
       "      <td>24.0</td>\n",
       "    </tr>\n",
       "    <tr>\n",
       "      <th>73477</th>\n",
       "      <td>299.0</td>\n",
       "      <td>10/05/2015</td>\n",
       "      <td>1209.0</td>\n",
       "      <td>127.0</td>\n",
       "      <td>13/05/2015</td>\n",
       "      <td>900</td>\n",
       "      <td>13/05/2015</td>\n",
       "      <td>901</td>\n",
       "      <td>B</td>\n",
       "      <td>9.0</td>\n",
       "      <td>24.0</td>\n",
       "    </tr>\n",
       "    <tr>\n",
       "      <th>86470</th>\n",
       "      <td>133.0</td>\n",
       "      <td>17/03/2016</td>\n",
       "      <td>958.0</td>\n",
       "      <td>586.0</td>\n",
       "      <td>15/02/2016</td>\n",
       "      <td>418</td>\n",
       "      <td>15/02/2016</td>\n",
       "      <td>647</td>\n",
       "      <td>NaN</td>\n",
       "      <td>9.0</td>\n",
       "      <td>232.0</td>\n",
       "    </tr>\n",
       "    <tr>\n",
       "      <th>86471</th>\n",
       "      <td>133.0</td>\n",
       "      <td>17/03/2016</td>\n",
       "      <td>958.0</td>\n",
       "      <td>586.0</td>\n",
       "      <td>15/02/2016</td>\n",
       "      <td>418</td>\n",
       "      <td>15/02/2016</td>\n",
       "      <td>647</td>\n",
       "      <td>NaN</td>\n",
       "      <td>9.0</td>\n",
       "      <td>232.0</td>\n",
       "    </tr>\n",
       "    <tr>\n",
       "      <th>...</th>\n",
       "      <td>...</td>\n",
       "      <td>...</td>\n",
       "      <td>...</td>\n",
       "      <td>...</td>\n",
       "      <td>...</td>\n",
       "      <td>...</td>\n",
       "      <td>...</td>\n",
       "      <td>...</td>\n",
       "      <td>...</td>\n",
       "      <td>...</td>\n",
       "      <td>...</td>\n",
       "    </tr>\n",
       "    <tr>\n",
       "      <th>898521</th>\n",
       "      <td>215.0</td>\n",
       "      <td>11/05/2013</td>\n",
       "      <td>486.0</td>\n",
       "      <td>560.0</td>\n",
       "      <td>11/05/2013</td>\n",
       "      <td>545</td>\n",
       "      <td>11/05/2013</td>\n",
       "      <td>569</td>\n",
       "      <td>NaN</td>\n",
       "      <td>5.0</td>\n",
       "      <td>83.0</td>\n",
       "    </tr>\n",
       "    <tr>\n",
       "      <th>898522</th>\n",
       "      <td>218.0</td>\n",
       "      <td>11/05/2013</td>\n",
       "      <td>561.0</td>\n",
       "      <td>468.0</td>\n",
       "      <td>11/05/2013</td>\n",
       "      <td>608</td>\n",
       "      <td>11/05/2013</td>\n",
       "      <td>644</td>\n",
       "      <td>S</td>\n",
       "      <td>2.0</td>\n",
       "      <td>83.0</td>\n",
       "    </tr>\n",
       "    <tr>\n",
       "      <th>898523</th>\n",
       "      <td>218.0</td>\n",
       "      <td>11/05/2013</td>\n",
       "      <td>561.0</td>\n",
       "      <td>468.0</td>\n",
       "      <td>11/05/2013</td>\n",
       "      <td>608</td>\n",
       "      <td>11/05/2013</td>\n",
       "      <td>644</td>\n",
       "      <td>S</td>\n",
       "      <td>2.0</td>\n",
       "      <td>83.0</td>\n",
       "    </tr>\n",
       "    <tr>\n",
       "      <th>898524</th>\n",
       "      <td>135.0</td>\n",
       "      <td>20/08/2016</td>\n",
       "      <td>855.0</td>\n",
       "      <td>102.0</td>\n",
       "      <td>20/08/2016</td>\n",
       "      <td>885</td>\n",
       "      <td>20/08/2016</td>\n",
       "      <td>914</td>\n",
       "      <td>NaN</td>\n",
       "      <td>2.0</td>\n",
       "      <td>19.0</td>\n",
       "    </tr>\n",
       "    <tr>\n",
       "      <th>898525</th>\n",
       "      <td>143.0</td>\n",
       "      <td>20/08/2016</td>\n",
       "      <td>855.0</td>\n",
       "      <td>102.0</td>\n",
       "      <td>20/08/2016</td>\n",
       "      <td>885</td>\n",
       "      <td>20/08/2016</td>\n",
       "      <td>914</td>\n",
       "      <td>NaN</td>\n",
       "      <td>2.0</td>\n",
       "      <td>19.0</td>\n",
       "    </tr>\n",
       "  </tbody>\n",
       "</table>\n",
       "<p>478366 rows × 11 columns</p>\n",
       "</div>"
      ],
      "text/plain": [
       "        stm_oorz_code stm_sap_melddatum  stm_sap_meldtijd stm_geo_mld  \\\n",
       "32099           299.0        12/06/2012            1250.0       104.0   \n",
       "73476           299.0        10/05/2015            1209.0       127.0   \n",
       "73477           299.0        10/05/2015            1209.0       127.0   \n",
       "86470           133.0        17/03/2016             958.0       586.0   \n",
       "86471           133.0        17/03/2016             958.0       586.0   \n",
       "...               ...               ...               ...         ...   \n",
       "898521          215.0        11/05/2013             486.0       560.0   \n",
       "898522          218.0        11/05/2013             561.0       468.0   \n",
       "898523          218.0        11/05/2013             561.0       468.0   \n",
       "898524          135.0        20/08/2016             855.0       102.0   \n",
       "898525          143.0        20/08/2016             855.0       102.0   \n",
       "\n",
       "       stm_aanntpl_dd  stm_aanntpl_tijd   stm_fh_dd  stm_fh_tijd  \\\n",
       "32099      13/06/2012               305  13/06/2012          345   \n",
       "73476      13/05/2015               900  13/05/2015          901   \n",
       "73477      13/05/2015               900  13/05/2015          901   \n",
       "86470      15/02/2016               418  15/02/2016          647   \n",
       "86471      15/02/2016               418  15/02/2016          647   \n",
       "...               ...               ...         ...          ...   \n",
       "898521     11/05/2013               545  11/05/2013          569   \n",
       "898522     11/05/2013               608  11/05/2013          644   \n",
       "898523     11/05/2013               608  11/05/2013          644   \n",
       "898524     20/08/2016               885  20/08/2016          914   \n",
       "898525     20/08/2016               885  20/08/2016          914   \n",
       "\n",
       "       stm_techn_mld  stm_prioriteit  stm_fh_duur  \n",
       "32099            NaN             9.0         43.0  \n",
       "73476              S             9.0         24.0  \n",
       "73477              B             9.0         24.0  \n",
       "86470            NaN             9.0        232.0  \n",
       "86471            NaN             9.0        232.0  \n",
       "...              ...             ...          ...  \n",
       "898521           NaN             5.0         83.0  \n",
       "898522             S             2.0         83.0  \n",
       "898523             S             2.0         83.0  \n",
       "898524           NaN             2.0         19.0  \n",
       "898525           NaN             2.0         19.0  \n",
       "\n",
       "[478366 rows x 11 columns]"
      ]
     },
     "execution_count": 231,
     "metadata": {},
     "output_type": "execute_result"
    }
   ],
   "source": [
    "df2"
   ]
  },
  {
   "cell_type": "markdown",
   "id": "1790ce78-cede-4054-baf5-d9c948d52dbd",
   "metadata": {
    "tags": []
   },
   "source": [
    "stm_sap_melddatum is een ook object dat geschikt is voor modellen <br>\n",
    "hieronder woordt het omgezet naar welkste dag het van de jaar is als int <br>"
   ]
  },
  {
   "cell_type": "code",
   "execution_count": 232,
   "id": "f17eff10-e858-42b7-812e-97b9f7eb833d",
   "metadata": {
    "tags": []
   },
   "outputs": [],
   "source": [
    "# naar datetime tpye \n",
    "df2['stm_sap_melddatum'] = pd.to_datetime(df2['stm_sap_melddatum'], format='%d/%m/%Y')\n",
    "# kiijk welkeste dag het van de jaar is\n",
    "df2['stm_sap_melddatum'] = df2['stm_sap_melddatum'].dt.dayofyear"
   ]
  },
  {
   "cell_type": "markdown",
   "id": "be456a1f-65e4-479b-be51-10360be190af",
   "metadata": {
    "tags": []
   },
   "source": [
    "# target"
   ]
  },
  {
   "cell_type": "markdown",
   "id": "514bcdd8-3bad-4cc6-a6ea-349abbbf3410",
   "metadata": {},
   "source": [
    "voor de traget neem we de tijd neem de functie hersteltijd van waarneer de aanmener aanweizig is tot dat weer gereiden mogen worden.<br>\n",
    "voor de dat stm_sap_meldtijd 0 is neem we stm_fh_tijd "
   ]
  },
  {
   "cell_type": "code",
   "execution_count": 234,
   "id": "f2b204bc-aad0-4852-afdd-0a3f951a2c7f",
   "metadata": {
    "tags": []
   },
   "outputs": [],
   "source": [
    "df2['targetherstel'] = np.where(\n",
    "    df2['stm_fh_tijd'] - df2['stm_aanntpl_tijd']>= 0, # als de stm_fh_tijd-stm_aanntpl_tijd positief is\n",
    "    df2['stm_fh_tijd'] - df2['stm_aanntpl_tijd'], # dan betekende dat nog op de zefde day is, kun je gelijk van elkaar aftrekken\n",
    "    df2['stm_fh_tijd'] - df2['stm_aanntpl_tijd']+24 # als niet op zelfdde dag is hersteld, dus een neagetief uitkomst moet er +24 om de juiste tijd te krijgen.\n",
    ")"
   ]
  },
  {
   "cell_type": "code",
   "execution_count": 235,
   "id": "69bb0b42-22e1-4067-a5cb-f9457bccd7b4",
   "metadata": {
    "tags": []
   },
   "outputs": [
    {
     "data": {
      "text/html": [
       "<div>\n",
       "<style scoped>\n",
       "    .dataframe tbody tr th:only-of-type {\n",
       "        vertical-align: middle;\n",
       "    }\n",
       "\n",
       "    .dataframe tbody tr th {\n",
       "        vertical-align: top;\n",
       "    }\n",
       "\n",
       "    .dataframe thead th {\n",
       "        text-align: right;\n",
       "    }\n",
       "</style>\n",
       "<table border=\"1\" class=\"dataframe\">\n",
       "  <thead>\n",
       "    <tr style=\"text-align: right;\">\n",
       "      <th></th>\n",
       "      <th>targetherstel</th>\n",
       "    </tr>\n",
       "  </thead>\n",
       "  <tbody>\n",
       "    <tr>\n",
       "      <th>32099</th>\n",
       "      <td>40</td>\n",
       "    </tr>\n",
       "    <tr>\n",
       "      <th>73476</th>\n",
       "      <td>1</td>\n",
       "    </tr>\n",
       "    <tr>\n",
       "      <th>73477</th>\n",
       "      <td>1</td>\n",
       "    </tr>\n",
       "    <tr>\n",
       "      <th>86470</th>\n",
       "      <td>229</td>\n",
       "    </tr>\n",
       "    <tr>\n",
       "      <th>86471</th>\n",
       "      <td>229</td>\n",
       "    </tr>\n",
       "    <tr>\n",
       "      <th>...</th>\n",
       "      <td>...</td>\n",
       "    </tr>\n",
       "    <tr>\n",
       "      <th>898521</th>\n",
       "      <td>24</td>\n",
       "    </tr>\n",
       "    <tr>\n",
       "      <th>898522</th>\n",
       "      <td>36</td>\n",
       "    </tr>\n",
       "    <tr>\n",
       "      <th>898523</th>\n",
       "      <td>36</td>\n",
       "    </tr>\n",
       "    <tr>\n",
       "      <th>898524</th>\n",
       "      <td>29</td>\n",
       "    </tr>\n",
       "    <tr>\n",
       "      <th>898525</th>\n",
       "      <td>29</td>\n",
       "    </tr>\n",
       "  </tbody>\n",
       "</table>\n",
       "<p>478366 rows × 1 columns</p>\n",
       "</div>"
      ],
      "text/plain": [
       "        targetherstel\n",
       "32099              40\n",
       "73476               1\n",
       "73477               1\n",
       "86470             229\n",
       "86471             229\n",
       "...               ...\n",
       "898521             24\n",
       "898522             36\n",
       "898523             36\n",
       "898524             29\n",
       "898525             29\n",
       "\n",
       "[478366 rows x 1 columns]"
      ]
     },
     "execution_count": 235,
     "metadata": {},
     "output_type": "execute_result"
    }
   ],
   "source": [
    "df2[['targetherstel']]"
   ]
  },
  {
   "cell_type": "markdown",
   "id": "92a2f149-7cfb-4035-9a13-9f669f827d66",
   "metadata": {
    "tags": []
   },
   "source": [
    "# baseline model"
   ]
  },
  {
   "cell_type": "markdown",
   "id": "d87646dd-7def-49cb-b0fd-7d8a4aa1d814",
   "metadata": {},
   "source": [
    "we nemen hier de gemiddelde hersteltijd van alle stm_oorz_code als onze voorspelling, we neem 10% marge als de werkelijk waarde in de marge zit dan reken we het als goed.\n",
    "(waarneem voor deze baseline model dat altijd de oorzaakcode bekend is)"
   ]
  },
  {
   "cell_type": "code",
   "execution_count": 191,
   "id": "9bb293ec-f375-4920-8392-1c33eaa7c5c9",
   "metadata": {
    "tags": []
   },
   "outputs": [],
   "source": [
    "# om het gebruik maakt zet maken voor de balk code onder deze balk\n",
    "# is hier een dict gevormt met de oorzaakcode als key en gemiddelde hersteltijd als value\n",
    "df_gm=df2.groupby('stm_oorz_code')['targetherstel'].agg(['mean'])# sorten bij stm_oorz_code waar targetherstel gemiddelde word genomen\n",
    "df_value=df_gm['mean'].to_list() #zet alle gemidde hersteltijd als value in een list\n",
    "df_key=df2['stm_oorz_code'].unique()  #zet alle oorzaakcode als value in een list (elk oorzaakcode komt niet tweekeer voor)\n",
    "dictionary = dict(zip(df_key, df_value)) # met zip zet we om in tot een dict"
   ]
  },
  {
   "cell_type": "code",
   "execution_count": 192,
   "id": "3e9b77f0-b9f5-45e0-aa5d-afe7f947d225",
   "metadata": {
    "tags": []
   },
   "outputs": [
    {
     "data": {
      "text/plain": [
       "2.5753103761434213"
      ]
     },
     "execution_count": 192,
     "metadata": {},
     "output_type": "execute_result"
    }
   ],
   "source": [
    "cnt=0\n",
    "        \n",
    "for index, row in df.iterrows(): #lopen door de data\n",
    "    key = row[\"stm_oorz_code\"] # kijk wat de huidig oorzaakcode is\n",
    "    value_in_dict = dictionary.get(key, None) # zoek de gemiddelde functie hersteltijd op van deze oorzaakcode op\n",
    "    if value_in_dict is not None:\n",
    "        if row[\"stm_fh_duur\"] > value_in_dict*0.9 and row[\"stm_fh_duur\"] < value_in_dict*1.1: # als werlkelijk waarde tussen de 10% marge van de gemiddelde hersteltijd is\n",
    "            cnt+=1 # dan tel als een goed\n",
    "cnt/(len(df2) - df2['stm_oorz_code'].isna().sum() )*100 #het score in precentage goed is: de totaal goed dellen door de de totale lengte van de data dat een oorzaakcode heeft. "
   ]
  },
  {
   "cell_type": "markdown",
   "id": "16fa69ae-4f4c-4795-a4f8-deb82ea8a4be",
   "metadata": {},
   "source": [
    "# model"
   ]
  },
  {
   "cell_type": "code",
   "execution_count": 236,
   "id": "8c62a2a9-fb0c-47a1-bc3f-d50d8a7e843c",
   "metadata": {},
   "outputs": [],
   "source": [
    "from sklearn.ensemble import RandomForestClassifier\n",
    "from sklearn.tree import DecisionTreeClassifier\n",
    "from sklearn.model_selection import train_test_split"
   ]
  },
  {
   "cell_type": "code",
   "execution_count": 237,
   "id": "e570949a-c9f6-4705-a43c-6a18d59a4181",
   "metadata": {
    "tags": []
   },
   "outputs": [
    {
     "name": "stdout",
     "output_type": "stream",
     "text": [
      "<class 'pandas.core.frame.DataFrame'>\n",
      "Index: 478366 entries, 32099 to 898525\n",
      "Data columns (total 12 columns):\n",
      " #   Column             Non-Null Count   Dtype  \n",
      "---  ------             --------------   -----  \n",
      " 0   stm_oorz_code      471283 non-null  float64\n",
      " 1   stm_sap_melddatum  478366 non-null  int32  \n",
      " 2   stm_sap_meldtijd   478323 non-null  float64\n",
      " 3   stm_geo_mld        478362 non-null  object \n",
      " 4   stm_aanntpl_dd     478358 non-null  object \n",
      " 5   stm_aanntpl_tijd   478366 non-null  int64  \n",
      " 6   stm_fh_dd          478361 non-null  object \n",
      " 7   stm_fh_tijd        478366 non-null  int64  \n",
      " 8   stm_techn_mld      403173 non-null  object \n",
      " 9   stm_prioriteit     478366 non-null  float64\n",
      " 10  stm_fh_duur        478366 non-null  float64\n",
      " 11  targetherstel      478366 non-null  int64  \n",
      "dtypes: float64(4), int32(1), int64(3), object(4)\n",
      "memory usage: 45.6+ MB\n"
     ]
    }
   ],
   "source": [
    "df2.info()"
   ]
  },
  {
   "cell_type": "code",
   "execution_count": 238,
   "id": "6c381d39-674a-477a-8da8-281a8aa115dc",
   "metadata": {
    "tags": []
   },
   "outputs": [],
   "source": [
    "df2['stm_sap_meldtijd']=df2['stm_sap_meldtijd'].fillna('0')"
   ]
  },
  {
   "cell_type": "code",
   "execution_count": 239,
   "id": "6f40d210-b45e-41bc-a9eb-697bb61b2c77",
   "metadata": {
    "tags": []
   },
   "outputs": [],
   "source": [
    "df2[['stm_techn_mld']]=df2[['stm_techn_mld']].fillna('0')\n",
    "unique_values = df2['stm_techn_mld'].unique()\n",
    "techn_mld_dict = {key: index + 1 for index, key in enumerate(unique_values)}\n",
    "df2['stm_techn_mld'] = df2['stm_techn_mld'].apply(lambda x: techn_mld_dict[x])"
   ]
  },
  {
   "cell_type": "code",
   "execution_count": 240,
   "id": "e133749e-5939-4ed4-bae5-c2bd311c434a",
   "metadata": {
    "tags": []
   },
   "outputs": [],
   "source": [
    "df2[['stm_geo_mld']]=df2[['stm_geo_mld']].fillna('0')\n",
    "unique_values = df2['stm_geo_mld'].unique()\n",
    "stm_geo_mld_dict = {key: index + 1 for index, key in enumerate(unique_values)}\n",
    "df2['stm_geo_mld'] = df2['stm_geo_mld'].apply(lambda x: stm_geo_mld_dict[x])"
   ]
  },
  {
   "cell_type": "code",
   "execution_count": 241,
   "id": "05b4c521-192e-487a-af8e-677de48553ca",
   "metadata": {
    "tags": []
   },
   "outputs": [],
   "source": [
    "df2[['stm_oorz_code']]= df2[['stm_oorz_code']].fillna('0')\n",
    "df2['stm_oorz_code']=df2['stm_oorz_code'].astype('int32')"
   ]
  },
  {
   "cell_type": "code",
   "execution_count": 242,
   "id": "fe7cce6a-95bb-4ddd-97de-47d611db54a0",
   "metadata": {
    "tags": []
   },
   "outputs": [],
   "source": [
    "df2['stm_prioriteit']=df2['stm_prioriteit'].fillna('0')\n",
    "df2['stm_prioriteit']=df2['stm_prioriteit'].astype('int32')"
   ]
  },
  {
   "cell_type": "code",
   "execution_count": 243,
   "id": "9dd6a78a-b5ba-4780-b252-0e298f59f2b6",
   "metadata": {
    "tags": []
   },
   "outputs": [],
   "source": [
    "df2['targetherstel'] = df2['targetherstel'].apply(lambda x: round(x / 10) * 10)"
   ]
  },
  {
   "cell_type": "code",
   "execution_count": 244,
   "id": "c6b19027-a596-4799-b7f5-522c38f46e3a",
   "metadata": {
    "tags": []
   },
   "outputs": [],
   "source": [
    "feature = df2[['stm_oorz_code','stm_sap_melddatum','stm_geo_mld','stm_sap_meldtijd','stm_aanntpl_tijd','stm_techn_mld','stm_prioriteit']]\n",
    "target = df2['targetherstel']\n",
    "feats_train, feats_test, cat_train, cat_test = train_test_split(feature, target, random_state=10)"
   ]
  },
  {
   "cell_type": "code",
   "execution_count": 245,
   "id": "c6cb7848-95f3-4922-bec0-696c55d018fb",
   "metadata": {
    "tags": []
   },
   "outputs": [
    {
     "data": {
      "text/plain": [
       "32099      40\n",
       "73476       0\n",
       "73477       0\n",
       "86470     230\n",
       "86471     230\n",
       "         ... \n",
       "898521     20\n",
       "898522     40\n",
       "898523     40\n",
       "898524     30\n",
       "898525     30\n",
       "Name: targetherstel, Length: 478366, dtype: int64"
      ]
     },
     "execution_count": 245,
     "metadata": {},
     "output_type": "execute_result"
    }
   ],
   "source": [
    "target"
   ]
  },
  {
   "cell_type": "code",
   "execution_count": 246,
   "id": "ddf09223-482d-4ce6-8706-1d7724303a43",
   "metadata": {},
   "outputs": [
    {
     "data": {
      "text/html": [
       "<style>#sk-container-id-9 {color: black;}#sk-container-id-9 pre{padding: 0;}#sk-container-id-9 div.sk-toggleable {background-color: white;}#sk-container-id-9 label.sk-toggleable__label {cursor: pointer;display: block;width: 100%;margin-bottom: 0;padding: 0.3em;box-sizing: border-box;text-align: center;}#sk-container-id-9 label.sk-toggleable__label-arrow:before {content: \"▸\";float: left;margin-right: 0.25em;color: #696969;}#sk-container-id-9 label.sk-toggleable__label-arrow:hover:before {color: black;}#sk-container-id-9 div.sk-estimator:hover label.sk-toggleable__label-arrow:before {color: black;}#sk-container-id-9 div.sk-toggleable__content {max-height: 0;max-width: 0;overflow: hidden;text-align: left;background-color: #f0f8ff;}#sk-container-id-9 div.sk-toggleable__content pre {margin: 0.2em;color: black;border-radius: 0.25em;background-color: #f0f8ff;}#sk-container-id-9 input.sk-toggleable__control:checked~div.sk-toggleable__content {max-height: 200px;max-width: 100%;overflow: auto;}#sk-container-id-9 input.sk-toggleable__control:checked~label.sk-toggleable__label-arrow:before {content: \"▾\";}#sk-container-id-9 div.sk-estimator input.sk-toggleable__control:checked~label.sk-toggleable__label {background-color: #d4ebff;}#sk-container-id-9 div.sk-label input.sk-toggleable__control:checked~label.sk-toggleable__label {background-color: #d4ebff;}#sk-container-id-9 input.sk-hidden--visually {border: 0;clip: rect(1px 1px 1px 1px);clip: rect(1px, 1px, 1px, 1px);height: 1px;margin: -1px;overflow: hidden;padding: 0;position: absolute;width: 1px;}#sk-container-id-9 div.sk-estimator {font-family: monospace;background-color: #f0f8ff;border: 1px dotted black;border-radius: 0.25em;box-sizing: border-box;margin-bottom: 0.5em;}#sk-container-id-9 div.sk-estimator:hover {background-color: #d4ebff;}#sk-container-id-9 div.sk-parallel-item::after {content: \"\";width: 100%;border-bottom: 1px solid gray;flex-grow: 1;}#sk-container-id-9 div.sk-label:hover label.sk-toggleable__label {background-color: #d4ebff;}#sk-container-id-9 div.sk-serial::before {content: \"\";position: absolute;border-left: 1px solid gray;box-sizing: border-box;top: 0;bottom: 0;left: 50%;z-index: 0;}#sk-container-id-9 div.sk-serial {display: flex;flex-direction: column;align-items: center;background-color: white;padding-right: 0.2em;padding-left: 0.2em;position: relative;}#sk-container-id-9 div.sk-item {position: relative;z-index: 1;}#sk-container-id-9 div.sk-parallel {display: flex;align-items: stretch;justify-content: center;background-color: white;position: relative;}#sk-container-id-9 div.sk-item::before, #sk-container-id-9 div.sk-parallel-item::before {content: \"\";position: absolute;border-left: 1px solid gray;box-sizing: border-box;top: 0;bottom: 0;left: 50%;z-index: -1;}#sk-container-id-9 div.sk-parallel-item {display: flex;flex-direction: column;z-index: 1;position: relative;background-color: white;}#sk-container-id-9 div.sk-parallel-item:first-child::after {align-self: flex-end;width: 50%;}#sk-container-id-9 div.sk-parallel-item:last-child::after {align-self: flex-start;width: 50%;}#sk-container-id-9 div.sk-parallel-item:only-child::after {width: 0;}#sk-container-id-9 div.sk-dashed-wrapped {border: 1px dashed gray;margin: 0 0.4em 0.5em 0.4em;box-sizing: border-box;padding-bottom: 0.4em;background-color: white;}#sk-container-id-9 div.sk-label label {font-family: monospace;font-weight: bold;display: inline-block;line-height: 1.2em;}#sk-container-id-9 div.sk-label-container {text-align: center;}#sk-container-id-9 div.sk-container {/* jupyter's `normalize.less` sets `[hidden] { display: none; }` but bootstrap.min.css set `[hidden] { display: none !important; }` so we also need the `!important` here to be able to override the default hidden behavior on the sphinx rendered scikit-learn.org. See: https://github.com/scikit-learn/scikit-learn/issues/21755 */display: inline-block !important;position: relative;}#sk-container-id-9 div.sk-text-repr-fallback {display: none;}</style><div id=\"sk-container-id-9\" class=\"sk-top-container\"><div class=\"sk-text-repr-fallback\"><pre>DecisionTreeClassifier(max_depth=50)</pre><b>In a Jupyter environment, please rerun this cell to show the HTML representation or trust the notebook. <br />On GitHub, the HTML representation is unable to render, please try loading this page with nbviewer.org.</b></div><div class=\"sk-container\" hidden><div class=\"sk-item\"><div class=\"sk-estimator sk-toggleable\"><input class=\"sk-toggleable__control sk-hidden--visually\" id=\"sk-estimator-id-9\" type=\"checkbox\" checked><label for=\"sk-estimator-id-9\" class=\"sk-toggleable__label sk-toggleable__label-arrow\">DecisionTreeClassifier</label><div class=\"sk-toggleable__content\"><pre>DecisionTreeClassifier(max_depth=50)</pre></div></div></div></div></div>"
      ],
      "text/plain": [
       "DecisionTreeClassifier(max_depth=50)"
      ]
     },
     "execution_count": 246,
     "metadata": {},
     "output_type": "execute_result"
    }
   ],
   "source": [
    "model_Tree = DecisionTreeClassifier(max_depth=50)\n",
    "model_Tree.fit(feats_train, cat_train)"
   ]
  },
  {
   "cell_type": "code",
   "execution_count": 247,
   "id": "7d45f744-9b6c-4ddd-b4dc-1fe32b69e8b9",
   "metadata": {
    "tags": []
   },
   "outputs": [
    {
     "data": {
      "text/plain": [
       "0.5262810221419493"
      ]
     },
     "execution_count": 247,
     "metadata": {},
     "output_type": "execute_result"
    }
   ],
   "source": [
    "model_Tree.score(feats_test, cat_test)"
   ]
  },
  {
   "cell_type": "code",
   "execution_count": 248,
   "id": "2c1ccc18-75a0-44cd-a031-71e25846d19d",
   "metadata": {
    "tags": []
   },
   "outputs": [],
   "source": [
    "X_new = df2.iloc[[-1]]\n",
    "X_new =X_new[['stm_oorz_code','stm_sap_melddatum','stm_geo_mld','stm_sap_meldtijd','stm_aanntpl_tijd','stm_techn_mld','stm_prioriteit']]\n",
    "X_new =X_new[['stm_oorz_code','stm_sap_melddatum','stm_geo_mld','stm_sap_meldtijd','stm_aanntpl_tijd','stm_techn_mld','stm_prioriteit']]"
   ]
  },
  {
   "cell_type": "code",
   "execution_count": 249,
   "id": "4ba028a2-7001-442f-9381-097021613089",
   "metadata": {},
   "outputs": [
    {
     "name": "stdout",
     "output_type": "stream",
     "text": [
      "[30]\n"
     ]
    }
   ],
   "source": [
    "predictions = model_Tree.predict(X_new)\n",
    "print(predictions)"
   ]
  },
  {
   "cell_type": "code",
   "execution_count": 250,
   "id": "ad4c7bc7-9139-4651-92c6-7a370a604bf3",
   "metadata": {
    "tags": []
   },
   "outputs": [
    {
     "data": {
      "text/html": [
       "<div>\n",
       "<style scoped>\n",
       "    .dataframe tbody tr th:only-of-type {\n",
       "        vertical-align: middle;\n",
       "    }\n",
       "\n",
       "    .dataframe tbody tr th {\n",
       "        vertical-align: top;\n",
       "    }\n",
       "\n",
       "    .dataframe thead th {\n",
       "        text-align: right;\n",
       "    }\n",
       "</style>\n",
       "<table border=\"1\" class=\"dataframe\">\n",
       "  <thead>\n",
       "    <tr style=\"text-align: right;\">\n",
       "      <th></th>\n",
       "      <th>stm_oorz_code</th>\n",
       "      <th>stm_sap_melddatum</th>\n",
       "      <th>stm_sap_meldtijd</th>\n",
       "      <th>stm_geo_mld</th>\n",
       "      <th>stm_aanntpl_dd</th>\n",
       "      <th>stm_aanntpl_tijd</th>\n",
       "      <th>stm_fh_dd</th>\n",
       "      <th>stm_fh_tijd</th>\n",
       "      <th>stm_techn_mld</th>\n",
       "      <th>stm_prioriteit</th>\n",
       "      <th>stm_fh_duur</th>\n",
       "      <th>targetherstel</th>\n",
       "    </tr>\n",
       "  </thead>\n",
       "  <tbody>\n",
       "    <tr>\n",
       "      <th>898525</th>\n",
       "      <td>143</td>\n",
       "      <td>233</td>\n",
       "      <td>855.0</td>\n",
       "      <td>175</td>\n",
       "      <td>20/08/2016</td>\n",
       "      <td>885</td>\n",
       "      <td>20/08/2016</td>\n",
       "      <td>914</td>\n",
       "      <td>1</td>\n",
       "      <td>2</td>\n",
       "      <td>19.0</td>\n",
       "      <td>30</td>\n",
       "    </tr>\n",
       "  </tbody>\n",
       "</table>\n",
       "</div>"
      ],
      "text/plain": [
       "        stm_oorz_code  stm_sap_melddatum stm_sap_meldtijd  stm_geo_mld  \\\n",
       "898525            143                233            855.0          175   \n",
       "\n",
       "       stm_aanntpl_dd  stm_aanntpl_tijd   stm_fh_dd  stm_fh_tijd  \\\n",
       "898525     20/08/2016               885  20/08/2016          914   \n",
       "\n",
       "        stm_techn_mld  stm_prioriteit  stm_fh_duur  targetherstel  \n",
       "898525              1               2         19.0             30  "
      ]
     },
     "execution_count": 250,
     "metadata": {},
     "output_type": "execute_result"
    }
   ],
   "source": [
    "df2.iloc[[ -1]]"
   ]
  },
  {
   "cell_type": "code",
   "execution_count": null,
   "id": "7f588be7-1dc0-48f3-8282-650bde14fe5e",
   "metadata": {},
   "outputs": [],
   "source": []
  },
  {
   "cell_type": "code",
   "execution_count": null,
   "id": "56163b8b-9506-4691-9400-aee263060009",
   "metadata": {},
   "outputs": [],
   "source": []
  }
 ],
 "metadata": {
  "kernelspec": {
   "display_name": "Python 3 (ipykernel)",
   "language": "python",
   "name": "python3"
  },
  "language_info": {
   "codemirror_mode": {
    "name": "ipython",
    "version": 3
   },
   "file_extension": ".py",
   "mimetype": "text/x-python",
   "name": "python",
   "nbconvert_exporter": "python",
   "pygments_lexer": "ipython3",
   "version": "3.11.5"
  }
 },
 "nbformat": 4,
 "nbformat_minor": 5
}
