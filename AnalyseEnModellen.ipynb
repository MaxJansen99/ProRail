{
 "cells": [
  {
   "cell_type": "markdown",
   "id": "ad6b2a934d017ab9",
   "metadata": {},
   "source": [
    "# ProRail Storing Analyse & Voorspellingen\n",
    "Voor het project Data-driven Business hebben wij de opdracht gekregen om ProRail te helpen bij het voorspellen van de hersteltijd van een storing. We hebben van ProRail een dataset gekregen waar alles in staat over storingen in het verleden. Nu is het aan ons om de data op de juiste manier te analyseren en er voorspellende modellen bij te maken."
   ]
  },
  {
   "cell_type": "markdown",
   "id": "610b919cb4393f60",
   "metadata": {
    "tags": []
   },
   "source": [
    "## Analyse\n",
    "Het is erg belangrijk om de data grondig te analysereren. We hebben op dit moment nog geen idee waar we mee werken, dus gaan we dat uitzoeken."
   ]
  },
  {
   "cell_type": "markdown",
   "id": "b9055ca8-20ba-428d-bbd8-678adc90bdc4",
   "metadata": {},
   "source": [
    "### Inladen & Configureren\n",
    "Voor dat we aan de analyse gaan beginnen moeten de benodigdheden worden geïmporteerd en geconfigureerd worden. Pandas en Numpy zijn ervoor om de data te analyseren. SciKit-Learn is er voor om de modellen te maken, en Joblib gebruiken we aan het einde om de modellen op te slaan. Daarnaast zijn er nog een aantal configuraties die gedaan moeten worden om het proces soepeler te laten verlopen."
   ]
  },
  {
   "cell_type": "markdown",
   "id": "e9020b307b2fca14",
   "metadata": {},
   "source": "### Imports"
  },
  {
   "cell_type": "code",
   "id": "f88eecab2f8bddd9",
   "metadata": {
    "tags": [],
    "ExecuteTime": {
     "end_time": "2025-07-16T17:40:06.041215Z",
     "start_time": "2025-07-16T17:40:05.933901Z"
    }
   },
   "source": [
    "import pandas as pd\n",
    "import numpy as np\n",
    "import seaborn as sns\n",
    "import matplotlib.pyplot as plt\n",
    "from sklearn.model_selection import train_test_split\n",
    "from sklearn.linear_model import LinearRegression\n",
    "from sklearn.tree import DecisionTreeRegressor\n",
    "from sklearn.ensemble import RandomForestRegressor\n",
    "from sklearn.metrics import r2_score, mean_squared_error\n",
    "from sklearn.preprocessing import LabelEncoder\n",
    "import joblib"
   ],
   "outputs": [],
   "execution_count": 1
  },
  {
   "cell_type": "markdown",
   "id": "38dc0573cfd2846",
   "metadata": {},
   "source": "### Configuratie"
  },
  {
   "cell_type": "code",
   "id": "51ce7226bc6debfc",
   "metadata": {
    "tags": [],
    "ExecuteTime": {
     "end_time": "2025-07-16T17:40:06.130846Z",
     "start_time": "2025-07-16T17:40:06.128996Z"
    }
   },
   "source": [
    "pd.set_option('display.max_columns', None)"
   ],
   "outputs": [],
   "execution_count": 2
  },
  {
   "cell_type": "markdown",
   "id": "c808b9ee-e01b-4217-ac1f-798ddebb444e",
   "metadata": {},
   "source": "In de data zijn er kolommen waar per waarde, verschillende types zijn. Door gebruik te maken van `low_memory=False` kan je de kolom een vaste type geven."
  },
  {
   "cell_type": "code",
   "id": "4c82a423-5085-46f9-960c-d3863b899bce",
   "metadata": {
    "tags": [],
    "ExecuteTime": {
     "end_time": "2025-07-16T17:40:27.446646Z",
     "start_time": "2025-07-16T17:40:06.138676Z"
    }
   },
   "source": [
    "df = pd.read_csv('Data/sap_storing_data_hu_project.csv', index_col=0, low_memory=False)\n",
    "df.head()"
   ],
   "outputs": [
    {
     "data": {
      "text/plain": [
       "   #stm_sap_meldnr  stm_mon_nr stm_vl_post     stm_sap_meld_ddt  \\\n",
       "0                0         NaN         NaN                  NaN   \n",
       "1         50053211         0.0         NaN  02/01/2006 09:00:00   \n",
       "2         50053213        48.0          GN  02/01/2006 12:35:00   \n",
       "3         50053214        72.0          ZL  02/01/2006 16:40:00   \n",
       "4         50053215        96.0          ZL  02/01/2006 22:30:00   \n",
       "\n",
       "  stm_sap_mon_meld_ddt                             stm_sap_meldtekst_lang  \\\n",
       "0                  NaN                                                NaN   \n",
       "1  02/01/2006 09:00:00   Logboeknr  Geeltje  :   49 Tijd: 0900   VL-Po...   \n",
       "2  02/01/2006 12:35:00   Logboeknr  RBV  :   48 Tijd: 1235   VL-Post: ...   \n",
       "3  02/01/2006 16:40:00   Logboeknr  RBV  :   72 Tijd: 1640   VL-Post: ...   \n",
       "4  02/01/2006 22:30:00   Logboeknr  RBV  :   96 Tijd: 2230   VL-Post: ...   \n",
       "\n",
       "     stm_mon_begin_ddt                         stm_sap_meldtekst  \\\n",
       "0                  NaN                                       NaN   \n",
       "1                  NaN     Logboeknr  Geeltje  :   49 Tijd: 0900   \n",
       "2  02/01/2006 12:35:00  Logboeknr  RBV  :   48 Tijd: 1235   VL-P   \n",
       "3  02/01/2006 16:40:00  Logboeknr  RBV  :   72 Tijd: 1640   VL-P   \n",
       "4  02/01/2006 22:30:00  Logboeknr  RBV  :   96 Tijd: 2230   VL-P   \n",
       "\n",
       "  stm_mon_toelichting_trdl stm_oh_pg_mld stm_geo_mld  \\\n",
       "0                      NaN           NaN         NaN   \n",
       "1                      NaN           NaN       624.0   \n",
       "2                      NaN           NaN       201.0   \n",
       "3                      NaN           NaN        25.0   \n",
       "4                      NaN           NaN        12.0   \n",
       "\n",
       "   stm_geo_mld_uit_functiepl  stm_equipm_nr_mld stm_equipm_soort_mld  \\\n",
       "0                        NaN                NaN                  NaN   \n",
       "1                      624.0                NaN                  NaN   \n",
       "2                      201.0                NaN                  NaN   \n",
       "3                       25.0                NaN                  NaN   \n",
       "4                       12.0                NaN                  NaN   \n",
       "\n",
       "  stm_equipm_omschr_mld  stm_km_van_mld  stm_km_tot_mld  stm_prioriteit  \\\n",
       "0                   NaN             NaN             NaN             NaN   \n",
       "1                   NaN             0.0             0.0             9.0   \n",
       "2                   NaN             0.0             0.0             9.0   \n",
       "3                   NaN             0.0             0.0             9.0   \n",
       "4                   NaN             0.0             0.0             9.0   \n",
       "\n",
       "  stm_scenario_mon stm_status_melding_sap stm_mon_nr_status_omschr  \\\n",
       "0              NaN                    NaN                      NaN   \n",
       "1              NaN              MAFS MAFD                      NaN   \n",
       "2              NaN                   MAFS        Aan AM toegewezen   \n",
       "3              NaN              MAFS MAFD        Aan AM toegewezen   \n",
       "4              NaN                   MAFS        Aan AM toegewezen   \n",
       "\n",
       "   stm_mon_nr__statuscode stm_mon_nr_status_wijzdd      stm_aanngeb_ddt  \\\n",
       "0                     NaN                      NaN                  NaN   \n",
       "1                     NaN               00/00/0000  02/01/2006 09:00:00   \n",
       "2                     0.0               03/01/2006  02/01/2006 12:35:00   \n",
       "3                     0.0               03/01/2006  02/01/2006 16:40:00   \n",
       "4                     0.0               03/01/2006  02/01/2006 22:30:00   \n",
       "\n",
       "  stm_aanntpl_ddt stm_oh_pg_gst stm_geo_gst  stm_geo_gst_uit_functiepl  \\\n",
       "0             NaN           NaN         NaN                        NaN   \n",
       "1             NaN           81S       624.0                      624.0   \n",
       "2             NaN           37B       201.0                      201.0   \n",
       "3             NaN           32B        25.0                       25.0   \n",
       "4             NaN           35B        12.0                       12.0   \n",
       "\n",
       "   stm_equipm_nr_gst stm_equipm_soort_gst stm_equipm_omschr_gst  \\\n",
       "0                NaN                  NaN                   NaN   \n",
       "1                NaN                  NaN                   NaN   \n",
       "2                NaN                  NaN                   NaN   \n",
       "3                NaN                  NaN                   NaN   \n",
       "4                NaN                  NaN                   NaN   \n",
       "\n",
       "  stm_objectdl_code_gst stm_objectdl_groep_gst  stm_km_van_gst  \\\n",
       "0                   NaN                    NaN             NaN   \n",
       "1                   NaN                    NaN             0.0   \n",
       "2                   NaN                    NaN         30200.0   \n",
       "3                   NaN                    NaN         14000.0   \n",
       "4                   NaN                    NaN         19819.0   \n",
       "\n",
       "   stm_km_tot_gst stm_progfh_in_ddt stm_progfh_in_invoer_ddt  \\\n",
       "0             NaN               NaN                      NaN   \n",
       "1             0.0               NaN                      NaN   \n",
       "2             0.0               NaN                      NaN   \n",
       "3             0.0               NaN                      NaN   \n",
       "4             0.0               NaN                      NaN   \n",
       "\n",
       "  stm_progfh_gw_ddt stm_progfh_gw_lwd_ddt stm_progfh_hz stm_oorz_groep  \\\n",
       "0               NaN                   NaN           NaN            NaN   \n",
       "1               NaN                   NaN             Z        ONR-RIB   \n",
       "2               NaN                   NaN             Z       ONR-DERD   \n",
       "3               NaN                   NaN             Z       ONR-DERD   \n",
       "4               NaN                   NaN             Z       ONR-DERD   \n",
       "\n",
       "   stm_oorz_code        stm_oorz_tkst stm_veroorz_groep stm_veroorz_code  \\\n",
       "0            NaN                  NaN               NaN              NaN   \n",
       "1          133.0   Papieren ontbreken          ONREGRIB                B   \n",
       "2          143.0                  NaN          ONREGDER                T   \n",
       "3          142.0                  NaN          ONREGDER                T   \n",
       "4          142.0                  NaN          ONREGDER                T   \n",
       "\n",
       "  stm_veroorz_tekst_kort stm_effect stm_afspr_aanvangddt           stm_fh_ddt  \\\n",
       "0                    NaN        NaN                  NaN                  NaN   \n",
       "1                 Volker        NaN                  NaN  02/01/2006 09:00:00   \n",
       "2                    NaN        NaN                  NaN  02/01/2006 13:26:00   \n",
       "3                    NaN        NaN                  NaN  02/01/2006 17:20:00   \n",
       "4                    NaN        NaN                  NaN  02/01/2006 22:36:00   \n",
       "\n",
       "   stm_fh_status stm_sap_storeind_ddt stm_mon_eind_ddt stm_mon_vhdsincident  \\\n",
       "0            NaN                  NaN              NaN                  NaN   \n",
       "1            4.0  02/01/2006 09:00:00              NaN                  NaN   \n",
       "2            4.0  02/01/2006 13:26:00              NaN                  NaN   \n",
       "3            4.0  02/01/2006 17:20:00              NaN                  NaN   \n",
       "4            4.0  02/01/2006 22:36:00              NaN                  NaN   \n",
       "\n",
       "  stm_tao_indicator stm_tao_indicator_vorige stm_tao_soort_mutatie  \\\n",
       "0                 N                      NaN                   NaN   \n",
       "1                 N                      NaN                   NaN   \n",
       "2                 N                      NaN                   NaN   \n",
       "3                 N                      NaN                   NaN   \n",
       "4                 N                      NaN                   NaN   \n",
       "\n",
       "   stm_tao_telling_mutatie stm_tao_beinvloedbaar_indicator stm_evb  \\\n",
       "0                        0                               B     NaN   \n",
       "1                        0                               B    0,00   \n",
       "2                        0                              NB    0,00   \n",
       "3                        0                              NB    0,00   \n",
       "4                        0                              NB    0,00   \n",
       "\n",
       "  stm_dir_betrok_tr stm_aangelegd_dd stm_aangelegd_tijd stm_sap_melddatum  \\\n",
       "0               NaN              NaN                NaN               NaN   \n",
       "1               NaN       03/01/2006           04:48:18        02/01/2006   \n",
       "2               NaN       03/01/2006           05:50:40        02/01/2006   \n",
       "3               NaN       03/01/2006           05:50:41        02/01/2006   \n",
       "4               NaN       03/01/2006           05:50:41        02/01/2006   \n",
       "\n",
       "  stm_sap_meldtijd stm_mon_begindatum stm_mon_begintijd  stm_contractgeb_mld  \\\n",
       "0              NaN                NaN               NaN                  NaN   \n",
       "1         09:00:00                NaN               NaN                  NaN   \n",
       "2         12:35:00         02/01/2006          12:35:00                  NaN   \n",
       "3         16:40:00         02/01/2006          16:40:00                  NaN   \n",
       "4         22:30:00         02/01/2006          22:30:00                  NaN   \n",
       "\n",
       "  stm_functiepl_mld stm_techn_mld  stm_contractgeb_gst stm_functiepl_gst  \\\n",
       "0               NaN           NaN                  NaN               NaN   \n",
       "1               624           NaN                 81.0               624   \n",
       "2               201           NaN                 37.0               201   \n",
       "3               025           NaN                 32.0               025   \n",
       "4               012           NaN                 35.0               012   \n",
       "\n",
       "  stm_techn_gst stm_aanngeb_dd stm_aanngeb_tijd stm_aanntpl_dd  \\\n",
       "0           NaN            NaN              NaN            NaN   \n",
       "1             S     02/01/2006         09:00:00            NaN   \n",
       "2             B     02/01/2006         12:35:00            NaN   \n",
       "3             B     02/01/2006         16:40:00            NaN   \n",
       "4             B     02/01/2006         22:30:00            NaN   \n",
       "\n",
       "  stm_aanntpl_tijd  stm_arbeid stm_progfh_in_datum stm_progfh_in_tijd  \\\n",
       "0              NaN         NaN                 NaN                NaN   \n",
       "1         00:00:00  99999999.0                 NaN           00:00:00   \n",
       "2         00:00:00  99999999.0                 NaN           00:00:00   \n",
       "3         00:00:00  99999999.0                 NaN           00:00:00   \n",
       "4         00:00:00  99999999.0                 NaN           00:00:00   \n",
       "\n",
       "  stm_progfh_in_invoer_dat stm_progfh_in_invoer_tijd stm_progfh_in_duur  \\\n",
       "0                      NaN                       NaN                NaN   \n",
       "1                      NaN                  00:00:00         99999999.0   \n",
       "2                      NaN                  00:00:00         99999999.0   \n",
       "3                      NaN                  00:00:00         99999999.0   \n",
       "4                      NaN                  00:00:00         99999999.0   \n",
       "\n",
       "  stm_progfh_gw_datum stm_progfh_gw_tijd  stm_progfh_gw_lwd_datum  \\\n",
       "0                 NaN                NaN                      NaN   \n",
       "1                 NaN           00:00:00                      NaN   \n",
       "2                 NaN           00:00:00                      NaN   \n",
       "3                 NaN           00:00:00                      NaN   \n",
       "4                 NaN           00:00:00                      NaN   \n",
       "\n",
       "  stm_progfh_gw_lwd_tijd stm_progfh_gw_duur  stm_progfh_gw_teller  \\\n",
       "0                    NaN                NaN                   NaN   \n",
       "1                    NaN         99999999.0                   0.0   \n",
       "2                    NaN         99999999.0                   0.0   \n",
       "3                    NaN         99999999.0                   0.0   \n",
       "4                    NaN         99999999.0                   0.0   \n",
       "\n",
       "  stm_afspr_aanvangdd stm_afspr_aanvangtijd   stm_fh_dd stm_fh_tijd  \\\n",
       "0                 NaN                   NaN         NaN         NaN   \n",
       "1          00/00/0000              00:00:00  02/01/2006    09:00:00   \n",
       "2          00/00/0000              00:00:00  02/01/2006    13:26:00   \n",
       "3          00/00/0000              00:00:00  02/01/2006    17:20:00   \n",
       "4          00/00/0000              00:00:00  02/01/2006    22:36:00   \n",
       "\n",
       "   stm_fh_duur  stm_reactie_duur stm_sap_storeinddatum stm_sap_storeindtijd  \\\n",
       "0          NaN               NaN                   NaN                  NaN   \n",
       "1          0.0        99999999.0            02/01/2006             09:00:00   \n",
       "2         51.0        99999999.0            02/01/2006             13:26:00   \n",
       "3         40.0        99999999.0            02/01/2006             17:20:00   \n",
       "4          6.0        99999999.0            02/01/2006             22:36:00   \n",
       "\n",
       "  stm_mon_eind_datum stm_mon_eind_tijd stm_controle_dd  \\\n",
       "0                NaN               NaN             NaN   \n",
       "1                NaN               NaN      05/01/2006   \n",
       "2                NaN               NaN      10/01/2006   \n",
       "3                NaN               NaN      11/01/2006   \n",
       "4                NaN               NaN      09/01/2006   \n",
       "\n",
       "  stm_akkoord_mon_toewijz  stm_status_sapnaarmon stm_fact_jn  \\\n",
       "0                     NaN                    NaN         NaN   \n",
       "1                       J                    NaN           N   \n",
       "2                       J                    1.0           N   \n",
       "3                       J                    1.0           N   \n",
       "4                       J                    1.0           N   \n",
       "\n",
       "  stm_akkoord_melding_jn      stm_afsluit_ddt stm_afsluit_dd stm_afsluit_tijd  \\\n",
       "0                    NaN                  NaN            NaN              NaN   \n",
       "1                      J  05/01/2009 15:10:09     05/01/2009         15:10:09   \n",
       "2                      J  05/01/2009 15:10:11     05/01/2009         15:10:11   \n",
       "3                      J  05/01/2009 15:10:13     05/01/2009         15:10:13   \n",
       "4                      J  05/01/2009 15:10:15     05/01/2009         15:10:15   \n",
       "\n",
       "    stm_rec_toegev_ddt stm_hinderwaarde stm_actie stm_standplaats  \\\n",
       "0                  NaN              NaN       NaN             NaN   \n",
       "1  02/01/2006 04:48:18              0.0       NaN             NaN   \n",
       "2  02/01/2006 05:50:40             0.85       NaN             NaN   \n",
       "3  02/01/2006 05:50:41             0.67       NaN             NaN   \n",
       "4  02/01/2006 05:50:41              0.1       NaN             NaN   \n",
       "\n",
       "  stm_status_gebr stm_wbi_nummer stm_projnr            stm_oorz_tekst_kort  \\\n",
       "0             NaN            NaN        NaN                            NaN   \n",
       "1             IN0     0000000000        NaN                            NaN   \n",
       "2         IN0  H5     0000000000        NaN       schapen op de spoorbaan!   \n",
       "3         IN0  H5     0000000000        NaN          Persoon langs de baan   \n",
       "4         IN0  H5     0000000000        NaN   Bijna aanrijding met persoon   \n",
       "\n",
       "  stm_historie_toelichting stm_schade_verhaalb_jn  stm_schadenr  \\\n",
       "0                      NaN                    NaN           NaN   \n",
       "1                      NaN                    NaN           0.0   \n",
       "2                      NaN                    NaN           0.0   \n",
       "3                      NaN                    NaN           0.0   \n",
       "4                      NaN                    NaN           0.0   \n",
       "\n",
       "  stm_schade_status_ga stm_schade_statusdatum stm_relatiervo_vorig  \\\n",
       "0                  NaN                    NaN                  NaN   \n",
       "1                  NaN                    0.0                  NaN   \n",
       "2                  NaN                    0.0                  NaN   \n",
       "3                  NaN                    0.0                  NaN   \n",
       "4                  NaN                    0.0                  NaN   \n",
       "\n",
       "  stm_relatiervo_volgend stm_relatiervo stm_pplg_van stm_pplg_naar  \\\n",
       "0                    NaN            NaN          NaN           NaN   \n",
       "1                    NaN     50053211.0          NaN           NaN   \n",
       "2                    NaN     50053213.0          NaN           NaN   \n",
       "3                    NaN     50053214.0          NaN           NaN   \n",
       "4                    NaN     50053215.0          NaN           NaN   \n",
       "\n",
       "  stm_dstrglp_van stm_dstrglp_naar stm_afspr_func_hersteldd  \\\n",
       "0             NaN              NaN                      NaN   \n",
       "1             NaN              NaN               00/00/0000   \n",
       "2              Lp              Apg               00/00/0000   \n",
       "3             Hgl              NaN               00/00/0000   \n",
       "4             Hgv              NaN               00/00/0000   \n",
       "\n",
       "  stm_afspr_func_hersteltijd stm_sorteerveld  stm_rapportage_maand  \\\n",
       "0                        NaN             NaN                     5   \n",
       "1                   00:00:00             NaN                     1   \n",
       "2                   00:00:00             NaN                     1   \n",
       "3                   00:00:00             NaN                     1   \n",
       "4                   00:00:00             NaN                     1   \n",
       "\n",
       "   stm_rapportage_jaar   stm_x_bron_publ_dt  \\\n",
       "0                 2014  07/05/2014 05:30:12   \n",
       "1                 2006  02/01/2006 09:00:00   \n",
       "2                 2006  02/01/2006 12:35:00   \n",
       "3                 2006  02/01/2006 16:40:00   \n",
       "4                 2006  02/01/2006 22:30:00   \n",
       "\n",
       "                             stm_x_bron_bestandsnaam   stm_x_bron_arch_dt  \\\n",
       "0  \\\\PUHAPS0149\\Informatica_Prod\\Inbox\\Informatic...  31/12/9999 00:00:00   \n",
       "1  \\\\PUHAPS0149\\Informatica_Prod\\Inbox\\Informatic...  31/12/9999 00:00:00   \n",
       "2  \\\\PUHAPS0149\\Informatica_Prod\\Inbox\\Informatic...  31/12/9999 00:00:00   \n",
       "3  \\\\PUHAPS0149\\Informatica_Prod\\Inbox\\Informatic...  31/12/9999 00:00:00   \n",
       "4  \\\\PUHAPS0149\\Informatica_Prod\\Inbox\\Informatic...  31/12/9999 00:00:00   \n",
       "\n",
       "   stm_x_actueel_ind  stm_x_run_id  stm_x_bk stm_x_start_sessie_dt  \\\n",
       "0                  1         34415   3617016   07/05/2014 05:44:24   \n",
       "1                  1          1518  12704590   13/06/2013 13:37:52   \n",
       "2                  1          1518  12704591   13/06/2013 13:37:52   \n",
       "3                  1          1518  12704592   13/06/2013 13:37:52   \n",
       "4                  1          1518  12704593   13/06/2013 13:37:52   \n",
       "\n",
       "   stm_x_vervallen_ind  \n",
       "0                    0  \n",
       "1                    0  \n",
       "2                    0  \n",
       "3                    0  \n",
       "4                    0  "
      ],
      "text/html": [
       "<div>\n",
       "<style scoped>\n",
       "    .dataframe tbody tr th:only-of-type {\n",
       "        vertical-align: middle;\n",
       "    }\n",
       "\n",
       "    .dataframe tbody tr th {\n",
       "        vertical-align: top;\n",
       "    }\n",
       "\n",
       "    .dataframe thead th {\n",
       "        text-align: right;\n",
       "    }\n",
       "</style>\n",
       "<table border=\"1\" class=\"dataframe\">\n",
       "  <thead>\n",
       "    <tr style=\"text-align: right;\">\n",
       "      <th></th>\n",
       "      <th>#stm_sap_meldnr</th>\n",
       "      <th>stm_mon_nr</th>\n",
       "      <th>stm_vl_post</th>\n",
       "      <th>stm_sap_meld_ddt</th>\n",
       "      <th>stm_sap_mon_meld_ddt</th>\n",
       "      <th>stm_sap_meldtekst_lang</th>\n",
       "      <th>stm_mon_begin_ddt</th>\n",
       "      <th>stm_sap_meldtekst</th>\n",
       "      <th>stm_mon_toelichting_trdl</th>\n",
       "      <th>stm_oh_pg_mld</th>\n",
       "      <th>stm_geo_mld</th>\n",
       "      <th>stm_geo_mld_uit_functiepl</th>\n",
       "      <th>stm_equipm_nr_mld</th>\n",
       "      <th>stm_equipm_soort_mld</th>\n",
       "      <th>stm_equipm_omschr_mld</th>\n",
       "      <th>stm_km_van_mld</th>\n",
       "      <th>stm_km_tot_mld</th>\n",
       "      <th>stm_prioriteit</th>\n",
       "      <th>stm_scenario_mon</th>\n",
       "      <th>stm_status_melding_sap</th>\n",
       "      <th>stm_mon_nr_status_omschr</th>\n",
       "      <th>stm_mon_nr__statuscode</th>\n",
       "      <th>stm_mon_nr_status_wijzdd</th>\n",
       "      <th>stm_aanngeb_ddt</th>\n",
       "      <th>stm_aanntpl_ddt</th>\n",
       "      <th>stm_oh_pg_gst</th>\n",
       "      <th>stm_geo_gst</th>\n",
       "      <th>stm_geo_gst_uit_functiepl</th>\n",
       "      <th>stm_equipm_nr_gst</th>\n",
       "      <th>stm_equipm_soort_gst</th>\n",
       "      <th>stm_equipm_omschr_gst</th>\n",
       "      <th>stm_objectdl_code_gst</th>\n",
       "      <th>stm_objectdl_groep_gst</th>\n",
       "      <th>stm_km_van_gst</th>\n",
       "      <th>stm_km_tot_gst</th>\n",
       "      <th>stm_progfh_in_ddt</th>\n",
       "      <th>stm_progfh_in_invoer_ddt</th>\n",
       "      <th>stm_progfh_gw_ddt</th>\n",
       "      <th>stm_progfh_gw_lwd_ddt</th>\n",
       "      <th>stm_progfh_hz</th>\n",
       "      <th>stm_oorz_groep</th>\n",
       "      <th>stm_oorz_code</th>\n",
       "      <th>stm_oorz_tkst</th>\n",
       "      <th>stm_veroorz_groep</th>\n",
       "      <th>stm_veroorz_code</th>\n",
       "      <th>stm_veroorz_tekst_kort</th>\n",
       "      <th>stm_effect</th>\n",
       "      <th>stm_afspr_aanvangddt</th>\n",
       "      <th>stm_fh_ddt</th>\n",
       "      <th>stm_fh_status</th>\n",
       "      <th>stm_sap_storeind_ddt</th>\n",
       "      <th>stm_mon_eind_ddt</th>\n",
       "      <th>stm_mon_vhdsincident</th>\n",
       "      <th>stm_tao_indicator</th>\n",
       "      <th>stm_tao_indicator_vorige</th>\n",
       "      <th>stm_tao_soort_mutatie</th>\n",
       "      <th>stm_tao_telling_mutatie</th>\n",
       "      <th>stm_tao_beinvloedbaar_indicator</th>\n",
       "      <th>stm_evb</th>\n",
       "      <th>stm_dir_betrok_tr</th>\n",
       "      <th>stm_aangelegd_dd</th>\n",
       "      <th>stm_aangelegd_tijd</th>\n",
       "      <th>stm_sap_melddatum</th>\n",
       "      <th>stm_sap_meldtijd</th>\n",
       "      <th>stm_mon_begindatum</th>\n",
       "      <th>stm_mon_begintijd</th>\n",
       "      <th>stm_contractgeb_mld</th>\n",
       "      <th>stm_functiepl_mld</th>\n",
       "      <th>stm_techn_mld</th>\n",
       "      <th>stm_contractgeb_gst</th>\n",
       "      <th>stm_functiepl_gst</th>\n",
       "      <th>stm_techn_gst</th>\n",
       "      <th>stm_aanngeb_dd</th>\n",
       "      <th>stm_aanngeb_tijd</th>\n",
       "      <th>stm_aanntpl_dd</th>\n",
       "      <th>stm_aanntpl_tijd</th>\n",
       "      <th>stm_arbeid</th>\n",
       "      <th>stm_progfh_in_datum</th>\n",
       "      <th>stm_progfh_in_tijd</th>\n",
       "      <th>stm_progfh_in_invoer_dat</th>\n",
       "      <th>stm_progfh_in_invoer_tijd</th>\n",
       "      <th>stm_progfh_in_duur</th>\n",
       "      <th>stm_progfh_gw_datum</th>\n",
       "      <th>stm_progfh_gw_tijd</th>\n",
       "      <th>stm_progfh_gw_lwd_datum</th>\n",
       "      <th>stm_progfh_gw_lwd_tijd</th>\n",
       "      <th>stm_progfh_gw_duur</th>\n",
       "      <th>stm_progfh_gw_teller</th>\n",
       "      <th>stm_afspr_aanvangdd</th>\n",
       "      <th>stm_afspr_aanvangtijd</th>\n",
       "      <th>stm_fh_dd</th>\n",
       "      <th>stm_fh_tijd</th>\n",
       "      <th>stm_fh_duur</th>\n",
       "      <th>stm_reactie_duur</th>\n",
       "      <th>stm_sap_storeinddatum</th>\n",
       "      <th>stm_sap_storeindtijd</th>\n",
       "      <th>stm_mon_eind_datum</th>\n",
       "      <th>stm_mon_eind_tijd</th>\n",
       "      <th>stm_controle_dd</th>\n",
       "      <th>stm_akkoord_mon_toewijz</th>\n",
       "      <th>stm_status_sapnaarmon</th>\n",
       "      <th>stm_fact_jn</th>\n",
       "      <th>stm_akkoord_melding_jn</th>\n",
       "      <th>stm_afsluit_ddt</th>\n",
       "      <th>stm_afsluit_dd</th>\n",
       "      <th>stm_afsluit_tijd</th>\n",
       "      <th>stm_rec_toegev_ddt</th>\n",
       "      <th>stm_hinderwaarde</th>\n",
       "      <th>stm_actie</th>\n",
       "      <th>stm_standplaats</th>\n",
       "      <th>stm_status_gebr</th>\n",
       "      <th>stm_wbi_nummer</th>\n",
       "      <th>stm_projnr</th>\n",
       "      <th>stm_oorz_tekst_kort</th>\n",
       "      <th>stm_historie_toelichting</th>\n",
       "      <th>stm_schade_verhaalb_jn</th>\n",
       "      <th>stm_schadenr</th>\n",
       "      <th>stm_schade_status_ga</th>\n",
       "      <th>stm_schade_statusdatum</th>\n",
       "      <th>stm_relatiervo_vorig</th>\n",
       "      <th>stm_relatiervo_volgend</th>\n",
       "      <th>stm_relatiervo</th>\n",
       "      <th>stm_pplg_van</th>\n",
       "      <th>stm_pplg_naar</th>\n",
       "      <th>stm_dstrglp_van</th>\n",
       "      <th>stm_dstrglp_naar</th>\n",
       "      <th>stm_afspr_func_hersteldd</th>\n",
       "      <th>stm_afspr_func_hersteltijd</th>\n",
       "      <th>stm_sorteerveld</th>\n",
       "      <th>stm_rapportage_maand</th>\n",
       "      <th>stm_rapportage_jaar</th>\n",
       "      <th>stm_x_bron_publ_dt</th>\n",
       "      <th>stm_x_bron_bestandsnaam</th>\n",
       "      <th>stm_x_bron_arch_dt</th>\n",
       "      <th>stm_x_actueel_ind</th>\n",
       "      <th>stm_x_run_id</th>\n",
       "      <th>stm_x_bk</th>\n",
       "      <th>stm_x_start_sessie_dt</th>\n",
       "      <th>stm_x_vervallen_ind</th>\n",
       "    </tr>\n",
       "  </thead>\n",
       "  <tbody>\n",
       "    <tr>\n",
       "      <th>0</th>\n",
       "      <td>0</td>\n",
       "      <td>NaN</td>\n",
       "      <td>NaN</td>\n",
       "      <td>NaN</td>\n",
       "      <td>NaN</td>\n",
       "      <td>NaN</td>\n",
       "      <td>NaN</td>\n",
       "      <td>NaN</td>\n",
       "      <td>NaN</td>\n",
       "      <td>NaN</td>\n",
       "      <td>NaN</td>\n",
       "      <td>NaN</td>\n",
       "      <td>NaN</td>\n",
       "      <td>NaN</td>\n",
       "      <td>NaN</td>\n",
       "      <td>NaN</td>\n",
       "      <td>NaN</td>\n",
       "      <td>NaN</td>\n",
       "      <td>NaN</td>\n",
       "      <td>NaN</td>\n",
       "      <td>NaN</td>\n",
       "      <td>NaN</td>\n",
       "      <td>NaN</td>\n",
       "      <td>NaN</td>\n",
       "      <td>NaN</td>\n",
       "      <td>NaN</td>\n",
       "      <td>NaN</td>\n",
       "      <td>NaN</td>\n",
       "      <td>NaN</td>\n",
       "      <td>NaN</td>\n",
       "      <td>NaN</td>\n",
       "      <td>NaN</td>\n",
       "      <td>NaN</td>\n",
       "      <td>NaN</td>\n",
       "      <td>NaN</td>\n",
       "      <td>NaN</td>\n",
       "      <td>NaN</td>\n",
       "      <td>NaN</td>\n",
       "      <td>NaN</td>\n",
       "      <td>NaN</td>\n",
       "      <td>NaN</td>\n",
       "      <td>NaN</td>\n",
       "      <td>NaN</td>\n",
       "      <td>NaN</td>\n",
       "      <td>NaN</td>\n",
       "      <td>NaN</td>\n",
       "      <td>NaN</td>\n",
       "      <td>NaN</td>\n",
       "      <td>NaN</td>\n",
       "      <td>NaN</td>\n",
       "      <td>NaN</td>\n",
       "      <td>NaN</td>\n",
       "      <td>NaN</td>\n",
       "      <td>N</td>\n",
       "      <td>NaN</td>\n",
       "      <td>NaN</td>\n",
       "      <td>0</td>\n",
       "      <td>B</td>\n",
       "      <td>NaN</td>\n",
       "      <td>NaN</td>\n",
       "      <td>NaN</td>\n",
       "      <td>NaN</td>\n",
       "      <td>NaN</td>\n",
       "      <td>NaN</td>\n",
       "      <td>NaN</td>\n",
       "      <td>NaN</td>\n",
       "      <td>NaN</td>\n",
       "      <td>NaN</td>\n",
       "      <td>NaN</td>\n",
       "      <td>NaN</td>\n",
       "      <td>NaN</td>\n",
       "      <td>NaN</td>\n",
       "      <td>NaN</td>\n",
       "      <td>NaN</td>\n",
       "      <td>NaN</td>\n",
       "      <td>NaN</td>\n",
       "      <td>NaN</td>\n",
       "      <td>NaN</td>\n",
       "      <td>NaN</td>\n",
       "      <td>NaN</td>\n",
       "      <td>NaN</td>\n",
       "      <td>NaN</td>\n",
       "      <td>NaN</td>\n",
       "      <td>NaN</td>\n",
       "      <td>NaN</td>\n",
       "      <td>NaN</td>\n",
       "      <td>NaN</td>\n",
       "      <td>NaN</td>\n",
       "      <td>NaN</td>\n",
       "      <td>NaN</td>\n",
       "      <td>NaN</td>\n",
       "      <td>NaN</td>\n",
       "      <td>NaN</td>\n",
       "      <td>NaN</td>\n",
       "      <td>NaN</td>\n",
       "      <td>NaN</td>\n",
       "      <td>NaN</td>\n",
       "      <td>NaN</td>\n",
       "      <td>NaN</td>\n",
       "      <td>NaN</td>\n",
       "      <td>NaN</td>\n",
       "      <td>NaN</td>\n",
       "      <td>NaN</td>\n",
       "      <td>NaN</td>\n",
       "      <td>NaN</td>\n",
       "      <td>NaN</td>\n",
       "      <td>NaN</td>\n",
       "      <td>NaN</td>\n",
       "      <td>NaN</td>\n",
       "      <td>NaN</td>\n",
       "      <td>NaN</td>\n",
       "      <td>NaN</td>\n",
       "      <td>NaN</td>\n",
       "      <td>NaN</td>\n",
       "      <td>NaN</td>\n",
       "      <td>NaN</td>\n",
       "      <td>NaN</td>\n",
       "      <td>NaN</td>\n",
       "      <td>NaN</td>\n",
       "      <td>NaN</td>\n",
       "      <td>NaN</td>\n",
       "      <td>NaN</td>\n",
       "      <td>NaN</td>\n",
       "      <td>NaN</td>\n",
       "      <td>NaN</td>\n",
       "      <td>NaN</td>\n",
       "      <td>NaN</td>\n",
       "      <td>NaN</td>\n",
       "      <td>NaN</td>\n",
       "      <td>5</td>\n",
       "      <td>2014</td>\n",
       "      <td>07/05/2014 05:30:12</td>\n",
       "      <td>\\\\PUHAPS0149\\Informatica_Prod\\Inbox\\Informatic...</td>\n",
       "      <td>31/12/9999 00:00:00</td>\n",
       "      <td>1</td>\n",
       "      <td>34415</td>\n",
       "      <td>3617016</td>\n",
       "      <td>07/05/2014 05:44:24</td>\n",
       "      <td>0</td>\n",
       "    </tr>\n",
       "    <tr>\n",
       "      <th>1</th>\n",
       "      <td>50053211</td>\n",
       "      <td>0.0</td>\n",
       "      <td>NaN</td>\n",
       "      <td>02/01/2006 09:00:00</td>\n",
       "      <td>02/01/2006 09:00:00</td>\n",
       "      <td>Logboeknr  Geeltje  :   49 Tijd: 0900   VL-Po...</td>\n",
       "      <td>NaN</td>\n",
       "      <td>Logboeknr  Geeltje  :   49 Tijd: 0900</td>\n",
       "      <td>NaN</td>\n",
       "      <td>NaN</td>\n",
       "      <td>624.0</td>\n",
       "      <td>624.0</td>\n",
       "      <td>NaN</td>\n",
       "      <td>NaN</td>\n",
       "      <td>NaN</td>\n",
       "      <td>0.0</td>\n",
       "      <td>0.0</td>\n",
       "      <td>9.0</td>\n",
       "      <td>NaN</td>\n",
       "      <td>MAFS MAFD</td>\n",
       "      <td>NaN</td>\n",
       "      <td>NaN</td>\n",
       "      <td>00/00/0000</td>\n",
       "      <td>02/01/2006 09:00:00</td>\n",
       "      <td>NaN</td>\n",
       "      <td>81S</td>\n",
       "      <td>624.0</td>\n",
       "      <td>624.0</td>\n",
       "      <td>NaN</td>\n",
       "      <td>NaN</td>\n",
       "      <td>NaN</td>\n",
       "      <td>NaN</td>\n",
       "      <td>NaN</td>\n",
       "      <td>0.0</td>\n",
       "      <td>0.0</td>\n",
       "      <td>NaN</td>\n",
       "      <td>NaN</td>\n",
       "      <td>NaN</td>\n",
       "      <td>NaN</td>\n",
       "      <td>Z</td>\n",
       "      <td>ONR-RIB</td>\n",
       "      <td>133.0</td>\n",
       "      <td>Papieren ontbreken</td>\n",
       "      <td>ONREGRIB</td>\n",
       "      <td>B</td>\n",
       "      <td>Volker</td>\n",
       "      <td>NaN</td>\n",
       "      <td>NaN</td>\n",
       "      <td>02/01/2006 09:00:00</td>\n",
       "      <td>4.0</td>\n",
       "      <td>02/01/2006 09:00:00</td>\n",
       "      <td>NaN</td>\n",
       "      <td>NaN</td>\n",
       "      <td>N</td>\n",
       "      <td>NaN</td>\n",
       "      <td>NaN</td>\n",
       "      <td>0</td>\n",
       "      <td>B</td>\n",
       "      <td>0,00</td>\n",
       "      <td>NaN</td>\n",
       "      <td>03/01/2006</td>\n",
       "      <td>04:48:18</td>\n",
       "      <td>02/01/2006</td>\n",
       "      <td>09:00:00</td>\n",
       "      <td>NaN</td>\n",
       "      <td>NaN</td>\n",
       "      <td>NaN</td>\n",
       "      <td>624</td>\n",
       "      <td>NaN</td>\n",
       "      <td>81.0</td>\n",
       "      <td>624</td>\n",
       "      <td>S</td>\n",
       "      <td>02/01/2006</td>\n",
       "      <td>09:00:00</td>\n",
       "      <td>NaN</td>\n",
       "      <td>00:00:00</td>\n",
       "      <td>99999999.0</td>\n",
       "      <td>NaN</td>\n",
       "      <td>00:00:00</td>\n",
       "      <td>NaN</td>\n",
       "      <td>00:00:00</td>\n",
       "      <td>99999999.0</td>\n",
       "      <td>NaN</td>\n",
       "      <td>00:00:00</td>\n",
       "      <td>NaN</td>\n",
       "      <td>NaN</td>\n",
       "      <td>99999999.0</td>\n",
       "      <td>0.0</td>\n",
       "      <td>00/00/0000</td>\n",
       "      <td>00:00:00</td>\n",
       "      <td>02/01/2006</td>\n",
       "      <td>09:00:00</td>\n",
       "      <td>0.0</td>\n",
       "      <td>99999999.0</td>\n",
       "      <td>02/01/2006</td>\n",
       "      <td>09:00:00</td>\n",
       "      <td>NaN</td>\n",
       "      <td>NaN</td>\n",
       "      <td>05/01/2006</td>\n",
       "      <td>J</td>\n",
       "      <td>NaN</td>\n",
       "      <td>N</td>\n",
       "      <td>J</td>\n",
       "      <td>05/01/2009 15:10:09</td>\n",
       "      <td>05/01/2009</td>\n",
       "      <td>15:10:09</td>\n",
       "      <td>02/01/2006 04:48:18</td>\n",
       "      <td>0.0</td>\n",
       "      <td>NaN</td>\n",
       "      <td>NaN</td>\n",
       "      <td>IN0</td>\n",
       "      <td>0000000000</td>\n",
       "      <td>NaN</td>\n",
       "      <td>NaN</td>\n",
       "      <td>NaN</td>\n",
       "      <td>NaN</td>\n",
       "      <td>0.0</td>\n",
       "      <td>NaN</td>\n",
       "      <td>0.0</td>\n",
       "      <td>NaN</td>\n",
       "      <td>NaN</td>\n",
       "      <td>50053211.0</td>\n",
       "      <td>NaN</td>\n",
       "      <td>NaN</td>\n",
       "      <td>NaN</td>\n",
       "      <td>NaN</td>\n",
       "      <td>00/00/0000</td>\n",
       "      <td>00:00:00</td>\n",
       "      <td>NaN</td>\n",
       "      <td>1</td>\n",
       "      <td>2006</td>\n",
       "      <td>02/01/2006 09:00:00</td>\n",
       "      <td>\\\\PUHAPS0149\\Informatica_Prod\\Inbox\\Informatic...</td>\n",
       "      <td>31/12/9999 00:00:00</td>\n",
       "      <td>1</td>\n",
       "      <td>1518</td>\n",
       "      <td>12704590</td>\n",
       "      <td>13/06/2013 13:37:52</td>\n",
       "      <td>0</td>\n",
       "    </tr>\n",
       "    <tr>\n",
       "      <th>2</th>\n",
       "      <td>50053213</td>\n",
       "      <td>48.0</td>\n",
       "      <td>GN</td>\n",
       "      <td>02/01/2006 12:35:00</td>\n",
       "      <td>02/01/2006 12:35:00</td>\n",
       "      <td>Logboeknr  RBV  :   48 Tijd: 1235   VL-Post: ...</td>\n",
       "      <td>02/01/2006 12:35:00</td>\n",
       "      <td>Logboeknr  RBV  :   48 Tijd: 1235   VL-P</td>\n",
       "      <td>NaN</td>\n",
       "      <td>NaN</td>\n",
       "      <td>201.0</td>\n",
       "      <td>201.0</td>\n",
       "      <td>NaN</td>\n",
       "      <td>NaN</td>\n",
       "      <td>NaN</td>\n",
       "      <td>0.0</td>\n",
       "      <td>0.0</td>\n",
       "      <td>9.0</td>\n",
       "      <td>NaN</td>\n",
       "      <td>MAFS</td>\n",
       "      <td>Aan AM toegewezen</td>\n",
       "      <td>0.0</td>\n",
       "      <td>03/01/2006</td>\n",
       "      <td>02/01/2006 12:35:00</td>\n",
       "      <td>NaN</td>\n",
       "      <td>37B</td>\n",
       "      <td>201.0</td>\n",
       "      <td>201.0</td>\n",
       "      <td>NaN</td>\n",
       "      <td>NaN</td>\n",
       "      <td>NaN</td>\n",
       "      <td>NaN</td>\n",
       "      <td>NaN</td>\n",
       "      <td>30200.0</td>\n",
       "      <td>0.0</td>\n",
       "      <td>NaN</td>\n",
       "      <td>NaN</td>\n",
       "      <td>NaN</td>\n",
       "      <td>NaN</td>\n",
       "      <td>Z</td>\n",
       "      <td>ONR-DERD</td>\n",
       "      <td>143.0</td>\n",
       "      <td>NaN</td>\n",
       "      <td>ONREGDER</td>\n",
       "      <td>T</td>\n",
       "      <td>NaN</td>\n",
       "      <td>NaN</td>\n",
       "      <td>NaN</td>\n",
       "      <td>02/01/2006 13:26:00</td>\n",
       "      <td>4.0</td>\n",
       "      <td>02/01/2006 13:26:00</td>\n",
       "      <td>NaN</td>\n",
       "      <td>NaN</td>\n",
       "      <td>N</td>\n",
       "      <td>NaN</td>\n",
       "      <td>NaN</td>\n",
       "      <td>0</td>\n",
       "      <td>NB</td>\n",
       "      <td>0,00</td>\n",
       "      <td>NaN</td>\n",
       "      <td>03/01/2006</td>\n",
       "      <td>05:50:40</td>\n",
       "      <td>02/01/2006</td>\n",
       "      <td>12:35:00</td>\n",
       "      <td>02/01/2006</td>\n",
       "      <td>12:35:00</td>\n",
       "      <td>NaN</td>\n",
       "      <td>201</td>\n",
       "      <td>NaN</td>\n",
       "      <td>37.0</td>\n",
       "      <td>201</td>\n",
       "      <td>B</td>\n",
       "      <td>02/01/2006</td>\n",
       "      <td>12:35:00</td>\n",
       "      <td>NaN</td>\n",
       "      <td>00:00:00</td>\n",
       "      <td>99999999.0</td>\n",
       "      <td>NaN</td>\n",
       "      <td>00:00:00</td>\n",
       "      <td>NaN</td>\n",
       "      <td>00:00:00</td>\n",
       "      <td>99999999.0</td>\n",
       "      <td>NaN</td>\n",
       "      <td>00:00:00</td>\n",
       "      <td>NaN</td>\n",
       "      <td>NaN</td>\n",
       "      <td>99999999.0</td>\n",
       "      <td>0.0</td>\n",
       "      <td>00/00/0000</td>\n",
       "      <td>00:00:00</td>\n",
       "      <td>02/01/2006</td>\n",
       "      <td>13:26:00</td>\n",
       "      <td>51.0</td>\n",
       "      <td>99999999.0</td>\n",
       "      <td>02/01/2006</td>\n",
       "      <td>13:26:00</td>\n",
       "      <td>NaN</td>\n",
       "      <td>NaN</td>\n",
       "      <td>10/01/2006</td>\n",
       "      <td>J</td>\n",
       "      <td>1.0</td>\n",
       "      <td>N</td>\n",
       "      <td>J</td>\n",
       "      <td>05/01/2009 15:10:11</td>\n",
       "      <td>05/01/2009</td>\n",
       "      <td>15:10:11</td>\n",
       "      <td>02/01/2006 05:50:40</td>\n",
       "      <td>0.85</td>\n",
       "      <td>NaN</td>\n",
       "      <td>NaN</td>\n",
       "      <td>IN0  H5</td>\n",
       "      <td>0000000000</td>\n",
       "      <td>NaN</td>\n",
       "      <td>schapen op de spoorbaan!</td>\n",
       "      <td>NaN</td>\n",
       "      <td>NaN</td>\n",
       "      <td>0.0</td>\n",
       "      <td>NaN</td>\n",
       "      <td>0.0</td>\n",
       "      <td>NaN</td>\n",
       "      <td>NaN</td>\n",
       "      <td>50053213.0</td>\n",
       "      <td>NaN</td>\n",
       "      <td>NaN</td>\n",
       "      <td>Lp</td>\n",
       "      <td>Apg</td>\n",
       "      <td>00/00/0000</td>\n",
       "      <td>00:00:00</td>\n",
       "      <td>NaN</td>\n",
       "      <td>1</td>\n",
       "      <td>2006</td>\n",
       "      <td>02/01/2006 12:35:00</td>\n",
       "      <td>\\\\PUHAPS0149\\Informatica_Prod\\Inbox\\Informatic...</td>\n",
       "      <td>31/12/9999 00:00:00</td>\n",
       "      <td>1</td>\n",
       "      <td>1518</td>\n",
       "      <td>12704591</td>\n",
       "      <td>13/06/2013 13:37:52</td>\n",
       "      <td>0</td>\n",
       "    </tr>\n",
       "    <tr>\n",
       "      <th>3</th>\n",
       "      <td>50053214</td>\n",
       "      <td>72.0</td>\n",
       "      <td>ZL</td>\n",
       "      <td>02/01/2006 16:40:00</td>\n",
       "      <td>02/01/2006 16:40:00</td>\n",
       "      <td>Logboeknr  RBV  :   72 Tijd: 1640   VL-Post: ...</td>\n",
       "      <td>02/01/2006 16:40:00</td>\n",
       "      <td>Logboeknr  RBV  :   72 Tijd: 1640   VL-P</td>\n",
       "      <td>NaN</td>\n",
       "      <td>NaN</td>\n",
       "      <td>25.0</td>\n",
       "      <td>25.0</td>\n",
       "      <td>NaN</td>\n",
       "      <td>NaN</td>\n",
       "      <td>NaN</td>\n",
       "      <td>0.0</td>\n",
       "      <td>0.0</td>\n",
       "      <td>9.0</td>\n",
       "      <td>NaN</td>\n",
       "      <td>MAFS MAFD</td>\n",
       "      <td>Aan AM toegewezen</td>\n",
       "      <td>0.0</td>\n",
       "      <td>03/01/2006</td>\n",
       "      <td>02/01/2006 16:40:00</td>\n",
       "      <td>NaN</td>\n",
       "      <td>32B</td>\n",
       "      <td>25.0</td>\n",
       "      <td>25.0</td>\n",
       "      <td>NaN</td>\n",
       "      <td>NaN</td>\n",
       "      <td>NaN</td>\n",
       "      <td>NaN</td>\n",
       "      <td>NaN</td>\n",
       "      <td>14000.0</td>\n",
       "      <td>0.0</td>\n",
       "      <td>NaN</td>\n",
       "      <td>NaN</td>\n",
       "      <td>NaN</td>\n",
       "      <td>NaN</td>\n",
       "      <td>Z</td>\n",
       "      <td>ONR-DERD</td>\n",
       "      <td>142.0</td>\n",
       "      <td>NaN</td>\n",
       "      <td>ONREGDER</td>\n",
       "      <td>T</td>\n",
       "      <td>NaN</td>\n",
       "      <td>NaN</td>\n",
       "      <td>NaN</td>\n",
       "      <td>02/01/2006 17:20:00</td>\n",
       "      <td>4.0</td>\n",
       "      <td>02/01/2006 17:20:00</td>\n",
       "      <td>NaN</td>\n",
       "      <td>NaN</td>\n",
       "      <td>N</td>\n",
       "      <td>NaN</td>\n",
       "      <td>NaN</td>\n",
       "      <td>0</td>\n",
       "      <td>NB</td>\n",
       "      <td>0,00</td>\n",
       "      <td>NaN</td>\n",
       "      <td>03/01/2006</td>\n",
       "      <td>05:50:41</td>\n",
       "      <td>02/01/2006</td>\n",
       "      <td>16:40:00</td>\n",
       "      <td>02/01/2006</td>\n",
       "      <td>16:40:00</td>\n",
       "      <td>NaN</td>\n",
       "      <td>025</td>\n",
       "      <td>NaN</td>\n",
       "      <td>32.0</td>\n",
       "      <td>025</td>\n",
       "      <td>B</td>\n",
       "      <td>02/01/2006</td>\n",
       "      <td>16:40:00</td>\n",
       "      <td>NaN</td>\n",
       "      <td>00:00:00</td>\n",
       "      <td>99999999.0</td>\n",
       "      <td>NaN</td>\n",
       "      <td>00:00:00</td>\n",
       "      <td>NaN</td>\n",
       "      <td>00:00:00</td>\n",
       "      <td>99999999.0</td>\n",
       "      <td>NaN</td>\n",
       "      <td>00:00:00</td>\n",
       "      <td>NaN</td>\n",
       "      <td>NaN</td>\n",
       "      <td>99999999.0</td>\n",
       "      <td>0.0</td>\n",
       "      <td>00/00/0000</td>\n",
       "      <td>00:00:00</td>\n",
       "      <td>02/01/2006</td>\n",
       "      <td>17:20:00</td>\n",
       "      <td>40.0</td>\n",
       "      <td>99999999.0</td>\n",
       "      <td>02/01/2006</td>\n",
       "      <td>17:20:00</td>\n",
       "      <td>NaN</td>\n",
       "      <td>NaN</td>\n",
       "      <td>11/01/2006</td>\n",
       "      <td>J</td>\n",
       "      <td>1.0</td>\n",
       "      <td>N</td>\n",
       "      <td>J</td>\n",
       "      <td>05/01/2009 15:10:13</td>\n",
       "      <td>05/01/2009</td>\n",
       "      <td>15:10:13</td>\n",
       "      <td>02/01/2006 05:50:41</td>\n",
       "      <td>0.67</td>\n",
       "      <td>NaN</td>\n",
       "      <td>NaN</td>\n",
       "      <td>IN0  H5</td>\n",
       "      <td>0000000000</td>\n",
       "      <td>NaN</td>\n",
       "      <td>Persoon langs de baan</td>\n",
       "      <td>NaN</td>\n",
       "      <td>NaN</td>\n",
       "      <td>0.0</td>\n",
       "      <td>NaN</td>\n",
       "      <td>0.0</td>\n",
       "      <td>NaN</td>\n",
       "      <td>NaN</td>\n",
       "      <td>50053214.0</td>\n",
       "      <td>NaN</td>\n",
       "      <td>NaN</td>\n",
       "      <td>Hgl</td>\n",
       "      <td>NaN</td>\n",
       "      <td>00/00/0000</td>\n",
       "      <td>00:00:00</td>\n",
       "      <td>NaN</td>\n",
       "      <td>1</td>\n",
       "      <td>2006</td>\n",
       "      <td>02/01/2006 16:40:00</td>\n",
       "      <td>\\\\PUHAPS0149\\Informatica_Prod\\Inbox\\Informatic...</td>\n",
       "      <td>31/12/9999 00:00:00</td>\n",
       "      <td>1</td>\n",
       "      <td>1518</td>\n",
       "      <td>12704592</td>\n",
       "      <td>13/06/2013 13:37:52</td>\n",
       "      <td>0</td>\n",
       "    </tr>\n",
       "    <tr>\n",
       "      <th>4</th>\n",
       "      <td>50053215</td>\n",
       "      <td>96.0</td>\n",
       "      <td>ZL</td>\n",
       "      <td>02/01/2006 22:30:00</td>\n",
       "      <td>02/01/2006 22:30:00</td>\n",
       "      <td>Logboeknr  RBV  :   96 Tijd: 2230   VL-Post: ...</td>\n",
       "      <td>02/01/2006 22:30:00</td>\n",
       "      <td>Logboeknr  RBV  :   96 Tijd: 2230   VL-P</td>\n",
       "      <td>NaN</td>\n",
       "      <td>NaN</td>\n",
       "      <td>12.0</td>\n",
       "      <td>12.0</td>\n",
       "      <td>NaN</td>\n",
       "      <td>NaN</td>\n",
       "      <td>NaN</td>\n",
       "      <td>0.0</td>\n",
       "      <td>0.0</td>\n",
       "      <td>9.0</td>\n",
       "      <td>NaN</td>\n",
       "      <td>MAFS</td>\n",
       "      <td>Aan AM toegewezen</td>\n",
       "      <td>0.0</td>\n",
       "      <td>03/01/2006</td>\n",
       "      <td>02/01/2006 22:30:00</td>\n",
       "      <td>NaN</td>\n",
       "      <td>35B</td>\n",
       "      <td>12.0</td>\n",
       "      <td>12.0</td>\n",
       "      <td>NaN</td>\n",
       "      <td>NaN</td>\n",
       "      <td>NaN</td>\n",
       "      <td>NaN</td>\n",
       "      <td>NaN</td>\n",
       "      <td>19819.0</td>\n",
       "      <td>0.0</td>\n",
       "      <td>NaN</td>\n",
       "      <td>NaN</td>\n",
       "      <td>NaN</td>\n",
       "      <td>NaN</td>\n",
       "      <td>Z</td>\n",
       "      <td>ONR-DERD</td>\n",
       "      <td>142.0</td>\n",
       "      <td>NaN</td>\n",
       "      <td>ONREGDER</td>\n",
       "      <td>T</td>\n",
       "      <td>NaN</td>\n",
       "      <td>NaN</td>\n",
       "      <td>NaN</td>\n",
       "      <td>02/01/2006 22:36:00</td>\n",
       "      <td>4.0</td>\n",
       "      <td>02/01/2006 22:36:00</td>\n",
       "      <td>NaN</td>\n",
       "      <td>NaN</td>\n",
       "      <td>N</td>\n",
       "      <td>NaN</td>\n",
       "      <td>NaN</td>\n",
       "      <td>0</td>\n",
       "      <td>NB</td>\n",
       "      <td>0,00</td>\n",
       "      <td>NaN</td>\n",
       "      <td>03/01/2006</td>\n",
       "      <td>05:50:41</td>\n",
       "      <td>02/01/2006</td>\n",
       "      <td>22:30:00</td>\n",
       "      <td>02/01/2006</td>\n",
       "      <td>22:30:00</td>\n",
       "      <td>NaN</td>\n",
       "      <td>012</td>\n",
       "      <td>NaN</td>\n",
       "      <td>35.0</td>\n",
       "      <td>012</td>\n",
       "      <td>B</td>\n",
       "      <td>02/01/2006</td>\n",
       "      <td>22:30:00</td>\n",
       "      <td>NaN</td>\n",
       "      <td>00:00:00</td>\n",
       "      <td>99999999.0</td>\n",
       "      <td>NaN</td>\n",
       "      <td>00:00:00</td>\n",
       "      <td>NaN</td>\n",
       "      <td>00:00:00</td>\n",
       "      <td>99999999.0</td>\n",
       "      <td>NaN</td>\n",
       "      <td>00:00:00</td>\n",
       "      <td>NaN</td>\n",
       "      <td>NaN</td>\n",
       "      <td>99999999.0</td>\n",
       "      <td>0.0</td>\n",
       "      <td>00/00/0000</td>\n",
       "      <td>00:00:00</td>\n",
       "      <td>02/01/2006</td>\n",
       "      <td>22:36:00</td>\n",
       "      <td>6.0</td>\n",
       "      <td>99999999.0</td>\n",
       "      <td>02/01/2006</td>\n",
       "      <td>22:36:00</td>\n",
       "      <td>NaN</td>\n",
       "      <td>NaN</td>\n",
       "      <td>09/01/2006</td>\n",
       "      <td>J</td>\n",
       "      <td>1.0</td>\n",
       "      <td>N</td>\n",
       "      <td>J</td>\n",
       "      <td>05/01/2009 15:10:15</td>\n",
       "      <td>05/01/2009</td>\n",
       "      <td>15:10:15</td>\n",
       "      <td>02/01/2006 05:50:41</td>\n",
       "      <td>0.1</td>\n",
       "      <td>NaN</td>\n",
       "      <td>NaN</td>\n",
       "      <td>IN0  H5</td>\n",
       "      <td>0000000000</td>\n",
       "      <td>NaN</td>\n",
       "      <td>Bijna aanrijding met persoon</td>\n",
       "      <td>NaN</td>\n",
       "      <td>NaN</td>\n",
       "      <td>0.0</td>\n",
       "      <td>NaN</td>\n",
       "      <td>0.0</td>\n",
       "      <td>NaN</td>\n",
       "      <td>NaN</td>\n",
       "      <td>50053215.0</td>\n",
       "      <td>NaN</td>\n",
       "      <td>NaN</td>\n",
       "      <td>Hgv</td>\n",
       "      <td>NaN</td>\n",
       "      <td>00/00/0000</td>\n",
       "      <td>00:00:00</td>\n",
       "      <td>NaN</td>\n",
       "      <td>1</td>\n",
       "      <td>2006</td>\n",
       "      <td>02/01/2006 22:30:00</td>\n",
       "      <td>\\\\PUHAPS0149\\Informatica_Prod\\Inbox\\Informatic...</td>\n",
       "      <td>31/12/9999 00:00:00</td>\n",
       "      <td>1</td>\n",
       "      <td>1518</td>\n",
       "      <td>12704593</td>\n",
       "      <td>13/06/2013 13:37:52</td>\n",
       "      <td>0</td>\n",
       "    </tr>\n",
       "  </tbody>\n",
       "</table>\n",
       "</div>"
      ]
     },
     "execution_count": 3,
     "metadata": {},
     "output_type": "execute_result"
    }
   ],
   "execution_count": 3
  },
  {
   "cell_type": "markdown",
   "id": "f93661ae-9883-4516-8494-fe848fe0fb4c",
   "metadata": {},
   "source": [
    "Er zijn een aantal kolommen waar helemaal geen waardes in staan. Die gaan we er dus uit filteren, aangeien we er niks aan hebben."
   ]
  },
  {
   "cell_type": "code",
   "id": "bdeb20e0-7b8e-49eb-a091-5c749e2dd68c",
   "metadata": {
    "tags": [],
    "ExecuteTime": {
     "end_time": "2025-07-16T17:40:27.799675Z",
     "start_time": "2025-07-16T17:40:27.507157Z"
    }
   },
   "source": [
    "df = df[[\n",
    "    \"stm_mon_nr\", \"stm_vl_post\", \"stm_sap_meld_ddt\", \"stm_sap_meldtekst_lang\",\n",
    "    \"stm_sap_meldtekst\", \"stm_geo_mld\", \"stm_equipm_nr_mld\", \"stm_equipm_soort_mld\",\n",
    "    \"stm_equipm_omschr_mld\", \"stm_km_van_mld\", \"stm_km_tot_mld\", \"stm_prioriteit\",\n",
    "    \"stm_aanngeb_ddt\", \"stm_oh_pg_gst\", \"stm_geo_gst\", \"stm_equipm_nr_gst\",\n",
    "    \"stm_equipm_soort_gst\", \"stm_equipm_omschr_gst\", \"stm_km_van_gst\", \"stm_km_tot_gst\",\n",
    "    \"stm_oorz_groep\", \"stm_oorz_code\", \"stm_oorz_tkst\", \"stm_fh_ddt\",\n",
    "    \"stm_fh_status\", \"stm_sap_storeind_ddt\", \"stm_tao_indicator\", \"stm_tao_indicator_vorige\",\n",
    "    \"stm_tao_soort_mutatie\", \"stm_tao_telling_mutatie\", \"stm_tao_beinvloedbaar_indicator\", \"stm_sap_melddatum\",\n",
    "    \"stm_sap_meldtijd\", \"stm_contractgeb_mld\", \"stm_techn_mld\", \"stm_contractgeb_gst\",\n",
    "    \"stm_techn_gst\", \"stm_aanngeb_dd\", \"stm_aanngeb_tijd\", \"stm_aanntpl_dd\",\n",
    "    \"stm_aanntpl_tijd\", \"stm_progfh_in_datum\", \"stm_progfh_in_tijd\", \"stm_progfh_in_invoer_dat\",\n",
    "    \"stm_progfh_in_invoer_tijd\", \"stm_progfh_in_duur\", \"stm_progfh_gw_tijd\", \"stm_progfh_gw_teller\",\n",
    "    \"stm_fh_dd\", \"stm_fh_tijd\", \"stm_fh_duur\", \"stm_sap_storeinddatum\",\n",
    "    \"stm_sap_storeindtijd\", \"stm_oorz_tekst_kort\", \"stm_pplg_van\", \"stm_pplg_naar\",\n",
    "    \"stm_dstrglp_van\", \"stm_dstrglp_naar\"\n",
    "]]"
   ],
   "outputs": [],
   "execution_count": 4
  },
  {
   "cell_type": "markdown",
   "id": "84e4f23d65d408c6",
   "metadata": {},
   "source": "### Opvallend"
  },
  {
   "cell_type": "markdown",
   "id": "d4d08f30-b3b6-40c4-85ea-efcccf3d71c9",
   "metadata": {
    "tags": []
   },
   "source": [
    "De data bestaat voornamelijk uit drie soorten gegevens:\n",
    "- Tekstuele inhoud\n",
    "- Numerieke klassen\n",
    "- Datum en tijd"
   ]
  },
  {
   "cell_type": "markdown",
   "id": "fbd4b09a-cf1f-4d30-a537-7622d9e1689b",
   "metadata": {
    "tags": []
   },
   "source": [
    "Tijdens het proces wanneer het model wordt gebruikt, zijn niet alle data beschikbaar. Kolommen die eindigen met _gst zijn niet geschikt."
   ]
  },
  {
   "cell_type": "markdown",
   "id": "d0754d08-10b5-4771-b0ca-232a286d3194",
   "metadata": {},
   "source": "### Visualisatie"
  },
  {
   "cell_type": "code",
   "id": "f0f91e74-cf83-497a-a7ea-c83542598db1",
   "metadata": {
    "tags": [],
    "ExecuteTime": {
     "end_time": "2025-07-16T17:40:30.017816Z",
     "start_time": "2025-07-16T17:40:27.843125Z"
    }
   },
   "source": [
    "plt.figure(figsize=(6, 6))\n",
    "sns.boxplot(y='stm_fh_duur', data=df)\n",
    "plt.ylabel('Functie Herstel Duur')\n",
    "plt.title('Boxplot van Functie Herstel Duur')\n",
    "plt.tight_layout()\n",
    "plt.show()"
   ],
   "outputs": [
    {
     "data": {
      "text/plain": [
       "<Figure size 600x600 with 1 Axes>"
      ],
      "image/png": "[encoded data removed]"
     },
     "metadata": {},
     "output_type": "display_data"
    }
   ],
   "execution_count": 5
  },
  {
   "cell_type": "code",
   "id": "b6bade90-9da3-4687-a564-031e9ddddb17",
   "metadata": {
    "tags": [],
    "ExecuteTime": {
     "end_time": "2025-07-16T17:40:30.102478Z",
     "start_time": "2025-07-16T17:40:30.075397Z"
    }
   },
   "source": [
    "q1 = df['stm_fh_duur'].quantile(0.25)\n",
    "mediaan = df['stm_fh_duur'].median()\n",
    "q3 = df['stm_fh_duur'].quantile(0.75)\n",
    "\n",
    "print(f\"Q1 (25e percentiel): {q1}\")\n",
    "print(f\"Mediaan (50e percentiel): {mediaan}\")\n",
    "print(f\"Q3 (75e percentiel): {q3}\")"
   ],
   "outputs": [
    {
     "name": "stdout",
     "output_type": "stream",
     "text": [
      "Q1 (25e percentiel): 11.0\n",
      "Mediaan (50e percentiel): 84.0\n",
      "Q3 (75e percentiel): 256.0\n"
     ]
    }
   ],
   "execution_count": 6
  },
  {
   "cell_type": "markdown",
   "id": "5462651c-96f5-4171-ae4f-fc57b0d7cfc3",
   "metadata": {
    "tags": []
   },
   "source": [
    "Het valt op dat er bij de functie hersteltijd `stm_fh_duur`, enorm veel uitschieters zijn. <br>\n",
    "Je kan hier zien dat 25% van de gevallen, de functie hersteltijd `stm_fh_duur` minder dan 11 minuten is. <br>\n",
    "De mediaan van de functie hersteltijd `stm_fh_duur`, ligt op 84 minuten. <br>\n",
    "75% van de gevallen van de functie hersteltijd `stm_fh_duur`, ligt onder de 252 minuten. <br>\n",
    "Verder zijn er extreem veel hoge uitschieters die dagen of zelf maanden duren."
   ]
  },
  {
   "cell_type": "code",
   "id": "b62a78e4-f9b1-4f62-bfb3-0584a74cf729",
   "metadata": {
    "tags": [],
    "ExecuteTime": {
     "end_time": "2025-07-16T17:40:30.129954Z",
     "start_time": "2025-07-16T17:40:30.127316Z"
    }
   },
   "source": [
    "def Visulaisatie_plot(df,x_feature,beschrijving):\n",
    "    plt.figure(figsize=(10, 6))\n",
    "    sns.barplot(x=x_feature, y='stm_fh_duur', data=df, estimator='mean')\n",
    "    plt.xlabel(beschrijving)\n",
    "    plt.ylabel('Gemiddelde Functie Herstel Duur')\n",
    "    plt.title(f'Gemiddelde Hersteltijd per {beschrijving}')\n",
    "    plt.xticks(rotation=90, ha='right')\n",
    "    plt.tight_layout()\n",
    "    plt.show()"
   ],
   "outputs": [],
   "execution_count": 7
  },
  {
   "cell_type": "markdown",
   "id": "8f870b81-d599-42d3-a2eb-aae8bbb35b29",
   "metadata": {
    "tags": []
   },
   "source": "### Geolocatie Melding"
  },
  {
   "cell_type": "code",
   "id": "e1c17d03-608a-45e4-b1e7-1fe39967083b",
   "metadata": {
    "tags": [],
    "ExecuteTime": {
     "end_time": "2025-07-16T17:40:43.249637Z",
     "start_time": "2025-07-16T17:40:30.184124Z"
    }
   },
   "source": [
    "x_feature = 'stm_geo_mld'\n",
    "beschrijving = 'Geoloctatie'\n",
    "Visulaisatie_plot(df, x_feature, beschrijving)"
   ],
   "outputs": [
    {
     "data": {
      "text/plain": [
       "<Figure size 1000x600 with 1 Axes>"
      ],
      "image/png": "[encoded data removed]"
     },
     "metadata": {},
     "output_type": "display_data"
    }
   ],
   "execution_count": 8
  },
  {
   "cell_type": "markdown",
   "id": "3caffb86-7dc7-4d3b-bf59-053f197fba96",
   "metadata": {},
   "source": "Er zijn hier enorm veel verschillende geolocaties `stm_geo_mld`wat het visueel niet erg leesbaar maakt. Wel kan je nog zien dat er een aantol zijn die enorm uitschieten."
  },
  {
   "cell_type": "markdown",
   "id": "cbcb84de-74ee-49c9-9c08-40c47927a0cf",
   "metadata": {
    "tags": []
   },
   "source": "### Contractgebied Melding"
  },
  {
   "cell_type": "code",
   "id": "8b499666-e5bc-4c62-af93-e15db7d49c0c",
   "metadata": {
    "tags": [],
    "ExecuteTime": {
     "end_time": "2025-07-16T17:40:48.776879Z",
     "start_time": "2025-07-16T17:40:43.304047Z"
    }
   },
   "source": [
    "x_feature = 'stm_contractgeb_mld'\n",
    "beschrijving = 'stm_contractgeb_mld'\n",
    "Visulaisatie_plot(df, x_feature, beschrijving)"
   ],
   "outputs": [
    {
     "data": {
      "text/plain": [
       "<Figure size 1000x600 with 1 Axes>"
      ],
      "image/png": "[encoded data removed]"
     },
     "metadata": {},
     "output_type": "display_data"
    }
   ],
   "execution_count": 9
  },
  {
   "cell_type": "markdown",
   "id": "33ebe1dc-a2af-4dbf-bf67-7f83d2011c00",
   "metadata": {},
   "source": "Hier kan je zien dat op een enkeling na, de gemiddelde duur redelijk verdeeld is."
  },
  {
   "cell_type": "code",
   "id": "8cdfe872-b7cf-46d9-93c9-81ed65fd0752",
   "metadata": {
    "tags": [],
    "ExecuteTime": {
     "end_time": "2025-07-16T17:40:55.361240Z",
     "start_time": "2025-07-16T17:40:48.831647Z"
    }
   },
   "source": [
    "x_feature = 'stm_oorz_code'\n",
    "beschrijving = 'Oorzaak Code'\n",
    "Visulaisatie_plot(df, x_feature, beschrijving)"
   ],
   "outputs": [
    {
     "data": {
      "text/plain": [
       "<Figure size 1000x600 with 1 Axes>"
      ],
      "image/png": "[encoded data removed]"
     },
     "metadata": {},
     "output_type": "display_data"
    }
   ],
   "execution_count": 10
  },
  {
   "cell_type": "markdown",
   "id": "da827fb1-bb05-45f9-8020-013cd1cf6aaf",
   "metadata": {},
   "source": "Hier kan je zien dat de oorzaak code `stm_oorz_code`, best bepalend is voor de duur van de storing."
  },
  {
   "cell_type": "code",
   "id": "64e31d4e-6aa8-40ba-ac83-3319670be90b",
   "metadata": {
    "tags": [],
    "ExecuteTime": {
     "end_time": "2025-07-16T17:41:00.880213Z",
     "start_time": "2025-07-16T17:40:55.414836Z"
    }
   },
   "source": [
    "x_feature = 'stm_prioriteit'\n",
    "beschrijving = 'prioriteit'\n",
    "Visulaisatie_plot(df, x_feature, beschrijving)"
   ],
   "outputs": [
    {
     "data": {
      "text/plain": [
       "<Figure size 1000x600 with 1 Axes>"
      ],
      "image/png": "[encoded data removed]"
     },
     "metadata": {},
     "output_type": "display_data"
    }
   ],
   "execution_count": 11
  },
  {
   "cell_type": "markdown",
   "id": "87d2215e-a199-4344-9bc8-41794ac0f189",
   "metadata": {},
   "source": "Ook hier kan je zien dat de prioriteit `stm_prioriteit` best bepalend is voor de duur van de storing."
  },
  {
   "cell_type": "markdown",
   "id": "2cf98c10-726d-4e9e-beb3-531b6b934d8c",
   "metadata": {},
   "source": "### Bruikbare Features"
  },
  {
   "cell_type": "markdown",
   "id": "5d90de42f548badf",
   "metadata": {},
   "source": [
    "Omdat de dataset enorm en vrij ingewikkeld is. Hebben we samen met de opdrachtgever gezeten om te bepalen welke kolommen relevant zijn, zodat we de rest er uit kunnen filteren."
   ]
  },
  {
   "cell_type": "code",
   "id": "a95b88c6-4799-4478-b90e-00d5d0a178a0",
   "metadata": {
    "tags": [],
    "ExecuteTime": {
     "end_time": "2025-07-16T17:41:00.980318Z",
     "start_time": "2025-07-16T17:41:00.934352Z"
    }
   },
   "source": [
    "data = df[[\n",
    "    'stm_oorz_code', 'stm_sap_melddatum', 'stm_sap_meldtijd', \n",
    "    'stm_aanntpl_tijd', 'stm_fh_tijd', 'stm_techn_mld', 'stm_prioriteit',\n",
    "    'stm_contractgeb_mld', 'stm_fh_duur', 'stm_progfh_in_duur', 'stm_progfh_in_tijd'\n",
    "]]"
   ],
   "outputs": [],
   "execution_count": 12
  },
  {
   "cell_type": "markdown",
   "id": "d8128dee-339b-4b96-aad9-6d9c42ffa777",
   "metadata": {
    "tags": []
   },
   "source": [
    "Hier zijn de betekenissen en meetwaardes van de kolommen die we gaan gebruiken:\n",
    "| Kolom | Betekenis | Meetwaarde |\n",
    "|-|-|-|\n",
    "| stm_oorz_code | Oorzaak code | Nominaal |\n",
    "| stm_sap_melddatum | Datum melding | Ordinaal |\n",
    "| stm_sap_meldtijd | Tijdstip melding | Ordinaal |\n",
    "| stm_aanntpl_tijd | Tijdstip aannemer ter plaatse | Ordinaal |\n",
    "| stm_fh_tijd | Tijdstip functieherstel | Ordinaal |\n",
    "| stm_techn_mld | Techniekveld melding | Nominaal |\n",
    "| stm_prioriteit | Prioriteitsindicatie | Ordinaal |\n",
    "| stm_contractgeb_mld | Contract gebied melding | Nominaal |\n",
    "| stm_fh_duur | Duur functieherstel | Continue |\n",
    "| stm_progfh_in_duur | Prognose duur functieherstel | Continue |\n",
    "| stm_progfh_in_tijd | Prognose tijd functieherstel | Ordinaal |"
   ]
  },
  {
   "cell_type": "markdown",
   "id": "9c1abe2288280745",
   "metadata": {},
   "source": "### Converteren Tijden"
  },
  {
   "cell_type": "markdown",
   "id": "58e11bb16a58bf8b",
   "metadata": {},
   "source": "We gaan hier de tijden converteren van HH:MM:SS formaat naar minuten, zodat we er berekeningen mee kunnen uitvoeren."
  },
  {
   "cell_type": "code",
   "id": "59e5f21c-6801-442a-8764-d2d9997910ee",
   "metadata": {
    "tags": [],
    "ExecuteTime": {
     "end_time": "2025-07-16T17:41:00.999663Z",
     "start_time": "2025-07-16T17:41:00.997024Z"
    }
   },
   "source": [
    "# Kolomnamen met tijd in HH:MM:SS formaat\n",
    "tijd_kolommen = ['stm_sap_meldtijd', 'stm_aanntpl_tijd', 'stm_fh_tijd','stm_progfh_in_tijd']\n",
    "\n",
    "# Functie om tijdstring om te zetten naar totaal aantal minuten\n",
    "def convert_time_to_minutes(df, columns):\n",
    "    for col in columns:\n",
    "        df.loc[:, col] = pd.to_datetime(df[col], format='%H:%M:%S', errors='coerce')\n",
    "        df.loc[:, col] = df[col].apply(lambda x: x.hour * 60 + x.minute if pd.notnull(x) else None)\n",
    "    return df"
   ],
   "outputs": [],
   "execution_count": 13
  },
  {
   "cell_type": "markdown",
   "id": "c33ec442-3f74-4cda-9f9f-2702a562f3ad",
   "metadata": {},
   "source": "### Functie Hersteltijd"
  },
  {
   "cell_type": "markdown",
   "id": "e95253d04e6186ba",
   "metadata": {},
   "source": [
    "We willen de functie hersteltijd gaan voorspellen, dus zullen we moeten kijken hoe deze kolom zich verhoudt to de andere kolommen in de data."
   ]
  },
  {
   "cell_type": "code",
   "id": "49bc13a6-70d1-4103-9ef6-74dbcb658be0",
   "metadata": {
    "tags": [],
    "ExecuteTime": {
     "end_time": "2025-07-16T17:41:06.076977Z",
     "start_time": "2025-07-16T17:41:01.061608Z"
    }
   },
   "source": [
    "data = convert_time_to_minutes(data, tijd_kolommen)"
   ],
   "outputs": [],
   "execution_count": 14
  },
  {
   "cell_type": "code",
   "id": "3e5d614f-ad86-4fc4-9b50-deacc0257597",
   "metadata": {
    "tags": [],
    "ExecuteTime": {
     "end_time": "2025-07-16T17:41:06.159133Z",
     "start_time": "2025-07-16T17:41:06.132902Z"
    }
   },
   "source": [
    "data[['stm_sap_meldtijd', 'stm_aanntpl_tijd', 'stm_fh_tijd','stm_fh_duur']]"
   ],
   "outputs": [
    {
     "data": {
      "text/plain": [
       "       stm_sap_meldtijd stm_aanntpl_tijd stm_fh_tijd  stm_fh_duur\n",
       "0                   NaN              NaN         NaN          NaN\n",
       "1                 540.0              0.0       540.0          0.0\n",
       "2                 755.0              0.0       806.0         51.0\n",
       "3                1000.0              0.0      1040.0         40.0\n",
       "4                1350.0              0.0      1356.0          6.0\n",
       "...                 ...              ...         ...          ...\n",
       "908625            486.0            545.0       569.0         83.0\n",
       "908626            561.0            608.0       644.0         83.0\n",
       "908627            561.0            608.0       644.0         83.0\n",
       "908628            855.0            885.0       914.0         19.0\n",
       "908629            855.0            885.0       914.0         19.0\n",
       "\n",
       "[898526 rows x 4 columns]"
      ],
      "text/html": [
       "<div>\n",
       "<style scoped>\n",
       "    .dataframe tbody tr th:only-of-type {\n",
       "        vertical-align: middle;\n",
       "    }\n",
       "\n",
       "    .dataframe tbody tr th {\n",
       "        vertical-align: top;\n",
       "    }\n",
       "\n",
       "    .dataframe thead th {\n",
       "        text-align: right;\n",
       "    }\n",
       "</style>\n",
       "<table border=\"1\" class=\"dataframe\">\n",
       "  <thead>\n",
       "    <tr style=\"text-align: right;\">\n",
       "      <th></th>\n",
       "      <th>stm_sap_meldtijd</th>\n",
       "      <th>stm_aanntpl_tijd</th>\n",
       "      <th>stm_fh_tijd</th>\n",
       "      <th>stm_fh_duur</th>\n",
       "    </tr>\n",
       "  </thead>\n",
       "  <tbody>\n",
       "    <tr>\n",
       "      <th>0</th>\n",
       "      <td>NaN</td>\n",
       "      <td>NaN</td>\n",
       "      <td>NaN</td>\n",
       "      <td>NaN</td>\n",
       "    </tr>\n",
       "    <tr>\n",
       "      <th>1</th>\n",
       "      <td>540.0</td>\n",
       "      <td>0.0</td>\n",
       "      <td>540.0</td>\n",
       "      <td>0.0</td>\n",
       "    </tr>\n",
       "    <tr>\n",
       "      <th>2</th>\n",
       "      <td>755.0</td>\n",
       "      <td>0.0</td>\n",
       "      <td>806.0</td>\n",
       "      <td>51.0</td>\n",
       "    </tr>\n",
       "    <tr>\n",
       "      <th>3</th>\n",
       "      <td>1000.0</td>\n",
       "      <td>0.0</td>\n",
       "      <td>1040.0</td>\n",
       "      <td>40.0</td>\n",
       "    </tr>\n",
       "    <tr>\n",
       "      <th>4</th>\n",
       "      <td>1350.0</td>\n",
       "      <td>0.0</td>\n",
       "      <td>1356.0</td>\n",
       "      <td>6.0</td>\n",
       "    </tr>\n",
       "    <tr>\n",
       "      <th>...</th>\n",
       "      <td>...</td>\n",
       "      <td>...</td>\n",
       "      <td>...</td>\n",
       "      <td>...</td>\n",
       "    </tr>\n",
       "    <tr>\n",
       "      <th>908625</th>\n",
       "      <td>486.0</td>\n",
       "      <td>545.0</td>\n",
       "      <td>569.0</td>\n",
       "      <td>83.0</td>\n",
       "    </tr>\n",
       "    <tr>\n",
       "      <th>908626</th>\n",
       "      <td>561.0</td>\n",
       "      <td>608.0</td>\n",
       "      <td>644.0</td>\n",
       "      <td>83.0</td>\n",
       "    </tr>\n",
       "    <tr>\n",
       "      <th>908627</th>\n",
       "      <td>561.0</td>\n",
       "      <td>608.0</td>\n",
       "      <td>644.0</td>\n",
       "      <td>83.0</td>\n",
       "    </tr>\n",
       "    <tr>\n",
       "      <th>908628</th>\n",
       "      <td>855.0</td>\n",
       "      <td>885.0</td>\n",
       "      <td>914.0</td>\n",
       "      <td>19.0</td>\n",
       "    </tr>\n",
       "    <tr>\n",
       "      <th>908629</th>\n",
       "      <td>855.0</td>\n",
       "      <td>885.0</td>\n",
       "      <td>914.0</td>\n",
       "      <td>19.0</td>\n",
       "    </tr>\n",
       "  </tbody>\n",
       "</table>\n",
       "<p>898526 rows × 4 columns</p>\n",
       "</div>"
      ]
     },
     "execution_count": 15,
     "metadata": {},
     "output_type": "execute_result"
    }
   ],
   "execution_count": 15
  },
  {
   "cell_type": "markdown",
   "id": "659dc49a-299e-4a67-aaa9-2c566cf56d7b",
   "metadata": {},
   "source": [
    "Hieruit kun je zien dat de herstelduur `stm_fh_duur`, gelijk is aan de tijd van de melding `stm_sap_meldtijd` tot aan de functie hersteltijd `stm_fh_tijd`. <br>\n",
    "Ook zie je dat er in sommige gevallen, geen aannemer aanwezig was."
   ]
  },
  {
   "cell_type": "code",
   "id": "3f5dfe63-f520-4c15-91a6-14e7923105c3",
   "metadata": {
    "tags": [],
    "ExecuteTime": {
     "end_time": "2025-07-16T17:41:06.302231Z",
     "start_time": "2025-07-16T17:41:06.277576Z"
    }
   },
   "source": [
    "len(data[data['stm_fh_duur'] == 0])"
   ],
   "outputs": [
    {
     "data": {
      "text/plain": [
       "171713"
      ]
     },
     "execution_count": 16,
     "metadata": {},
     "output_type": "execute_result"
    }
   ],
   "execution_count": 16
  },
  {
   "cell_type": "code",
   "id": "9c8e0de9-aed9-41a1-9951-d5113e4eccf4",
   "metadata": {
    "tags": [],
    "ExecuteTime": {
     "end_time": "2025-07-16T17:41:06.429218Z",
     "start_time": "2025-07-16T17:41:06.337443Z"
    }
   },
   "source": "len(data.loc[(data[\"stm_progfh_in_tijd\"] == data[\"stm_fh_tijd\"])])",
   "outputs": [
    {
     "data": {
      "text/plain": [
       "313808"
      ]
     },
     "execution_count": 17,
     "metadata": {},
     "output_type": "execute_result"
    }
   ],
   "execution_count": 17
  },
  {
   "cell_type": "markdown",
   "id": "732b5249-12a7-46f1-8be7-c04b1fdb43d3",
   "metadata": {},
   "source": [
    "Hier kun je een paar dingen uit opmerken.\n",
    "Je kan hier zien dat er in ongeveer 170.000 gevallen geen storing was bij de melding.\n",
    "Hier kan je zien dat in ongeveer 300.000 keer de prognose en de daadwerkelijke hersteltijd exact gelijk is. Dit zou heel goed kunnen betekenen dat de aannemer aan het einde alles op de zelfde manier heeft ingevuld."
   ]
  },
  {
   "cell_type": "markdown",
   "id": "59e985ee-2817-4317-b637-3ba609562408",
   "metadata": {},
   "source": "Hier wordt de prognose duur `stm_progfh_in_duur` omgezet naar numerieke waarde. Daarna worden alle regels, waar de prognose duur `stm_progfh_in_duur` NaN is, vervangen door 0."
  },
  {
   "cell_type": "code",
   "id": "18b31a59-4fc8-43f6-9f23-04f06be6d245",
   "metadata": {
    "tags": [],
    "ExecuteTime": {
     "end_time": "2025-07-16T17:41:06.906606Z",
     "start_time": "2025-07-16T17:41:06.510580Z"
    }
   },
   "source": [
    "data.loc[:, 'stm_progfh_in_duur'] = pd.to_numeric(data['stm_progfh_in_duur'], errors='coerce').fillna(0).astype(int)\n",
    "data.loc[:, 'stm_progfh_in_duur'] = data['stm_progfh_in_duur'].fillna(0).convert_dtypes().astype(int)"
   ],
   "outputs": [
    {
     "name": "stderr",
     "output_type": "stream",
     "text": [
      "/tmp/ipykernel_63784/815897317.py:2: FutureWarning: Downcasting object dtype arrays on .fillna, .ffill, .bfill is deprecated and will change in a future version. Call result.infer_objects(copy=False) instead. To opt-in to the future behavior, set `pd.set_option('future.no_silent_downcasting', True)`\n",
      "  data.loc[:, 'stm_progfh_in_duur'] = data['stm_progfh_in_duur'].fillna(0).convert_dtypes().astype(int)\n"
     ]
    }
   ],
   "execution_count": 18
  },
  {
   "cell_type": "markdown",
   "id": "c94dd5eb-8fb6-4bd9-bcd3-c58e8a857a4e",
   "metadata": {},
   "source": "### Target"
  },
  {
   "cell_type": "markdown",
   "id": "941fdc6d-e073-4f97-881a-c72d326cc59a",
   "metadata": {},
   "source": "Als target nemen wij de functie hersteltijd `stm_fh_tijd` - de tijd dat de aannemer aanwezig is `stm_aanntpl_tijd`. Ook halen wij de rijen weg waar de herstel langer dan een dag is."
  },
  {
   "cell_type": "code",
   "id": "9d2178d2-e287-477b-b0b1-3334811566eb",
   "metadata": {
    "tags": [],
    "ExecuteTime": {
     "end_time": "2025-07-16T17:41:06.995544Z",
     "start_time": "2025-07-16T17:41:06.923758Z"
    }
   },
   "source": "data = data[data['stm_fh_duur']<= 1440]",
   "outputs": [],
   "execution_count": 19
  },
  {
   "cell_type": "code",
   "id": "d5e69106-6f3e-4188-b982-8307275348a2",
   "metadata": {
    "tags": [],
    "ExecuteTime": {
     "end_time": "2025-07-16T17:41:07.183170Z",
     "start_time": "2025-07-16T17:41:07.012977Z"
    }
   },
   "source": [
    "data['targetherstel'] = np.where(\n",
    "    data['stm_fh_tijd'] - data['stm_aanntpl_tijd']>= 0, # als de stm_fh_tijd-stm_aanntpl_tijd positief is\n",
    "    data['stm_fh_tijd'] - data['stm_aanntpl_tijd'], # dan betekende dat nog op de zefde day is, kun je gelijk van elkaar aftrekken\n",
    "    data['stm_fh_tijd'] - data['stm_aanntpl_tijd']+1440 # als niet op zelfdde dag is hersteld, dus een neagetief uitkomst moet er +1440 om de juiste tijd te krijgen.\n",
    ")"
   ],
   "outputs": [],
   "execution_count": 20
  },
  {
   "cell_type": "code",
   "id": "282a9be8-0928-4667-a290-00fea8854619",
   "metadata": {
    "tags": [],
    "ExecuteTime": {
     "end_time": "2025-07-16T17:41:09.839677Z",
     "start_time": "2025-07-16T17:41:07.201924Z"
    }
   },
   "source": [
    "plt.figure(figsize=(6, 6))\n",
    "sns.boxplot(y='targetherstel', data=data)\n",
    "plt.ylabel('Functie Herstel Duur')\n",
    "plt.title('Boxplot van Functie Herstel Duur')\n",
    "plt.tight_layout()\n",
    "plt.show()\n",
    "\n",
    "q1 = data['targetherstel'].quantile(0.25)\n",
    "mediaan = data['targetherstel'].median()\n",
    "q3 = data['targetherstel'].quantile(0.75)\n",
    "\n",
    "print(f\"Q1 (25e percentiel): {q1}\")\n",
    "print(f\"Mediaan (50e percentiel): {mediaan}\")\n",
    "print(f\"Q3 (75e percentiel): {q3}\")"
   ],
   "outputs": [
    {
     "data": {
      "text/plain": [
       "<Figure size 600x600 with 1 Axes>"
      ],
      "image/png": "[encoded data removed]"
     },
     "metadata": {},
     "output_type": "display_data"
    },
    {
     "name": "stdout",
     "output_type": "stream",
     "text": [
      "Q1 (25e percentiel): 1.0\n",
      "Mediaan (50e percentiel): 24.0\n",
      "Q3 (75e percentiel): 73.0\n"
     ]
    }
   ],
   "execution_count": 21
  },
  {
   "cell_type": "markdown",
   "id": "08f12669-9b4c-4de5-8db5-27a79ecfcb65",
   "metadata": {
    "tags": []
   },
   "source": [
    "Het valt op dat 25% van de gevallen, de hersteltijd minder dan 1 minuten is. <br>\n",
    "De mediaan van de hersteltijd ligt op 24 minuten. <br>\n",
    "75% van de storingen is binnen 73 minuten opgelost. <br>\n",
    "Dit laat zien dat de meeste storingen relatief snel verholpen worden."
   ]
  },
  {
   "cell_type": "markdown",
   "id": "5ffbac51-1de7-4288-97a7-e92b7fe2811e",
   "metadata": {},
   "source": "### Opschonen"
  },
  {
   "cell_type": "markdown",
   "id": "8e80a36b-8af7-442d-b813-dca13bb4446d",
   "metadata": {},
   "source": "Na overleg met de opdrachtgeven, hebben wij besloten om alles onder de 15 minuten, en alles boven de 8 uur er uit te halen."
  },
  {
   "cell_type": "code",
   "id": "c6e948db-30a4-4c2e-8cd3-7ba362835ffc",
   "metadata": {
    "tags": [],
    "ExecuteTime": {
     "end_time": "2025-07-16T17:41:09.969246Z",
     "start_time": "2025-07-16T17:41:09.854788Z"
    }
   },
   "source": [
    "data = data.loc[ (data['targetherstel']>15) & (data['targetherstel']<=480)]"
   ],
   "outputs": [],
   "execution_count": 22
  },
  {
   "cell_type": "markdown",
   "id": "84d00294-511d-4ffb-a39e-5a9097d3c175",
   "metadata": {},
   "source": "Er zijn in de data nog wel is rare waardes gevonden, zoals 0 of 99999999. Die halen wij er ook uit"
  },
  {
   "cell_type": "code",
   "id": "e9007a76-7398-41b9-bf19-2ac2740d0139",
   "metadata": {
    "tags": [],
    "ExecuteTime": {
     "end_time": "2025-07-16T17:41:10.088184Z",
     "start_time": "2025-07-16T17:41:09.985225Z"
    }
   },
   "source": [
    "data = data.loc[(data['stm_progfh_in_duur']>0) & (data['stm_progfh_in_duur']<=1440)]"
   ],
   "outputs": [],
   "execution_count": 23
  },
  {
   "cell_type": "markdown",
   "id": "148147a2-6fa0-4734-b524-ad59c18de7a6",
   "metadata": {
    "tags": []
   },
   "source": "Hier staan een aantal opvallende dingen. Dit zijn dingen als de aannemer die achteraf het zelfde invoert als zijn prognose. Dit halen wij er ook uit."
  },
  {
   "cell_type": "code",
   "id": "8c9c1b3d-28ea-45b4-b5c9-96439decdb6a",
   "metadata": {
    "tags": [],
    "ExecuteTime": {
     "end_time": "2025-07-16T17:41:10.234650Z",
     "start_time": "2025-07-16T17:41:10.145746Z"
    }
   },
   "source": [
    "data = data.loc[(data[\"stm_progfh_in_tijd\"] != data[\"stm_fh_tijd\"])] # Het prognose tijdstip moet niet zelfde als functie herstel tijdstip"
   ],
   "outputs": [],
   "execution_count": 24
  },
  {
   "cell_type": "code",
   "id": "973621cb-d807-44d5-9260-da819161e76b",
   "metadata": {
    "tags": [],
    "ExecuteTime": {
     "end_time": "2025-07-16T17:41:10.332835Z",
     "start_time": "2025-07-16T17:41:10.251819Z"
    }
   },
   "source": [
    "data = data[data['stm_progfh_in_duur'] != data['stm_fh_duur']] # Het prognose duur moet niet zelfde als functie herstel duur"
   ],
   "outputs": [],
   "execution_count": 25
  },
  {
   "cell_type": "code",
   "id": "f7e574c8-51ee-4e28-8ce2-247b18b16fa7",
   "metadata": {
    "tags": [],
    "ExecuteTime": {
     "end_time": "2025-07-16T17:41:10.420614Z",
     "start_time": "2025-07-16T17:41:10.350441Z"
    }
   },
   "source": [
    "data = data[data['stm_progfh_in_duur'] != data['targetherstel']]  # Het prognose duur moet niet zelfde als target herstel duur"
   ],
   "outputs": [],
   "execution_count": 26
  },
  {
   "cell_type": "markdown",
   "id": "7ff29367-38ad-4000-a041-0b9f9344d8ef",
   "metadata": {},
   "source": [
    "Ook gaan we kijken of er dubbele rijen zijn die er uit gefilterd kunnen worden."
   ]
  },
  {
   "cell_type": "code",
   "id": "033bbe1e-c6a8-46be-9ab5-6d65c6572f51",
   "metadata": {
    "tags": [],
    "ExecuteTime": {
     "end_time": "2025-07-16T17:41:10.580259Z",
     "start_time": "2025-07-16T17:41:10.436713Z"
    }
   },
   "source": [
    "data = data.drop_duplicates()"
   ],
   "outputs": [],
   "execution_count": 27
  },
  {
   "cell_type": "markdown",
   "id": "2dd5be9d-12d1-4905-bc05-e96122b9f8e1",
   "metadata": {
    "tags": []
   },
   "source": "### Data Verdeling"
  },
  {
   "cell_type": "code",
   "id": "ec4763fc-58d7-4dfb-a165-f31e860f8f08",
   "metadata": {
    "tags": [],
    "ExecuteTime": {
     "end_time": "2025-07-16T17:41:11.319124Z",
     "start_time": "2025-07-16T17:41:10.596067Z"
    }
   },
   "source": [
    "plt.figure(figsize=(6, 6))\n",
    "sns.boxplot(y='targetherstel', data=data)\n",
    "plt.ylabel('Functie Herstel Duur')\n",
    "plt.title('Boxplot van Functie Herstel Duur')\n",
    "plt.tight_layout()\n",
    "plt.show()\n",
    "\n",
    "q1 = data['targetherstel'].quantile(0.25)\n",
    "mediaan = data['targetherstel'].median()\n",
    "q3 = data['targetherstel'].quantile(0.75)\n",
    "\n",
    "print(f\"Q1 (25e percentiel): {q1}\")\n",
    "print(f\"Mediaan (50e percentiel): {mediaan}\")\n",
    "print(f\"Q3 (75e percentiel): {q3}\")"
   ],
   "outputs": [
    {
     "data": {
      "text/plain": [
       "<Figure size 600x600 with 1 Axes>"
      ],
      "image/png": "[encoded data removed]"
     },
     "metadata": {},
     "output_type": "display_data"
    },
    {
     "name": "stdout",
     "output_type": "stream",
     "text": [
      "Q1 (25e percentiel): 30.0\n",
      "Mediaan (50e percentiel): 53.0\n",
      "Q3 (75e percentiel): 96.0\n"
     ]
    }
   ],
   "execution_count": 28
  },
  {
   "cell_type": "markdown",
   "id": "50028c92-2e1a-42f2-90df-4d403f297e4a",
   "metadata": {
    "tags": []
   },
   "source": [
    "Hier valt het op dat 25% van de gevallen, de hersteltijd minder dan 30 minuten is. <br>\n",
    "De mediaan van de hersteltijd ligt op 53 minuten. <br>\n",
    "75% van de storingen is binnen 96 minuten opgelost. <br>\n",
    "Dit laat zien dat de meeste storingen relatief snel verholpen worden."
   ]
  },
  {
   "cell_type": "markdown",
   "id": "714700e8-b822-4626-b90f-84a261bbcfe1",
   "metadata": {
    "tags": []
   },
   "source": "### Melddatum"
  },
  {
   "cell_type": "code",
   "id": "451aedac-5104-43f0-b15a-f06549c7c358",
   "metadata": {
    "tags": [],
    "ExecuteTime": {
     "end_time": "2025-07-16T17:41:11.362963Z",
     "start_time": "2025-07-16T17:41:11.340501Z"
    }
   },
   "source": [
    "#Zet de kolom om naar datetime,vervang de datum door de dag van het jaar\n",
    "data['day_of_year'] = pd.to_datetime(data['stm_sap_melddatum'], format='%d/%m/%Y').dt.dayofyear"
   ],
   "outputs": [],
   "execution_count": 29
  },
  {
   "cell_type": "markdown",
   "id": "bcd306b8-8b5e-4f65-a03d-7a338d3d0b00",
   "metadata": {},
   "source": "### Prioriteit"
  },
  {
   "cell_type": "markdown",
   "id": "45d318ff-a3c2-449f-980c-335c62334f0f",
   "metadata": {},
   "source": "De prioriteit `stm_prioriteit` van 8 duidt op meldingen zonder functioneel verlies of een melding buiten de termijn. Meldingen met een prioriteit `stm_prioriteit` van 9 worden niet doorgestuurd naar de meldkamer."
  },
  {
   "cell_type": "code",
   "id": "e4c43be0-6cc9-4843-9c36-6f7195db0788",
   "metadata": {
    "tags": [],
    "ExecuteTime": {
     "end_time": "2025-07-16T17:41:11.427139Z",
     "start_time": "2025-07-16T17:41:11.393036Z"
    }
   },
   "source": "data=data.loc[(data['stm_prioriteit']!=8)&(data['stm_prioriteit']!=9)]",
   "outputs": [],
   "execution_count": 30
  },
  {
   "cell_type": "markdown",
   "id": "bd68263e-9ef5-4904-a252-1f640b1fafec",
   "metadata": {},
   "source": "### Encoding"
  },
  {
   "cell_type": "markdown",
   "id": "af24bced-2ddc-4daf-9cd3-e4d75d56f8c6",
   "metadata": {},
   "source": "Aangezien de technische melding `stm_techn_mld` een klasse van string waarde is. Moet dit omgezet worden naar een numerieke waarde zodat Sci-kit Learn er mee kan werken."
  },
  {
   "cell_type": "code",
   "id": "52d23e4d-97c6-46c1-89ab-8cbb173bcdd9",
   "metadata": {
    "tags": [],
    "ExecuteTime": {
     "end_time": "2025-07-16T17:41:11.473267Z",
     "start_time": "2025-07-16T17:41:11.444390Z"
    }
   },
   "source": [
    "le = LabelEncoder()\n",
    "\n",
    "data['stm_techn_mld_encoded'] = le.fit_transform(data['stm_techn_mld'])\n",
    "label_mapping = dict(zip(le.classes_, le.transform(le.classes_)))"
   ],
   "outputs": [],
   "execution_count": 31
  },
  {
   "cell_type": "code",
   "id": "02651181-451a-470b-9464-727d8504d5a9",
   "metadata": {
    "tags": [],
    "ExecuteTime": {
     "end_time": "2025-07-16T17:41:11.493758Z",
     "start_time": "2025-07-16T17:41:11.491962Z"
    }
   },
   "source": [
    "print(label_mapping)"
   ],
   "outputs": [
    {
     "name": "stdout",
     "output_type": "stream",
     "text": [
      "{'A': np.int64(0), 'B': np.int64(1), 'E': np.int64(2), 'G': np.int64(3), 'I': np.int64(4), 'K': np.int64(5), 'M': np.int64(6), 'O': np.int64(7), 'P': np.int64(8), 'S': np.int64(9), 'T': np.int64(10), 'X': np.int64(11), nan: np.int64(12)}\n"
     ]
    }
   ],
   "execution_count": 32
  },
  {
   "cell_type": "markdown",
   "id": "69af83a4-50ca-45d4-a815-c91d1dbf139b",
   "metadata": {},
   "source": "Dit geldt nog voor meer kolommen, daarom gaan wij dat hier ook omzetten."
  },
  {
   "cell_type": "code",
   "id": "37e84cb3-a20b-42c3-8003-f5712c7e6818",
   "metadata": {
    "tags": [],
    "ExecuteTime": {
     "end_time": "2025-07-16T17:41:11.669Z",
     "start_time": "2025-07-16T17:41:11.536746Z"
    }
   },
   "source": [
    "data = data.fillna(0) # vervang nan's in kolomen naar 0"
   ],
   "outputs": [
    {
     "name": "stderr",
     "output_type": "stream",
     "text": [
      "/tmp/ipykernel_63784/926493723.py:1: FutureWarning: Downcasting object dtype arrays on .fillna, .ffill, .bfill is deprecated and will change in a future version. Call result.infer_objects(copy=False) instead. To opt-in to the future behavior, set `pd.set_option('future.no_silent_downcasting', True)`\n",
      "  data = data.fillna(0) # vervang nan's in kolomen naar 0\n"
     ]
    }
   ],
   "execution_count": 33
  },
  {
   "cell_type": "code",
   "id": "bdaeb3e4-ce28-4c1b-b2f6-7ceba79913c0",
   "metadata": {
    "tags": [],
    "ExecuteTime": {
     "end_time": "2025-07-16T17:41:11.840296Z",
     "start_time": "2025-07-16T17:41:11.727892Z"
    }
   },
   "source": [
    "# Tezet alle numerike kolomen als type intergers\n",
    "int_columns = ['stm_oorz_code','day_of_year','stm_sap_meldtijd','stm_aanntpl_tijd','stm_fh_tijd','stm_progfh_in_duur',\n",
    "    'stm_progfh_in_tijd','targetherstel','stm_contractgeb_mld','stm_prioriteit','stm_fh_duur','stm_techn_mld_encoded']\n",
    "\n",
    "for col in int_columns:\n",
    "    data[col] = pd.to_numeric(data[col], errors='coerce').astype('Int64')"
   ],
   "outputs": [],
   "execution_count": 34
  },
  {
   "cell_type": "code",
   "id": "02b67487-d781-4130-a35d-d48615dc707e",
   "metadata": {
    "tags": [],
    "ExecuteTime": {
     "end_time": "2025-07-16T17:41:11.873228Z",
     "start_time": "2025-07-16T17:41:11.860041Z"
    }
   },
   "source": [
    "data.info()"
   ],
   "outputs": [
    {
     "name": "stdout",
     "output_type": "stream",
     "text": [
      "<class 'pandas.core.frame.DataFrame'>\n",
      "Index: 168699 entries, 98626 to 908629\n",
      "Data columns (total 14 columns):\n",
      " #   Column                 Non-Null Count   Dtype \n",
      "---  ------                 --------------   ----- \n",
      " 0   stm_oorz_code          168699 non-null  Int64 \n",
      " 1   stm_sap_melddatum      168699 non-null  object\n",
      " 2   stm_sap_meldtijd       168699 non-null  Int64 \n",
      " 3   stm_aanntpl_tijd       168699 non-null  Int64 \n",
      " 4   stm_fh_tijd            168699 non-null  Int64 \n",
      " 5   stm_techn_mld          168699 non-null  object\n",
      " 6   stm_prioriteit         168699 non-null  Int64 \n",
      " 7   stm_contractgeb_mld    168699 non-null  Int64 \n",
      " 8   stm_fh_duur            168699 non-null  Int64 \n",
      " 9   stm_progfh_in_duur     168699 non-null  Int64 \n",
      " 10  stm_progfh_in_tijd     168699 non-null  Int64 \n",
      " 11  targetherstel          168699 non-null  Int64 \n",
      " 12  day_of_year            168699 non-null  Int64 \n",
      " 13  stm_techn_mld_encoded  168699 non-null  Int64 \n",
      "dtypes: Int64(12), object(2)\n",
      "memory usage: 25.3+ MB\n"
     ]
    }
   ],
   "execution_count": 35
  },
  {
   "cell_type": "markdown",
   "id": "ed195479-4879-4bb3-90e2-72492fc1b4e8",
   "metadata": {
    "tags": []
   },
   "source": "### Data Opslaan"
  },
  {
   "cell_type": "code",
   "id": "4b05ef37-2e4d-43ec-97a9-36a13efc67d9",
   "metadata": {
    "tags": [],
    "ExecuteTime": {
     "end_time": "2025-07-16T17:41:12.231937Z",
     "start_time": "2025-07-16T17:41:11.915735Z"
    }
   },
   "source": "data.to_csv('Data/sap_storing_data_hu_filtered.csv', index=False)",
   "outputs": [],
   "execution_count": 36
  },
  {
   "cell_type": "code",
   "id": "1791a7b1-b018-486f-9f29-f3792f11c989",
   "metadata": {
    "tags": [],
    "ExecuteTime": {
     "end_time": "2025-07-16T17:41:12.253799Z",
     "start_time": "2025-07-16T17:41:12.249074Z"
    }
   },
   "source": [
    "{col: data[col].unique() for col in ['stm_prioriteit','stm_oorz_code', 'stm_contractgeb_mld']}"
   ],
   "outputs": [
    {
     "data": {
      "text/plain": [
       "{'stm_prioriteit': <IntegerArray>\n",
       " [2, 4, 5, 1]\n",
       " Length: 4, dtype: Int64,\n",
       " 'stm_oorz_code': <IntegerArray>\n",
       " [215, 225, 143, 221, 218, 133, 145, 226, 235, 219, 147, 214, 240, 203, 213,\n",
       "  132, 228, 184, 140, 222, 149, 154, 230, 299, 212, 207, 201, 223, 151, 135,\n",
       "  209, 298, 146, 241, 227, 210, 208, 183, 185, 186,   0, 148, 211, 220, 144,\n",
       "  204, 181, 182, 150, 187, 142, 224, 294, 234, 229, 188, 242, 134, 231, 250,\n",
       "  131, 206, 141, 136, 189, 239, 205, 130, 202, 999, 233,  33, 180]\n",
       " Length: 73, dtype: Int64,\n",
       " 'stm_contractgeb_mld': <IntegerArray>\n",
       " [ 0, 26, 25,  5,  2, 24, 18, 20, 27,  1, 19,  8, 30, 34, 10, 11, 32, 23,  6,\n",
       "   9,  3, 29, 36,  4, 31, 21, 12, 35, 16,  7, 81, 33, 14, 37, 13, 22, 28, 15,\n",
       "  71, 56, 99, 62, 60, 64, 17, 61, 58, 52, 53, 59, 63, 51, 54, 55, 83, 70]\n",
       " Length: 56, dtype: Int64}"
      ]
     },
     "execution_count": 37,
     "metadata": {},
     "output_type": "execute_result"
    }
   ],
   "execution_count": 37
  },
  {
   "cell_type": "markdown",
   "id": "4d28b146db9dbddb",
   "metadata": {},
   "source": "## Modellen"
  },
  {
   "cell_type": "markdown",
   "id": "4dc14c7e-fb68-4b0a-8f49-1eb66a7e891b",
   "metadata": {},
   "source": "### Baseline"
  },
  {
   "cell_type": "markdown",
   "id": "70691ef9-3ea7-425d-bf3f-da33899b78a0",
   "metadata": {},
   "source": "De root mean squared error (RMSE) van de prognose hersteltijd wordt als baseline gebruikt bij het evalueren van het model. `stm_progfh_in_duur`"
  },
  {
   "cell_type": "code",
   "id": "7744d0b6-5004-45e3-920b-a8be2888306c",
   "metadata": {
    "tags": [],
    "ExecuteTime": {
     "end_time": "2025-07-16T17:41:12.298212Z",
     "start_time": "2025-07-16T17:41:12.294592Z"
    }
   },
   "source": "print(np.sqrt(mean_squared_error(data['stm_progfh_in_duur'], data['targetherstel'])))",
   "outputs": [
    {
     "name": "stdout",
     "output_type": "stream",
     "text": [
      "192.81204258797183\n"
     ]
    }
   ],
   "execution_count": 38
  },
  {
   "cell_type": "markdown",
   "id": "97bf7937-5491-4674-829f-582b85d4aad7",
   "metadata": {
    "tags": []
   },
   "source": "Naast de RMSE-waarde wordt een voorspelling als goed beschouwd wanneer de voorspelde hersteltijd met een maximale afwijking van 15 minuten overeenkomt."
  },
  {
   "cell_type": "code",
   "id": "ffd0a99d-ee3d-4085-ba3a-28a70d8fe27b",
   "metadata": {
    "tags": [],
    "ExecuteTime": {
     "end_time": "2025-07-16T17:41:12.345164Z",
     "start_time": "2025-07-16T17:41:12.340819Z"
    }
   },
   "source": [
    "tolerance = 15\n",
    "\n",
    "# Bepaal welke voorspellingen als 'correct' worden beschouwd:\n",
    "# - De prognose duur ('stm_progfh_in_duur') is groter dan de werkelijke duur ('targetherstel')\n",
    "# - Het verschil tussen prognose duur en werkelijke duur is maximaal 15 minuten\n",
    "correct = (data['stm_progfh_in_duur'] > data['targetherstel']) & \\\n",
    "          (abs(data['stm_progfh_in_duur'] - data['targetherstel']) <= tolerance)\n",
    "\n",
    "# Bereken het gemiddelde aantal correcte voorspellingen (i.e. de nauwkeurigheid)\n",
    "accuracy = np.mean(correct)\n",
    "\n",
    "print(f\"Accuracy (overschatting binnen {tolerance} minuten): {accuracy:.2%}\")"
   ],
   "outputs": [
    {
     "name": "stdout",
     "output_type": "stream",
     "text": [
      "Accuracy (overschatting binnen 15 minuten): 35.10%\n"
     ]
    }
   ],
   "execution_count": 39
  },
  {
   "cell_type": "code",
   "id": "0736ff0b-c5e0-420d-9bbc-540261f8b6cf",
   "metadata": {
    "tags": [],
    "ExecuteTime": {
     "end_time": "2025-07-16T17:41:12.404679Z",
     "start_time": "2025-07-16T17:41:12.386818Z"
    }
   },
   "source": [
    "len(data[data['stm_progfh_in_duur'] > data['targetherstel']])/len(data)"
   ],
   "outputs": [
    {
     "data": {
      "text/plain": [
       "0.813869673204939"
      ]
     },
     "execution_count": 40,
     "metadata": {},
     "output_type": "execute_result"
    }
   ],
   "execution_count": 40
  },
  {
   "cell_type": "markdown",
   "id": "a0ac45bd-5522-4203-8c3e-f0ac5619fdb1",
   "metadata": {},
   "source": [
    "Uit de data blijkt dat 35% van de prognoses als goede voorspelling kan worden beschouwd, terwijl 81% van alle data altijd de hersteltijd kan dekken.\n",
    "In dit project is het van belang dat de voorspellingen eerder worden overschat dan onderschat."
   ]
  },
  {
   "cell_type": "markdown",
   "id": "52620fe8-60b2-40c3-a695-97177da3e411",
   "metadata": {},
   "source": "Verder is te zien dat wanneer het model constant een voorspelling van 30 minuten geeft, het een nauwkeurigheid accuracy van 39% behaalt."
  },
  {
   "cell_type": "code",
   "id": "6caf96ff-c4fb-4dd7-925b-3377ccfec66d",
   "metadata": {
    "tags": [],
    "ExecuteTime": {
     "end_time": "2025-07-16T17:41:12.446819Z",
     "start_time": "2025-07-16T17:41:12.434069Z"
    }
   },
   "source": [
    "# Totale aantal rijen in de DataFrame\n",
    "total = len(data)\n",
    "\n",
    "# Tel het aantal rijen waar 'targetherstel' binnen het opgegeven bereik valt en waarbij 'stm_progfh_in_duur' groter dan 'stm_progfh_in_duur' zijn.\n",
    "count = len(data[(data['targetherstel'] >= 15) & (data['targetherstel'] <= 45) & (\n",
    "            data['stm_progfh_in_duur'] >= data['targetherstel'])])\n",
    "\n",
    "print(f'Score: {count / total:.2%}')"
   ],
   "outputs": [
    {
     "name": "stdout",
     "output_type": "stream",
     "text": [
      "Score: 39.31%\n"
     ]
    }
   ],
   "execution_count": 41
  },
  {
   "cell_type": "markdown",
   "id": "0cb05d02-da61-4c6b-8c2f-a9a3bc07a43c",
   "metadata": {},
   "source": [
    "Dus wanneer is het model beter dan nu?\n",
    "1. Als de `RMSE` kleiner wordt.\n",
    "2. Als de voorspelling met een marge van 15 minuten het target kan dekken en een hogere score behaalt dan 39% accuracy.\n",
    "3. Als de totale voorspelling een betere dekkingsgraad heeft."
   ]
  },
  {
   "cell_type": "markdown",
   "id": "d4d39f61-9fea-462c-8685-c28528bf4979",
   "metadata": {
    "tags": []
   },
   "source": [
    "### Linear Regression"
   ]
  },
  {
   "cell_type": "code",
   "id": "7ebe0b9b-7238-4d99-b4ca-d881877e958d",
   "metadata": {
    "tags": [],
    "ExecuteTime": {
     "end_time": "2025-07-16T17:41:12.486262Z",
     "start_time": "2025-07-16T17:41:12.482248Z"
    }
   },
   "source": [
    "def Train_per_categorical(data):\n",
    "    data = data.copy()  # Voorkom SettingWithCopyWarning\n",
    "\n",
    "    # Categorische kolommen die één voor één toegevoegd worden\n",
    "    categorical_cols = ['stm_oorz_code', 'stm_contractgeb_mld', 'stm_techn_mld', 'stm_prioriteit']\n",
    "\n",
    "    # Numerieke kolommen die altijd in het model zitten\n",
    "    fixed_numeric_cols = ['stm_sap_meldtijd','day_of_year','stm_aanntpl_tijd', 'stm_progfh_in_duur']\n",
    "\n",
    "    # Eerst de baseline (alleen vaste numerieke features)\n",
    "    print(\"Baseline model: alleen numerieke features\")\n",
    "    X_base = data[fixed_numeric_cols]\n",
    "    y = data['targetherstel']\n",
    "\n",
    "    X_train, X_test, y_train, y_test = train_test_split(X_base, y, test_size=0.2, random_state=42)\n",
    "    model = LinearRegression()\n",
    "    model.fit(X_train, y_train)\n",
    "    y_pred = model.predict(X_test)\n",
    "\n",
    "    r2 = r2_score(y_test, y_pred)\n",
    "    rmse = np.sqrt(mean_squared_error(y_test, y_pred))\n",
    "    print(f\"[Baseline] R² = {r2:.3f}, RMSE = {rmse:.2f}\")\n",
    "\n",
    "    # Accuracy en coverage\n",
    "    tolerance = 15\n",
    "    correct = (data['stm_progfh_in_duur'] > data['targetherstel']) & \\\n",
    "              ((data['stm_progfh_in_duur'] - data['targetherstel']) <= tolerance)\n",
    "    accuracy = np.mean(correct)\n",
    "    coverage = np.mean(data['stm_progfh_in_duur'] > data['targetherstel'])\n",
    "    print(f\"[Baseline] Accuracy (±{tolerance} min overschatting): {accuracy:.2%}\")\n",
    "    print(f\"[Baseline] coverage: {coverage:.2%}\")\n",
    "\n",
    "    # Vervolgens per categorische kolom apart toevoegen\n",
    "    for col in categorical_cols:\n",
    "        print(f\"\\nModel trainen met categorische kolom: '{col}' + vaste numerieke features\")\n",
    "\n",
    "        data[col] = data[col].astype(str)\n",
    "        X_cat = pd.get_dummies(data[[col]], drop_first=True)\n",
    "\n",
    "        X = pd.concat([data[fixed_numeric_cols], X_cat], axis=1)\n",
    "\n",
    "        X_train, X_test, y_train, y_test = train_test_split(X, y, test_size=0.2, random_state=42)\n",
    "\n",
    "        model = LinearRegression()\n",
    "        model.fit(X_train, y_train)\n",
    "        y_pred = model.predict(X_test)\n",
    "\n",
    "        r2 = r2_score(y_test, y_pred)\n",
    "        rmse = np.sqrt(mean_squared_error(y_test, y_pred))\n",
    "\n",
    "        print(f\"R² = {r2:.3f}, RMSE = {rmse:.2f}\")\n",
    "\n",
    "        # Accuracy & coverage opnieuw berekenen (zelfde formule)\n",
    "        correct = (y_pred > y_test) & \\\n",
    "                  (abs(y_pred - y_test) <= 15)\n",
    "        accuracy = np.mean(correct)\n",
    "        coverage = np.mean(data['stm_progfh_in_duur'] > data['targetherstel'])\n",
    "\n",
    "        print(f\"Accuracy (±{tolerance} min overschatting): {accuracy:.2%}\")\n",
    "        print(f\"coverage: {coverage:.2%}\")\n",
    "\n"
   ],
   "outputs": [],
   "execution_count": 42
  },
  {
   "cell_type": "code",
   "id": "7ec9c908-3c00-46e7-9141-67071c010e5d",
   "metadata": {
    "tags": [],
    "ExecuteTime": {
     "end_time": "2025-07-16T17:41:13.627824Z",
     "start_time": "2025-07-16T17:41:12.530626Z"
    }
   },
   "source": [
    "Train_per_categorical(data)"
   ],
   "outputs": [
    {
     "name": "stdout",
     "output_type": "stream",
     "text": [
      "Baseline model: alleen numerieke features\n",
      "[Baseline] R² = 0.117, RMSE = 69.40\n",
      "[Baseline] Accuracy (±15 min overschatting): 35.10%\n",
      "[Baseline] coverage: 81.39%\n",
      "\n",
      "Model trainen met categorische kolom: 'stm_oorz_code' + vaste numerieke features\n",
      "R² = 0.155, RMSE = 67.87\n",
      "Accuracy (±15 min overschatting): 13.83%\n",
      "coverage: 81.39%\n",
      "\n",
      "Model trainen met categorische kolom: 'stm_contractgeb_mld' + vaste numerieke features\n",
      "R² = 0.123, RMSE = 69.15\n",
      "Accuracy (±15 min overschatting): 11.54%\n",
      "coverage: 81.39%\n",
      "\n",
      "Model trainen met categorische kolom: 'stm_techn_mld' + vaste numerieke features\n",
      "R² = 0.125, RMSE = 69.10\n",
      "Accuracy (±15 min overschatting): 11.80%\n",
      "coverage: 81.39%\n",
      "\n",
      "Model trainen met categorische kolom: 'stm_prioriteit' + vaste numerieke features\n",
      "R² = 0.119, RMSE = 69.31\n",
      "Accuracy (±15 min overschatting): 11.48%\n",
      "coverage: 81.39%\n"
     ]
    }
   ],
   "execution_count": 43
  },
  {
   "cell_type": "markdown",
   "id": "15c91fb9-9e14-4898-b4ff-97ed87c068fa",
   "metadata": {
    "tags": []
   },
   "source": [
    "Naast de datum, meldingstijd, aannemerstijd en hersteltijdfunctie is gekeken naar categorische kolommen, maar dit verbeterde het model niet.\n",
    "Het model heeft een lagere RMSE dan de baseline, maar de overige resultaten blijven vergelijkbaar. De accuracy bereikt maximaal 42,15%, waardoor het model niet significant beter is."
   ]
  },
  {
   "cell_type": "markdown",
   "id": "df4a5bde-8b19-4a4b-8646-6eee5267952a",
   "metadata": {},
   "source": "### Oplaan Model"
  },
  {
   "cell_type": "code",
   "id": "78d7e91e-6b89-43ec-bdbc-a0a8cd1eb279",
   "metadata": {
    "tags": [],
    "ExecuteTime": {
     "end_time": "2025-07-16T17:41:13.646669Z",
     "start_time": "2025-07-16T17:41:13.643531Z"
    }
   },
   "source": [
    "X = data[['stm_sap_meldtijd','day_of_year','stm_aanntpl_tijd', 'stm_progfh_in_duur']]\n",
    "y = data['targetherstel']"
   ],
   "outputs": [],
   "execution_count": 44
  },
  {
   "cell_type": "code",
   "id": "f89aeede-9143-4e4d-af5d-7d89a37bc2a9",
   "metadata": {
    "tags": [],
    "ExecuteTime": {
     "end_time": "2025-07-16T17:41:13.725Z",
     "start_time": "2025-07-16T17:41:13.694989Z"
    }
   },
   "source": [
    "X_train, X_test, y_train, y_test = train_test_split(X, y, test_size=0.2, random_state=42)"
   ],
   "outputs": [],
   "execution_count": 45
  },
  {
   "cell_type": "code",
   "id": "b172d182-b7e2-44ed-b2a5-910378b327aa",
   "metadata": {
    "tags": [],
    "ExecuteTime": {
     "end_time": "2025-07-16T17:41:13.773715Z",
     "start_time": "2025-07-16T17:41:13.747792Z"
    }
   },
   "source": [
    "model = LinearRegression()\n",
    "model.fit(X_train, y_train)"
   ],
   "outputs": [
    {
     "data": {
      "text/plain": [
       "LinearRegression()"
      ],
      "text/html": [
       "<style>#sk-container-id-1 {\n",
       "  /* Definition of color scheme common for light and dark mode */\n",
       "  --sklearn-color-text: #000;\n",
       "  --sklearn-color-text-muted: #666;\n",
       "  --sklearn-color-line: gray;\n",
       "  /* Definition of color scheme for unfitted estimators */\n",
       "  --sklearn-color-unfitted-level-0: #fff5e6;\n",
       "  --sklearn-color-unfitted-level-1: #f6e4d2;\n",
       "  --sklearn-color-unfitted-level-2: #ffe0b3;\n",
       "  --sklearn-color-unfitted-level-3: chocolate;\n",
       "  /* Definition of color scheme for fitted estimators */\n",
       "  --sklearn-color-fitted-level-0: #f0f8ff;\n",
       "  --sklearn-color-fitted-level-1: #d4ebff;\n",
       "  --sklearn-color-fitted-level-2: #b3dbfd;\n",
       "  --sklearn-color-fitted-level-3: cornflowerblue;\n",
       "\n",
       "  /* Specific color for light theme */\n",
       "  --sklearn-color-text-on-default-background: var(--sg-text-color, var(--theme-code-foreground, var(--jp-content-font-color1, black)));\n",
       "  --sklearn-color-background: var(--sg-background-color, var(--theme-background, var(--jp-layout-color0, white)));\n",
       "  --sklearn-color-border-box: var(--sg-text-color, var(--theme-code-foreground, var(--jp-content-font-color1, black)));\n",
       "  --sklearn-color-icon: #696969;\n",
       "\n",
       "  @media (prefers-color-scheme: dark) {\n",
       "    /* Redefinition of color scheme for dark theme */\n",
       "    --sklearn-color-text-on-default-background: var(--sg-text-color, var(--theme-code-foreground, var(--jp-content-font-color1, white)));\n",
       "    --sklearn-color-background: var(--sg-background-color, var(--theme-background, var(--jp-layout-color0, #111)));\n",
       "    --sklearn-color-border-box: var(--sg-text-color, var(--theme-code-foreground, var(--jp-content-font-color1, white)));\n",
       "    --sklearn-color-icon: #878787;\n",
       "  }\n",
       "}\n",
       "\n",
       "#sk-container-id-1 {\n",
       "  color: var(--sklearn-color-text);\n",
       "}\n",
       "\n",
       "#sk-container-id-1 pre {\n",
       "  padding: 0;\n",
       "}\n",
       "\n",
       "#sk-container-id-1 input.sk-hidden--visually {\n",
       "  border: 0;\n",
       "  clip: rect(1px 1px 1px 1px);\n",
       "  clip: rect(1px, 1px, 1px, 1px);\n",
       "  height: 1px;\n",
       "  margin: -1px;\n",
       "  overflow: hidden;\n",
       "  padding: 0;\n",
       "  position: absolute;\n",
       "  width: 1px;\n",
       "}\n",
       "\n",
       "#sk-container-id-1 div.sk-dashed-wrapped {\n",
       "  border: 1px dashed var(--sklearn-color-line);\n",
       "  margin: 0 0.4em 0.5em 0.4em;\n",
       "  box-sizing: border-box;\n",
       "  padding-bottom: 0.4em;\n",
       "  background-color: var(--sklearn-color-background);\n",
       "}\n",
       "\n",
       "#sk-container-id-1 div.sk-container {\n",
       "  /* jupyter's `normalize.less` sets `[hidden] { display: none; }`\n",
       "     but bootstrap.min.css set `[hidden] { display: none !important; }`\n",
       "     so we also need the `!important` here to be able to override the\n",
       "     default hidden behavior on the sphinx rendered scikit-learn.org.\n",
       "     See: https://github.com/scikit-learn/scikit-learn/issues/21755 */\n",
       "  display: inline-block !important;\n",
       "  position: relative;\n",
       "}\n",
       "\n",
       "#sk-container-id-1 div.sk-text-repr-fallback {\n",
       "  display: none;\n",
       "}\n",
       "\n",
       "div.sk-parallel-item,\n",
       "div.sk-serial,\n",
       "div.sk-item {\n",
       "  /* draw centered vertical line to link estimators */\n",
       "  background-image: linear-gradient(var(--sklearn-color-text-on-default-background), var(--sklearn-color-text-on-default-background));\n",
       "  background-size: 2px 100%;\n",
       "  background-repeat: no-repeat;\n",
       "  background-position: center center;\n",
       "}\n",
       "\n",
       "/* Parallel-specific style estimator block */\n",
       "\n",
       "#sk-container-id-1 div.sk-parallel-item::after {\n",
       "  content: \"\";\n",
       "  width: 100%;\n",
       "  border-bottom: 2px solid var(--sklearn-color-text-on-default-background);\n",
       "  flex-grow: 1;\n",
       "}\n",
       "\n",
       "#sk-container-id-1 div.sk-parallel {\n",
       "  display: flex;\n",
       "  align-items: stretch;\n",
       "  justify-content: center;\n",
       "  background-color: var(--sklearn-color-background);\n",
       "  position: relative;\n",
       "}\n",
       "\n",
       "#sk-container-id-1 div.sk-parallel-item {\n",
       "  display: flex;\n",
       "  flex-direction: column;\n",
       "}\n",
       "\n",
       "#sk-container-id-1 div.sk-parallel-item:first-child::after {\n",
       "  align-self: flex-end;\n",
       "  width: 50%;\n",
       "}\n",
       "\n",
       "#sk-container-id-1 div.sk-parallel-item:last-child::after {\n",
       "  align-self: flex-start;\n",
       "  width: 50%;\n",
       "}\n",
       "\n",
       "#sk-container-id-1 div.sk-parallel-item:only-child::after {\n",
       "  width: 0;\n",
       "}\n",
       "\n",
       "/* Serial-specific style estimator block */\n",
       "\n",
       "#sk-container-id-1 div.sk-serial {\n",
       "  display: flex;\n",
       "  flex-direction: column;\n",
       "  align-items: center;\n",
       "  background-color: var(--sklearn-color-background);\n",
       "  padding-right: 1em;\n",
       "  padding-left: 1em;\n",
       "}\n",
       "\n",
       "\n",
       "/* Toggleable style: style used for estimator/Pipeline/ColumnTransformer box that is\n",
       "clickable and can be expanded/collapsed.\n",
       "- Pipeline and ColumnTransformer use this feature and define the default style\n",
       "- Estimators will overwrite some part of the style using the `sk-estimator` class\n",
       "*/\n",
       "\n",
       "/* Pipeline and ColumnTransformer style (default) */\n",
       "\n",
       "#sk-container-id-1 div.sk-toggleable {\n",
       "  /* Default theme specific background. It is overwritten whether we have a\n",
       "  specific estimator or a Pipeline/ColumnTransformer */\n",
       "  background-color: var(--sklearn-color-background);\n",
       "}\n",
       "\n",
       "/* Toggleable label */\n",
       "#sk-container-id-1 label.sk-toggleable__label {\n",
       "  cursor: pointer;\n",
       "  display: flex;\n",
       "  width: 100%;\n",
       "  margin-bottom: 0;\n",
       "  padding: 0.5em;\n",
       "  box-sizing: border-box;\n",
       "  text-align: center;\n",
       "  align-items: start;\n",
       "  justify-content: space-between;\n",
       "  gap: 0.5em;\n",
       "}\n",
       "\n",
       "#sk-container-id-1 label.sk-toggleable__label .caption {\n",
       "  font-size: 0.6rem;\n",
       "  font-weight: lighter;\n",
       "  color: var(--sklearn-color-text-muted);\n",
       "}\n",
       "\n",
       "#sk-container-id-1 label.sk-toggleable__label-arrow:before {\n",
       "  /* Arrow on the left of the label */\n",
       "  content: \"▸\";\n",
       "  float: left;\n",
       "  margin-right: 0.25em;\n",
       "  color: var(--sklearn-color-icon);\n",
       "}\n",
       "\n",
       "#sk-container-id-1 label.sk-toggleable__label-arrow:hover:before {\n",
       "  color: var(--sklearn-color-text);\n",
       "}\n",
       "\n",
       "/* Toggleable content - dropdown */\n",
       "\n",
       "#sk-container-id-1 div.sk-toggleable__content {\n",
       "  display: none;\n",
       "  text-align: left;\n",
       "  /* unfitted */\n",
       "  background-color: var(--sklearn-color-unfitted-level-0);\n",
       "}\n",
       "\n",
       "#sk-container-id-1 div.sk-toggleable__content.fitted {\n",
       "  /* fitted */\n",
       "  background-color: var(--sklearn-color-fitted-level-0);\n",
       "}\n",
       "\n",
       "#sk-container-id-1 div.sk-toggleable__content pre {\n",
       "  margin: 0.2em;\n",
       "  border-radius: 0.25em;\n",
       "  color: var(--sklearn-color-text);\n",
       "  /* unfitted */\n",
       "  background-color: var(--sklearn-color-unfitted-level-0);\n",
       "}\n",
       "\n",
       "#sk-container-id-1 div.sk-toggleable__content.fitted pre {\n",
       "  /* unfitted */\n",
       "  background-color: var(--sklearn-color-fitted-level-0);\n",
       "}\n",
       "\n",
       "#sk-container-id-1 input.sk-toggleable__control:checked~div.sk-toggleable__content {\n",
       "  /* Expand drop-down */\n",
       "  display: block;\n",
       "  width: 100%;\n",
       "  overflow: visible;\n",
       "}\n",
       "\n",
       "#sk-container-id-1 input.sk-toggleable__control:checked~label.sk-toggleable__label-arrow:before {\n",
       "  content: \"▾\";\n",
       "}\n",
       "\n",
       "/* Pipeline/ColumnTransformer-specific style */\n",
       "\n",
       "#sk-container-id-1 div.sk-label input.sk-toggleable__control:checked~label.sk-toggleable__label {\n",
       "  color: var(--sklearn-color-text);\n",
       "  background-color: var(--sklearn-color-unfitted-level-2);\n",
       "}\n",
       "\n",
       "#sk-container-id-1 div.sk-label.fitted input.sk-toggleable__control:checked~label.sk-toggleable__label {\n",
       "  background-color: var(--sklearn-color-fitted-level-2);\n",
       "}\n",
       "\n",
       "/* Estimator-specific style */\n",
       "\n",
       "/* Colorize estimator box */\n",
       "#sk-container-id-1 div.sk-estimator input.sk-toggleable__control:checked~label.sk-toggleable__label {\n",
       "  /* unfitted */\n",
       "  background-color: var(--sklearn-color-unfitted-level-2);\n",
       "}\n",
       "\n",
       "#sk-container-id-1 div.sk-estimator.fitted input.sk-toggleable__control:checked~label.sk-toggleable__label {\n",
       "  /* fitted */\n",
       "  background-color: var(--sklearn-color-fitted-level-2);\n",
       "}\n",
       "\n",
       "#sk-container-id-1 div.sk-label label.sk-toggleable__label,\n",
       "#sk-container-id-1 div.sk-label label {\n",
       "  /* The background is the default theme color */\n",
       "  color: var(--sklearn-color-text-on-default-background);\n",
       "}\n",
       "\n",
       "/* On hover, darken the color of the background */\n",
       "#sk-container-id-1 div.sk-label:hover label.sk-toggleable__label {\n",
       "  color: var(--sklearn-color-text);\n",
       "  background-color: var(--sklearn-color-unfitted-level-2);\n",
       "}\n",
       "\n",
       "/* Label box, darken color on hover, fitted */\n",
       "#sk-container-id-1 div.sk-label.fitted:hover label.sk-toggleable__label.fitted {\n",
       "  color: var(--sklearn-color-text);\n",
       "  background-color: var(--sklearn-color-fitted-level-2);\n",
       "}\n",
       "\n",
       "/* Estimator label */\n",
       "\n",
       "#sk-container-id-1 div.sk-label label {\n",
       "  font-family: monospace;\n",
       "  font-weight: bold;\n",
       "  display: inline-block;\n",
       "  line-height: 1.2em;\n",
       "}\n",
       "\n",
       "#sk-container-id-1 div.sk-label-container {\n",
       "  text-align: center;\n",
       "}\n",
       "\n",
       "/* Estimator-specific */\n",
       "#sk-container-id-1 div.sk-estimator {\n",
       "  font-family: monospace;\n",
       "  border: 1px dotted var(--sklearn-color-border-box);\n",
       "  border-radius: 0.25em;\n",
       "  box-sizing: border-box;\n",
       "  margin-bottom: 0.5em;\n",
       "  /* unfitted */\n",
       "  background-color: var(--sklearn-color-unfitted-level-0);\n",
       "}\n",
       "\n",
       "#sk-container-id-1 div.sk-estimator.fitted {\n",
       "  /* fitted */\n",
       "  background-color: var(--sklearn-color-fitted-level-0);\n",
       "}\n",
       "\n",
       "/* on hover */\n",
       "#sk-container-id-1 div.sk-estimator:hover {\n",
       "  /* unfitted */\n",
       "  background-color: var(--sklearn-color-unfitted-level-2);\n",
       "}\n",
       "\n",
       "#sk-container-id-1 div.sk-estimator.fitted:hover {\n",
       "  /* fitted */\n",
       "  background-color: var(--sklearn-color-fitted-level-2);\n",
       "}\n",
       "\n",
       "/* Specification for estimator info (e.g. \"i\" and \"?\") */\n",
       "\n",
       "/* Common style for \"i\" and \"?\" */\n",
       "\n",
       ".sk-estimator-doc-link,\n",
       "a:link.sk-estimator-doc-link,\n",
       "a:visited.sk-estimator-doc-link {\n",
       "  float: right;\n",
       "  font-size: smaller;\n",
       "  line-height: 1em;\n",
       "  font-family: monospace;\n",
       "  background-color: var(--sklearn-color-background);\n",
       "  border-radius: 1em;\n",
       "  height: 1em;\n",
       "  width: 1em;\n",
       "  text-decoration: none !important;\n",
       "  margin-left: 0.5em;\n",
       "  text-align: center;\n",
       "  /* unfitted */\n",
       "  border: var(--sklearn-color-unfitted-level-1) 1pt solid;\n",
       "  color: var(--sklearn-color-unfitted-level-1);\n",
       "}\n",
       "\n",
       ".sk-estimator-doc-link.fitted,\n",
       "a:link.sk-estimator-doc-link.fitted,\n",
       "a:visited.sk-estimator-doc-link.fitted {\n",
       "  /* fitted */\n",
       "  border: var(--sklearn-color-fitted-level-1) 1pt solid;\n",
       "  color: var(--sklearn-color-fitted-level-1);\n",
       "}\n",
       "\n",
       "/* On hover */\n",
       "div.sk-estimator:hover .sk-estimator-doc-link:hover,\n",
       ".sk-estimator-doc-link:hover,\n",
       "div.sk-label-container:hover .sk-estimator-doc-link:hover,\n",
       ".sk-estimator-doc-link:hover {\n",
       "  /* unfitted */\n",
       "  background-color: var(--sklearn-color-unfitted-level-3);\n",
       "  color: var(--sklearn-color-background);\n",
       "  text-decoration: none;\n",
       "}\n",
       "\n",
       "div.sk-estimator.fitted:hover .sk-estimator-doc-link.fitted:hover,\n",
       ".sk-estimator-doc-link.fitted:hover,\n",
       "div.sk-label-container:hover .sk-estimator-doc-link.fitted:hover,\n",
       ".sk-estimator-doc-link.fitted:hover {\n",
       "  /* fitted */\n",
       "  background-color: var(--sklearn-color-fitted-level-3);\n",
       "  color: var(--sklearn-color-background);\n",
       "  text-decoration: none;\n",
       "}\n",
       "\n",
       "/* Span, style for the box shown on hovering the info icon */\n",
       ".sk-estimator-doc-link span {\n",
       "  display: none;\n",
       "  z-index: 9999;\n",
       "  position: relative;\n",
       "  font-weight: normal;\n",
       "  right: .2ex;\n",
       "  padding: .5ex;\n",
       "  margin: .5ex;\n",
       "  width: min-content;\n",
       "  min-width: 20ex;\n",
       "  max-width: 50ex;\n",
       "  color: var(--sklearn-color-text);\n",
       "  box-shadow: 2pt 2pt 4pt #999;\n",
       "  /* unfitted */\n",
       "  background: var(--sklearn-color-unfitted-level-0);\n",
       "  border: .5pt solid var(--sklearn-color-unfitted-level-3);\n",
       "}\n",
       "\n",
       ".sk-estimator-doc-link.fitted span {\n",
       "  /* fitted */\n",
       "  background: var(--sklearn-color-fitted-level-0);\n",
       "  border: var(--sklearn-color-fitted-level-3);\n",
       "}\n",
       "\n",
       ".sk-estimator-doc-link:hover span {\n",
       "  display: block;\n",
       "}\n",
       "\n",
       "/* \"?\"-specific style due to the `<a>` HTML tag */\n",
       "\n",
       "#sk-container-id-1 a.estimator_doc_link {\n",
       "  float: right;\n",
       "  font-size: 1rem;\n",
       "  line-height: 1em;\n",
       "  font-family: monospace;\n",
       "  background-color: var(--sklearn-color-background);\n",
       "  border-radius: 1rem;\n",
       "  height: 1rem;\n",
       "  width: 1rem;\n",
       "  text-decoration: none;\n",
       "  /* unfitted */\n",
       "  color: var(--sklearn-color-unfitted-level-1);\n",
       "  border: var(--sklearn-color-unfitted-level-1) 1pt solid;\n",
       "}\n",
       "\n",
       "#sk-container-id-1 a.estimator_doc_link.fitted {\n",
       "  /* fitted */\n",
       "  border: var(--sklearn-color-fitted-level-1) 1pt solid;\n",
       "  color: var(--sklearn-color-fitted-level-1);\n",
       "}\n",
       "\n",
       "/* On hover */\n",
       "#sk-container-id-1 a.estimator_doc_link:hover {\n",
       "  /* unfitted */\n",
       "  background-color: var(--sklearn-color-unfitted-level-3);\n",
       "  color: var(--sklearn-color-background);\n",
       "  text-decoration: none;\n",
       "}\n",
       "\n",
       "#sk-container-id-1 a.estimator_doc_link.fitted:hover {\n",
       "  /* fitted */\n",
       "  background-color: var(--sklearn-color-fitted-level-3);\n",
       "}\n",
       "\n",
       ".estimator-table summary {\n",
       "    padding: .5rem;\n",
       "    font-family: monospace;\n",
       "    cursor: pointer;\n",
       "}\n",
       "\n",
       ".estimator-table details[open] {\n",
       "    padding-left: 0.1rem;\n",
       "    padding-right: 0.1rem;\n",
       "    padding-bottom: 0.3rem;\n",
       "}\n",
       "\n",
       ".estimator-table .parameters-table {\n",
       "    margin-left: auto !important;\n",
       "    margin-right: auto !important;\n",
       "}\n",
       "\n",
       ".estimator-table .parameters-table tr:nth-child(odd) {\n",
       "    background-color: #fff;\n",
       "}\n",
       "\n",
       ".estimator-table .parameters-table tr:nth-child(even) {\n",
       "    background-color: #f6f6f6;\n",
       "}\n",
       "\n",
       ".estimator-table .parameters-table tr:hover {\n",
       "    background-color: #e0e0e0;\n",
       "}\n",
       "\n",
       ".estimator-table table td {\n",
       "    border: 1px solid rgba(106, 105, 104, 0.232);\n",
       "}\n",
       "\n",
       ".user-set td {\n",
       "    color:rgb(255, 94, 0);\n",
       "    text-align: left;\n",
       "}\n",
       "\n",
       ".user-set td.value pre {\n",
       "    color:rgb(255, 94, 0) !important;\n",
       "    background-color: transparent !important;\n",
       "}\n",
       "\n",
       ".default td {\n",
       "    color: black;\n",
       "    text-align: left;\n",
       "}\n",
       "\n",
       ".user-set td i,\n",
       ".default td i {\n",
       "    color: black;\n",
       "}\n",
       "\n",
       ".copy-paste-icon {\n",
       "    background-image: url(data:image/svg+xml;base64,PHN2ZyB4bWxucz0iaHR0cDovL3d3dy53My5vcmcvMjAwMC9zdmciIHZpZXdCb3g9IjAgMCA0NDggNTEyIj48IS0tIUZvbnQgQXdlc29tZSBGcmVlIDYuNy4yIGJ5IEBmb250YXdlc29tZSAtIGh0dHBzOi8vZm9udGF3ZXNvbWUuY29tIExpY2Vuc2UgLSBodHRwczovL2ZvbnRhd2Vzb21lLmNvbS9saWNlbnNlL2ZyZWUgQ29weXJpZ2h0IDIwMjUgRm9udGljb25zLCBJbmMuLS0+PHBhdGggZD0iTTIwOCAwTDMzMi4xIDBjMTIuNyAwIDI0LjkgNS4xIDMzLjkgMTQuMWw2Ny45IDY3LjljOSA5IDE0LjEgMjEuMiAxNC4xIDMzLjlMNDQ4IDMzNmMwIDI2LjUtMjEuNSA0OC00OCA0OGwtMTkyIDBjLTI2LjUgMC00OC0yMS41LTQ4LTQ4bDAtMjg4YzAtMjYuNSAyMS41LTQ4IDQ4LTQ4ek00OCAxMjhsODAgMCAwIDY0LTY0IDAgMCAyNTYgMTkyIDAgMC0zMiA2NCAwIDAgNDhjMCAyNi41LTIxLjUgNDgtNDggNDhMNDggNTEyYy0yNi41IDAtNDgtMjEuNS00OC00OEwwIDE3NmMwLTI2LjUgMjEuNS00OCA0OC00OHoiLz48L3N2Zz4=);\n",
       "    background-repeat: no-repeat;\n",
       "    background-size: 14px 14px;\n",
       "    background-position: 0;\n",
       "    display: inline-block;\n",
       "    width: 14px;\n",
       "    height: 14px;\n",
       "    cursor: pointer;\n",
       "}\n",
       "</style><body><div id=\"sk-container-id-1\" class=\"sk-top-container\"><div class=\"sk-text-repr-fallback\"><pre>LinearRegression()</pre><b>In a Jupyter environment, please rerun this cell to show the HTML representation or trust the notebook. <br />On GitHub, the HTML representation is unable to render, please try loading this page with nbviewer.org.</b></div><div class=\"sk-container\" hidden><div class=\"sk-item\"><div class=\"sk-estimator fitted sk-toggleable\"><input class=\"sk-toggleable__control sk-hidden--visually\" id=\"sk-estimator-id-1\" type=\"checkbox\" checked><label for=\"sk-estimator-id-1\" class=\"sk-toggleable__label fitted sk-toggleable__label-arrow\"><div><div>LinearRegression</div></div><div><a class=\"sk-estimator-doc-link fitted\" rel=\"noreferrer\" target=\"_blank\" href=\"https://scikit-learn.org/1.7/modules/generated/sklearn.linear_model.LinearRegression.html\">?<span>Documentation for LinearRegression</span></a><span class=\"sk-estimator-doc-link fitted\">i<span>Fitted</span></span></div></label><div class=\"sk-toggleable__content fitted\" data-param-prefix=\"\">\n",
       "        <div class=\"estimator-table\">\n",
       "            <details>\n",
       "                <summary>Parameters</summary>\n",
       "                <table class=\"parameters-table\">\n",
       "                  <tbody>\n",
       "                    \n",
       "        <tr class=\"default\">\n",
       "            <td><i class=\"copy-paste-icon\"\n",
       "                 onclick=\"copyToClipboard('fit_intercept',\n",
       "                          this.parentElement.nextElementSibling)\"\n",
       "            ></i></td>\n",
       "            <td class=\"param\">fit_intercept&nbsp;</td>\n",
       "            <td class=\"value\">True</td>\n",
       "        </tr>\n",
       "    \n",
       "\n",
       "        <tr class=\"default\">\n",
       "            <td><i class=\"copy-paste-icon\"\n",
       "                 onclick=\"copyToClipboard('copy_X',\n",
       "                          this.parentElement.nextElementSibling)\"\n",
       "            ></i></td>\n",
       "            <td class=\"param\">copy_X&nbsp;</td>\n",
       "            <td class=\"value\">True</td>\n",
       "        </tr>\n",
       "    \n",
       "\n",
       "        <tr class=\"default\">\n",
       "            <td><i class=\"copy-paste-icon\"\n",
       "                 onclick=\"copyToClipboard('tol',\n",
       "                          this.parentElement.nextElementSibling)\"\n",
       "            ></i></td>\n",
       "            <td class=\"param\">tol&nbsp;</td>\n",
       "            <td class=\"value\">1e-06</td>\n",
       "        </tr>\n",
       "    \n",
       "\n",
       "        <tr class=\"default\">\n",
       "            <td><i class=\"copy-paste-icon\"\n",
       "                 onclick=\"copyToClipboard('n_jobs',\n",
       "                          this.parentElement.nextElementSibling)\"\n",
       "            ></i></td>\n",
       "            <td class=\"param\">n_jobs&nbsp;</td>\n",
       "            <td class=\"value\">None</td>\n",
       "        </tr>\n",
       "    \n",
       "\n",
       "        <tr class=\"default\">\n",
       "            <td><i class=\"copy-paste-icon\"\n",
       "                 onclick=\"copyToClipboard('positive',\n",
       "                          this.parentElement.nextElementSibling)\"\n",
       "            ></i></td>\n",
       "            <td class=\"param\">positive&nbsp;</td>\n",
       "            <td class=\"value\">False</td>\n",
       "        </tr>\n",
       "    \n",
       "                  </tbody>\n",
       "                </table>\n",
       "            </details>\n",
       "        </div>\n",
       "    </div></div></div></div></div><script>function copyToClipboard(text, element) {\n",
       "    // Get the parameter prefix from the closest toggleable content\n",
       "    const toggleableContent = element.closest('.sk-toggleable__content');\n",
       "    const paramPrefix = toggleableContent ? toggleableContent.dataset.paramPrefix : '';\n",
       "    const fullParamName = paramPrefix ? `${paramPrefix}${text}` : text;\n",
       "\n",
       "    const originalStyle = element.style;\n",
       "    const computedStyle = window.getComputedStyle(element);\n",
       "    const originalWidth = computedStyle.width;\n",
       "    const originalHTML = element.innerHTML.replace('Copied!', '');\n",
       "\n",
       "    navigator.clipboard.writeText(fullParamName)\n",
       "        .then(() => {\n",
       "            element.style.width = originalWidth;\n",
       "            element.style.color = 'green';\n",
       "            element.innerHTML = \"Copied!\";\n",
       "\n",
       "            setTimeout(() => {\n",
       "                element.innerHTML = originalHTML;\n",
       "                element.style = originalStyle;\n",
       "            }, 2000);\n",
       "        })\n",
       "        .catch(err => {\n",
       "            console.error('Failed to copy:', err);\n",
       "            element.style.color = 'red';\n",
       "            element.innerHTML = \"Failed!\";\n",
       "            setTimeout(() => {\n",
       "                element.innerHTML = originalHTML;\n",
       "                element.style = originalStyle;\n",
       "            }, 2000);\n",
       "        });\n",
       "    return false;\n",
       "}\n",
       "\n",
       "document.querySelectorAll('.fa-regular.fa-copy').forEach(function(element) {\n",
       "    const toggleableContent = element.closest('.sk-toggleable__content');\n",
       "    const paramPrefix = toggleableContent ? toggleableContent.dataset.paramPrefix : '';\n",
       "    const paramName = element.parentElement.nextElementSibling.textContent.trim();\n",
       "    const fullParamName = paramPrefix ? `${paramPrefix}${paramName}` : paramName;\n",
       "\n",
       "    element.setAttribute('title', fullParamName);\n",
       "});\n",
       "</script></body>"
      ]
     },
     "execution_count": 46,
     "metadata": {},
     "output_type": "execute_result"
    }
   ],
   "execution_count": 46
  },
  {
   "cell_type": "code",
   "id": "1767bab1-e1e2-4a73-9c39-7f0223e36cdc",
   "metadata": {
    "tags": [],
    "ExecuteTime": {
     "end_time": "2025-07-16T17:41:13.839674Z",
     "start_time": "2025-07-16T17:41:13.836710Z"
    }
   },
   "source": "joblib.dump(model, 'Models/LinearRegressionModel.joblib')",
   "outputs": [
    {
     "data": {
      "text/plain": [
       "['Models/LinearRegressionModel.joblib']"
      ]
     },
     "execution_count": 47,
     "metadata": {},
     "output_type": "execute_result"
    }
   ],
   "execution_count": 47
  },
  {
   "cell_type": "markdown",
   "id": "1e20328ce0da53e1",
   "metadata": {},
   "source": "### Decision Tree"
  },
  {
   "cell_type": "markdown",
   "id": "512e3707-4025-44db-ab37-7b4de47e9029",
   "metadata": {
    "tags": []
   },
   "source": [
    "Voor de decision tree is gekozen om het model te trainen door de target in verschillende klassen te verdelen.\n",
    "- Een tijdsverschil tussen 15 tot 30 minuten wordt klasse 1.\n",
    "- Een tijdsverschil tussen 30 tot 45 minuten wordt klasse 2."
   ]
  },
  {
   "cell_type": "code",
   "id": "2fa65889-1780-4765-9333-bade7307b3b5",
   "metadata": {
    "tags": [],
    "ExecuteTime": {
     "end_time": "2025-07-16T17:41:13.905377Z",
     "start_time": "2025-07-16T17:41:13.902738Z"
    }
   },
   "source": [
    "def build_klassen(start=15, end=481, step=15):\n",
    "    klassen = {}\n",
    "    index = 1\n",
    "    for lower in range(start, end, step):\n",
    "        upper = lower + step\n",
    "        klassen[index] = (lower, upper)\n",
    "        index += 1\n",
    "    return klassen\n",
    "\n",
    "klassen = build_klassen()"
   ],
   "outputs": [],
   "execution_count": 48
  },
  {
   "cell_type": "code",
   "id": "6f194ea9-5bbd-446c-9a80-ecec23c3e9e9",
   "metadata": {
    "tags": [],
    "ExecuteTime": {
     "end_time": "2025-07-16T17:41:14.065311Z",
     "start_time": "2025-07-16T17:41:13.948535Z"
    }
   },
   "source": [
    "def categorize_herstel(minuten):\n",
    "    for label, (min_val, max_val) in klassen.items():\n",
    "        if min_val <= minuten < max_val:\n",
    "            return label\n",
    "    return 0\n",
    "data['herstel_klasse'] = data['targetherstel'].apply(categorize_herstel)\n",
    "data['herstel_klasse'] = data['targetherstel'].apply(categorize_herstel)"
   ],
   "outputs": [],
   "execution_count": 49
  },
  {
   "cell_type": "code",
   "id": "d7afd568-3904-406d-8e20-aebdf5a7b10a",
   "metadata": {
    "tags": [],
    "ExecuteTime": {
     "end_time": "2025-07-16T17:41:14.091697Z",
     "start_time": "2025-07-16T17:41:14.088051Z"
    }
   },
   "source": [
    "data['herstel_klasse']"
   ],
   "outputs": [
    {
     "data": {
      "text/plain": [
       "98626     14\n",
       "144452     1\n",
       "144457     3\n",
       "144458     1\n",
       "144459     2\n",
       "          ..\n",
       "908610     9\n",
       "908624     1\n",
       "908626     2\n",
       "908628     1\n",
       "908629     1\n",
       "Name: herstel_klasse, Length: 168699, dtype: int64"
      ]
     },
     "execution_count": 50,
     "metadata": {},
     "output_type": "execute_result"
    }
   ],
   "execution_count": 50
  },
  {
   "cell_type": "markdown",
   "id": "a97991b7-e0d1-46b2-89db-c766bcb1c786",
   "metadata": {},
   "source": "### Tijden"
  },
  {
   "cell_type": "markdown",
   "id": "9b32c163-9034-46f5-b316-ebf8fbf0b040",
   "metadata": {},
   "source": "De tijden worden hier in bin's verdeeld van 15 minuten."
  },
  {
   "cell_type": "code",
   "id": "c12e1cdd-1cf3-49f7-807e-c50150a0ee2d",
   "metadata": {
    "tags": [],
    "ExecuteTime": {
     "end_time": "2025-07-16T17:41:14.164843Z",
     "start_time": "2025-07-16T17:41:14.161093Z"
    }
   },
   "source": [
    "bin_size = 15\n",
    "data['aanntpl_tijd_bin'] = (data['stm_aanntpl_tijd'] // bin_size) * bin_size\n",
    "data['meldtijd_bin'] = (data['stm_sap_meldtijd'] // bin_size) * bin_size"
   ],
   "outputs": [],
   "execution_count": 51
  },
  {
   "cell_type": "markdown",
   "id": "f91ba601-08d7-4644-b9cb-83cdc4e645d6",
   "metadata": {
    "tags": []
   },
   "source": "De prognose duur wordt hier ook in bin's van 15 minuten verdeeld"
  },
  {
   "cell_type": "code",
   "id": "78246f13-a1c7-4515-b4ca-ca3187aabd44",
   "metadata": {
    "tags": [],
    "ExecuteTime": {
     "end_time": "2025-07-16T17:41:14.216582Z",
     "start_time": "2025-07-16T17:41:14.213362Z"
    }
   },
   "source": [
    "data['progfh_in_duur_bin'] = (data['stm_progfh_in_duur'] // bin_size) * bin_size"
   ],
   "outputs": [],
   "execution_count": 52
  },
  {
   "cell_type": "markdown",
   "id": "2137f4ad-90fa-4fe9-b1d5-4a164dab9e62",
   "metadata": {},
   "source": "### Model"
  },
  {
   "cell_type": "code",
   "id": "2fc214ddd910b2eb",
   "metadata": {
    "tags": [],
    "ExecuteTime": {
     "end_time": "2025-07-16T17:41:14.292770Z",
     "start_time": "2025-07-16T17:41:14.288068Z"
    }
   },
   "source": [
    "def train_decision_tree(data):\n",
    "    \"\"\"Train verbeterd Decision Tree model met hyperparameter tuning\"\"\"\n",
    "    data = data.copy()\n",
    "\n",
    "    # Alle feature categorieën\n",
    "    numeric_cols = ['day_of_year', 'meldtijd_bin','aanntpl_tijd_bin', 'progfh_in_duur_bin', 'stm_prioriteit','stm_oorz_code', 'stm_contractgeb_mld','stm_techn_mld_encoded']\n",
    "\n",
    "    # Feature engineering: voeg afgeleide features toe\n",
    "    data['tijd_verschil_meld_aanntpl'] = data['stm_aanntpl_tijd'] - data['stm_sap_meldtijd']\n",
    "\n",
    "    # Voeg tijdsgerelateerde features toe\n",
    "    data['uur_van_dag'] = (data['stm_sap_meldtijd'] // 60).astype(int)\n",
    "    data['is_spitsuur'] = ((data['uur_van_dag'] >= 7) & (data['uur_van_dag'] <= 9) |\n",
    "                          (data['uur_van_dag'] >= 17) & (data['uur_van_dag'] <= 19)).astype(int)\n",
    "\n",
    "    # Update numeric columns met nieuwe features\n",
    "    numeric_cols.extend(['tijd_verschil_meld_aanntpl', 'is_spitsuur'])\n",
    "\n",
    "    # Prepare features\n",
    "    X_numeric = data[numeric_cols]\n",
    "\n",
    "    # Combineer alle features\n",
    "    X = pd.concat([X_numeric], axis=1)\n",
    "    y = data[['targetherstel', 'herstel_klasse']]\n",
    "\n",
    "    # Train-test split\n",
    "    X_train, X_test, y_train, y_test = train_test_split(X, y, test_size=0.2, random_state=42)\n",
    "    \n",
    "    y_train = y_train['herstel_klasse']\n",
    "    y_test = y_test['targetherstel']\n",
    "    \n",
    "\n",
    "    # Verbeterd Decision Tree model met betere hyperparameters\n",
    "    model = DecisionTreeRegressor(\n",
    "        random_state=42,\n",
    "        max_depth=20,           # Dieper voor meer complexiteit\n",
    "        min_samples_split=20,   # Hoger voor regularisatie\n",
    "        min_samples_leaf=10,    # Hoger voor regularisatie\n",
    "        max_features=0.7,       # Meer features beschikbaar\n",
    "        min_impurity_decrease=0.001,  # Verminder overfitting\n",
    "        ccp_alpha=0.01          # Cost complexity pruning\n",
    "    )\n",
    "\n",
    "    model.fit(X_train, y_train)\n",
    "    y_pred = model.predict(X_test)\n",
    "    # predict keer 15 om weer in minuten te krijgen\n",
    "    y_pred_minutes = y_pred * 15\n",
    "\n",
    "    # Evaluatie\n",
    "    r2 = r2_score(y_pred_minutes,y_test)\n",
    "    rmse = np.sqrt(mean_squared_error(y_pred_minutes,y_test))\n",
    "\n",
    "    print(\"Verbeterd Decision Tree model:\")\n",
    "    print(f\"R² = {r2:.3f}, RMSE = {rmse:.2f}\")\n",
    "    print(f\"Aantal features: {X.shape[1]}\")\n",
    "\n",
    "    tolerance =15\n",
    "    correct = (y_pred_minutes +14 >= y_test) & ( (abs(y_test - y_pred_minutes+7 )<=15) )\n",
    "    accuracy = np.mean(correct)\n",
    "    coverage = np.mean(y_pred_minutes+14 >= y_test)\n",
    "    print(f\"Tolerance ±{tolerance} min - Accuracy: {accuracy:.2%}, Coverage: {coverage:.2%}\")\n",
    "\n",
    "    # Feature importance\n",
    "    feature_importance = pd.DataFrame({\n",
    "        'feature': X.columns,\n",
    "        'importance': model.feature_importances_\n",
    "    }).sort_values('importance', ascending=False)\n",
    "\n",
    "    print(\"\\nTop 10 belangrijkste features:\")\n",
    "    print(feature_importance.head(10))\n",
    "\n",
    "    return model, X.columns.tolist(), y_test, y_pred\n"
   ],
   "outputs": [],
   "execution_count": 53
  },
  {
   "cell_type": "code",
   "id": "3ca6b1d7ed19e113",
   "metadata": {
    "tags": [],
    "ExecuteTime": {
     "end_time": "2025-07-16T17:41:14.664279Z",
     "start_time": "2025-07-16T17:41:14.351890Z"
    }
   },
   "source": [
    "model, feature_names, test, predict = train_decision_tree(data)"
   ],
   "outputs": [
    {
     "name": "stdout",
     "output_type": "stream",
     "text": [
      "Verbeterd Decision Tree model:\n",
      "R² = -0.585, RMSE = 58.59\n",
      "Aantal features: 10\n",
      "Tolerance ±15 min - Accuracy: 40.74%, Coverage: 70.80%\n",
      "\n",
      "Top 10 belangrijkste features:\n",
      "                      feature  importance\n",
      "3          progfh_in_duur_bin    0.845671\n",
      "4              stm_prioriteit    0.050066\n",
      "8  tijd_verschil_meld_aanntpl    0.048934\n",
      "2            aanntpl_tijd_bin    0.022964\n",
      "7       stm_techn_mld_encoded    0.014007\n",
      "5               stm_oorz_code    0.009838\n",
      "1                meldtijd_bin    0.007150\n",
      "6         stm_contractgeb_mld    0.001372\n",
      "0                 day_of_year    0.000000\n",
      "9                 is_spitsuur    0.000000\n"
     ]
    }
   ],
   "execution_count": 54
  },
  {
   "cell_type": "markdown",
   "id": "b4d2c98a-fccd-4c01-a204-5650bdd0ec20",
   "metadata": {
    "tags": []
   },
   "source": [
    "Het decision tree model heeft een lagere RMSE en hogere accuracy.\n",
    "Echter, de hogere accuracy komt doordat het model een tijdsinterval voorspelt in plaats van een exact moment.\n",
    "Daarnaast is de coverage 10% lager dan de baseline, wat zeer slecht is."
   ]
  },
  {
   "cell_type": "markdown",
   "id": "2cc486e24de62d48",
   "metadata": {},
   "source": "### Random Forest"
  },
  {
   "cell_type": "code",
   "id": "ccec932ae8c1adb2",
   "metadata": {
    "tags": [],
    "ExecuteTime": {
     "end_time": "2025-07-16T17:41:14.731042Z",
     "start_time": "2025-07-16T17:41:14.727065Z"
    }
   },
   "source": [
    "def train_random_forest(data):\n",
    "    \"\"\"Train verbeterd Decision Tree model met hyperparameter tuning\"\"\"\n",
    "    data = data.copy()\n",
    "\n",
    "    # Alle feature categorieën\n",
    "    numeric_cols = ['day_of_year', 'meldtijd_bin','aanntpl_tijd_bin', 'progfh_in_duur_bin', 'stm_prioriteit','stm_oorz_code', 'stm_contractgeb_mld','stm_techn_mld_encoded']\n",
    "\n",
    "    # Feature engineering: voeg afgeleide features toe\n",
    "    data['tijd_verschil_meld_aanntpl'] = data['stm_aanntpl_tijd'] - data['stm_sap_meldtijd']\n",
    "\n",
    "    # Voeg tijdsgerelateerde features toe\n",
    "    data['uur_van_dag'] = (data['stm_sap_meldtijd'] // 60).astype(int)\n",
    "    data['is_spitsuur'] = ((data['uur_van_dag'] >= 7) & (data['uur_van_dag'] <= 9) |\n",
    "                          (data['uur_van_dag'] >= 17) & (data['uur_van_dag'] <= 19)).astype(int)\n",
    "\n",
    "    # Update numeric columns met nieuwe features\n",
    "    numeric_cols.extend(['tijd_verschil_meld_aanntpl', 'is_spitsuur'])\n",
    "    # Prepare features\n",
    "    X_numeric = data[numeric_cols]\n",
    "\n",
    "    # Combineer alle features\n",
    "    X = pd.concat([X_numeric], axis=1)\n",
    "    y = data[['targetherstel', 'herstel_klasse']]\n",
    "\n",
    "    # Train-test split\n",
    "    X_train, X_test, y_train, y_test = train_test_split(X, y, test_size=0.2, random_state=42)\n",
    "    \n",
    "    y_train = y_train['herstel_klasse']\n",
    "    y_test = y_test['targetherstel']\n",
    "\n",
    "    # Verbeterd Random Forest model\n",
    "    model = RandomForestRegressor(\n",
    "        n_estimators=500,       # Meer bomen voor betere prestaties\n",
    "        random_state=42,\n",
    "        max_depth=25,           # Dieper voor meer complexiteit\n",
    "        min_samples_split=10,   # Lager voor meer flexibiliteit\n",
    "        min_samples_leaf=5,     # Lager voor meer flexibiliteit\n",
    "        max_features=0.6,       # Optimale feature subset\n",
    "        bootstrap=True,\n",
    "        n_jobs=-1,\n",
    "        oob_score=True,         # Out-of-bag score voor extra evaluatie\n",
    "        max_samples=0.8,        # Sample subsets voor diversiteit\n",
    "        min_impurity_decrease=0.0005  # Lichte regularisatie\n",
    "    )\n",
    "\n",
    "    model.fit(X_train, y_train)\n",
    "    y_pred = model.predict(X_test)\n",
    "    y_pred_minutes = y_pred * 15\n",
    "\n",
    "    # Evaluatie\n",
    "    r2 = r2_score(y_pred_minutes,y_test)\n",
    "    rmse = np.sqrt(mean_squared_error(y_pred_minutes,y_test))\n",
    "\n",
    "    print(\"Verbeterd Random Forest model:\")\n",
    "    print(f\"R² = {r2:.3f}, RMSE = {rmse:.2f}\")\n",
    "    print(f\"Aantal features: {X.shape[1]}\")\n",
    "\n",
    "    tolerance =15\n",
    "    correct = (y_pred_minutes +14 > y_test) & (abs(y_test - y_pred_minutes+7)<=15)\n",
    "    accuracy = np.mean(correct)\n",
    "    coverage = np.mean(y_pred_minutes+14 >= y_test)\n",
    "    print(f\"Tolerance ±{tolerance} min - Accuracy: {accuracy:.2%}, Coverage: {coverage:.2%}\")\n",
    "\n",
    "    # Feature importance\n",
    "    feature_importance = pd.DataFrame({\n",
    "        'feature': X.columns,\n",
    "        'importance': model.feature_importances_\n",
    "    }).sort_values('importance', ascending=False)\n",
    "\n",
    "    print(\"\\nTop 10 belangrijkste features:\")\n",
    "    print(feature_importance.head(10))\n",
    "\n",
    "    return model, X.columns.tolist(), y_test, y_pred\n"
   ],
   "outputs": [],
   "execution_count": 55
  },
  {
   "cell_type": "code",
   "id": "3ce8aa3dd6b2a229",
   "metadata": {
    "tags": [],
    "ExecuteTime": {
     "end_time": "2025-07-16T17:41:23.272069Z",
     "start_time": "2025-07-16T17:41:14.776560Z"
    }
   },
   "source": [
    "rf_model, feature_names, test, predict = train_random_forest(data)"
   ],
   "outputs": [
    {
     "name": "stdout",
     "output_type": "stream",
     "text": [
      "Verbeterd Random Forest model:\n",
      "R² = -0.317, RMSE = 55.03\n",
      "Aantal features: 10\n",
      "Tolerance ±15 min - Accuracy: 42.31%, Coverage: 71.14%\n",
      "\n",
      "Top 10 belangrijkste features:\n",
      "                      feature  importance\n",
      "3          progfh_in_duur_bin    0.572034\n",
      "8  tijd_verschil_meld_aanntpl    0.096821\n",
      "2            aanntpl_tijd_bin    0.066708\n",
      "0                 day_of_year    0.058459\n",
      "5               stm_oorz_code    0.050723\n",
      "1                meldtijd_bin    0.048522\n",
      "6         stm_contractgeb_mld    0.046792\n",
      "4              stm_prioriteit    0.027895\n",
      "7       stm_techn_mld_encoded    0.027660\n",
      "9                 is_spitsuur    0.004387\n"
     ]
    }
   ],
   "execution_count": 56
  },
  {
   "cell_type": "markdown",
   "id": "d90a4c82-bef7-4426-8b95-1fdae1371183",
   "metadata": {},
   "source": [
    "Het random forest model presteert beter dan de decision tree en maakt gebruik van meer variabele features.\n",
    "Echter, de coverage blijft nog steeds lager dan de baseline."
   ]
  },
  {
   "cell_type": "code",
   "id": "4b6e16ee-5d3a-49ec-a89a-7e66d6b792d7",
   "metadata": {
    "tags": [],
    "ExecuteTime": {
     "end_time": "2025-07-16T17:41:23.581689Z",
     "start_time": "2025-07-16T17:41:23.335111Z"
    }
   },
   "source": "joblib.dump(rf_model, 'Models/RandomForest.joblib')",
   "outputs": [
    {
     "data": {
      "text/plain": [
       "['Models/RandomForest.joblib']"
      ]
     },
     "execution_count": 57,
     "metadata": {},
     "output_type": "execute_result"
    }
   ],
   "execution_count": 57
  }
 ],
 "metadata": {
  "kernelspec": {
   "display_name": "Python 3 (ipykernel)",
   "language": "python",
   "name": "python3"
  },
  "language_info": {
   "codemirror_mode": {
    "name": "ipython",
    "version": 3
   },
   "file_extension": ".py",
   "mimetype": "text/x-python",
   "name": "python",
   "nbconvert_exporter": "python",
   "pygments_lexer": "ipython3",
   "version": "3.11.5"
  }
 },
 "nbformat": 4,
 "nbformat_minor": 5
}
