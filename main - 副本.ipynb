{
 "cells": [
  {
   "cell_type": "code",
   "execution_count": null,
   "id": "e7f47436-7e0e-4800-ae8b-649d8208128e",
   "metadata": {},
   "outputs": [],
   "source": [
    "import pandas as pd\n",
    "import numpy as np\n",
    "import matplotlib.pyplot as plt\n",
    "import seaborn as sns\n",
    "import math"
   ]
  },
  {
   "cell_type": "code",
   "execution_count": null,
   "id": "a0ebc325-2642-4434-97ad-86e3b7481784",
   "metadata": {
    "tags": []
   },
   "outputs": [],
   "source": [
    "df= pd.read_csv(\"sap_storing_data_hu_project.csv\")"
   ]
  },
  {
   "cell_type": "code",
   "execution_count": null,
   "id": "5371fa63-8b5a-47b3-8d02-4d436b547e5e",
   "metadata": {
    "tags": []
   },
   "outputs": [],
   "source": [
    "df.head()"
   ]
  },
  {
   "cell_type": "markdown",
   "id": "34df5b84-e3a1-48e0-8278-ea3bbbe9d732",
   "metadata": {},
   "source": [
    "haalt de data's uithalen dat de Betekenis een vraagteken of nvt staan."
   ]
  },
  {
   "cell_type": "code",
   "execution_count": null,
   "id": "1e409fac-89a8-4bd5-8d1c-33aed53c037e",
   "metadata": {
    "tags": []
   },
   "outputs": [],
   "source": [
    "df=df[['#stm_sap_meldnr','stm_mon_nr','stm_vl_post','stm_sap_meld_ddt','stm_sap_meldtekst_lang','stm_sap_meldtekst','stm_geo_mld','stm_equipm_nr_mld','stm_equipm_soort_mld','stm_equipm_omschr_mld','stm_km_van_mld',\n",
    "   'stm_km_tot_mld','stm_prioriteit','stm_aanngeb_ddt','stm_oh_pg_gst','stm_geo_gst','stm_equipm_nr_gst','stm_equipm_soort_gst','stm_equipm_omschr_gst','stm_km_van_gst','stm_km_tot_gst','stm_oorz_groep','stm_oorz_code',\n",
    "   'stm_oorz_tkst','stm_fh_ddt','stm_fh_status','stm_sap_storeind_ddt','stm_tao_indicator','stm_tao_indicator_vorige','stm_tao_soort_mutatie','stm_tao_telling_mutatie','stm_tao_beinvloedbaar_indicator','stm_sap_melddatum',\n",
    "   'stm_sap_meldtijd','stm_contractgeb_mld','stm_techn_mld','stm_techn_gst','stm_aanngeb_dd','stm_aanngeb_tijd','stm_aanntpl_dd','stm_aanntpl_tijd','stm_progfh_in_datum','stm_progfh_in_tijd','stm_progfh_in_invoer_dat',\n",
    "   'stm_progfh_in_invoer_tijd','stm_progfh_in_duur','stm_progfh_gw_tijd','stm_progfh_gw_teller','stm_fh_dd','stm_fh_tijd','stm_fh_duur','stm_sap_storeinddatum','stm_sap_storeindtijd','stm_oorz_tekst_kort',\n",
    "   'stm_pplg_van','stm_pplg_naar','stm_dstrglp_van','stm_dstrglp_naar']]"
   ]
  },
  {
   "cell_type": "code",
   "execution_count": null,
   "id": "50eb2f01-3cda-462f-89fb-f5f7855eafe7",
   "metadata": {
    "tags": []
   },
   "outputs": [],
   "source": [
    "df.info()"
   ]
  },
  {
   "cell_type": "code",
   "execution_count": null,
   "id": "fed2e470-eb13-4ba0-bcc3-ba3402b931c4",
   "metadata": {
    "tags": []
   },
   "outputs": [],
   "source": [
    "df2=df.dropna(subset=['stm_oorz_code'])\n",
    "df2['stm_oorz_code'] = df2['stm_oorz_code'].astype(int)"
   ]
  },
  {
   "cell_type": "markdown",
   "id": "97ed1ae2-c23f-4fa1-b1f6-5fd65bf799c6",
   "metadata": {},
   "source": [
    "filter functiehersteltijd met bijhoorde oorzaak code voor de baseline model "
   ]
  },
  {
   "cell_type": "code",
   "execution_count": null,
   "id": "39f60f72-dde2-4270-9372-b175c2cffeef",
   "metadata": {
    "tags": []
   },
   "outputs": [],
   "source": [
    "df2[['stm_oorz_code','stm_sap_meld_ddt','stm_fh_dd','stm_fh_tijd','stm_fh_duur']]"
   ]
  },
  {
   "cell_type": "code",
   "execution_count": null,
   "id": "ec681d46-bb1b-40ef-969a-cf8647723325",
   "metadata": {
    "tags": []
   },
   "outputs": [],
   "source": [
    "df2[['stm_oorz_code','stm_sap_meld_ddt','stm_fh_dd','stm_fh_tijd','stm_fh_duur']].info()"
   ]
  },
  {
   "cell_type": "code",
   "execution_count": null,
   "id": "8699fd3f-6511-4b1c-bff7-2d8ab6339f64",
   "metadata": {
    "tags": []
   },
   "outputs": [],
   "source": [
    "df2 = df2.dropna(subset=['stm_fh_duur'])\n",
    "df2[['stm_oorz_code','stm_sap_meld_ddt','stm_fh_dd','stm_fh_tijd','stm_fh_duur']].info()"
   ]
  },
  {
   "cell_type": "code",
   "execution_count": null,
   "id": "9bb293ec-f375-4920-8392-1c33eaa7c5c9",
   "metadata": {
    "tags": []
   },
   "outputs": [],
   "source": [
    "df_gm=df2.groupby('stm_oorz_code')['stm_fh_duur'].agg(['mean'])\n",
    "df_value=df_gm['mean'].to_list()\n",
    "df_key=df2['stm_oorz_code'].unique()"
   ]
  },
  {
   "cell_type": "code",
   "execution_count": null,
   "id": "05b3f7ca-9f99-4f8e-aaf1-ef98170705de",
   "metadata": {
    "tags": []
   },
   "outputs": [],
   "source": [
    "df2=df2.loc[df2['stm_fh_duur'] != 0]"
   ]
  },
  {
   "cell_type": "code",
   "execution_count": null,
   "id": "4e16f35f-21fc-4c0f-9e24-c600ba61ab60",
   "metadata": {
    "tags": []
   },
   "outputs": [],
   "source": [
    "dictionary = dict(zip(df_key, df_value))"
   ]
  },
  {
   "cell_type": "code",
   "execution_count": null,
   "id": "457b83be-d3c6-4c0c-8cbb-70da2a779bcb",
   "metadata": {
    "tags": []
   },
   "outputs": [],
   "source": [
    "cnt=0\n",
    "        \n",
    "for index, row in df2.iterrows():\n",
    "    key = row[\"stm_oorz_code\"]\n",
    "    value_in_dict = dictionary.get(key, None)\n",
    "    if value_in_dict is not None:\n",
    "        if row[\"stm_fh_duur\"] > value_in_dict*0.9 and row[\"stm_fh_duur\"] < value_in_dict*1.1:\n",
    "            cnt+=1\n",
    "cnt/len(df2)*100"
   ]
  },
  {
   "cell_type": "code",
   "execution_count": null,
   "id": "d793e224-4860-4475-9828-07dc1138e16b",
   "metadata": {
    "tags": []
   },
   "outputs": [],
   "source": [
    "null = df.loc[df['stm_fh_duur']==0,['stm_fh_duur']]\n",
    "vijftien_halfuur = df2.loc[ (df2['stm_fh_duur'] >0) & (df['stm_fh_duur']<=15 ),['stm_fh_duur']]\n",
    "vijftien_halfuur = df2.loc[ (df2['stm_fh_duur'] >15) & (df['stm_fh_duur']<=30 ),['stm_fh_duur']]\n",
    "halfuur_uur = df2.loc[( df2['stm_fh_duur']> 30) & (df['stm_fh_duur']<=60) ,['stm_fh_duur']]\n",
    "een_twee_uur = df2.loc[ (df2['stm_fh_duur']>60) & (df['stm_fh_duur']<=120) ,['stm_fh_duur']]\n",
    "twee_drie_uur = df2.loc[ (df2['stm_fh_duur']>120) & (df['stm_fh_duur']<=180) ,['stm_fh_duur']]\n",
    "drie_uur_plus = df2.loc[df2['stm_fh_duur']> 360,['stm_fh_duur']]\n",
    "print(f'socre null: {len(null)/len(df)}')\n",
    "print(f'socre tot 15m: {len(vijftien)/len(df)}')\n",
    "print(f'socre 15m tot 30m: {len(vijftien_halfuur)/len(df)}')\n",
    "print(f'socre 30m tot 1h: {len(halfuur_uur)/len(df)}')\n",
    "print(f'socre 1h tot 2h: {len(een_twee_uur)/len(df)}')\n",
    "print(f'socre 2h tot 3h: {len(twee_drie_uur)/len(df)}')\n",
    "print(f'socre 3h+: {len(drie_uur_plus)/len(df)}')"
   ]
  },
  {
   "cell_type": "code",
   "execution_count": null,
   "id": "a1ae6182-956e-4d4e-a0bb-98bade27ec60",
   "metadata": {},
   "outputs": [],
   "source": [
    "list=[]\n",
    "def percentage_deviation(value, reference):\n",
    "    return ((value - reference) / reference) * 100\n",
    "\n",
    "for index, row in df2.iterrows():\n",
    "    key = row[\"stm_oorz_code\"]\n",
    "    value_in_dict = dictionary.get(key, None)\n",
    "    \n",
    "    if value_in_dict is not None:\n",
    "        deviation = percentage_deviation(value_in_dict,row[\"stm_fh_duur\"])\n",
    "        list.append(abs(deviation))\n",
    "np.mean(list)"
   ]
  },
  {
   "cell_type": "code",
   "execution_count": null,
   "id": "8f401b80-298a-42b1-8e6f-4403f1609703",
   "metadata": {},
   "outputs": [],
   "source": [
    "deviation_list = []\n",
    "\n",
    "def squared_deviation(value, reference):\n",
    "    return (value - reference) ** 2\n",
    "\n",
    "for index, row in df2.iterrows():\n",
    "    key = row[\"stm_oorz_code\"]\n",
    "    value_in_dict = dictionary.get(key, None)\n",
    "    \n",
    "    if value_in_dict is not None:\n",
    "        # Computing the squared deviation\n",
    "        deviation = squared_deviation(value_in_dict, row[\"stm_fh_duur\"])\n",
    "        deviation_list.append(deviation)\n",
    "\n",
    "rmse = math.sqrt(np.mean(deviation_list))"
   ]
  },
  {
   "cell_type": "code",
   "execution_count": null,
   "id": "5f83a093-1b53-4da6-8029-99dab84c46f2",
   "metadata": {
    "tags": []
   },
   "outputs": [],
   "source": [
    "rmse"
   ]
  },
  {
   "cell_type": "code",
   "execution_count": null,
   "id": "d05a6d34-8088-4cf6-86c9-4dc924c20fe0",
   "metadata": {},
   "outputs": [],
   "source": []
  }
 ],
 "metadata": {
  "kernelspec": {
   "display_name": "Python 3 (ipykernel)",
   "language": "python",
   "name": "python3"
  },
  "language_info": {
   "codemirror_mode": {
    "name": "ipython",
    "version": 3
   },
   "file_extension": ".py",
   "mimetype": "text/x-python",
   "name": "python",
   "nbconvert_exporter": "python",
   "pygments_lexer": "ipython3",
   "version": "3.11.5"
  }
 },
 "nbformat": 4,
 "nbformat_minor": 5
}
