{
 "cells": [
  {
   "cell_type": "code",
   "execution_count": 1,
   "id": "e7f47436-7e0e-4800-ae8b-649d8208128e",
   "metadata": {},
   "outputs": [],
   "source": [
    "import pandas as pd\n",
    "import numpy as np\n",
    "import matplotlib.pyplot as plt\n",
    "import seaborn as sns\n",
    "import math"
   ]
  },
  {
   "cell_type": "code",
   "execution_count": 2,
   "id": "a0ebc325-2642-4434-97ad-86e3b7481784",
   "metadata": {
    "tags": []
   },
   "outputs": [
    {
     "name": "stderr",
     "output_type": "stream",
     "text": [
      "C:\\Users\\maste\\AppData\\Local\\Temp\\ipykernel_25288\\778189414.py:1: DtypeWarning: Columns (0,11,19,21,24,25,27,32,33,36,37,38,39,40,46,47,48,49,51,53,55,56,60,73,75,78,80,82,83,86,87,91,95,99,102,103,104,107,108,109,110,111,112,113,116,118,119,120,121,122,123,124,129) have mixed types. Specify dtype option on import or set low_memory=False.\n",
      "  df= pd.read_csv(\"sap_storing_data_hu_project.csv\")\n"
     ]
    }
   ],
   "source": [
    "df= pd.read_csv(\"sap_storing_data_hu_project.csv\")"
   ]
  },
  {
   "cell_type": "code",
   "execution_count": 3,
   "id": "5371fa63-8b5a-47b3-8d02-4d436b547e5e",
   "metadata": {
    "tags": []
   },
   "outputs": [
    {
     "data": {
      "text/html": [
       "<div>\n",
       "<style scoped>\n",
       "    .dataframe tbody tr th:only-of-type {\n",
       "        vertical-align: middle;\n",
       "    }\n",
       "\n",
       "    .dataframe tbody tr th {\n",
       "        vertical-align: top;\n",
       "    }\n",
       "\n",
       "    .dataframe thead th {\n",
       "        text-align: right;\n",
       "    }\n",
       "</style>\n",
       "<table border=\"1\" class=\"dataframe\">\n",
       "  <thead>\n",
       "    <tr style=\"text-align: right;\">\n",
       "      <th></th>\n",
       "      <th>Unnamed: 0</th>\n",
       "      <th>#stm_sap_meldnr</th>\n",
       "      <th>stm_mon_nr</th>\n",
       "      <th>stm_vl_post</th>\n",
       "      <th>stm_sap_meld_ddt</th>\n",
       "      <th>stm_sap_mon_meld_ddt</th>\n",
       "      <th>stm_sap_meldtekst_lang</th>\n",
       "      <th>stm_mon_begin_ddt</th>\n",
       "      <th>stm_sap_meldtekst</th>\n",
       "      <th>stm_mon_toelichting_trdl</th>\n",
       "      <th>...</th>\n",
       "      <th>stm_rapportage_maand</th>\n",
       "      <th>stm_rapportage_jaar</th>\n",
       "      <th>stm_x_bron_publ_dt</th>\n",
       "      <th>stm_x_bron_bestandsnaam</th>\n",
       "      <th>stm_x_bron_arch_dt</th>\n",
       "      <th>stm_x_actueel_ind</th>\n",
       "      <th>stm_x_run_id</th>\n",
       "      <th>stm_x_bk</th>\n",
       "      <th>stm_x_start_sessie_dt</th>\n",
       "      <th>stm_x_vervallen_ind</th>\n",
       "    </tr>\n",
       "  </thead>\n",
       "  <tbody>\n",
       "    <tr>\n",
       "      <th>0</th>\n",
       "      <td>0</td>\n",
       "      <td>0</td>\n",
       "      <td>NaN</td>\n",
       "      <td>NaN</td>\n",
       "      <td>NaN</td>\n",
       "      <td>NaN</td>\n",
       "      <td>NaN</td>\n",
       "      <td>NaN</td>\n",
       "      <td>NaN</td>\n",
       "      <td>NaN</td>\n",
       "      <td>...</td>\n",
       "      <td>5</td>\n",
       "      <td>2014</td>\n",
       "      <td>07/05/2014 05:30:12</td>\n",
       "      <td>\\\\PUHAPS0149\\Informatica_Prod\\Inbox\\Informatic...</td>\n",
       "      <td>31/12/9999 00:00:00</td>\n",
       "      <td>1</td>\n",
       "      <td>34415</td>\n",
       "      <td>3617016</td>\n",
       "      <td>07/05/2014 05:44:24</td>\n",
       "      <td>0</td>\n",
       "    </tr>\n",
       "    <tr>\n",
       "      <th>1</th>\n",
       "      <td>1</td>\n",
       "      <td>50053211</td>\n",
       "      <td>0.0</td>\n",
       "      <td>NaN</td>\n",
       "      <td>02/01/2006 09:00:00</td>\n",
       "      <td>02/01/2006 09:00:00</td>\n",
       "      <td>Logboeknr  Geeltje  :   49 Tijd: 0900   VL-Po...</td>\n",
       "      <td>NaN</td>\n",
       "      <td>Logboeknr  Geeltje  :   49 Tijd: 0900</td>\n",
       "      <td>NaN</td>\n",
       "      <td>...</td>\n",
       "      <td>1</td>\n",
       "      <td>2006</td>\n",
       "      <td>02/01/2006 09:00:00</td>\n",
       "      <td>\\\\PUHAPS0149\\Informatica_Prod\\Inbox\\Informatic...</td>\n",
       "      <td>31/12/9999 00:00:00</td>\n",
       "      <td>1</td>\n",
       "      <td>1518</td>\n",
       "      <td>12704590</td>\n",
       "      <td>13/06/2013 13:37:52</td>\n",
       "      <td>0</td>\n",
       "    </tr>\n",
       "    <tr>\n",
       "      <th>2</th>\n",
       "      <td>2</td>\n",
       "      <td>50053213</td>\n",
       "      <td>48.0</td>\n",
       "      <td>GN</td>\n",
       "      <td>02/01/2006 12:35:00</td>\n",
       "      <td>02/01/2006 12:35:00</td>\n",
       "      <td>Logboeknr  RBV  :   48 Tijd: 1235   VL-Post: ...</td>\n",
       "      <td>02/01/2006 12:35:00</td>\n",
       "      <td>Logboeknr  RBV  :   48 Tijd: 1235   VL-P</td>\n",
       "      <td>NaN</td>\n",
       "      <td>...</td>\n",
       "      <td>1</td>\n",
       "      <td>2006</td>\n",
       "      <td>02/01/2006 12:35:00</td>\n",
       "      <td>\\\\PUHAPS0149\\Informatica_Prod\\Inbox\\Informatic...</td>\n",
       "      <td>31/12/9999 00:00:00</td>\n",
       "      <td>1</td>\n",
       "      <td>1518</td>\n",
       "      <td>12704591</td>\n",
       "      <td>13/06/2013 13:37:52</td>\n",
       "      <td>0</td>\n",
       "    </tr>\n",
       "    <tr>\n",
       "      <th>3</th>\n",
       "      <td>3</td>\n",
       "      <td>50053214</td>\n",
       "      <td>72.0</td>\n",
       "      <td>ZL</td>\n",
       "      <td>02/01/2006 16:40:00</td>\n",
       "      <td>02/01/2006 16:40:00</td>\n",
       "      <td>Logboeknr  RBV  :   72 Tijd: 1640   VL-Post: ...</td>\n",
       "      <td>02/01/2006 16:40:00</td>\n",
       "      <td>Logboeknr  RBV  :   72 Tijd: 1640   VL-P</td>\n",
       "      <td>NaN</td>\n",
       "      <td>...</td>\n",
       "      <td>1</td>\n",
       "      <td>2006</td>\n",
       "      <td>02/01/2006 16:40:00</td>\n",
       "      <td>\\\\PUHAPS0149\\Informatica_Prod\\Inbox\\Informatic...</td>\n",
       "      <td>31/12/9999 00:00:00</td>\n",
       "      <td>1</td>\n",
       "      <td>1518</td>\n",
       "      <td>12704592</td>\n",
       "      <td>13/06/2013 13:37:52</td>\n",
       "      <td>0</td>\n",
       "    </tr>\n",
       "    <tr>\n",
       "      <th>4</th>\n",
       "      <td>4</td>\n",
       "      <td>50053215</td>\n",
       "      <td>96.0</td>\n",
       "      <td>ZL</td>\n",
       "      <td>02/01/2006 22:30:00</td>\n",
       "      <td>02/01/2006 22:30:00</td>\n",
       "      <td>Logboeknr  RBV  :   96 Tijd: 2230   VL-Post: ...</td>\n",
       "      <td>02/01/2006 22:30:00</td>\n",
       "      <td>Logboeknr  RBV  :   96 Tijd: 2230   VL-P</td>\n",
       "      <td>NaN</td>\n",
       "      <td>...</td>\n",
       "      <td>1</td>\n",
       "      <td>2006</td>\n",
       "      <td>02/01/2006 22:30:00</td>\n",
       "      <td>\\\\PUHAPS0149\\Informatica_Prod\\Inbox\\Informatic...</td>\n",
       "      <td>31/12/9999 00:00:00</td>\n",
       "      <td>1</td>\n",
       "      <td>1518</td>\n",
       "      <td>12704593</td>\n",
       "      <td>13/06/2013 13:37:52</td>\n",
       "      <td>0</td>\n",
       "    </tr>\n",
       "  </tbody>\n",
       "</table>\n",
       "<p>5 rows × 140 columns</p>\n",
       "</div>"
      ],
      "text/plain": [
       "  Unnamed: 0  #stm_sap_meldnr  stm_mon_nr stm_vl_post     stm_sap_meld_ddt  \\\n",
       "0          0                0         NaN         NaN                  NaN   \n",
       "1          1         50053211         0.0         NaN  02/01/2006 09:00:00   \n",
       "2          2         50053213        48.0          GN  02/01/2006 12:35:00   \n",
       "3          3         50053214        72.0          ZL  02/01/2006 16:40:00   \n",
       "4          4         50053215        96.0          ZL  02/01/2006 22:30:00   \n",
       "\n",
       "  stm_sap_mon_meld_ddt                             stm_sap_meldtekst_lang  \\\n",
       "0                  NaN                                                NaN   \n",
       "1  02/01/2006 09:00:00   Logboeknr  Geeltje  :   49 Tijd: 0900   VL-Po...   \n",
       "2  02/01/2006 12:35:00   Logboeknr  RBV  :   48 Tijd: 1235   VL-Post: ...   \n",
       "3  02/01/2006 16:40:00   Logboeknr  RBV  :   72 Tijd: 1640   VL-Post: ...   \n",
       "4  02/01/2006 22:30:00   Logboeknr  RBV  :   96 Tijd: 2230   VL-Post: ...   \n",
       "\n",
       "     stm_mon_begin_ddt                         stm_sap_meldtekst  \\\n",
       "0                  NaN                                       NaN   \n",
       "1                  NaN     Logboeknr  Geeltje  :   49 Tijd: 0900   \n",
       "2  02/01/2006 12:35:00  Logboeknr  RBV  :   48 Tijd: 1235   VL-P   \n",
       "3  02/01/2006 16:40:00  Logboeknr  RBV  :   72 Tijd: 1640   VL-P   \n",
       "4  02/01/2006 22:30:00  Logboeknr  RBV  :   96 Tijd: 2230   VL-P   \n",
       "\n",
       "  stm_mon_toelichting_trdl  ... stm_rapportage_maand stm_rapportage_jaar  \\\n",
       "0                      NaN  ...                    5                2014   \n",
       "1                      NaN  ...                    1                2006   \n",
       "2                      NaN  ...                    1                2006   \n",
       "3                      NaN  ...                    1                2006   \n",
       "4                      NaN  ...                    1                2006   \n",
       "\n",
       "    stm_x_bron_publ_dt                            stm_x_bron_bestandsnaam  \\\n",
       "0  07/05/2014 05:30:12  \\\\PUHAPS0149\\Informatica_Prod\\Inbox\\Informatic...   \n",
       "1  02/01/2006 09:00:00  \\\\PUHAPS0149\\Informatica_Prod\\Inbox\\Informatic...   \n",
       "2  02/01/2006 12:35:00  \\\\PUHAPS0149\\Informatica_Prod\\Inbox\\Informatic...   \n",
       "3  02/01/2006 16:40:00  \\\\PUHAPS0149\\Informatica_Prod\\Inbox\\Informatic...   \n",
       "4  02/01/2006 22:30:00  \\\\PUHAPS0149\\Informatica_Prod\\Inbox\\Informatic...   \n",
       "\n",
       "    stm_x_bron_arch_dt stm_x_actueel_ind  stm_x_run_id  stm_x_bk  \\\n",
       "0  31/12/9999 00:00:00                 1         34415   3617016   \n",
       "1  31/12/9999 00:00:00                 1          1518  12704590   \n",
       "2  31/12/9999 00:00:00                 1          1518  12704591   \n",
       "3  31/12/9999 00:00:00                 1          1518  12704592   \n",
       "4  31/12/9999 00:00:00                 1          1518  12704593   \n",
       "\n",
       "   stm_x_start_sessie_dt stm_x_vervallen_ind  \n",
       "0    07/05/2014 05:44:24                   0  \n",
       "1    13/06/2013 13:37:52                   0  \n",
       "2    13/06/2013 13:37:52                   0  \n",
       "3    13/06/2013 13:37:52                   0  \n",
       "4    13/06/2013 13:37:52                   0  \n",
       "\n",
       "[5 rows x 140 columns]"
      ]
     },
     "execution_count": 3,
     "metadata": {},
     "output_type": "execute_result"
    }
   ],
   "source": [
    "df.head()"
   ]
  },
  {
   "cell_type": "markdown",
   "id": "34df5b84-e3a1-48e0-8278-ea3bbbe9d732",
   "metadata": {},
   "source": [
    "haalt de data's uithalen dat de Betekenis een vraagteken of nvt staan."
   ]
  },
  {
   "cell_type": "code",
   "execution_count": 4,
   "id": "1e409fac-89a8-4bd5-8d1c-33aed53c037e",
   "metadata": {
    "tags": []
   },
   "outputs": [],
   "source": [
    "df=df[['#stm_sap_meldnr','stm_mon_nr','stm_vl_post','stm_sap_meld_ddt','stm_sap_meldtekst_lang','stm_sap_meldtekst','stm_geo_mld','stm_equipm_nr_mld','stm_equipm_soort_mld','stm_equipm_omschr_mld','stm_km_van_mld',\n",
    "   'stm_km_tot_mld','stm_prioriteit','stm_aanngeb_ddt','stm_oh_pg_gst','stm_geo_gst','stm_equipm_nr_gst','stm_equipm_soort_gst','stm_equipm_omschr_gst','stm_km_van_gst','stm_km_tot_gst','stm_oorz_groep','stm_oorz_code',\n",
    "   'stm_oorz_tkst','stm_fh_ddt','stm_fh_status','stm_sap_storeind_ddt','stm_tao_indicator','stm_tao_indicator_vorige','stm_tao_soort_mutatie','stm_tao_telling_mutatie','stm_tao_beinvloedbaar_indicator','stm_sap_melddatum',\n",
    "   'stm_sap_meldtijd','stm_contractgeb_mld','stm_techn_mld','stm_techn_gst','stm_aanngeb_dd','stm_aanngeb_tijd','stm_aanntpl_dd','stm_aanntpl_tijd','stm_progfh_in_datum','stm_progfh_in_tijd','stm_progfh_in_invoer_dat',\n",
    "   'stm_progfh_in_invoer_tijd','stm_progfh_in_duur','stm_progfh_gw_tijd','stm_progfh_gw_teller','stm_fh_dd','stm_fh_tijd','stm_fh_duur','stm_sap_storeinddatum','stm_sap_storeindtijd','stm_oorz_tekst_kort',\n",
    "   'stm_pplg_van','stm_pplg_naar','stm_dstrglp_van','stm_dstrglp_naar']]"
   ]
  },
  {
   "cell_type": "code",
   "execution_count": 5,
   "id": "50eb2f01-3cda-462f-89fb-f5f7855eafe7",
   "metadata": {
    "tags": []
   },
   "outputs": [
    {
     "name": "stdout",
     "output_type": "stream",
     "text": [
      "<class 'pandas.core.frame.DataFrame'>\n",
      "RangeIndex: 898526 entries, 0 to 898525\n",
      "Data columns (total 58 columns):\n",
      " #   Column                           Non-Null Count   Dtype  \n",
      "---  ------                           --------------   -----  \n",
      " 0   #stm_sap_meldnr                  898526 non-null  int64  \n",
      " 1   stm_mon_nr                       898525 non-null  float64\n",
      " 2   stm_vl_post                      310499 non-null  object \n",
      " 3   stm_sap_meld_ddt                 898525 non-null  object \n",
      " 4   stm_sap_meldtekst_lang           898386 non-null  object \n",
      " 5   stm_sap_meldtekst                898327 non-null  object \n",
      " 6   stm_geo_mld                      886693 non-null  object \n",
      " 7   stm_equipm_nr_mld                661126 non-null  float64\n",
      " 8   stm_equipm_soort_mld             661123 non-null  object \n",
      " 9   stm_equipm_omschr_mld            661118 non-null  object \n",
      " 10  stm_km_van_mld                   898522 non-null  float64\n",
      " 11  stm_km_tot_mld                   898522 non-null  float64\n",
      " 12  stm_prioriteit                   898365 non-null  float64\n",
      " 13  stm_aanngeb_ddt                  864962 non-null  object \n",
      " 14  stm_oh_pg_gst                    898337 non-null  object \n",
      " 15  stm_geo_gst                      742324 non-null  object \n",
      " 16  stm_equipm_nr_gst                605721 non-null  float64\n",
      " 17  stm_equipm_soort_gst             605711 non-null  object \n",
      " 18  stm_equipm_omschr_gst            605710 non-null  object \n",
      " 19  stm_km_van_gst                   898521 non-null  float64\n",
      " 20  stm_km_tot_gst                   898521 non-null  float64\n",
      " 21  stm_oorz_groep                   845096 non-null  object \n",
      " 22  stm_oorz_code                    845113 non-null  float64\n",
      " 23  stm_oorz_tkst                    796051 non-null  object \n",
      " 24  stm_fh_ddt                       732891 non-null  object \n",
      " 25  stm_fh_status                    747318 non-null  float64\n",
      " 26  stm_sap_storeind_ddt             661095 non-null  object \n",
      " 27  stm_tao_indicator                897208 non-null  object \n",
      " 28  stm_tao_indicator_vorige         329841 non-null  object \n",
      " 29  stm_tao_soort_mutatie            254500 non-null  object \n",
      " 30  stm_tao_telling_mutatie          898526 non-null  int64  \n",
      " 31  stm_tao_beinvloedbaar_indicator  898526 non-null  object \n",
      " 32  stm_sap_melddatum                898488 non-null  object \n",
      " 33  stm_sap_meldtijd                 898488 non-null  object \n",
      " 34  stm_contractgeb_mld              661017 non-null  float64\n",
      " 35  stm_techn_mld                    664399 non-null  object \n",
      " 36  stm_techn_gst                    898303 non-null  object \n",
      " 37  stm_aanngeb_dd                   864955 non-null  object \n",
      " 38  stm_aanngeb_tijd                 898488 non-null  object \n",
      " 39  stm_aanntpl_dd                   689915 non-null  object \n",
      " 40  stm_aanntpl_tijd                 898488 non-null  object \n",
      " 41  stm_progfh_in_datum              577250 non-null  object \n",
      " 42  stm_progfh_in_tijd               898488 non-null  object \n",
      " 43  stm_progfh_in_invoer_dat         577717 non-null  object \n",
      " 44  stm_progfh_in_invoer_tijd        898488 non-null  object \n",
      " 45  stm_progfh_in_duur               898488 non-null  object \n",
      " 46  stm_progfh_gw_tijd               898488 non-null  object \n",
      " 47  stm_progfh_gw_teller             898488 non-null  float64\n",
      " 48  stm_fh_dd                        771259 non-null  object \n",
      " 49  stm_fh_tijd                      898488 non-null  object \n",
      " 50  stm_fh_duur                      898488 non-null  float64\n",
      " 51  stm_sap_storeinddatum            661167 non-null  object \n",
      " 52  stm_sap_storeindtijd             898488 non-null  object \n",
      " 53  stm_oorz_tekst_kort              388630 non-null  object \n",
      " 54  stm_pplg_van                     254749 non-null  object \n",
      " 55  stm_pplg_naar                    60388 non-null   object \n",
      " 56  stm_dstrglp_van                  309484 non-null  object \n",
      " 57  stm_dstrglp_naar                 365760 non-null  object \n",
      "dtypes: float64(13), int64(2), object(43)\n",
      "memory usage: 397.6+ MB\n"
     ]
    }
   ],
   "source": [
    "df.info()"
   ]
  },
  {
   "cell_type": "code",
   "execution_count": 6,
   "id": "fed2e470-eb13-4ba0-bcc3-ba3402b931c4",
   "metadata": {
    "tags": []
   },
   "outputs": [
    {
     "name": "stderr",
     "output_type": "stream",
     "text": [
      "C:\\Users\\maste\\AppData\\Local\\Temp\\ipykernel_25288\\2611200773.py:2: SettingWithCopyWarning: \n",
      "A value is trying to be set on a copy of a slice from a DataFrame.\n",
      "Try using .loc[row_indexer,col_indexer] = value instead\n",
      "\n",
      "See the caveats in the documentation: https://pandas.pydata.org/pandas-docs/stable/user_guide/indexing.html#returning-a-view-versus-a-copy\n",
      "  df2['stm_oorz_code'] = df2['stm_oorz_code'].astype(int)\n"
     ]
    }
   ],
   "source": [
    "df2=df.dropna(subset=['stm_oorz_code'])\n",
    "df2['stm_oorz_code'] = df2['stm_oorz_code'].astype(int)"
   ]
  },
  {
   "cell_type": "markdown",
   "id": "97ed1ae2-c23f-4fa1-b1f6-5fd65bf799c6",
   "metadata": {},
   "source": [
    "filter functiehersteltijd met bijhoorde oorzaak code voor de baseline model "
   ]
  },
  {
   "cell_type": "code",
   "execution_count": 7,
   "id": "39f60f72-dde2-4270-9372-b175c2cffeef",
   "metadata": {
    "tags": []
   },
   "outputs": [
    {
     "data": {
      "text/html": [
       "<div>\n",
       "<style scoped>\n",
       "    .dataframe tbody tr th:only-of-type {\n",
       "        vertical-align: middle;\n",
       "    }\n",
       "\n",
       "    .dataframe tbody tr th {\n",
       "        vertical-align: top;\n",
       "    }\n",
       "\n",
       "    .dataframe thead th {\n",
       "        text-align: right;\n",
       "    }\n",
       "</style>\n",
       "<table border=\"1\" class=\"dataframe\">\n",
       "  <thead>\n",
       "    <tr style=\"text-align: right;\">\n",
       "      <th></th>\n",
       "      <th>stm_oorz_code</th>\n",
       "      <th>stm_sap_meld_ddt</th>\n",
       "      <th>stm_fh_dd</th>\n",
       "      <th>stm_fh_tijd</th>\n",
       "      <th>stm_fh_duur</th>\n",
       "    </tr>\n",
       "  </thead>\n",
       "  <tbody>\n",
       "    <tr>\n",
       "      <th>1</th>\n",
       "      <td>133</td>\n",
       "      <td>02/01/2006 09:00:00</td>\n",
       "      <td>02/01/2006</td>\n",
       "      <td>09:00:00</td>\n",
       "      <td>0.0</td>\n",
       "    </tr>\n",
       "    <tr>\n",
       "      <th>2</th>\n",
       "      <td>143</td>\n",
       "      <td>02/01/2006 12:35:00</td>\n",
       "      <td>02/01/2006</td>\n",
       "      <td>13:26:00</td>\n",
       "      <td>51.0</td>\n",
       "    </tr>\n",
       "    <tr>\n",
       "      <th>3</th>\n",
       "      <td>142</td>\n",
       "      <td>02/01/2006 16:40:00</td>\n",
       "      <td>02/01/2006</td>\n",
       "      <td>17:20:00</td>\n",
       "      <td>40.0</td>\n",
       "    </tr>\n",
       "    <tr>\n",
       "      <th>4</th>\n",
       "      <td>142</td>\n",
       "      <td>02/01/2006 22:30:00</td>\n",
       "      <td>02/01/2006</td>\n",
       "      <td>22:36:00</td>\n",
       "      <td>6.0</td>\n",
       "    </tr>\n",
       "    <tr>\n",
       "      <th>5</th>\n",
       "      <td>218</td>\n",
       "      <td>02/01/2006 11:23:00</td>\n",
       "      <td>02/01/2006</td>\n",
       "      <td>11:30:00</td>\n",
       "      <td>7.0</td>\n",
       "    </tr>\n",
       "    <tr>\n",
       "      <th>...</th>\n",
       "      <td>...</td>\n",
       "      <td>...</td>\n",
       "      <td>...</td>\n",
       "      <td>...</td>\n",
       "      <td>...</td>\n",
       "    </tr>\n",
       "    <tr>\n",
       "      <th>898521</th>\n",
       "      <td>215</td>\n",
       "      <td>11/05/2013 08:06:00</td>\n",
       "      <td>11/05/2013</td>\n",
       "      <td>09:29:00</td>\n",
       "      <td>83.0</td>\n",
       "    </tr>\n",
       "    <tr>\n",
       "      <th>898522</th>\n",
       "      <td>218</td>\n",
       "      <td>11/05/2013 09:21:00</td>\n",
       "      <td>11/05/2013</td>\n",
       "      <td>10:44:00</td>\n",
       "      <td>83.0</td>\n",
       "    </tr>\n",
       "    <tr>\n",
       "      <th>898523</th>\n",
       "      <td>218</td>\n",
       "      <td>11/05/2013 09:21:00</td>\n",
       "      <td>11/05/2013</td>\n",
       "      <td>10:44:00</td>\n",
       "      <td>83.0</td>\n",
       "    </tr>\n",
       "    <tr>\n",
       "      <th>898524</th>\n",
       "      <td>135</td>\n",
       "      <td>20/08/2016 14:15:17</td>\n",
       "      <td>20/08/2016</td>\n",
       "      <td>15:14:00</td>\n",
       "      <td>19.0</td>\n",
       "    </tr>\n",
       "    <tr>\n",
       "      <th>898525</th>\n",
       "      <td>143</td>\n",
       "      <td>20/08/2016 14:15:17</td>\n",
       "      <td>20/08/2016</td>\n",
       "      <td>15:14:00</td>\n",
       "      <td>19.0</td>\n",
       "    </tr>\n",
       "  </tbody>\n",
       "</table>\n",
       "<p>845113 rows × 5 columns</p>\n",
       "</div>"
      ],
      "text/plain": [
       "        stm_oorz_code     stm_sap_meld_ddt   stm_fh_dd stm_fh_tijd  \\\n",
       "1                 133  02/01/2006 09:00:00  02/01/2006    09:00:00   \n",
       "2                 143  02/01/2006 12:35:00  02/01/2006    13:26:00   \n",
       "3                 142  02/01/2006 16:40:00  02/01/2006    17:20:00   \n",
       "4                 142  02/01/2006 22:30:00  02/01/2006    22:36:00   \n",
       "5                 218  02/01/2006 11:23:00  02/01/2006    11:30:00   \n",
       "...               ...                  ...         ...         ...   \n",
       "898521            215  11/05/2013 08:06:00  11/05/2013    09:29:00   \n",
       "898522            218  11/05/2013 09:21:00  11/05/2013    10:44:00   \n",
       "898523            218  11/05/2013 09:21:00  11/05/2013    10:44:00   \n",
       "898524            135  20/08/2016 14:15:17  20/08/2016    15:14:00   \n",
       "898525            143  20/08/2016 14:15:17  20/08/2016    15:14:00   \n",
       "\n",
       "        stm_fh_duur  \n",
       "1               0.0  \n",
       "2              51.0  \n",
       "3              40.0  \n",
       "4               6.0  \n",
       "5               7.0  \n",
       "...             ...  \n",
       "898521         83.0  \n",
       "898522         83.0  \n",
       "898523         83.0  \n",
       "898524         19.0  \n",
       "898525         19.0  \n",
       "\n",
       "[845113 rows x 5 columns]"
      ]
     },
     "execution_count": 7,
     "metadata": {},
     "output_type": "execute_result"
    }
   ],
   "source": [
    "df2[['stm_oorz_code','stm_sap_meld_ddt','stm_fh_dd','stm_fh_tijd','stm_fh_duur']]"
   ]
  },
  {
   "cell_type": "code",
   "execution_count": 8,
   "id": "ec681d46-bb1b-40ef-969a-cf8647723325",
   "metadata": {
    "tags": []
   },
   "outputs": [
    {
     "name": "stdout",
     "output_type": "stream",
     "text": [
      "<class 'pandas.core.frame.DataFrame'>\n",
      "Index: 845113 entries, 1 to 898525\n",
      "Data columns (total 5 columns):\n",
      " #   Column            Non-Null Count   Dtype  \n",
      "---  ------            --------------   -----  \n",
      " 0   stm_oorz_code     845113 non-null  int32  \n",
      " 1   stm_sap_meld_ddt  845113 non-null  object \n",
      " 2   stm_fh_dd         739210 non-null  object \n",
      " 3   stm_fh_tijd       845080 non-null  object \n",
      " 4   stm_fh_duur       845080 non-null  float64\n",
      "dtypes: float64(1), int32(1), object(3)\n",
      "memory usage: 35.5+ MB\n"
     ]
    }
   ],
   "source": [
    "df2[['stm_oorz_code','stm_sap_meld_ddt','stm_fh_dd','stm_fh_tijd','stm_fh_duur']].info()"
   ]
  },
  {
   "cell_type": "code",
   "execution_count": 9,
   "id": "8699fd3f-6511-4b1c-bff7-2d8ab6339f64",
   "metadata": {
    "tags": []
   },
   "outputs": [
    {
     "name": "stdout",
     "output_type": "stream",
     "text": [
      "<class 'pandas.core.frame.DataFrame'>\n",
      "Index: 845080 entries, 1 to 898525\n",
      "Data columns (total 5 columns):\n",
      " #   Column            Non-Null Count   Dtype  \n",
      "---  ------            --------------   -----  \n",
      " 0   stm_oorz_code     845080 non-null  int32  \n",
      " 1   stm_sap_meld_ddt  845080 non-null  object \n",
      " 2   stm_fh_dd         739210 non-null  object \n",
      " 3   stm_fh_tijd       845080 non-null  object \n",
      " 4   stm_fh_duur       845080 non-null  float64\n",
      "dtypes: float64(1), int32(1), object(3)\n",
      "memory usage: 35.5+ MB\n"
     ]
    }
   ],
   "source": [
    "df2 = df2.dropna(subset=['stm_fh_duur'])\n",
    "df2[['stm_oorz_code','stm_sap_meld_ddt','stm_fh_dd','stm_fh_tijd','stm_fh_duur']].info()"
   ]
  },
  {
   "cell_type": "code",
   "execution_count": 19,
   "id": "9bb293ec-f375-4920-8392-1c33eaa7c5c9",
   "metadata": {
    "tags": []
   },
   "outputs": [],
   "source": [
    "df_gm=df2.groupby('stm_oorz_code')['stm_fh_duur'].agg(['mean'])\n",
    "df_value=df_gm['mean'].to_list()\n",
    "df_key=df2['stm_oorz_code'].unique()"
   ]
  },
  {
   "cell_type": "code",
   "execution_count": 20,
   "id": "05b3f7ca-9f99-4f8e-aaf1-ef98170705de",
   "metadata": {
    "tags": []
   },
   "outputs": [],
   "source": [
    "df2=df2.loc[df2['stm_fh_duur'] != 0]"
   ]
  },
  {
   "cell_type": "code",
   "execution_count": 21,
   "id": "4e16f35f-21fc-4c0f-9e24-c600ba61ab60",
   "metadata": {
    "tags": []
   },
   "outputs": [],
   "source": [
    "dictionary = dict(zip(df_key, df_value))"
   ]
  },
  {
   "cell_type": "code",
   "execution_count": 22,
   "id": "457b83be-d3c6-4c0c-8cbb-70da2a779bcb",
   "metadata": {
    "tags": []
   },
   "outputs": [
    {
     "data": {
      "text/plain": [
       "2.182792610649957"
      ]
     },
     "execution_count": 22,
     "metadata": {},
     "output_type": "execute_result"
    }
   ],
   "source": [
    "cnt=0\n",
    "        \n",
    "for index, row in df2.iterrows():\n",
    "    key = row[\"stm_oorz_code\"]\n",
    "    value_in_dict = dictionary.get(key, None)\n",
    "    if value_in_dict is not None:\n",
    "        if row[\"stm_fh_duur\"] > value_in_dict*0.9 and row[\"stm_fh_duur\"] < value_in_dict*1.1:\n",
    "            cnt+=1\n",
    "cnt/len(df2)*100"
   ]
  },
  {
   "cell_type": "code",
   "execution_count": 31,
   "id": "d793e224-4860-4475-9828-07dc1138e16b",
   "metadata": {
    "tags": []
   },
   "outputs": [
    {
     "name": "stdout",
     "output_type": "stream",
     "text": [
      "socre null: 0.19110521008852277\n",
      "socre tot 15m: 0.07387098425643776\n",
      "socre 15m tot 30m: 0.0454555572125904\n",
      "socre 30m tot 1h: 0.10079841874358672\n",
      "socre 1h tot 2h: 0.17599824601625327\n",
      "socre 2h tot 3h: 0.08994063610847099\n",
      "socre 3h+: 0.19959912122743248\n"
     ]
    }
   ],
   "source": [
    "null = df.loc[df['stm_fh_duur']==0,['stm_fh_duur']]\n",
    "vijftien_halfuur = df2.loc[ (df2['stm_fh_duur'] >0) & (df['stm_fh_duur']<=15 ),['stm_fh_duur']]\n",
    "vijftien_halfuur = df2.loc[ (df2['stm_fh_duur'] >15) & (df['stm_fh_duur']<=30 ),['stm_fh_duur']]\n",
    "halfuur_uur = df2.loc[( df2['stm_fh_duur']> 30) & (df['stm_fh_duur']<=60) ,['stm_fh_duur']]\n",
    "een_twee_uur = df2.loc[ (df2['stm_fh_duur']>60) & (df['stm_fh_duur']<=120) ,['stm_fh_duur']]\n",
    "twee_drie_uur = df2.loc[ (df2['stm_fh_duur']>120) & (df['stm_fh_duur']<=180) ,['stm_fh_duur']]\n",
    "drie_uur_plus = df2.loc[df2['stm_fh_duur']> 360,['stm_fh_duur']]\n",
    "print(f'socre null: {len(null)/len(df)}')\n",
    "print(f'socre tot 15m: {len(vijftien)/len(df)}')\n",
    "print(f'socre 15m tot 30m: {len(vijftien_halfuur)/len(df)}')\n",
    "print(f'socre 30m tot 1h: {len(halfuur_uur)/len(df)}')\n",
    "print(f'socre 1h tot 2h: {len(een_twee_uur)/len(df)}')\n",
    "print(f'socre 2h tot 3h: {len(twee_drie_uur)/len(df)}')\n",
    "print(f'socre 3h+: {len(drie_uur_plus)/len(df)}')"
   ]
  },
  {
   "cell_type": "code",
   "execution_count": 14,
   "id": "a1ae6182-956e-4d4e-a0bb-98bade27ec60",
   "metadata": {},
   "outputs": [
    {
     "data": {
      "text/plain": [
       "1819.4065774735623"
      ]
     },
     "execution_count": 14,
     "metadata": {},
     "output_type": "execute_result"
    }
   ],
   "source": [
    "list=[]\n",
    "def percentage_deviation(value, reference):\n",
    "    return ((value - reference) / reference) * 100\n",
    "\n",
    "for index, row in df2.iterrows():\n",
    "    key = row[\"stm_oorz_code\"]\n",
    "    value_in_dict = dictionary.get(key, None)\n",
    "    \n",
    "    if value_in_dict is not None:\n",
    "        deviation = percentage_deviation(value_in_dict,row[\"stm_fh_duur\"])\n",
    "        list.append(abs(deviation))\n",
    "np.mean(list)"
   ]
  },
  {
   "cell_type": "code",
   "execution_count": 15,
   "id": "8f401b80-298a-42b1-8e6f-4403f1609703",
   "metadata": {},
   "outputs": [],
   "source": [
    "deviation_list = []\n",
    "\n",
    "def squared_deviation(value, reference):\n",
    "    return (value - reference) ** 2\n",
    "\n",
    "for index, row in df2.iterrows():\n",
    "    key = row[\"stm_oorz_code\"]\n",
    "    value_in_dict = dictionary.get(key, None)\n",
    "    \n",
    "    if value_in_dict is not None:\n",
    "        # Computing the squared deviation\n",
    "        deviation = squared_deviation(value_in_dict, row[\"stm_fh_duur\"])\n",
    "        deviation_list.append(deviation)\n",
    "\n",
    "rmse = math.sqrt(np.mean(deviation_list))"
   ]
  },
  {
   "cell_type": "code",
   "execution_count": 16,
   "id": "5f83a093-1b53-4da6-8029-99dab84c46f2",
   "metadata": {
    "tags": []
   },
   "outputs": [
    {
     "data": {
      "text/plain": [
       "6666.714774047971"
      ]
     },
     "execution_count": 16,
     "metadata": {},
     "output_type": "execute_result"
    }
   ],
   "source": [
    "rmse"
   ]
  },
  {
   "cell_type": "code",
   "execution_count": null,
   "id": "d05a6d34-8088-4cf6-86c9-4dc924c20fe0",
   "metadata": {},
   "outputs": [],
   "source": []
  }
 ],
 "metadata": {
  "kernelspec": {
   "display_name": "Python 3 (ipykernel)",
   "language": "python",
   "name": "python3"
  },
  "language_info": {
   "codemirror_mode": {
    "name": "ipython",
    "version": 3
   },
   "file_extension": ".py",
   "mimetype": "text/x-python",
   "name": "python",
   "nbconvert_exporter": "python",
   "pygments_lexer": "ipython3",
   "version": "3.11.5"
  }
 },
 "nbformat": 4,
 "nbformat_minor": 5
}
